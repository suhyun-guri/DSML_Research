{
 "cells": [
  {
   "cell_type": "code",
   "execution_count": 1,
   "id": "b37e9d71",
   "metadata": {},
   "outputs": [
    {
     "name": "stdout",
     "output_type": "stream",
     "text": [
      "2.5.0\n",
      "2.5.0\n"
     ]
    }
   ],
   "source": [
    "import numpy as np, os\n",
    "import pandas as pd\n",
    "\n",
    "import matplotlib.pyplot as plt\n",
    "from tqdm.notebook import tqdm\n",
    "import seaborn as sns\n",
    "\n",
    "import tensorflow as tf\n",
    "from tensorflow import keras\n",
    "from tensorflow.keras.callbacks import EarlyStopping, ModelCheckpoint\n",
    "\n",
    "import warnings\n",
    "warnings.filterwarnings(action='ignore')\n",
    "\n",
    "from tensorflow.keras.models import Sequential\n",
    "from tensorflow.keras.layers import Dense, LSTM\n",
    "from tensorflow.keras.layers import SimpleRNN\n",
    "from tensorflow.keras.layers import Dropout, InputLayer\n",
    "from tensorflow.keras.callbacks import EarlyStopping\n",
    "from tensorflow.keras.regularizers import l2\n",
    "from tensorflow.keras.optimizers import Adam\n",
    "\n",
    "print(tf.__version__)\n",
    "print(keras.__version__)\n",
    "\n",
    "#한글설정\n",
    "import matplotlib.font_manager as fm\n",
    "\n",
    "font_dirs = ['/usr/share/fonts/truetype/nanum', ]\n",
    "font_files = fm.findSystemFonts(fontpaths=font_dirs)\n",
    "\n",
    "for font_file in font_files:\n",
    "    fm.fontManager.addfont(font_file)\n",
    "    \n",
    "# 한글 출력을 위해서 폰트 옵션을 설정합니다.\n",
    "# \"axes.unicode_minus\" : 마이너스가 깨질 것을 방지\n",
    "\n",
    "sns.set(font=\"NanumBarunGothic\", \n",
    "        rc={\"axes.unicode_minus\":False},\n",
    "        style='darkgrid')"
   ]
  },
  {
   "cell_type": "code",
   "execution_count": 2,
   "id": "4e189408",
   "metadata": {},
   "outputs": [],
   "source": [
    "#GPU 사용 설정, -1이면 CPU 사용\n",
    "os.environ[\"CUDA_VISIBLE_DEVICES\"] = \"-1\""
   ]
  },
  {
   "cell_type": "code",
   "execution_count": 3,
   "id": "a0cb2de7",
   "metadata": {
    "scrolled": true
   },
   "outputs": [],
   "source": [
    "# gpus = tf.config.experimental.list_physical_devices('GPU')\n",
    "# print(gpus)\n",
    "# if gpus:  # gpu가 있다면, 용량 한도를 5GB로 설정\n",
    "#     tf.config.experimental.set_virtual_device_configuration(gpus[0], \n",
    "#                                                             [tf.config.experimental.VirtualDeviceConfiguration(memory_limit=5*1024)])\n",
    "# #     tf.config.experimental.set_virtual_device_configuration(gpus[1], \n",
    "# #                                                             [tf.config.experimental.VirtualDeviceConfiguration(memory_limit=5*1024)])"
   ]
  },
  {
   "cell_type": "code",
   "execution_count": null,
   "id": "3f3d98a4",
   "metadata": {},
   "outputs": [],
   "source": []
  },
  {
   "cell_type": "markdown",
   "id": "2e5a982a",
   "metadata": {},
   "source": [
    "# 필요한 데이터 로드, split"
   ]
  },
  {
   "cell_type": "code",
   "execution_count": 4,
   "id": "7e462a95",
   "metadata": {},
   "outputs": [
    {
     "data": {
      "text/plain": [
       "((6182, 10, 4068), (6182,), (1545, 10, 4068), (1545,))"
      ]
     },
     "execution_count": 4,
     "metadata": {},
     "output_type": "execute_result"
    }
   ],
   "source": [
    "import random    \n",
    "seed_num = 42\n",
    "random.seed(seed_num)\n",
    "path = '/project/LSH/'\n",
    "X = np.load(path + 'x_(7727,10,4068).npy')\n",
    "y = np.load(path + 'y_(7727,1).npy')\n",
    "\n",
    "idx = list(range(len(X)))\n",
    "random.shuffle(idx)\n",
    "\n",
    "\n",
    "i = round(X.shape[0]*0.8)\n",
    "X_train, y_train = X[idx[:i],:,:], y[idx[:i]]\n",
    "X_test, y_test = X[idx[i:],:,:], y[idx[i:]]\n",
    "\n",
    "X_train.shape, y_train.shape, X_test.shape, y_test.shape"
   ]
  },
  {
   "cell_type": "code",
   "execution_count": 5,
   "id": "21613576",
   "metadata": {},
   "outputs": [],
   "source": [
    "fi = pd.read_csv('./data/df_all_best_type.csv')"
   ]
  },
  {
   "cell_type": "code",
   "execution_count": 6,
   "id": "f25a6695",
   "metadata": {},
   "outputs": [],
   "source": [
    "COLS = list(pd.read_csv('/project/LSH/total_data_7727.csv')['ITEMID'].sort_values().unique())"
   ]
  },
  {
   "cell_type": "markdown",
   "id": "5ccb5881",
   "metadata": {},
   "source": [
    "# Model"
   ]
  },
  {
   "cell_type": "code",
   "execution_count": 7,
   "id": "32740996",
   "metadata": {},
   "outputs": [],
   "source": [
    "model = tf.keras.models.load_model('/project/LSH/model/(LSTM_best_4068)seed42-05-0.5029.hdf5')"
   ]
  },
  {
   "cell_type": "markdown",
   "id": "a72d3dee",
   "metadata": {},
   "source": [
    "# Base predict"
   ]
  },
  {
   "cell_type": "code",
   "execution_count": 8,
   "id": "b6d172c6",
   "metadata": {},
   "outputs": [
    {
     "data": {
      "text/plain": [
       "array([[0.85767746],\n",
       "       [0.88165766],\n",
       "       [0.8160955 ],\n",
       "       ...,\n",
       "       [0.84174216],\n",
       "       [0.9241806 ],\n",
       "       [0.8296366 ]], dtype=float32)"
      ]
     },
     "execution_count": 8,
     "metadata": {},
     "output_type": "execute_result"
    }
   ],
   "source": [
    "base_pred = model.predict(X_test)\n",
    "base_pred"
   ]
  },
  {
   "cell_type": "code",
   "execution_count": 39,
   "id": "fd8d5bee",
   "metadata": {},
   "outputs": [],
   "source": [
    "df = pd.DataFrame(base_pred, columns=['base_pred'])"
   ]
  },
  {
   "cell_type": "code",
   "execution_count": 40,
   "id": "7f418087",
   "metadata": {},
   "outputs": [
    {
     "data": {
      "text/html": [
       "<div>\n",
       "<style scoped>\n",
       "    .dataframe tbody tr th:only-of-type {\n",
       "        vertical-align: middle;\n",
       "    }\n",
       "\n",
       "    .dataframe tbody tr th {\n",
       "        vertical-align: top;\n",
       "    }\n",
       "\n",
       "    .dataframe thead th {\n",
       "        text-align: right;\n",
       "    }\n",
       "</style>\n",
       "<table border=\"1\" class=\"dataframe\">\n",
       "  <thead>\n",
       "    <tr style=\"text-align: right;\">\n",
       "      <th></th>\n",
       "      <th>base_pred</th>\n",
       "    </tr>\n",
       "  </thead>\n",
       "  <tbody>\n",
       "    <tr>\n",
       "      <th>0</th>\n",
       "      <td>0.857677</td>\n",
       "    </tr>\n",
       "    <tr>\n",
       "      <th>1</th>\n",
       "      <td>0.881658</td>\n",
       "    </tr>\n",
       "    <tr>\n",
       "      <th>2</th>\n",
       "      <td>0.816095</td>\n",
       "    </tr>\n",
       "    <tr>\n",
       "      <th>3</th>\n",
       "      <td>0.948484</td>\n",
       "    </tr>\n",
       "    <tr>\n",
       "      <th>4</th>\n",
       "      <td>0.950073</td>\n",
       "    </tr>\n",
       "    <tr>\n",
       "      <th>...</th>\n",
       "      <td>...</td>\n",
       "    </tr>\n",
       "    <tr>\n",
       "      <th>1540</th>\n",
       "      <td>0.702797</td>\n",
       "    </tr>\n",
       "    <tr>\n",
       "      <th>1541</th>\n",
       "      <td>0.113465</td>\n",
       "    </tr>\n",
       "    <tr>\n",
       "      <th>1542</th>\n",
       "      <td>0.841742</td>\n",
       "    </tr>\n",
       "    <tr>\n",
       "      <th>1543</th>\n",
       "      <td>0.924181</td>\n",
       "    </tr>\n",
       "    <tr>\n",
       "      <th>1544</th>\n",
       "      <td>0.829637</td>\n",
       "    </tr>\n",
       "  </tbody>\n",
       "</table>\n",
       "<p>1545 rows × 1 columns</p>\n",
       "</div>"
      ],
      "text/plain": [
       "      base_pred\n",
       "0      0.857677\n",
       "1      0.881658\n",
       "2      0.816095\n",
       "3      0.948484\n",
       "4      0.950073\n",
       "...         ...\n",
       "1540   0.702797\n",
       "1541   0.113465\n",
       "1542   0.841742\n",
       "1543   0.924181\n",
       "1544   0.829637\n",
       "\n",
       "[1545 rows x 1 columns]"
      ]
     },
     "execution_count": 40,
     "metadata": {},
     "output_type": "execute_result"
    }
   ],
   "source": [
    "df"
   ]
  },
  {
   "cell_type": "code",
   "execution_count": 42,
   "id": "973a822e",
   "metadata": {},
   "outputs": [
    {
     "data": {
      "text/plain": [
       "<AxesSubplot:ylabel='base_pred'>"
      ]
     },
     "execution_count": 42,
     "metadata": {},
     "output_type": "execute_result"
    },
    {
     "data": {
      "image/png": "[encoded data removed]",
      "text/plain": [
       "<Figure size 432x288 with 1 Axes>"
      ]
     },
     "metadata": {},
     "output_type": "display_data"
    }
   ],
   "source": [
    "sns.violinplot(data=df, y='base_pred')"
   ]
  },
  {
   "cell_type": "code",
   "execution_count": 49,
   "id": "9aa7c3b0",
   "metadata": {},
   "outputs": [
    {
     "data": {
      "application/vnd.jupyter.widget-view+json": {
       "model_id": "8dcfa879e16f4a878661e29cc4cd5a9c",
       "version_major": 2,
       "version_minor": 0
      },
      "text/plain": [
       "  0%|          | 0/5 [00:00<?, ?it/s]"
      ]
     },
     "metadata": {},
     "output_type": "display_data"
    }
   ],
   "source": [
    "result = []\n",
    "for i in tqdm(range(5)):\n",
    "    save_cols = X_test[:,:,i].copy()\n",
    "    #Change all values to 1\n",
    "    X_test[:,:,i] = 1\n",
    "    #Predict\n",
    "    pred = model.predict(X_test)\n",
    "    #Result\n",
    "    result.append({'feature' : str(COLS[i]), 'value' : pred.flatten()})\n",
    "    #값 복원\n",
    "    X_test[:,:,i] = save_cols"
   ]
  },
  {
   "cell_type": "code",
   "execution_count": 51,
   "id": "3b00a988",
   "metadata": {},
   "outputs": [
    {
     "data": {
      "text/html": [
       "<div>\n",
       "<style scoped>\n",
       "    .dataframe tbody tr th:only-of-type {\n",
       "        vertical-align: middle;\n",
       "    }\n",
       "\n",
       "    .dataframe tbody tr th {\n",
       "        vertical-align: top;\n",
       "    }\n",
       "\n",
       "    .dataframe thead th {\n",
       "        text-align: right;\n",
       "    }\n",
       "</style>\n",
       "<table border=\"1\" class=\"dataframe\">\n",
       "  <thead>\n",
       "    <tr style=\"text-align: right;\">\n",
       "      <th></th>\n",
       "      <th>feature</th>\n",
       "      <th>value</th>\n",
       "    </tr>\n",
       "  </thead>\n",
       "  <tbody>\n",
       "    <tr>\n",
       "      <th>0</th>\n",
       "      <td>0</td>\n",
       "      <td>[0.84638953, 0.88165766, 0.80914575, 0.9484841...</td>\n",
       "    </tr>\n",
       "    <tr>\n",
       "      <th>1</th>\n",
       "      <td>50803</td>\n",
       "      <td>[0.8111261, 0.8608668, 0.78237534, 0.94776237,...</td>\n",
       "    </tr>\n",
       "    <tr>\n",
       "      <th>2</th>\n",
       "      <td>50804</td>\n",
       "      <td>[0.8787147, 0.9001107, 0.8507263, 0.94903886, ...</td>\n",
       "    </tr>\n",
       "    <tr>\n",
       "      <th>3</th>\n",
       "      <td>50805</td>\n",
       "      <td>[0.7988835, 0.85508037, 0.7661241, 0.9473384, ...</td>\n",
       "    </tr>\n",
       "    <tr>\n",
       "      <th>4</th>\n",
       "      <td>50806</td>\n",
       "      <td>[0.8883041, 0.9068321, 0.8587693, 0.94994557, ...</td>\n",
       "    </tr>\n",
       "  </tbody>\n",
       "</table>\n",
       "</div>"
      ],
      "text/plain": [
       "  feature                                              value\n",
       "0       0  [0.84638953, 0.88165766, 0.80914575, 0.9484841...\n",
       "1   50803  [0.8111261, 0.8608668, 0.78237534, 0.94776237,...\n",
       "2   50804  [0.8787147, 0.9001107, 0.8507263, 0.94903886, ...\n",
       "3   50805  [0.7988835, 0.85508037, 0.7661241, 0.9473384, ...\n",
       "4   50806  [0.8883041, 0.9068321, 0.8587693, 0.94994557, ..."
      ]
     },
     "execution_count": 51,
     "metadata": {},
     "output_type": "execute_result"
    }
   ],
   "source": [
    "temp = pd.DataFrame(result)\n",
    "temp"
   ]
  },
  {
   "cell_type": "code",
   "execution_count": 58,
   "id": "23d5a9d9",
   "metadata": {},
   "outputs": [
    {
     "data": {
      "text/plain": [
       "<AxesSubplot:>"
      ]
     },
     "execution_count": 58,
     "metadata": {},
     "output_type": "execute_result"
    },
    {
     "data": {
      "image/png": "[encoded data removed]",
      "text/plain": [
       "<Figure size 432x288 with 1 Axes>"
      ]
     },
     "metadata": {},
     "output_type": "display_data"
    }
   ],
   "source": [
    "sns.violinplot(data=temp.iloc[1], y='value')"
   ]
  },
  {
   "cell_type": "code",
   "execution_count": null,
   "id": "f4262acd",
   "metadata": {},
   "outputs": [],
   "source": []
  },
  {
   "cell_type": "code",
   "execution_count": null,
   "id": "d9c93c8b",
   "metadata": {},
   "outputs": [],
   "source": []
  },
  {
   "cell_type": "code",
   "execution_count": null,
   "id": "fda5c2ec",
   "metadata": {},
   "outputs": [],
   "source": []
  },
  {
   "cell_type": "code",
   "execution_count": null,
   "id": "26cea27b",
   "metadata": {},
   "outputs": [],
   "source": []
  }
 ],
 "metadata": {
  "kernelspec": {
   "display_name": "Python 3",
   "language": "python",
   "name": "python3"
  },
  "language_info": {
   "codemirror_mode": {
    "name": "ipython",
    "version": 3
   },
   "file_extension": ".py",
   "mimetype": "text/x-python",
   "name": "python",
   "nbconvert_exporter": "python",
   "pygments_lexer": "ipython3",
   "version": "3.8.10"
  },
  "toc": {
   "base_numbering": 1,
   "nav_menu": {},
   "number_sections": true,
   "sideBar": true,
   "skip_h1_title": false,
   "title_cell": "Table of Contents",
   "title_sidebar": "Contents",
   "toc_cell": false,
   "toc_position": {},
   "toc_section_display": true,
   "toc_window_display": false
  }
 },
 "nbformat": 4,
 "nbformat_minor": 5
}
