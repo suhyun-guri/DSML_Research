{
 "cells": [
  {
   "cell_type": "code",
   "execution_count": 1,
   "id": "101c8633",
   "metadata": {},
   "outputs": [
    {
     "name": "stdout",
     "output_type": "stream",
     "text": [
      "2.5.0\n",
      "2.5.0\n"
     ]
    }
   ],
   "source": [
    "import tensorflow as tf\n",
    "from tensorflow import keras\n",
    "import IPython\n",
    "\n",
    "# !pip install -q -U keras-tuner\n",
    "import keras_tuner as kt\n",
    "\n",
    "import pandas as pd\n",
    "import numpy as np\n",
    "import warnings\n",
    "warnings.filterwarnings(action='ignore')\n",
    "\n",
    "from tensorflow.keras.models import Sequential\n",
    "from tensorflow.keras.layers import Dense, LSTM\n",
    "from tensorflow.keras.layers import SimpleRNN\n",
    "from tensorflow.keras.layers import Dropout, InputLayer\n",
    "from tensorflow.keras.callbacks import EarlyStopping\n",
    "from tensorflow.keras.regularizers import l2\n",
    "from tensorflow.keras.optimizers import Adam\n",
    "from sklearn import metrics \n",
    "print(tf.__version__)\n",
    "print(keras.__version__)"
   ]
  },
  {
   "cell_type": "markdown",
   "id": "0563ae04",
   "metadata": {},
   "source": [
    "# fit model 함수"
   ]
  },
  {
   "cell_type": "code",
   "execution_count": 2,
   "id": "2ca89b19",
   "metadata": {},
   "outputs": [],
   "source": [
    "def fit_model(seed_num):\n",
    "    tf.random.set_seed(seed_num)\n",
    "    lstm = Sequential()\n",
    "    lstm.add(InputLayer(input_shape=(X_train.shape[1],X_train.shape[2])))\n",
    "    lstm.add(LSTM(units=128, activation='hard_sigmoid', return_sequences=True))\n",
    "    lstm.add(LSTM(units=64, activation='hard_sigmoid', return_sequences=True))\n",
    "    lstm.add(Dropout(0.2))\n",
    "    lstm.add(LSTM(units=64, activation='hard_sigmoid', return_sequences=True))\n",
    "    lstm.add(LSTM(units=32, activation='hard_sigmoid'))\n",
    "    lstm.add(Dropout(0.2))\n",
    "    lstm.add(Dense(units=1, activation='sigmoid'))\n",
    "    #fit\n",
    "    ep = 500\n",
    "    pa = 30\n",
    "#     lr = ReduceLROnPlateau(monitor=\"val_loss\", factor=0.5, patience=10, verbose=1)\n",
    "    early_stop = EarlyStopping(monitor='val_acc', patience=30, verbose=1, restore_best_weights=True)\n",
    "    optimizer = keras.optimizers.Adam(learning_rate = 0.001, decay=0.001)\n",
    "    lstm.compile(optimizer= optimizer, loss = \"binary_crossentropy\", metrics=['acc'])\n",
    "    history = lstm.fit(X_train, y_train, validation_split=0.25, batch_size=128, epochs=ep,  callbacks=[early_stop], shuffle=False)\n",
    "\n",
    "    preds = lstm.predict(X_test)\n",
    "    return preds"
   ]
  },
  {
   "cell_type": "code",
   "execution_count": 10,
   "id": "5fd5826f",
   "metadata": {},
   "outputs": [
    {
     "name": "stdout",
     "output_type": "stream",
     "text": [
      "CPU times: user 142 ms, sys: 746 ms, total: 888 ms\n",
      "Wall time: 888 ms\n"
     ]
    }
   ],
   "source": [
    "%%time\n",
    "import random\n",
    "\n",
    "seed_num = 48\n",
    "\n",
    "random.seed(123)\n",
    "\n",
    "x = np.load('/project/LSH/x_(7727,10,4069).npy')\n",
    "y = np.load('/project/LSH/y_(7727,1).npy')\n",
    "\n",
    "idx = list(range(len(x)))\n",
    "random.shuffle(idx)\n",
    "\n",
    "i = round(x.shape[0]*0.8)\n",
    "X_train, y_train = x[idx[:i],:,:], y[idx[:i]]\n",
    "X_test, y_test = x[idx[i:],:,:], y[idx[i:]]"
   ]
  },
  {
   "cell_type": "markdown",
   "id": "140adbb4",
   "metadata": {},
   "source": [
    "# LSTM"
   ]
  },
  {
   "cell_type": "code",
   "execution_count": 11,
   "id": "eb4912f1",
   "metadata": {
    "scrolled": true
   },
   "outputs": [
    {
     "name": "stdout",
     "output_type": "stream",
     "text": [
      "Epoch 1/500\n",
      "37/37 [==============================] - 7s 95ms/step - loss: 0.6763 - acc: 0.6059 - val_loss: 0.6677 - val_acc: 0.6151\n",
      "Epoch 2/500\n",
      "37/37 [==============================] - 2s 61ms/step - loss: 0.6723 - acc: 0.6091 - val_loss: 0.6632 - val_acc: 0.6151\n",
      "Epoch 3/500\n",
      "37/37 [==============================] - 2s 59ms/step - loss: 0.6377 - acc: 0.6270 - val_loss: 0.5795 - val_acc: 0.7193\n",
      "Epoch 4/500\n",
      "37/37 [==============================] - 2s 59ms/step - loss: 0.5020 - acc: 0.7668 - val_loss: 0.5148 - val_acc: 0.7529\n",
      "Epoch 5/500\n",
      "37/37 [==============================] - 2s 61ms/step - loss: 0.4168 - acc: 0.8223 - val_loss: 0.5173 - val_acc: 0.7594\n",
      "Epoch 6/500\n",
      "37/37 [==============================] - 2s 59ms/step - loss: 0.3652 - acc: 0.8563 - val_loss: 0.5442 - val_acc: 0.7510\n",
      "Epoch 7/500\n",
      "37/37 [==============================] - 2s 60ms/step - loss: 0.3277 - acc: 0.8710 - val_loss: 0.5699 - val_acc: 0.7439\n",
      "Epoch 8/500\n",
      "37/37 [==============================] - 2s 60ms/step - loss: 0.3021 - acc: 0.8874 - val_loss: 0.6006 - val_acc: 0.7600\n",
      "Epoch 9/500\n",
      "37/37 [==============================] - 2s 59ms/step - loss: 0.2797 - acc: 0.8999 - val_loss: 0.6353 - val_acc: 0.7639\n",
      "Epoch 10/500\n",
      "37/37 [==============================] - 2s 60ms/step - loss: 0.2901 - acc: 0.8911 - val_loss: 0.6257 - val_acc: 0.7322\n",
      "Epoch 11/500\n",
      "37/37 [==============================] - 2s 63ms/step - loss: 0.2582 - acc: 0.9042 - val_loss: 0.6453 - val_acc: 0.7329\n",
      "Epoch 12/500\n",
      "37/37 [==============================] - 2s 59ms/step - loss: 0.2524 - acc: 0.9107 - val_loss: 0.6470 - val_acc: 0.7594\n",
      "Epoch 13/500\n",
      "37/37 [==============================] - 2s 59ms/step - loss: 0.2778 - acc: 0.8915 - val_loss: 0.7127 - val_acc: 0.7471\n",
      "Epoch 14/500\n",
      "37/37 [==============================] - 2s 62ms/step - loss: 0.2619 - acc: 0.9031 - val_loss: 0.6335 - val_acc: 0.7646\n",
      "Epoch 15/500\n",
      "37/37 [==============================] - 2s 58ms/step - loss: 0.2101 - acc: 0.9295 - val_loss: 0.6865 - val_acc: 0.7633\n",
      "Epoch 16/500\n",
      "37/37 [==============================] - 2s 58ms/step - loss: 0.1951 - acc: 0.9392 - val_loss: 0.7110 - val_acc: 0.7581\n",
      "Epoch 17/500\n",
      "37/37 [==============================] - 2s 61ms/step - loss: 0.1776 - acc: 0.9459 - val_loss: 0.7314 - val_acc: 0.7536\n",
      "Epoch 18/500\n",
      "37/37 [==============================] - 2s 59ms/step - loss: 0.1753 - acc: 0.9480 - val_loss: 0.7486 - val_acc: 0.7523\n",
      "Epoch 19/500\n",
      "37/37 [==============================] - 2s 60ms/step - loss: 0.1655 - acc: 0.9545 - val_loss: 0.7671 - val_acc: 0.7477\n",
      "Epoch 20/500\n",
      "37/37 [==============================] - 2s 62ms/step - loss: 0.1576 - acc: 0.9571 - val_loss: 0.7849 - val_acc: 0.7477\n",
      "Epoch 21/500\n",
      "37/37 [==============================] - 2s 59ms/step - loss: 0.1535 - acc: 0.9569 - val_loss: 0.8112 - val_acc: 0.7523\n",
      "Epoch 22/500\n",
      "37/37 [==============================] - 2s 60ms/step - loss: 0.1453 - acc: 0.9629 - val_loss: 0.8368 - val_acc: 0.7510\n",
      "Epoch 23/500\n",
      "37/37 [==============================] - 2s 61ms/step - loss: 0.1389 - acc: 0.9631 - val_loss: 0.8619 - val_acc: 0.7464\n",
      "Epoch 24/500\n",
      "37/37 [==============================] - 2s 58ms/step - loss: 0.1392 - acc: 0.9631 - val_loss: 0.8903 - val_acc: 0.7458\n",
      "Epoch 25/500\n",
      "37/37 [==============================] - 2s 60ms/step - loss: 0.1379 - acc: 0.9620 - val_loss: 0.8966 - val_acc: 0.7445\n",
      "Epoch 26/500\n",
      "37/37 [==============================] - 2s 62ms/step - loss: 0.1457 - acc: 0.9577 - val_loss: 0.8524 - val_acc: 0.7523\n",
      "Epoch 27/500\n",
      "37/37 [==============================] - 2s 57ms/step - loss: 0.1668 - acc: 0.9487 - val_loss: 0.8772 - val_acc: 0.7212\n",
      "Epoch 28/500\n",
      "37/37 [==============================] - 2s 61ms/step - loss: 0.2009 - acc: 0.9284 - val_loss: 0.7978 - val_acc: 0.7484\n",
      "Epoch 29/500\n",
      "37/37 [==============================] - 2s 60ms/step - loss: 0.1469 - acc: 0.9566 - val_loss: 0.8941 - val_acc: 0.7400\n",
      "Epoch 30/500\n",
      "37/37 [==============================] - 2s 58ms/step - loss: 0.1545 - acc: 0.9515 - val_loss: 0.8871 - val_acc: 0.7400\n",
      "Epoch 31/500\n",
      "37/37 [==============================] - 2s 61ms/step - loss: 0.1590 - acc: 0.9476 - val_loss: 0.9022 - val_acc: 0.7413\n",
      "Epoch 32/500\n",
      "37/37 [==============================] - 2s 60ms/step - loss: 0.1767 - acc: 0.9407 - val_loss: 0.9166 - val_acc: 0.7348\n",
      "Epoch 33/500\n",
      "37/37 [==============================] - 2s 58ms/step - loss: 0.2024 - acc: 0.9282 - val_loss: 0.8392 - val_acc: 0.7484\n",
      "Epoch 34/500\n",
      "37/37 [==============================] - 2s 61ms/step - loss: 0.2380 - acc: 0.9042 - val_loss: 0.8037 - val_acc: 0.7245\n",
      "Epoch 35/500\n",
      "37/37 [==============================] - 2s 60ms/step - loss: 0.2030 - acc: 0.9247 - val_loss: 0.7887 - val_acc: 0.7206\n",
      "Epoch 36/500\n",
      "37/37 [==============================] - 2s 58ms/step - loss: 0.1378 - acc: 0.9577 - val_loss: 0.7835 - val_acc: 0.7426\n",
      "Epoch 37/500\n",
      "37/37 [==============================] - 2s 61ms/step - loss: 0.1175 - acc: 0.9692 - val_loss: 0.8258 - val_acc: 0.7374\n",
      "Epoch 38/500\n",
      "37/37 [==============================] - 2s 59ms/step - loss: 0.1105 - acc: 0.9685 - val_loss: 0.8531 - val_acc: 0.7367\n",
      "Epoch 39/500\n",
      "37/37 [==============================] - 2s 59ms/step - loss: 0.1088 - acc: 0.9724 - val_loss: 0.8770 - val_acc: 0.7361\n",
      "Epoch 40/500\n",
      "37/37 [==============================] - 2s 62ms/step - loss: 0.1031 - acc: 0.9733 - val_loss: 0.8965 - val_acc: 0.7342\n",
      "Epoch 41/500\n",
      "37/37 [==============================] - 2s 59ms/step - loss: 0.0990 - acc: 0.9743 - val_loss: 0.9164 - val_acc: 0.7348\n",
      "Epoch 42/500\n",
      "37/37 [==============================] - 2s 58ms/step - loss: 0.0964 - acc: 0.9752 - val_loss: 0.9328 - val_acc: 0.7348\n",
      "Epoch 43/500\n",
      "37/37 [==============================] - 2s 62ms/step - loss: 0.0914 - acc: 0.9780 - val_loss: 0.9467 - val_acc: 0.7354\n",
      "Epoch 44/500\n",
      "37/37 [==============================] - 2s 59ms/step - loss: 0.0921 - acc: 0.9767 - val_loss: 0.9588 - val_acc: 0.7367\n",
      "Restoring model weights from the end of the best epoch.\n",
      "Epoch 00044: early stopping\n"
     ]
    }
   ],
   "source": [
    "tf.random.set_seed(seed_num)\n",
    "lstm = Sequential()\n",
    "lstm.add(InputLayer(input_shape=(X_train.shape[1],X_train.shape[2])))\n",
    "lstm.add(LSTM(units=128, activation='hard_sigmoid', return_sequences=True))\n",
    "lstm.add(LSTM(units=64, activation='hard_sigmoid', return_sequences=True))\n",
    "lstm.add(Dropout(0.2))\n",
    "lstm.add(LSTM(units=64, activation='hard_sigmoid', return_sequences=True))\n",
    "lstm.add(LSTM(units=32, activation='hard_sigmoid'))\n",
    "lstm.add(Dropout(0.2))\n",
    "lstm.add(Dense(units=1, activation='sigmoid'))\n",
    "#fit\n",
    "ep = 500\n",
    "pa = 30\n",
    "optimizer = keras.optimizers.Adam(learning_rate = 0.001, decay=0.001)\n",
    "lstm.compile(optimizer= optimizer, loss = \"binary_crossentropy\", metrics=['acc'])\n",
    "\n",
    "early_stop = EarlyStopping(monitor='val_acc', patience=30, verbose=1, restore_best_weights=True)\n",
    "tb = tf.keras.callbacks.TensorBoard(log_dir='./logs')\n",
    "MODEL_SAVE_FOLDER_PATH = './models/'\n",
    "filepath = MODEL_SAVE_FOLDER_PATH + '{epoch:02d}-{val_acc:.4f}.hdf5'\n",
    "ckpt = tf.keras.callbacks.ModelCheckpoint(filepath, monitor='val_acc', save_best_only=True, save_weights_only=False, save_freq='epoch')\n",
    "\n",
    "history = lstm.fit(X_train, y_train, validation_split=0.25, batch_size=128, epochs=ep,  callbacks=[early_stop, tb, ckpt], shuffle=False)\n",
    "\n",
    "preds = lstm.predict(X_test)"
   ]
  },
  {
   "cell_type": "code",
   "execution_count": 12,
   "id": "53f4ac4c",
   "metadata": {},
   "outputs": [
    {
     "data": {
      "image/png": "[encoded data removed]",
      "text/plain": [
       "<Figure size 432x288 with 2 Axes>"
      ]
     },
     "metadata": {
      "needs_background": "light"
     },
     "output_type": "display_data"
    }
   ],
   "source": [
    "import matplotlib.pyplot as plt\n",
    "\n",
    "fig, loss_ax = plt.subplots()\n",
    "\n",
    "acc_ax = loss_ax.twinx()\n",
    "\n",
    "loss_ax.plot(history.history['loss'], 'y', label='train loss')\n",
    "loss_ax.plot(history.history['val_loss'], 'r', label='val loss')\n",
    "\n",
    "acc_ax.plot(history.history['acc'], 'b', label='train acc')\n",
    "acc_ax.plot(history.history['val_acc'], 'g', label='val acc')\n",
    "\n",
    "loss_ax.set_xlabel('epoch')\n",
    "loss_ax.set_ylabel('loss')\n",
    "acc_ax.set_ylabel('accuray')\n",
    "\n",
    "loss_ax.legend(loc='upper left')\n",
    "acc_ax.legend(loc='lower left')\n",
    "\n",
    "plt.show()"
   ]
  },
  {
   "cell_type": "code",
   "execution_count": 13,
   "id": "69eb62dc",
   "metadata": {},
   "outputs": [
    {
     "name": "stdout",
     "output_type": "stream",
     "text": [
      "정확도 :0.7650485436893204, seed_num = 48\n"
     ]
    }
   ],
   "source": [
    "pred = lstm.predict(X_test)\n",
    "pred[pred>0.5]=1\n",
    "pred[pred<=0.5]=0\n",
    "acc = metrics.accuracy_score(y_test, pred)\n",
    "print(f'정확도 :{metrics.accuracy_score(y_test, pred)}, seed_num = {seed_num}')"
   ]
  },
  {
   "cell_type": "code",
   "execution_count": 6,
   "id": "7f3e8316",
   "metadata": {},
   "outputs": [],
   "source": [
    "%load_ext tensorboard "
   ]
  },
  {
   "cell_type": "code",
   "execution_count": 10,
   "id": "ed4b8f39",
   "metadata": {
    "collapsed": true
   },
   "outputs": [
    {
     "data": {
      "text/html": [
       "\n",
       "      <iframe id=\"tensorboard-frame-7414e3e1a3871e92\" width=\"100%\" height=\"800\" frameborder=\"0\">\n",
       "      </iframe>\n",
       "      <script>\n",
       "        (function() {\n",
       "          const frame = document.getElementById(\"tensorboard-frame-7414e3e1a3871e92\");\n",
       "          const url = new URL(\"/\", window.location);\n",
       "          const port = 6010;\n",
       "          if (port) {\n",
       "            url.port = port;\n",
       "          }\n",
       "          frame.src = url;\n",
       "        })();\n",
       "      </script>\n",
       "    "
      ],
      "text/plain": [
       "<IPython.core.display.HTML object>"
      ]
     },
     "metadata": {},
     "output_type": "display_data"
    }
   ],
   "source": [
    "%tensorboard --logdir './logs' --host=0.0.0.0 --port 6010"
   ]
  },
  {
   "cell_type": "markdown",
   "id": "dafb6586",
   "metadata": {},
   "source": [
    "# reload saved model"
   ]
  },
  {
   "cell_type": "code",
   "execution_count": 14,
   "id": "75e7ae64",
   "metadata": {},
   "outputs": [],
   "source": [
    "# reload_model = tf.keras.models.load_model('/project/guri/Restart/models/05-0.7658.hdf5')\n",
    "reload_model = tf.keras.models.load_model('/project/guri/Restart/models/14-0.7646.hdf5')\n",
    "\n",
    "# ck = tf.train.get_checkpoint_state(\"test.ckpt\")\n",
    "# ck.model_checkpoint_path"
   ]
  },
  {
   "cell_type": "code",
   "execution_count": 15,
   "id": "6d5fe4e2",
   "metadata": {
    "scrolled": true
   },
   "outputs": [
    {
     "name": "stdout",
     "output_type": "stream",
     "text": [
      "정확도 :0.858252427184466, seed_num = 0\n",
      "정확도 :0.8699029126213592, seed_num = 1\n",
      "정확도 :0.86084142394822, seed_num = 2\n",
      "정확도 :0.8750809061488674, seed_num = 3\n",
      "정확도 :0.858252427184466, seed_num = 4\n",
      "정확도 :0.8692556634304207, seed_num = 5\n",
      "정확도 :0.8472491909385114, seed_num = 6\n",
      "정확도 :0.8537216828478964, seed_num = 7\n",
      "정확도 :0.8563106796116505, seed_num = 8\n",
      "정확도 :0.8601941747572815, seed_num = 9\n",
      "정확도 :0.8647249190938512, seed_num = 10\n",
      "정확도 :0.8809061488673139, seed_num = 11\n",
      "정확도 :0.8453074433656957, seed_num = 12\n",
      "정확도 :0.8640776699029126, seed_num = 13\n",
      "정확도 :0.8763754045307444, seed_num = 14\n",
      "정확도 :0.8770226537216829, seed_num = 15\n",
      "정확도 :0.8699029126213592, seed_num = 16\n",
      "정확도 :0.8530744336569579, seed_num = 17\n",
      "정확도 :0.8576051779935275, seed_num = 18\n",
      "정확도 :0.8640776699029126, seed_num = 19\n",
      "정확도 :0.8686084142394822, seed_num = 20\n",
      "정확도 :0.855663430420712, seed_num = 21\n",
      "정확도 :0.8660194174757282, seed_num = 22\n",
      "정확도 :0.8724919093851132, seed_num = 23\n",
      "정확도 :0.8634304207119741, seed_num = 24\n",
      "정확도 :0.8750809061488674, seed_num = 25\n",
      "정확도 :0.8640776699029126, seed_num = 26\n",
      "정확도 :0.8627831715210356, seed_num = 27\n",
      "정확도 :0.8699029126213592, seed_num = 28\n",
      "정확도 :0.8750809061488674, seed_num = 29\n",
      "정확도 :0.8711974110032362, seed_num = 30\n",
      "정확도 :0.859546925566343, seed_num = 31\n",
      "정확도 :0.8640776699029126, seed_num = 32\n",
      "정확도 :0.8647249190938512, seed_num = 33\n",
      "정확도 :0.8744336569579289, seed_num = 34\n",
      "정확도 :0.8640776699029126, seed_num = 35\n",
      "정확도 :0.8711974110032362, seed_num = 36\n",
      "정확도 :0.8660194174757282, seed_num = 37\n",
      "정확도 :0.8524271844660194, seed_num = 38\n",
      "정확도 :0.8563106796116505, seed_num = 39\n",
      "정확도 :0.8543689320388349, seed_num = 40\n",
      "정확도 :0.8588996763754045, seed_num = 41\n",
      "정확도 :0.8718446601941747, seed_num = 42\n",
      "정확도 :0.8802588996763754, seed_num = 43\n",
      "정확도 :0.8550161812297734, seed_num = 44\n",
      "정확도 :0.859546925566343, seed_num = 45\n",
      "정확도 :0.8686084142394822, seed_num = 46\n",
      "정확도 :0.8601941747572815, seed_num = 47\n",
      "정확도 :0.8711974110032362, seed_num = 48\n",
      "정확도 :0.8763754045307444, seed_num = 49\n"
     ]
    }
   ],
   "source": [
    "for seed in range(0, 50):\n",
    "    random.seed(seed)\n",
    "\n",
    "    x = np.load('/project/LSH/x_(7727,10,4069).npy')\n",
    "    y = np.load('/project/LSH/y_(7727,1).npy')\n",
    "\n",
    "    idx = list(range(len(x)))\n",
    "    random.shuffle(idx)\n",
    "\n",
    "    i = round(x.shape[0]*0.8)\n",
    "    X_train, y_train = x[idx[:i],:,:], y[idx[:i]]\n",
    "    X_test, y_test = x[idx[i:],:,:], y[idx[i:]]\n",
    "    \n",
    "    pred = reload_model.predict(X_test)\n",
    "    pred[pred>0.5]=1\n",
    "    pred[pred<=0.5]=0\n",
    "    acc = metrics.accuracy_score(y_test, pred)\n",
    "    print(f'정확도 :{metrics.accuracy_score(y_test, pred)}, seed_num = {seed}')"
   ]
  },
  {
   "cell_type": "markdown",
   "id": "b3314b64",
   "metadata": {},
   "source": [
    "# 이어서 학습"
   ]
  },
  {
   "cell_type": "code",
   "execution_count": 16,
   "id": "5f29b205",
   "metadata": {
    "scrolled": true
   },
   "outputs": [
    {
     "name": "stdout",
     "output_type": "stream",
     "text": [
      "Epoch 15/20\n",
      "37/37 [==============================] - 5s 82ms/step - loss: 0.3677 - acc: 0.8611 - val_loss: 0.3979 - val_acc: 0.8422\n",
      "Epoch 16/20\n",
      "37/37 [==============================] - 2s 58ms/step - loss: 0.3309 - acc: 0.8807 - val_loss: 0.3967 - val_acc: 0.8435\n",
      "Epoch 17/20\n",
      "37/37 [==============================] - 2s 60ms/step - loss: 0.3150 - acc: 0.8859 - val_loss: 0.4016 - val_acc: 0.8402\n",
      "Epoch 18/20\n",
      "37/37 [==============================] - 2s 58ms/step - loss: 0.2991 - acc: 0.8960 - val_loss: 0.4067 - val_acc: 0.8428\n",
      "Epoch 19/20\n",
      "37/37 [==============================] - 2s 59ms/step - loss: 0.2770 - acc: 0.9101 - val_loss: 0.4129 - val_acc: 0.8389\n",
      "Epoch 20/20\n",
      "37/37 [==============================] - 2s 60ms/step - loss: 0.2660 - acc: 0.9122 - val_loss: 0.4519 - val_acc: 0.8273\n"
     ]
    }
   ],
   "source": [
    "# 이어서 학습\n",
    "# hist = reload_model.fit(X_train, y_train, initial_epoch=5, epochs=20, validation_split=0.25, batch_size=128)\n",
    "hist = reload_model.fit(X_train, y_train, initial_epoch=14, epochs=20, validation_split=0.25, batch_size=128)"
   ]
  },
  {
   "cell_type": "code",
   "execution_count": 17,
   "id": "f50de871",
   "metadata": {},
   "outputs": [
    {
     "data": {
      "image/png": "[encoded data removed]",
      "text/plain": [
       "<Figure size 432x288 with 2 Axes>"
      ]
     },
     "metadata": {
      "needs_background": "light"
     },
     "output_type": "display_data"
    }
   ],
   "source": [
    "import matplotlib.pyplot as plt\n",
    "\n",
    "fig, loss_ax = plt.subplots()\n",
    "\n",
    "acc_ax = loss_ax.twinx()\n",
    "\n",
    "loss_ax.plot(hist.history['loss'], 'y', label='train loss')\n",
    "loss_ax.plot(hist.history['val_loss'], 'r', label='val loss')\n",
    "\n",
    "acc_ax.plot(hist.history['acc'], 'b', label='train acc')\n",
    "acc_ax.plot(hist.history['val_acc'], 'g', label='val acc')\n",
    "\n",
    "loss_ax.set_xlabel('epoch')\n",
    "loss_ax.set_ylabel('loss')\n",
    "acc_ax.set_ylabel('accuray')\n",
    "\n",
    "loss_ax.legend(loc='upper left')\n",
    "acc_ax.legend(loc='lower left')\n",
    "\n",
    "plt.show()"
   ]
  },
  {
   "cell_type": "code",
   "execution_count": 18,
   "id": "91557313",
   "metadata": {
    "scrolled": true
   },
   "outputs": [
    {
     "name": "stdout",
     "output_type": "stream",
     "text": [
      "정확도 :0.8841423948220065, seed_num = 0\n",
      "정확도 :0.8919093851132686, seed_num = 1\n",
      "정확도 :0.8789644012944984, seed_num = 2\n",
      "정확도 :0.8925566343042072, seed_num = 3\n",
      "정확도 :0.8802588996763754, seed_num = 4\n",
      "정확도 :0.8944983818770227, seed_num = 5\n",
      "정확도 :0.8789644012944984, seed_num = 6\n",
      "정확도 :0.8763754045307444, seed_num = 7\n",
      "정확도 :0.8770226537216829, seed_num = 8\n",
      "정확도 :0.889967637540453, seed_num = 9\n",
      "정확도 :0.8880258899676375, seed_num = 10\n",
      "정확도 :0.9035598705501618, seed_num = 11\n",
      "정확도 :0.8770226537216829, seed_num = 12\n",
      "정확도 :0.8957928802588997, seed_num = 13\n",
      "정확도 :0.8912621359223301, seed_num = 14\n",
      "정확도 :0.8970873786407767, seed_num = 15\n",
      "정확도 :0.8964401294498382, seed_num = 16\n",
      "정확도 :0.8763754045307444, seed_num = 17\n",
      "정확도 :0.8854368932038835, seed_num = 18\n",
      "정확도 :0.8919093851132686, seed_num = 19\n",
      "정확도 :0.8983818770226537, seed_num = 20\n",
      "정확도 :0.8867313915857605, seed_num = 21\n",
      "정확도 :0.8925566343042072, seed_num = 22\n",
      "정확도 :0.8970873786407767, seed_num = 23\n",
      "정확도 :0.8880258899676375, seed_num = 24\n",
      "정확도 :0.8983818770226537, seed_num = 25\n",
      "정확도 :0.884789644012945, seed_num = 26\n",
      "정확도 :0.8828478964401294, seed_num = 27\n",
      "정확도 :0.8944983818770227, seed_num = 28\n",
      "정확도 :0.8938511326860842, seed_num = 29\n",
      "정확도 :0.8957928802588997, seed_num = 30\n",
      "정확도 :0.8854368932038835, seed_num = 31\n",
      "정확도 :0.8828478964401294, seed_num = 32\n",
      "정확도 :0.8938511326860842, seed_num = 33\n",
      "정확도 :0.8964401294498382, seed_num = 34\n",
      "정확도 :0.8925566343042072, seed_num = 35\n",
      "정확도 :0.9042071197411004, seed_num = 36\n",
      "정확도 :0.8932038834951457, seed_num = 37\n",
      "정확도 :0.8776699029126214, seed_num = 38\n",
      "정확도 :0.8919093851132686, seed_num = 39\n",
      "정확도 :0.883495145631068, seed_num = 40\n",
      "정확도 :0.889967637540453, seed_num = 41\n",
      "정확도 :0.889967637540453, seed_num = 42\n",
      "정확도 :0.9080906148867314, seed_num = 43\n",
      "정확도 :0.8822006472491909, seed_num = 44\n",
      "정확도 :0.884789644012945, seed_num = 45\n",
      "정확도 :0.8893203883495145, seed_num = 46\n",
      "정확도 :0.8957928802588997, seed_num = 47\n",
      "정확도 :0.8983818770226537, seed_num = 48\n",
      "정확도 :0.8588996763754045, seed_num = 49\n"
     ]
    }
   ],
   "source": [
    "for seed in range(0, 50):\n",
    "    random.seed(seed)\n",
    "\n",
    "    x = np.load('/project/LSH/x_(7727,10,4069).npy')\n",
    "    y = np.load('/project/LSH/y_(7727,1).npy')\n",
    "\n",
    "    idx = list(range(len(x)))\n",
    "    random.shuffle(idx)\n",
    "\n",
    "    i = round(x.shape[0]*0.8)\n",
    "    X_train, y_train = x[idx[:i],:,:], y[idx[:i]]\n",
    "    X_test, y_test = x[idx[i:],:,:], y[idx[i:]]\n",
    "    \n",
    "    pred = reload_model.predict(X_test)\n",
    "    pred[pred>0.5]=1\n",
    "    pred[pred<=0.5]=0\n",
    "    acc = metrics.accuracy_score(y_test, pred)\n",
    "    print(f'정확도 :{metrics.accuracy_score(y_test, pred)}, seed_num = {seed}')"
   ]
  },
  {
   "cell_type": "code",
   "execution_count": 19,
   "id": "c0c92069",
   "metadata": {},
   "outputs": [
    {
     "data": {
      "text/plain": [
       "array([[0.9643559 ],\n",
       "       [0.06516704],\n",
       "       [0.9713927 ],\n",
       "       ...,\n",
       "       [0.97729343],\n",
       "       [0.96409714],\n",
       "       [0.5975809 ]], dtype=float32)"
      ]
     },
     "execution_count": 19,
     "metadata": {},
     "output_type": "execute_result"
    }
   ],
   "source": [
    "reload_model.predict(X_test)"
   ]
  },
  {
   "cell_type": "code",
   "execution_count": 20,
   "id": "c14a9554",
   "metadata": {},
   "outputs": [
    {
     "data": {
      "text/plain": [
       "array([1, 0, 1, ..., 1, 1, 0])"
      ]
     },
     "execution_count": 20,
     "metadata": {},
     "output_type": "execute_result"
    }
   ],
   "source": [
    "y_test"
   ]
  },
  {
   "cell_type": "code",
   "execution_count": null,
   "id": "09715859",
   "metadata": {},
   "outputs": [],
   "source": []
  }
 ],
 "metadata": {
  "kernelspec": {
   "display_name": "Python 3",
   "language": "python",
   "name": "python3"
  },
  "language_info": {
   "codemirror_mode": {
    "name": "ipython",
    "version": 3
   },
   "file_extension": ".py",
   "mimetype": "text/x-python",
   "name": "python",
   "nbconvert_exporter": "python",
   "pygments_lexer": "ipython3",
   "version": "3.8.5"
  },
  "toc": {
   "base_numbering": 1,
   "nav_menu": {},
   "number_sections": true,
   "sideBar": true,
   "skip_h1_title": false,
   "title_cell": "Table of Contents",
   "title_sidebar": "Contents",
   "toc_cell": false,
   "toc_position": {
    "height": "calc(100% - 180px)",
    "left": "10px",
    "top": "150px",
    "width": "165px"
   },
   "toc_section_display": true,
   "toc_window_display": true
  }
 },
 "nbformat": 4,
 "nbformat_minor": 5
}
