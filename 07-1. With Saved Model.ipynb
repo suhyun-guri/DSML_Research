{
 "cells": [
  {
   "cell_type": "code",
   "execution_count": 1,
   "id": "276f797a",
   "metadata": {},
   "outputs": [
    {
     "name": "stdout",
     "output_type": "stream",
     "text": [
      "2.5.0\n",
      "2.5.0\n"
     ]
    }
   ],
   "source": [
    "import numpy as np, os\n",
    "import pandas as pd\n",
    "\n",
    "import matplotlib.pyplot as plt\n",
    "from tqdm.notebook import tqdm\n",
    "\n",
    "import tensorflow as tf\n",
    "from tensorflow import keras\n",
    "from tensorflow.keras.callbacks import EarlyStopping, ModelCheckpoint\n",
    "\n",
    "import warnings\n",
    "warnings.filterwarnings(action='ignore')\n",
    "\n",
    "from tensorflow.keras.models import Sequential\n",
    "from tensorflow.keras.layers import Dense, LSTM\n",
    "from tensorflow.keras.layers import SimpleRNN\n",
    "from tensorflow.keras.layers import Dropout, InputLayer\n",
    "from tensorflow.keras.callbacks import EarlyStopping\n",
    "from tensorflow.keras.regularizers import l2\n",
    "from tensorflow.keras.optimizers import Adam\n",
    "\n",
    "print(tf.__version__)\n",
    "print(keras.__version__)"
   ]
  },
  {
   "cell_type": "markdown",
   "id": "5d1a0334",
   "metadata": {},
   "source": [
    "# Data Load"
   ]
  },
  {
   "cell_type": "code",
   "execution_count": 2,
   "id": "438bc233",
   "metadata": {},
   "outputs": [
    {
     "data": {
      "text/plain": [
       "((6182, 10, 4069), (6182,), (1545, 10, 4069), (1545,))"
      ]
     },
     "execution_count": 2,
     "metadata": {},
     "output_type": "execute_result"
    }
   ],
   "source": [
    "import random    \n",
    "seed_num = 48\n",
    "random.seed(seed_num)\n",
    "\n",
    "X = np.load('/project/LSH/x_(7727,10,4069).npy')\n",
    "y = np.load('/project/LSH/y_(7727,1).npy')\n",
    "\n",
    "idx = list(range(len(X)))\n",
    "random.shuffle(idx)\n",
    "\n",
    "\n",
    "i = round(X.shape[0]*0.8)\n",
    "X_train, y_train = X[:i,:,:], y[:i]\n",
    "X_test, y_test = X[i:,:,:], y[i:]\n",
    "\n",
    "X_train.shape, y_train.shape, X_test.shape, y_test.shape"
   ]
  },
  {
   "cell_type": "markdown",
   "id": "d572465c",
   "metadata": {},
   "source": [
    "# get_model, BinaryCrossEntropy function"
   ]
  },
  {
   "cell_type": "code",
   "execution_count": 3,
   "id": "10fc0fd7",
   "metadata": {},
   "outputs": [],
   "source": [
    "def get_model():\n",
    "    seed_num = 48\n",
    "    tf.random.set_seed(seed_num)\n",
    "\n",
    "    lstm = Sequential()\n",
    "    lstm.add(InputLayer(input_shape=(X.shape[1],X.shape[2])))\n",
    "    lstm.add(LSTM(units=128, activation='hard_sigmoid', return_sequences=True))\n",
    "    lstm.add(LSTM(units=64, activation='hard_sigmoid', return_sequences=True))\n",
    "    lstm.add(Dropout(0.2))\n",
    "    lstm.add(LSTM(units=64, activation='hard_sigmoid', return_sequences=True))\n",
    "    lstm.add(LSTM(units=32, activation='hard_sigmoid', return_sequences=False))\n",
    "    lstm.add(Dropout(0.2))\n",
    "    lstm.add(Dense(units=1, activation='sigmoid'))\n",
    "    \n",
    "    optimizer = Adam(learning_rate = 0.001)\n",
    "    lstm.compile(optimizer=optimizer, loss = \"binary_crossentropy\", metrics=['acc'])\n",
    "    return lstm"
   ]
  },
  {
   "cell_type": "code",
   "execution_count": 4,
   "id": "2ed6cb61",
   "metadata": {},
   "outputs": [],
   "source": [
    "def BinaryCrossEntropy(y_true, y_pred):\n",
    "    m = y_true.shape[1]\n",
    "    y_pred = np.clip(y_pred, 1e-7, 1 - 1e-7)\n",
    "    # Calculating loss\n",
    "    loss = -1/m * (np.dot(y_true.T, np.log(y_pred)) + np.dot((1 - y_true).T, np.log(1 - y_pred)))\n",
    "\n",
    "    return loss"
   ]
  },
  {
   "cell_type": "markdown",
   "id": "bb81a7cf",
   "metadata": {},
   "source": [
    "# Model Save"
   ]
  },
  {
   "cell_type": "code",
   "execution_count": 5,
   "id": "c541ddee",
   "metadata": {
    "scrolled": true
   },
   "outputs": [
    {
     "name": "stdout",
     "output_type": "stream",
     "text": [
      "Epoch 1/500\n",
      "37/37 [==============================] - 6s 78ms/step - loss: 0.6255 - acc: 0.6872 - val_loss: 0.7495 - val_acc: 0.4955\n",
      "Epoch 2/500\n",
      "37/37 [==============================] - 2s 64ms/step - loss: 0.6240 - acc: 0.6887 - val_loss: 0.7583 - val_acc: 0.4955\n",
      "Epoch 3/500\n",
      "37/37 [==============================] - 2s 63ms/step - loss: 0.6265 - acc: 0.6885 - val_loss: 0.7581 - val_acc: 0.4955\n",
      "Epoch 4/500\n",
      "37/37 [==============================] - 2s 62ms/step - loss: 0.5813 - acc: 0.6943 - val_loss: 0.6175 - val_acc: 0.6953\n",
      "Epoch 5/500\n",
      "37/37 [==============================] - 2s 63ms/step - loss: 0.4594 - acc: 0.7871 - val_loss: 0.5644 - val_acc: 0.7277\n",
      "Epoch 6/500\n",
      "37/37 [==============================] - 2s 62ms/step - loss: 0.3944 - acc: 0.8281 - val_loss: 0.5836 - val_acc: 0.7212\n",
      "Epoch 7/500\n",
      "37/37 [==============================] - 2s 63ms/step - loss: 0.3458 - acc: 0.8598 - val_loss: 0.6110 - val_acc: 0.7342\n",
      "Epoch 8/500\n",
      "37/37 [==============================] - 2s 61ms/step - loss: 0.3175 - acc: 0.8794 - val_loss: 0.6430 - val_acc: 0.7342\n",
      "Epoch 9/500\n",
      "37/37 [==============================] - 2s 62ms/step - loss: 0.2873 - acc: 0.8967 - val_loss: 0.6973 - val_acc: 0.7348\n",
      "Epoch 10/500\n",
      "37/37 [==============================] - 2s 62ms/step - loss: 0.2660 - acc: 0.9072 - val_loss: 0.7159 - val_acc: 0.7309\n",
      "Epoch 11/500\n",
      "37/37 [==============================] - 2s 63ms/step - loss: 0.2597 - acc: 0.9070 - val_loss: 0.7542 - val_acc: 0.6986\n",
      "Epoch 12/500\n",
      "37/37 [==============================] - 2s 62ms/step - loss: 0.2631 - acc: 0.9062 - val_loss: 0.7121 - val_acc: 0.7173\n",
      "Epoch 13/500\n",
      "37/37 [==============================] - 2s 63ms/step - loss: 0.3039 - acc: 0.8779 - val_loss: 0.7242 - val_acc: 0.6863\n",
      "Epoch 14/500\n",
      "37/37 [==============================] - 2s 63ms/step - loss: 0.3291 - acc: 0.8691 - val_loss: 0.6295 - val_acc: 0.7367\n",
      "Epoch 15/500\n",
      "37/37 [==============================] - 2s 63ms/step - loss: 0.2420 - acc: 0.9163 - val_loss: 0.7374 - val_acc: 0.7329\n",
      "Epoch 16/500\n",
      "37/37 [==============================] - 2s 62ms/step - loss: 0.2225 - acc: 0.9217 - val_loss: 0.7786 - val_acc: 0.7232\n",
      "Epoch 17/500\n",
      "37/37 [==============================] - 2s 63ms/step - loss: 0.2039 - acc: 0.9353 - val_loss: 0.8790 - val_acc: 0.7025\n",
      "Epoch 18/500\n",
      "37/37 [==============================] - 2s 62ms/step - loss: 0.1981 - acc: 0.9372 - val_loss: 0.9061 - val_acc: 0.7012\n",
      "Epoch 19/500\n",
      "37/37 [==============================] - 2s 62ms/step - loss: 0.1748 - acc: 0.9476 - val_loss: 0.8652 - val_acc: 0.7115\n",
      "Epoch 20/500\n",
      "37/37 [==============================] - 2s 62ms/step - loss: 0.1795 - acc: 0.9433 - val_loss: 0.8979 - val_acc: 0.7038\n",
      "Epoch 21/500\n",
      "37/37 [==============================] - 2s 62ms/step - loss: 0.2255 - acc: 0.9174 - val_loss: 0.8078 - val_acc: 0.7160\n",
      "Epoch 22/500\n",
      "37/37 [==============================] - 2s 63ms/step - loss: 0.2061 - acc: 0.9308 - val_loss: 0.8216 - val_acc: 0.7180\n",
      "Epoch 23/500\n",
      "37/37 [==============================] - 2s 63ms/step - loss: 0.1612 - acc: 0.9530 - val_loss: 0.8775 - val_acc: 0.7096\n",
      "Epoch 24/500\n",
      "37/37 [==============================] - 2s 63ms/step - loss: 0.1525 - acc: 0.9584 - val_loss: 0.9039 - val_acc: 0.7096\n",
      "Epoch 25/500\n",
      "37/37 [==============================] - 2s 62ms/step - loss: 0.1468 - acc: 0.9577 - val_loss: 0.9177 - val_acc: 0.7141\n",
      "Epoch 26/500\n",
      "37/37 [==============================] - 2s 62ms/step - loss: 0.1400 - acc: 0.9620 - val_loss: 0.9440 - val_acc: 0.7135\n",
      "Epoch 27/500\n",
      "37/37 [==============================] - 2s 63ms/step - loss: 0.1336 - acc: 0.9646 - val_loss: 0.9614 - val_acc: 0.7160\n",
      "Epoch 28/500\n",
      "37/37 [==============================] - 2s 61ms/step - loss: 0.1302 - acc: 0.9651 - val_loss: 0.9761 - val_acc: 0.7102\n",
      "Epoch 29/500\n",
      "37/37 [==============================] - 2s 63ms/step - loss: 0.1252 - acc: 0.9674 - val_loss: 1.0000 - val_acc: 0.7115\n",
      "Epoch 30/500\n",
      "37/37 [==============================] - 2s 62ms/step - loss: 0.1201 - acc: 0.9700 - val_loss: 1.0302 - val_acc: 0.7083\n",
      "Epoch 31/500\n",
      "37/37 [==============================] - 2s 63ms/step - loss: 0.1161 - acc: 0.9717 - val_loss: 1.0383 - val_acc: 0.7063\n",
      "Epoch 32/500\n",
      "37/37 [==============================] - 2s 63ms/step - loss: 0.1155 - acc: 0.9713 - val_loss: 1.0613 - val_acc: 0.7050\n",
      "Epoch 33/500\n",
      "37/37 [==============================] - 2s 61ms/step - loss: 0.1130 - acc: 0.9722 - val_loss: 1.0565 - val_acc: 0.7005\n",
      "Epoch 34/500\n",
      "37/37 [==============================] - 2s 62ms/step - loss: 0.1068 - acc: 0.9728 - val_loss: 1.0886 - val_acc: 0.7018\n",
      "Epoch 35/500\n",
      "37/37 [==============================] - 2s 62ms/step - loss: 0.1054 - acc: 0.9739 - val_loss: 1.1157 - val_acc: 0.6992\n",
      "Epoch 36/500\n",
      "37/37 [==============================] - 2s 63ms/step - loss: 0.1018 - acc: 0.9750 - val_loss: 1.1301 - val_acc: 0.6973\n",
      "Epoch 37/500\n",
      "37/37 [==============================] - 2s 63ms/step - loss: 0.0992 - acc: 0.9750 - val_loss: 1.1396 - val_acc: 0.6979\n",
      "Epoch 38/500\n",
      "37/37 [==============================] - 2s 62ms/step - loss: 0.0990 - acc: 0.9748 - val_loss: 1.1317 - val_acc: 0.6953\n",
      "Epoch 39/500\n",
      "37/37 [==============================] - 2s 62ms/step - loss: 0.0988 - acc: 0.9733 - val_loss: 1.1476 - val_acc: 0.6999\n",
      "Epoch 40/500\n",
      "37/37 [==============================] - 2s 63ms/step - loss: 0.0969 - acc: 0.9743 - val_loss: 1.2036 - val_acc: 0.6869\n",
      "Epoch 41/500\n",
      "37/37 [==============================] - 2s 62ms/step - loss: 0.0955 - acc: 0.9739 - val_loss: 1.2294 - val_acc: 0.6882\n",
      "Epoch 42/500\n",
      "37/37 [==============================] - 2s 62ms/step - loss: 0.1061 - acc: 0.9692 - val_loss: 1.2143 - val_acc: 0.6837\n",
      "Epoch 43/500\n",
      "37/37 [==============================] - 2s 63ms/step - loss: 0.1125 - acc: 0.9679 - val_loss: 1.1404 - val_acc: 0.6973\n",
      "Epoch 44/500\n",
      "37/37 [==============================] - 2s 62ms/step - loss: 0.1266 - acc: 0.9612 - val_loss: 1.0978 - val_acc: 0.7031\n",
      "Restoring model weights from the end of the best epoch.\n",
      "Epoch 00044: early stopping\n"
     ]
    },
    {
     "data": {
      "text/plain": [
       "<tensorflow.python.keras.callbacks.History at 0x7f6de02c7130>"
      ]
     },
     "execution_count": 5,
     "metadata": {},
     "output_type": "execute_result"
    }
   ],
   "source": [
    "MODEL_SAVE_FOLDER_PATH = './models/'\n",
    "filepath = MODEL_SAVE_FOLDER_PATH + '{epoch:02d}-{val_acc:.4f}.hdf5'\n",
    "ckpt = tf.keras.callbacks.ModelCheckpoint(filepath, monitor='val_acc', save_best_only=True, save_weights_only=False, save_freq='epoch')\n",
    "\n",
    "model = get_model()\n",
    "early_stop = EarlyStopping(monitor='val_acc', patience=30, verbose=1, restore_best_weights=True)\n",
    "model.fit(X_train, y_train, validation_split=0.25, batch_size=128, epochs=500,  callbacks=[early_stop, ckpt], shuffle=False)"
   ]
  },
  {
   "cell_type": "code",
   "execution_count": 6,
   "id": "c218acbe",
   "metadata": {},
   "outputs": [],
   "source": [
    "#저장된 모델 불러오기\n",
    "model = tf.keras.models.load_model('/project/guri/Restart/models/14-0.7367.hdf5')"
   ]
  },
  {
   "cell_type": "markdown",
   "id": "3c630d08",
   "metadata": {},
   "source": [
    "# Base BCE"
   ]
  },
  {
   "cell_type": "code",
   "execution_count": 8,
   "id": "6b2a11c1",
   "metadata": {},
   "outputs": [
    {
     "data": {
      "text/plain": [
       "8008.864772323024"
      ]
     },
     "execution_count": 8,
     "metadata": {},
     "output_type": "execute_result"
    }
   ],
   "source": [
    "pred = model.predict(X_test)\n",
    "# bce = tf.keras.losses.BinaryCrossentropy(from_logits=True)\n",
    "base_bce = BinaryCrossEntropy(pred, y_test)[0]\n",
    "base_bce"
   ]
  },
  {
   "cell_type": "markdown",
   "id": "ce2bcde5",
   "metadata": {},
   "source": [
    "# COLS Load, reverse function"
   ]
  },
  {
   "cell_type": "code",
   "execution_count": 11,
   "id": "41687ece",
   "metadata": {},
   "outputs": [],
   "source": [
    "# 컬럼이름 로드\n",
    "COLS = list(pd.read_csv('/project/guri/data/data2d_forposter.csv').columns)"
   ]
  },
  {
   "cell_type": "code",
   "execution_count": 13,
   "id": "e13d198c",
   "metadata": {},
   "outputs": [],
   "source": [
    "#reverse 함수 생성\n",
    "def reverse(li):\n",
    "    return np.logical_not(li).astype(np.float64)"
   ]
  },
  {
   "cell_type": "markdown",
   "id": "2010c8b4",
   "metadata": {},
   "source": [
    "# ALL"
   ]
  },
  {
   "cell_type": "code",
   "execution_count": 14,
   "id": "f1cb0db9",
   "metadata": {},
   "outputs": [
    {
     "data": {
      "application/vnd.jupyter.widget-view+json": {
       "model_id": "aef78bca549b433da680c70760cd9064",
       "version_major": 2,
       "version_minor": 0
      },
      "text/plain": [
       "  0%|          | 0/4069 [00:00<?, ?it/s]"
      ]
     },
     "metadata": {},
     "output_type": "display_data"
    }
   ],
   "source": [
    "results = []\n",
    "results.append({'feature':'BASELINE', 'bce':base_bce})\n",
    "\n",
    "for i in tqdm(range(len(COLS))):\n",
    "    #원본 저장해놓고 for문 하나 끝날 때 다시 복원해준다. - save_col\n",
    "    save_col = X_test[:,:,i].copy()\n",
    "    for p in range(X_test.shape[0]):\n",
    "        X_test[p,:,i] = reverse(X_test[p,:,i])\n",
    "        \n",
    "    pred = model.predict(X_test)\n",
    "    bce = BinaryCrossEntropy(pred, y_test)[0]\n",
    "    results.append({'feature':COLS[i], 'bce':bce})\n",
    "    X_test[:,:,i] = save_col"
   ]
  },
  {
   "cell_type": "code",
   "execution_count": 15,
   "id": "51c9bd31",
   "metadata": {},
   "outputs": [],
   "source": [
    "df1 = pd.DataFrame(results)\n",
    "df1 = df1.sort_values('bce', ascending=False)\n",
    "df1.to_csv('./reverse_FI_with_saved_model.csv', index=False)"
   ]
  },
  {
   "cell_type": "code",
   "execution_count": 17,
   "id": "bd08ad26",
   "metadata": {},
   "outputs": [
    {
     "data": {
      "text/html": [
       "<div>\n",
       "<style scoped>\n",
       "    .dataframe tbody tr th:only-of-type {\n",
       "        vertical-align: middle;\n",
       "    }\n",
       "\n",
       "    .dataframe tbody tr th {\n",
       "        vertical-align: top;\n",
       "    }\n",
       "\n",
       "    .dataframe thead th {\n",
       "        text-align: right;\n",
       "    }\n",
       "</style>\n",
       "<table border=\"1\" class=\"dataframe\">\n",
       "  <thead>\n",
       "    <tr style=\"text-align: right;\">\n",
       "      <th></th>\n",
       "      <th>feature</th>\n",
       "      <th>bce</th>\n",
       "    </tr>\n",
       "  </thead>\n",
       "  <tbody>\n",
       "    <tr>\n",
       "      <th>2197</th>\n",
       "      <td>409606211</td>\n",
       "      <td>10634.860764</td>\n",
       "    </tr>\n",
       "    <tr>\n",
       "      <th>3285</th>\n",
       "      <td>51479005520</td>\n",
       "      <td>9598.850359</td>\n",
       "    </tr>\n",
       "    <tr>\n",
       "      <th>1082</th>\n",
       "      <td>67434504</td>\n",
       "      <td>9274.589349</td>\n",
       "    </tr>\n",
       "    <tr>\n",
       "      <th>1277</th>\n",
       "      <td>74606211</td>\n",
       "      <td>9222.603923</td>\n",
       "    </tr>\n",
       "    <tr>\n",
       "      <th>3588</th>\n",
       "      <td>59011010325</td>\n",
       "      <td>9214.718024</td>\n",
       "    </tr>\n",
       "    <tr>\n",
       "      <th>...</th>\n",
       "      <td>...</td>\n",
       "      <td>...</td>\n",
       "    </tr>\n",
       "    <tr>\n",
       "      <th>2155</th>\n",
       "      <td>409198530</td>\n",
       "      <td>7929.591817</td>\n",
       "    </tr>\n",
       "    <tr>\n",
       "      <th>2191</th>\n",
       "      <td>409490234</td>\n",
       "      <td>7914.460668</td>\n",
       "    </tr>\n",
       "    <tr>\n",
       "      <th>306</th>\n",
       "      <td>224275</td>\n",
       "      <td>7910.113561</td>\n",
       "    </tr>\n",
       "    <tr>\n",
       "      <th>3458</th>\n",
       "      <td>55390000401</td>\n",
       "      <td>7906.018468</td>\n",
       "    </tr>\n",
       "    <tr>\n",
       "      <th>570</th>\n",
       "      <td>6473900</td>\n",
       "      <td>7830.683974</td>\n",
       "    </tr>\n",
       "  </tbody>\n",
       "</table>\n",
       "<p>4070 rows × 2 columns</p>\n",
       "</div>"
      ],
      "text/plain": [
       "          feature           bce\n",
       "2197    409606211  10634.860764\n",
       "3285  51479005520   9598.850359\n",
       "1082     67434504   9274.589349\n",
       "1277     74606211   9222.603923\n",
       "3588  59011010325   9214.718024\n",
       "...           ...           ...\n",
       "2155    409198530   7929.591817\n",
       "2191    409490234   7914.460668\n",
       "306        224275   7910.113561\n",
       "3458  55390000401   7906.018468\n",
       "570       6473900   7830.683974\n",
       "\n",
       "[4070 rows x 2 columns]"
      ]
     },
     "execution_count": 17,
     "metadata": {},
     "output_type": "execute_result"
    }
   ],
   "source": [
    "df1"
   ]
  },
  {
   "cell_type": "markdown",
   "id": "8db21623",
   "metadata": {},
   "source": [
    "# ALL (7727) - D-1~5\n",
    "- `X_test[p,:,i]` 부분을 `X_test[p,-5:,i]`로 수정"
   ]
  },
  {
   "cell_type": "code",
   "execution_count": 18,
   "id": "5619368d",
   "metadata": {
    "collapsed": true
   },
   "outputs": [
    {
     "data": {
      "application/vnd.jupyter.widget-view+json": {
       "model_id": "8196136c56c048819780bce32f942a0d",
       "version_major": 2,
       "version_minor": 0
      },
      "text/plain": [
       "  0%|          | 0/4069 [00:00<?, ?it/s]"
      ]
     },
     "metadata": {},
     "output_type": "display_data"
    },
    {
     "ename": "KeyboardInterrupt",
     "evalue": "",
     "output_type": "error",
     "traceback": [
      "\u001b[0;31m---------------------------------------------------------------------------\u001b[0m",
      "\u001b[0;31mKeyboardInterrupt\u001b[0m                         Traceback (most recent call last)",
      "\u001b[0;32m<ipython-input-18-0eddc9169988>\u001b[0m in \u001b[0;36m<module>\u001b[0;34m\u001b[0m\n\u001b[1;32m      6\u001b[0m     \u001b[0;32mfor\u001b[0m \u001b[0mp\u001b[0m \u001b[0;32min\u001b[0m \u001b[0mrange\u001b[0m\u001b[0;34m(\u001b[0m\u001b[0mX_test\u001b[0m\u001b[0;34m.\u001b[0m\u001b[0mshape\u001b[0m\u001b[0;34m[\u001b[0m\u001b[0;36m0\u001b[0m\u001b[0;34m]\u001b[0m\u001b[0;34m)\u001b[0m\u001b[0;34m:\u001b[0m\u001b[0;34m\u001b[0m\u001b[0;34m\u001b[0m\u001b[0m\n\u001b[1;32m      7\u001b[0m         \u001b[0mX_test\u001b[0m\u001b[0;34m[\u001b[0m\u001b[0mp\u001b[0m\u001b[0;34m,\u001b[0m\u001b[0;34m-\u001b[0m\u001b[0;36m5\u001b[0m\u001b[0;34m:\u001b[0m\u001b[0;34m,\u001b[0m\u001b[0mi\u001b[0m\u001b[0;34m]\u001b[0m \u001b[0;34m=\u001b[0m \u001b[0mreverse\u001b[0m\u001b[0;34m(\u001b[0m\u001b[0mX_test\u001b[0m\u001b[0;34m[\u001b[0m\u001b[0mp\u001b[0m\u001b[0;34m,\u001b[0m\u001b[0;34m-\u001b[0m\u001b[0;36m5\u001b[0m\u001b[0;34m:\u001b[0m\u001b[0;34m,\u001b[0m\u001b[0mi\u001b[0m\u001b[0;34m]\u001b[0m\u001b[0;34m)\u001b[0m\u001b[0;34m\u001b[0m\u001b[0;34m\u001b[0m\u001b[0m\n\u001b[0;32m----> 8\u001b[0;31m     \u001b[0mpred\u001b[0m \u001b[0;34m=\u001b[0m \u001b[0mmodel\u001b[0m\u001b[0;34m.\u001b[0m\u001b[0mpredict\u001b[0m\u001b[0;34m(\u001b[0m\u001b[0mX_test\u001b[0m\u001b[0;34m)\u001b[0m\u001b[0;34m\u001b[0m\u001b[0;34m\u001b[0m\u001b[0m\n\u001b[0m\u001b[1;32m      9\u001b[0m     \u001b[0mbce\u001b[0m \u001b[0;34m=\u001b[0m \u001b[0mBinaryCrossEntropy\u001b[0m\u001b[0;34m(\u001b[0m\u001b[0mpred\u001b[0m\u001b[0;34m,\u001b[0m \u001b[0my_test\u001b[0m\u001b[0;34m)\u001b[0m\u001b[0;34m[\u001b[0m\u001b[0;36m0\u001b[0m\u001b[0;34m]\u001b[0m\u001b[0;34m\u001b[0m\u001b[0;34m\u001b[0m\u001b[0m\n\u001b[1;32m     10\u001b[0m     \u001b[0mresults\u001b[0m\u001b[0;34m.\u001b[0m\u001b[0mappend\u001b[0m\u001b[0;34m(\u001b[0m\u001b[0;34m{\u001b[0m\u001b[0;34m'feature'\u001b[0m\u001b[0;34m:\u001b[0m\u001b[0mCOLS\u001b[0m\u001b[0;34m[\u001b[0m\u001b[0mi\u001b[0m\u001b[0;34m]\u001b[0m\u001b[0;34m,\u001b[0m \u001b[0;34m'bce'\u001b[0m\u001b[0;34m:\u001b[0m\u001b[0mbce\u001b[0m\u001b[0;34m}\u001b[0m\u001b[0;34m)\u001b[0m\u001b[0;34m\u001b[0m\u001b[0;34m\u001b[0m\u001b[0m\n",
      "\u001b[0;32m~/.local/lib/python3.8/site-packages/tensorflow/python/keras/engine/training.py\u001b[0m in \u001b[0;36mpredict\u001b[0;34m(self, x, batch_size, verbose, steps, callbacks, max_queue_size, workers, use_multiprocessing)\u001b[0m\n\u001b[1;32m   1725\u001b[0m           \u001b[0;32mfor\u001b[0m \u001b[0mstep\u001b[0m \u001b[0;32min\u001b[0m \u001b[0mdata_handler\u001b[0m\u001b[0;34m.\u001b[0m\u001b[0msteps\u001b[0m\u001b[0;34m(\u001b[0m\u001b[0;34m)\u001b[0m\u001b[0;34m:\u001b[0m\u001b[0;34m\u001b[0m\u001b[0;34m\u001b[0m\u001b[0m\n\u001b[1;32m   1726\u001b[0m             \u001b[0mcallbacks\u001b[0m\u001b[0;34m.\u001b[0m\u001b[0mon_predict_batch_begin\u001b[0m\u001b[0;34m(\u001b[0m\u001b[0mstep\u001b[0m\u001b[0;34m)\u001b[0m\u001b[0;34m\u001b[0m\u001b[0;34m\u001b[0m\u001b[0m\n\u001b[0;32m-> 1727\u001b[0;31m             \u001b[0mtmp_batch_outputs\u001b[0m \u001b[0;34m=\u001b[0m \u001b[0mself\u001b[0m\u001b[0;34m.\u001b[0m\u001b[0mpredict_function\u001b[0m\u001b[0;34m(\u001b[0m\u001b[0miterator\u001b[0m\u001b[0;34m)\u001b[0m\u001b[0;34m\u001b[0m\u001b[0;34m\u001b[0m\u001b[0m\n\u001b[0m\u001b[1;32m   1728\u001b[0m             \u001b[0;32mif\u001b[0m \u001b[0mdata_handler\u001b[0m\u001b[0;34m.\u001b[0m\u001b[0mshould_sync\u001b[0m\u001b[0;34m:\u001b[0m\u001b[0;34m\u001b[0m\u001b[0;34m\u001b[0m\u001b[0m\n\u001b[1;32m   1729\u001b[0m               \u001b[0mcontext\u001b[0m\u001b[0;34m.\u001b[0m\u001b[0masync_wait\u001b[0m\u001b[0;34m(\u001b[0m\u001b[0;34m)\u001b[0m\u001b[0;34m\u001b[0m\u001b[0;34m\u001b[0m\u001b[0m\n",
      "\u001b[0;32m~/.local/lib/python3.8/site-packages/tensorflow/python/eager/def_function.py\u001b[0m in \u001b[0;36m__call__\u001b[0;34m(self, *args, **kwds)\u001b[0m\n\u001b[1;32m    887\u001b[0m \u001b[0;34m\u001b[0m\u001b[0m\n\u001b[1;32m    888\u001b[0m       \u001b[0;32mwith\u001b[0m \u001b[0mOptionalXlaContext\u001b[0m\u001b[0;34m(\u001b[0m\u001b[0mself\u001b[0m\u001b[0;34m.\u001b[0m\u001b[0m_jit_compile\u001b[0m\u001b[0;34m)\u001b[0m\u001b[0;34m:\u001b[0m\u001b[0;34m\u001b[0m\u001b[0;34m\u001b[0m\u001b[0m\n\u001b[0;32m--> 889\u001b[0;31m         \u001b[0mresult\u001b[0m \u001b[0;34m=\u001b[0m \u001b[0mself\u001b[0m\u001b[0;34m.\u001b[0m\u001b[0m_call\u001b[0m\u001b[0;34m(\u001b[0m\u001b[0;34m*\u001b[0m\u001b[0margs\u001b[0m\u001b[0;34m,\u001b[0m \u001b[0;34m**\u001b[0m\u001b[0mkwds\u001b[0m\u001b[0;34m)\u001b[0m\u001b[0;34m\u001b[0m\u001b[0;34m\u001b[0m\u001b[0m\n\u001b[0m\u001b[1;32m    890\u001b[0m \u001b[0;34m\u001b[0m\u001b[0m\n\u001b[1;32m    891\u001b[0m       \u001b[0mnew_tracing_count\u001b[0m \u001b[0;34m=\u001b[0m \u001b[0mself\u001b[0m\u001b[0;34m.\u001b[0m\u001b[0mexperimental_get_tracing_count\u001b[0m\u001b[0;34m(\u001b[0m\u001b[0;34m)\u001b[0m\u001b[0;34m\u001b[0m\u001b[0;34m\u001b[0m\u001b[0m\n",
      "\u001b[0;32m~/.local/lib/python3.8/site-packages/tensorflow/python/eager/def_function.py\u001b[0m in \u001b[0;36m_call\u001b[0;34m(self, *args, **kwds)\u001b[0m\n\u001b[1;32m    922\u001b[0m       \u001b[0;31m# In this case we have not created variables on the first call. So we can\u001b[0m\u001b[0;34m\u001b[0m\u001b[0;34m\u001b[0m\u001b[0;34m\u001b[0m\u001b[0m\n\u001b[1;32m    923\u001b[0m       \u001b[0;31m# run the first trace but we should fail if variables are created.\u001b[0m\u001b[0;34m\u001b[0m\u001b[0;34m\u001b[0m\u001b[0;34m\u001b[0m\u001b[0m\n\u001b[0;32m--> 924\u001b[0;31m       \u001b[0mresults\u001b[0m \u001b[0;34m=\u001b[0m \u001b[0mself\u001b[0m\u001b[0;34m.\u001b[0m\u001b[0m_stateful_fn\u001b[0m\u001b[0;34m(\u001b[0m\u001b[0;34m*\u001b[0m\u001b[0margs\u001b[0m\u001b[0;34m,\u001b[0m \u001b[0;34m**\u001b[0m\u001b[0mkwds\u001b[0m\u001b[0;34m)\u001b[0m\u001b[0;34m\u001b[0m\u001b[0;34m\u001b[0m\u001b[0m\n\u001b[0m\u001b[1;32m    925\u001b[0m       \u001b[0;32mif\u001b[0m \u001b[0mself\u001b[0m\u001b[0;34m.\u001b[0m\u001b[0m_created_variables\u001b[0m\u001b[0;34m:\u001b[0m\u001b[0;34m\u001b[0m\u001b[0;34m\u001b[0m\u001b[0m\n\u001b[1;32m    926\u001b[0m         raise ValueError(\"Creating variables on a non-first call to a function\"\n",
      "\u001b[0;32m~/.local/lib/python3.8/site-packages/tensorflow/python/eager/function.py\u001b[0m in \u001b[0;36m__call__\u001b[0;34m(self, *args, **kwargs)\u001b[0m\n\u001b[1;32m   3021\u001b[0m       (graph_function,\n\u001b[1;32m   3022\u001b[0m        filtered_flat_args) = self._maybe_define_function(args, kwargs)\n\u001b[0;32m-> 3023\u001b[0;31m     return graph_function._call_flat(\n\u001b[0m\u001b[1;32m   3024\u001b[0m         filtered_flat_args, captured_inputs=graph_function.captured_inputs)  # pylint: disable=protected-access\n\u001b[1;32m   3025\u001b[0m \u001b[0;34m\u001b[0m\u001b[0m\n",
      "\u001b[0;32m~/.local/lib/python3.8/site-packages/tensorflow/python/eager/function.py\u001b[0m in \u001b[0;36m_call_flat\u001b[0;34m(self, args, captured_inputs, cancellation_manager)\u001b[0m\n\u001b[1;32m   1958\u001b[0m         and executing_eagerly):\n\u001b[1;32m   1959\u001b[0m       \u001b[0;31m# No tape is watching; skip to running the function.\u001b[0m\u001b[0;34m\u001b[0m\u001b[0;34m\u001b[0m\u001b[0;34m\u001b[0m\u001b[0m\n\u001b[0;32m-> 1960\u001b[0;31m       return self._build_call_outputs(self._inference_function.call(\n\u001b[0m\u001b[1;32m   1961\u001b[0m           ctx, args, cancellation_manager=cancellation_manager))\n\u001b[1;32m   1962\u001b[0m     forward_backward = self._select_forward_and_backward_functions(\n",
      "\u001b[0;32m~/.local/lib/python3.8/site-packages/tensorflow/python/eager/function.py\u001b[0m in \u001b[0;36mcall\u001b[0;34m(self, ctx, args, cancellation_manager)\u001b[0m\n\u001b[1;32m    589\u001b[0m       \u001b[0;32mwith\u001b[0m \u001b[0m_InterpolateFunctionError\u001b[0m\u001b[0;34m(\u001b[0m\u001b[0mself\u001b[0m\u001b[0;34m)\u001b[0m\u001b[0;34m:\u001b[0m\u001b[0;34m\u001b[0m\u001b[0;34m\u001b[0m\u001b[0m\n\u001b[1;32m    590\u001b[0m         \u001b[0;32mif\u001b[0m \u001b[0mcancellation_manager\u001b[0m \u001b[0;32mis\u001b[0m \u001b[0;32mNone\u001b[0m\u001b[0;34m:\u001b[0m\u001b[0;34m\u001b[0m\u001b[0;34m\u001b[0m\u001b[0m\n\u001b[0;32m--> 591\u001b[0;31m           outputs = execute.execute(\n\u001b[0m\u001b[1;32m    592\u001b[0m               \u001b[0mstr\u001b[0m\u001b[0;34m(\u001b[0m\u001b[0mself\u001b[0m\u001b[0;34m.\u001b[0m\u001b[0msignature\u001b[0m\u001b[0;34m.\u001b[0m\u001b[0mname\u001b[0m\u001b[0;34m)\u001b[0m\u001b[0;34m,\u001b[0m\u001b[0;34m\u001b[0m\u001b[0;34m\u001b[0m\u001b[0m\n\u001b[1;32m    593\u001b[0m               \u001b[0mnum_outputs\u001b[0m\u001b[0;34m=\u001b[0m\u001b[0mself\u001b[0m\u001b[0;34m.\u001b[0m\u001b[0m_num_outputs\u001b[0m\u001b[0;34m,\u001b[0m\u001b[0;34m\u001b[0m\u001b[0;34m\u001b[0m\u001b[0m\n",
      "\u001b[0;32m~/.local/lib/python3.8/site-packages/tensorflow/python/eager/execute.py\u001b[0m in \u001b[0;36mquick_execute\u001b[0;34m(op_name, num_outputs, inputs, attrs, ctx, name)\u001b[0m\n\u001b[1;32m     57\u001b[0m   \u001b[0;32mtry\u001b[0m\u001b[0;34m:\u001b[0m\u001b[0;34m\u001b[0m\u001b[0;34m\u001b[0m\u001b[0m\n\u001b[1;32m     58\u001b[0m     \u001b[0mctx\u001b[0m\u001b[0;34m.\u001b[0m\u001b[0mensure_initialized\u001b[0m\u001b[0;34m(\u001b[0m\u001b[0;34m)\u001b[0m\u001b[0;34m\u001b[0m\u001b[0;34m\u001b[0m\u001b[0m\n\u001b[0;32m---> 59\u001b[0;31m     tensors = pywrap_tfe.TFE_Py_Execute(ctx._handle, device_name, op_name,\n\u001b[0m\u001b[1;32m     60\u001b[0m                                         inputs, attrs, num_outputs)\n\u001b[1;32m     61\u001b[0m   \u001b[0;32mexcept\u001b[0m \u001b[0mcore\u001b[0m\u001b[0;34m.\u001b[0m\u001b[0m_NotOkStatusException\u001b[0m \u001b[0;32mas\u001b[0m \u001b[0me\u001b[0m\u001b[0;34m:\u001b[0m\u001b[0;34m\u001b[0m\u001b[0;34m\u001b[0m\u001b[0m\n",
      "\u001b[0;31mKeyboardInterrupt\u001b[0m: "
     ]
    }
   ],
   "source": [
    "results = []\n",
    "results.append({'feature':'BASELINE', 'bce':base_bce})\n",
    "\n",
    "for i in tqdm(range(len(COLS))):\n",
    "    save_col = X_test[:,:,i].copy()\n",
    "    for p in range(X_test.shape[0]):\n",
    "        X_test[p,-5:,i] = reverse(X_test[p,-5:,i])\n",
    "    pred = model.predict(X_test)\n",
    "    bce = BinaryCrossEntropy(pred, y_test)[0]\n",
    "    results.append({'feature':COLS[i], 'bce':bce})\n",
    "    X_test[:,:,i] = save_col"
   ]
  },
  {
   "cell_type": "code",
   "execution_count": null,
   "id": "3ac9359b",
   "metadata": {},
   "outputs": [],
   "source": [
    "df2 = pd.DataFrame(results)\n",
    "df2 = df2.sort_values('bce', ascending=False)\n",
    "df2.to_csv('./reverse_FI_d1d5_with_saved_model.csv', index=False)"
   ]
  },
  {
   "cell_type": "code",
   "execution_count": null,
   "id": "3f47d840",
   "metadata": {},
   "outputs": [],
   "source": [
    "df2"
   ]
  },
  {
   "cell_type": "code",
   "execution_count": null,
   "id": "5735c8e2",
   "metadata": {},
   "outputs": [],
   "source": []
  },
  {
   "cell_type": "markdown",
   "id": "d90debd3",
   "metadata": {},
   "source": [
    "# ALL (7727) - D-6~10\n",
    "- `X_test[p,:,i]` 부분을 `X_test[p,:5,i]`로 수정"
   ]
  },
  {
   "cell_type": "code",
   "execution_count": null,
   "id": "3fb3c3ec",
   "metadata": {},
   "outputs": [],
   "source": [
    "results = []\n",
    "results.append({'feature':'BASELINE', 'bce':base_bce})\n",
    "\n",
    "for i in tqdm(range(len(COLS))):\n",
    "    save_col = X_test[:,:,i].copy()\n",
    "    for p in range(X_test.shape[0]):\n",
    "        X_test[p,:5,i] = reverse(X_test[p,:5,i])\n",
    "    pred = model.predict(X_test)\n",
    "    bce = BinaryCrossEntropy(pred, y_test)[0]\n",
    "    results.append({'feature':COLS[i], 'bce':bce})\n",
    "    X_test[:,:,i] = save_col"
   ]
  },
  {
   "cell_type": "code",
   "execution_count": null,
   "id": "df9fbb87",
   "metadata": {},
   "outputs": [],
   "source": [
    "df3 = pd.DataFrame(results)\n",
    "df3 = df3.sort_values('bce', ascending=False)\n",
    "df3.to_csv('./reverse_FI_d6d10_with_saved_model.csv', index=False)"
   ]
  },
  {
   "cell_type": "code",
   "execution_count": null,
   "id": "81d35eb2",
   "metadata": {},
   "outputs": [],
   "source": []
  },
  {
   "cell_type": "code",
   "execution_count": null,
   "id": "469a7f30",
   "metadata": {},
   "outputs": [],
   "source": []
  },
  {
   "cell_type": "code",
   "execution_count": null,
   "id": "70a7fb32",
   "metadata": {},
   "outputs": [],
   "source": []
  }
 ],
 "metadata": {
  "kernelspec": {
   "display_name": "Python 3",
   "language": "python",
   "name": "python3"
  },
  "language_info": {
   "codemirror_mode": {
    "name": "ipython",
    "version": 3
   },
   "file_extension": ".py",
   "mimetype": "text/x-python",
   "name": "python",
   "nbconvert_exporter": "python",
   "pygments_lexer": "ipython3",
   "version": "3.8.5"
  },
  "toc": {
   "base_numbering": 1,
   "nav_menu": {},
   "number_sections": true,
   "sideBar": true,
   "skip_h1_title": false,
   "title_cell": "Table of Contents",
   "title_sidebar": "Contents",
   "toc_cell": false,
   "toc_position": {
    "height": "calc(100% - 180px)",
    "left": "10px",
    "top": "150px",
    "width": "164.985px"
   },
   "toc_section_display": true,
   "toc_window_display": true
  }
 },
 "nbformat": 4,
 "nbformat_minor": 5
}
