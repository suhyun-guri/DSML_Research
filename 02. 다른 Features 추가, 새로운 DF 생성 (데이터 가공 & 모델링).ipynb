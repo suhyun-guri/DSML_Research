{
 "cells": [
  {
   "cell_type": "markdown",
   "id": "e54158bf",
   "metadata": {},
   "source": [
    "- STARTDATE, ENDDATE 분리 후 합치기만 함\n",
    "- **STARTDATE ~ ENDDATE 사이 날짜 삽입 해야함.**"
   ]
  },
  {
   "cell_type": "code",
   "execution_count": 1,
   "id": "7731b399",
   "metadata": {},
   "outputs": [],
   "source": [
    "import pandas as pd\n",
    "import numpy as np\n",
    "\n",
    "import warnings\n",
    "warnings.filterwarnings(action='ignore')\n",
    "import tensorflow as tf"
   ]
  },
  {
   "cell_type": "markdown",
   "id": "eae19327",
   "metadata": {},
   "source": [
    "# Data Load && "
   ]
  },
  {
   "cell_type": "code",
   "execution_count": 2,
   "id": "3b6a5934",
   "metadata": {
    "scrolled": true
   },
   "outputs": [],
   "source": [
    "lab = pd.read_csv('/data/MIMIC_III/LABEVENTS.csv')\n",
    "pre = pd.read_csv('/data/MIMIC_III/PRESCRIPTIONS.csv')\n",
    "pro = pd.read_csv('/data/MIMIC_III/PROCEDUREEVENTS_MV.csv')\n",
    "폐렴환자 = pd.read_csv('/project/data/폐렴환자lab.csv')"
   ]
  },
  {
   "cell_type": "code",
   "execution_count": 3,
   "id": "efe33b69",
   "metadata": {},
   "outputs": [
    {
     "data": {
      "text/plain": [
       "690"
      ]
     },
     "execution_count": 3,
     "metadata": {},
     "output_type": "execute_result"
    }
   ],
   "source": [
    "lab['ITEMID'].nunique()\n",
    "폐렴환자['ITEMID'].nunique()"
   ]
  },
  {
   "cell_type": "code",
   "execution_count": 4,
   "id": "10d20784",
   "metadata": {},
   "outputs": [
    {
     "data": {
      "text/plain": [
       "7799"
      ]
     },
     "execution_count": 4,
     "metadata": {},
     "output_type": "execute_result"
    }
   ],
   "source": [
    "#폐렴환자 id 추출\n",
    "subid = 폐렴환자['SUBJECT_ID'].unique()\n",
    "len(subid)"
   ]
  },
  {
   "cell_type": "code",
   "execution_count": 5,
   "id": "8f85e61f",
   "metadata": {},
   "outputs": [],
   "source": [
    "import datetime as dt\n",
    "\n",
    "#datetime - date만 추출하는 함수 생성\n",
    "\n",
    "def only_date(time):\n",
    "    time = pd.to_datetime(time)\n",
    "    time = time.dt.date\n",
    "    return time"
   ]
  },
  {
   "cell_type": "code",
   "execution_count": null,
   "id": "fb6fe7c3",
   "metadata": {},
   "outputs": [],
   "source": []
  },
  {
   "cell_type": "code",
   "execution_count": 6,
   "id": "46894f66",
   "metadata": {},
   "outputs": [
    {
     "data": {
      "text/html": [
       "<div>\n",
       "<style scoped>\n",
       "    .dataframe tbody tr th:only-of-type {\n",
       "        vertical-align: middle;\n",
       "    }\n",
       "\n",
       "    .dataframe tbody tr th {\n",
       "        vertical-align: top;\n",
       "    }\n",
       "\n",
       "    .dataframe thead th {\n",
       "        text-align: right;\n",
       "    }\n",
       "</style>\n",
       "<table border=\"1\" class=\"dataframe\">\n",
       "  <thead>\n",
       "    <tr style=\"text-align: right;\">\n",
       "      <th></th>\n",
       "      <th>ROW_ID</th>\n",
       "      <th>SUBJECT_ID</th>\n",
       "      <th>HADM_ID</th>\n",
       "      <th>ITEMID</th>\n",
       "      <th>CHARTTIME</th>\n",
       "      <th>VALUE</th>\n",
       "      <th>VALUENUM</th>\n",
       "      <th>VALUEUOM</th>\n",
       "      <th>FLAG</th>\n",
       "    </tr>\n",
       "  </thead>\n",
       "  <tbody>\n",
       "    <tr>\n",
       "      <th>0</th>\n",
       "      <td>281</td>\n",
       "      <td>3</td>\n",
       "      <td>NaN</td>\n",
       "      <td>50820</td>\n",
       "      <td>2101-10-12 16:07:00</td>\n",
       "      <td>7.39</td>\n",
       "      <td>7.39</td>\n",
       "      <td>units</td>\n",
       "      <td>NaN</td>\n",
       "    </tr>\n",
       "    <tr>\n",
       "      <th>1</th>\n",
       "      <td>282</td>\n",
       "      <td>3</td>\n",
       "      <td>NaN</td>\n",
       "      <td>50800</td>\n",
       "      <td>2101-10-12 18:17:00</td>\n",
       "      <td>ART</td>\n",
       "      <td>NaN</td>\n",
       "      <td>NaN</td>\n",
       "      <td>NaN</td>\n",
       "    </tr>\n",
       "    <tr>\n",
       "      <th>2</th>\n",
       "      <td>283</td>\n",
       "      <td>3</td>\n",
       "      <td>NaN</td>\n",
       "      <td>50802</td>\n",
       "      <td>2101-10-12 18:17:00</td>\n",
       "      <td>-1</td>\n",
       "      <td>-1.00</td>\n",
       "      <td>mEq/L</td>\n",
       "      <td>NaN</td>\n",
       "    </tr>\n",
       "    <tr>\n",
       "      <th>3</th>\n",
       "      <td>284</td>\n",
       "      <td>3</td>\n",
       "      <td>NaN</td>\n",
       "      <td>50804</td>\n",
       "      <td>2101-10-12 18:17:00</td>\n",
       "      <td>22</td>\n",
       "      <td>22.00</td>\n",
       "      <td>mEq/L</td>\n",
       "      <td>NaN</td>\n",
       "    </tr>\n",
       "    <tr>\n",
       "      <th>4</th>\n",
       "      <td>285</td>\n",
       "      <td>3</td>\n",
       "      <td>NaN</td>\n",
       "      <td>50808</td>\n",
       "      <td>2101-10-12 18:17:00</td>\n",
       "      <td>0.93</td>\n",
       "      <td>0.93</td>\n",
       "      <td>mmol/L</td>\n",
       "      <td>abnormal</td>\n",
       "    </tr>\n",
       "    <tr>\n",
       "      <th>...</th>\n",
       "      <td>...</td>\n",
       "      <td>...</td>\n",
       "      <td>...</td>\n",
       "      <td>...</td>\n",
       "      <td>...</td>\n",
       "      <td>...</td>\n",
       "      <td>...</td>\n",
       "      <td>...</td>\n",
       "      <td>...</td>\n",
       "    </tr>\n",
       "    <tr>\n",
       "      <th>27854050</th>\n",
       "      <td>27428435</td>\n",
       "      <td>96443</td>\n",
       "      <td>103219.0</td>\n",
       "      <td>50882</td>\n",
       "      <td>2109-12-30 01:40:00</td>\n",
       "      <td>26</td>\n",
       "      <td>26.00</td>\n",
       "      <td>mEq/L</td>\n",
       "      <td>NaN</td>\n",
       "    </tr>\n",
       "    <tr>\n",
       "      <th>27854051</th>\n",
       "      <td>27428436</td>\n",
       "      <td>96443</td>\n",
       "      <td>103219.0</td>\n",
       "      <td>50885</td>\n",
       "      <td>2109-12-30 01:40:00</td>\n",
       "      <td>2.1</td>\n",
       "      <td>2.10</td>\n",
       "      <td>mg/dL</td>\n",
       "      <td>abnormal</td>\n",
       "    </tr>\n",
       "    <tr>\n",
       "      <th>27854052</th>\n",
       "      <td>27428437</td>\n",
       "      <td>96443</td>\n",
       "      <td>103219.0</td>\n",
       "      <td>50902</td>\n",
       "      <td>2109-12-30 01:40:00</td>\n",
       "      <td>97</td>\n",
       "      <td>97.00</td>\n",
       "      <td>mEq/L</td>\n",
       "      <td>NaN</td>\n",
       "    </tr>\n",
       "    <tr>\n",
       "      <th>27854053</th>\n",
       "      <td>27428438</td>\n",
       "      <td>96443</td>\n",
       "      <td>103219.0</td>\n",
       "      <td>50911</td>\n",
       "      <td>2109-12-30 01:40:00</td>\n",
       "      <td>2</td>\n",
       "      <td>2.00</td>\n",
       "      <td>ng/mL</td>\n",
       "      <td>NaN</td>\n",
       "    </tr>\n",
       "    <tr>\n",
       "      <th>27854054</th>\n",
       "      <td>27428439</td>\n",
       "      <td>96443</td>\n",
       "      <td>103219.0</td>\n",
       "      <td>50912</td>\n",
       "      <td>2109-12-30 01:40:00</td>\n",
       "      <td>1.6</td>\n",
       "      <td>1.60</td>\n",
       "      <td>mg/dL</td>\n",
       "      <td>abnormal</td>\n",
       "    </tr>\n",
       "  </tbody>\n",
       "</table>\n",
       "<p>27854055 rows × 9 columns</p>\n",
       "</div>"
      ],
      "text/plain": [
       "            ROW_ID  SUBJECT_ID   HADM_ID  ITEMID            CHARTTIME VALUE  \\\n",
       "0              281           3       NaN   50820  2101-10-12 16:07:00  7.39   \n",
       "1              282           3       NaN   50800  2101-10-12 18:17:00   ART   \n",
       "2              283           3       NaN   50802  2101-10-12 18:17:00    -1   \n",
       "3              284           3       NaN   50804  2101-10-12 18:17:00    22   \n",
       "4              285           3       NaN   50808  2101-10-12 18:17:00  0.93   \n",
       "...            ...         ...       ...     ...                  ...   ...   \n",
       "27854050  27428435       96443  103219.0   50882  2109-12-30 01:40:00    26   \n",
       "27854051  27428436       96443  103219.0   50885  2109-12-30 01:40:00   2.1   \n",
       "27854052  27428437       96443  103219.0   50902  2109-12-30 01:40:00    97   \n",
       "27854053  27428438       96443  103219.0   50911  2109-12-30 01:40:00     2   \n",
       "27854054  27428439       96443  103219.0   50912  2109-12-30 01:40:00   1.6   \n",
       "\n",
       "          VALUENUM VALUEUOM      FLAG  \n",
       "0             7.39    units       NaN  \n",
       "1              NaN      NaN       NaN  \n",
       "2            -1.00    mEq/L       NaN  \n",
       "3            22.00    mEq/L       NaN  \n",
       "4             0.93   mmol/L  abnormal  \n",
       "...            ...      ...       ...  \n",
       "27854050     26.00    mEq/L       NaN  \n",
       "27854051      2.10    mg/dL  abnormal  \n",
       "27854052     97.00    mEq/L       NaN  \n",
       "27854053      2.00    ng/mL       NaN  \n",
       "27854054      1.60    mg/dL  abnormal  \n",
       "\n",
       "[27854055 rows x 9 columns]"
      ]
     },
     "execution_count": 6,
     "metadata": {},
     "output_type": "execute_result"
    }
   ],
   "source": [
    "lab"
   ]
  },
  {
   "cell_type": "code",
   "execution_count": 10,
   "id": "e5013616",
   "metadata": {},
   "outputs": [
    {
     "data": {
      "text/plain": [
       "DRUG\n",
       "Potassium Chloride             192993\n",
       "Insulin                        143465\n",
       "D5W                            142241\n",
       "Furosemide                     133122\n",
       "0.9% Sodium Chloride           130147\n",
       "NS                             129731\n",
       "Magnesium Sulfate               90427\n",
       "Iso-Osmotic Dextrose            87005\n",
       "Sodium Chloride 0.9%  Flush     83392\n",
       "Acetaminophen                   78768\n",
       "Name: SUBJECT_ID, dtype: int64"
      ]
     },
     "execution_count": 10,
     "metadata": {},
     "output_type": "execute_result"
    }
   ],
   "source": [
    "pre.groupby(['DRUG'])['SUBJECT_ID'].count().sort_values(ascending=False)[:10]"
   ]
  },
  {
   "cell_type": "code",
   "execution_count": 11,
   "id": "a934adeb",
   "metadata": {
    "scrolled": true
   },
   "outputs": [
    {
     "data": {
      "text/html": [
       "<div>\n",
       "<style scoped>\n",
       "    .dataframe tbody tr th:only-of-type {\n",
       "        vertical-align: middle;\n",
       "    }\n",
       "\n",
       "    .dataframe tbody tr th {\n",
       "        vertical-align: top;\n",
       "    }\n",
       "\n",
       "    .dataframe thead th {\n",
       "        text-align: right;\n",
       "    }\n",
       "</style>\n",
       "<table border=\"1\" class=\"dataframe\">\n",
       "  <thead>\n",
       "    <tr style=\"text-align: right;\">\n",
       "      <th></th>\n",
       "      <th>ROW_ID</th>\n",
       "      <th>SUBJECT_ID</th>\n",
       "      <th>HADM_ID</th>\n",
       "      <th>ICUSTAY_ID</th>\n",
       "      <th>STARTTIME</th>\n",
       "      <th>ENDTIME</th>\n",
       "      <th>ITEMID</th>\n",
       "      <th>VALUE</th>\n",
       "      <th>VALUEUOM</th>\n",
       "      <th>LOCATION</th>\n",
       "      <th>...</th>\n",
       "      <th>ORDERCATEGORYNAME</th>\n",
       "      <th>SECONDARYORDERCATEGORYNAME</th>\n",
       "      <th>ORDERCATEGORYDESCRIPTION</th>\n",
       "      <th>ISOPENBAG</th>\n",
       "      <th>CONTINUEINNEXTDEPT</th>\n",
       "      <th>CANCELREASON</th>\n",
       "      <th>STATUSDESCRIPTION</th>\n",
       "      <th>COMMENTS_EDITEDBY</th>\n",
       "      <th>COMMENTS_CANCELEDBY</th>\n",
       "      <th>COMMENTS_DATE</th>\n",
       "    </tr>\n",
       "  </thead>\n",
       "  <tbody>\n",
       "    <tr>\n",
       "      <th>0</th>\n",
       "      <td>379</td>\n",
       "      <td>29070</td>\n",
       "      <td>115071</td>\n",
       "      <td>232563.0</td>\n",
       "      <td>2145-03-12 23:04:00</td>\n",
       "      <td>2145-03-12 23:05:00</td>\n",
       "      <td>225401</td>\n",
       "      <td>1.0</td>\n",
       "      <td>None</td>\n",
       "      <td>NaN</td>\n",
       "      <td>...</td>\n",
       "      <td>Procedures</td>\n",
       "      <td>NaN</td>\n",
       "      <td>Electrolytes</td>\n",
       "      <td>0</td>\n",
       "      <td>0</td>\n",
       "      <td>0</td>\n",
       "      <td>FinishedRunning</td>\n",
       "      <td>NaN</td>\n",
       "      <td>NaN</td>\n",
       "      <td>NaN</td>\n",
       "    </tr>\n",
       "    <tr>\n",
       "      <th>1</th>\n",
       "      <td>380</td>\n",
       "      <td>29070</td>\n",
       "      <td>115071</td>\n",
       "      <td>232563.0</td>\n",
       "      <td>2145-03-12 23:04:00</td>\n",
       "      <td>2145-03-12 23:05:00</td>\n",
       "      <td>225454</td>\n",
       "      <td>1.0</td>\n",
       "      <td>None</td>\n",
       "      <td>NaN</td>\n",
       "      <td>...</td>\n",
       "      <td>Procedures</td>\n",
       "      <td>NaN</td>\n",
       "      <td>Electrolytes</td>\n",
       "      <td>0</td>\n",
       "      <td>0</td>\n",
       "      <td>0</td>\n",
       "      <td>FinishedRunning</td>\n",
       "      <td>NaN</td>\n",
       "      <td>NaN</td>\n",
       "      <td>NaN</td>\n",
       "    </tr>\n",
       "    <tr>\n",
       "      <th>2</th>\n",
       "      <td>381</td>\n",
       "      <td>29070</td>\n",
       "      <td>115071</td>\n",
       "      <td>232563.0</td>\n",
       "      <td>2145-03-12 23:05:00</td>\n",
       "      <td>2145-03-18 20:01:00</td>\n",
       "      <td>225792</td>\n",
       "      <td>8456.0</td>\n",
       "      <td>hour</td>\n",
       "      <td>NaN</td>\n",
       "      <td>...</td>\n",
       "      <td>Ventilation</td>\n",
       "      <td>NaN</td>\n",
       "      <td>Task</td>\n",
       "      <td>1</td>\n",
       "      <td>0</td>\n",
       "      <td>0</td>\n",
       "      <td>FinishedRunning</td>\n",
       "      <td>NaN</td>\n",
       "      <td>NaN</td>\n",
       "      <td>NaN</td>\n",
       "    </tr>\n",
       "    <tr>\n",
       "      <th>3</th>\n",
       "      <td>382</td>\n",
       "      <td>29070</td>\n",
       "      <td>115071</td>\n",
       "      <td>232563.0</td>\n",
       "      <td>2145-03-12 23:36:00</td>\n",
       "      <td>2145-03-12 23:37:00</td>\n",
       "      <td>225402</td>\n",
       "      <td>1.0</td>\n",
       "      <td>None</td>\n",
       "      <td>NaN</td>\n",
       "      <td>...</td>\n",
       "      <td>Procedures</td>\n",
       "      <td>NaN</td>\n",
       "      <td>Electrolytes</td>\n",
       "      <td>0</td>\n",
       "      <td>0</td>\n",
       "      <td>0</td>\n",
       "      <td>FinishedRunning</td>\n",
       "      <td>NaN</td>\n",
       "      <td>NaN</td>\n",
       "      <td>NaN</td>\n",
       "    </tr>\n",
       "    <tr>\n",
       "      <th>4</th>\n",
       "      <td>383</td>\n",
       "      <td>29070</td>\n",
       "      <td>115071</td>\n",
       "      <td>232563.0</td>\n",
       "      <td>2145-03-13 01:27:00</td>\n",
       "      <td>2145-03-16 16:00:00</td>\n",
       "      <td>224560</td>\n",
       "      <td>5193.0</td>\n",
       "      <td>min</td>\n",
       "      <td>Right IJ</td>\n",
       "      <td>...</td>\n",
       "      <td>Invasive Lines</td>\n",
       "      <td>NaN</td>\n",
       "      <td>Task</td>\n",
       "      <td>1</td>\n",
       "      <td>0</td>\n",
       "      <td>0</td>\n",
       "      <td>FinishedRunning</td>\n",
       "      <td>NaN</td>\n",
       "      <td>NaN</td>\n",
       "      <td>NaN</td>\n",
       "    </tr>\n",
       "    <tr>\n",
       "      <th>...</th>\n",
       "      <td>...</td>\n",
       "      <td>...</td>\n",
       "      <td>...</td>\n",
       "      <td>...</td>\n",
       "      <td>...</td>\n",
       "      <td>...</td>\n",
       "      <td>...</td>\n",
       "      <td>...</td>\n",
       "      <td>...</td>\n",
       "      <td>...</td>\n",
       "      <td>...</td>\n",
       "      <td>...</td>\n",
       "      <td>...</td>\n",
       "      <td>...</td>\n",
       "      <td>...</td>\n",
       "      <td>...</td>\n",
       "      <td>...</td>\n",
       "      <td>...</td>\n",
       "      <td>...</td>\n",
       "      <td>...</td>\n",
       "      <td>...</td>\n",
       "    </tr>\n",
       "    <tr>\n",
       "      <th>258061</th>\n",
       "      <td>257337</td>\n",
       "      <td>41958</td>\n",
       "      <td>182711</td>\n",
       "      <td>246007.0</td>\n",
       "      <td>2155-08-09 01:51:00</td>\n",
       "      <td>2155-08-10 11:20:00</td>\n",
       "      <td>225204</td>\n",
       "      <td>2009.0</td>\n",
       "      <td>min</td>\n",
       "      <td>Right Antecube</td>\n",
       "      <td>...</td>\n",
       "      <td>Invasive Lines</td>\n",
       "      <td>NaN</td>\n",
       "      <td>Task</td>\n",
       "      <td>1</td>\n",
       "      <td>0</td>\n",
       "      <td>0</td>\n",
       "      <td>FinishedRunning</td>\n",
       "      <td>NaN</td>\n",
       "      <td>NaN</td>\n",
       "      <td>NaN</td>\n",
       "    </tr>\n",
       "    <tr>\n",
       "      <th>258062</th>\n",
       "      <td>257338</td>\n",
       "      <td>41958</td>\n",
       "      <td>182711</td>\n",
       "      <td>246007.0</td>\n",
       "      <td>2155-08-09 01:57:00</td>\n",
       "      <td>2155-08-09 01:58:00</td>\n",
       "      <td>225402</td>\n",
       "      <td>1.0</td>\n",
       "      <td>None</td>\n",
       "      <td>NaN</td>\n",
       "      <td>...</td>\n",
       "      <td>Procedures</td>\n",
       "      <td>NaN</td>\n",
       "      <td>Electrolytes</td>\n",
       "      <td>0</td>\n",
       "      <td>0</td>\n",
       "      <td>0</td>\n",
       "      <td>FinishedRunning</td>\n",
       "      <td>NaN</td>\n",
       "      <td>NaN</td>\n",
       "      <td>NaN</td>\n",
       "    </tr>\n",
       "    <tr>\n",
       "      <th>258063</th>\n",
       "      <td>257339</td>\n",
       "      <td>41958</td>\n",
       "      <td>182711</td>\n",
       "      <td>246007.0</td>\n",
       "      <td>2155-08-09 01:57:00</td>\n",
       "      <td>2155-08-09 01:58:00</td>\n",
       "      <td>225459</td>\n",
       "      <td>1.0</td>\n",
       "      <td>None</td>\n",
       "      <td>NaN</td>\n",
       "      <td>...</td>\n",
       "      <td>Imaging</td>\n",
       "      <td>NaN</td>\n",
       "      <td>Electrolytes</td>\n",
       "      <td>0</td>\n",
       "      <td>0</td>\n",
       "      <td>0</td>\n",
       "      <td>FinishedRunning</td>\n",
       "      <td>NaN</td>\n",
       "      <td>NaN</td>\n",
       "      <td>NaN</td>\n",
       "    </tr>\n",
       "    <tr>\n",
       "      <th>258064</th>\n",
       "      <td>257340</td>\n",
       "      <td>41958</td>\n",
       "      <td>182711</td>\n",
       "      <td>246007.0</td>\n",
       "      <td>2155-08-09 01:57:00</td>\n",
       "      <td>2155-08-09 01:58:00</td>\n",
       "      <td>225966</td>\n",
       "      <td>1.0</td>\n",
       "      <td>None</td>\n",
       "      <td>NaN</td>\n",
       "      <td>...</td>\n",
       "      <td>Procedures</td>\n",
       "      <td>NaN</td>\n",
       "      <td>Electrolytes</td>\n",
       "      <td>0</td>\n",
       "      <td>0</td>\n",
       "      <td>1</td>\n",
       "      <td>Rewritten</td>\n",
       "      <td>NaN</td>\n",
       "      <td>RN</td>\n",
       "      <td>2155-08-09 02:20:00</td>\n",
       "    </tr>\n",
       "    <tr>\n",
       "      <th>258065</th>\n",
       "      <td>257341</td>\n",
       "      <td>41958</td>\n",
       "      <td>182711</td>\n",
       "      <td>246007.0</td>\n",
       "      <td>2155-08-09 02:20:00</td>\n",
       "      <td>2155-08-09 02:21:00</td>\n",
       "      <td>225401</td>\n",
       "      <td>1.0</td>\n",
       "      <td>None</td>\n",
       "      <td>NaN</td>\n",
       "      <td>...</td>\n",
       "      <td>Procedures</td>\n",
       "      <td>NaN</td>\n",
       "      <td>Electrolytes</td>\n",
       "      <td>0</td>\n",
       "      <td>0</td>\n",
       "      <td>0</td>\n",
       "      <td>FinishedRunning</td>\n",
       "      <td>NaN</td>\n",
       "      <td>NaN</td>\n",
       "      <td>NaN</td>\n",
       "    </tr>\n",
       "  </tbody>\n",
       "</table>\n",
       "<p>258066 rows × 25 columns</p>\n",
       "</div>"
      ],
      "text/plain": [
       "        ROW_ID  SUBJECT_ID  HADM_ID  ICUSTAY_ID            STARTTIME  \\\n",
       "0          379       29070   115071    232563.0  2145-03-12 23:04:00   \n",
       "1          380       29070   115071    232563.0  2145-03-12 23:04:00   \n",
       "2          381       29070   115071    232563.0  2145-03-12 23:05:00   \n",
       "3          382       29070   115071    232563.0  2145-03-12 23:36:00   \n",
       "4          383       29070   115071    232563.0  2145-03-13 01:27:00   \n",
       "...        ...         ...      ...         ...                  ...   \n",
       "258061  257337       41958   182711    246007.0  2155-08-09 01:51:00   \n",
       "258062  257338       41958   182711    246007.0  2155-08-09 01:57:00   \n",
       "258063  257339       41958   182711    246007.0  2155-08-09 01:57:00   \n",
       "258064  257340       41958   182711    246007.0  2155-08-09 01:57:00   \n",
       "258065  257341       41958   182711    246007.0  2155-08-09 02:20:00   \n",
       "\n",
       "                    ENDTIME  ITEMID   VALUE VALUEUOM         LOCATION  ...  \\\n",
       "0       2145-03-12 23:05:00  225401     1.0     None              NaN  ...   \n",
       "1       2145-03-12 23:05:00  225454     1.0     None              NaN  ...   \n",
       "2       2145-03-18 20:01:00  225792  8456.0     hour              NaN  ...   \n",
       "3       2145-03-12 23:37:00  225402     1.0     None              NaN  ...   \n",
       "4       2145-03-16 16:00:00  224560  5193.0      min         Right IJ  ...   \n",
       "...                     ...     ...     ...      ...              ...  ...   \n",
       "258061  2155-08-10 11:20:00  225204  2009.0      min  Right Antecube   ...   \n",
       "258062  2155-08-09 01:58:00  225402     1.0     None              NaN  ...   \n",
       "258063  2155-08-09 01:58:00  225459     1.0     None              NaN  ...   \n",
       "258064  2155-08-09 01:58:00  225966     1.0     None              NaN  ...   \n",
       "258065  2155-08-09 02:21:00  225401     1.0     None              NaN  ...   \n",
       "\n",
       "       ORDERCATEGORYNAME SECONDARYORDERCATEGORYNAME  ORDERCATEGORYDESCRIPTION  \\\n",
       "0             Procedures                        NaN              Electrolytes   \n",
       "1             Procedures                        NaN              Electrolytes   \n",
       "2            Ventilation                        NaN                      Task   \n",
       "3             Procedures                        NaN              Electrolytes   \n",
       "4         Invasive Lines                        NaN                      Task   \n",
       "...                  ...                        ...                       ...   \n",
       "258061    Invasive Lines                        NaN                      Task   \n",
       "258062        Procedures                        NaN              Electrolytes   \n",
       "258063           Imaging                        NaN              Electrolytes   \n",
       "258064        Procedures                        NaN              Electrolytes   \n",
       "258065        Procedures                        NaN              Electrolytes   \n",
       "\n",
       "        ISOPENBAG  CONTINUEINNEXTDEPT CANCELREASON  STATUSDESCRIPTION  \\\n",
       "0               0                   0            0    FinishedRunning   \n",
       "1               0                   0            0    FinishedRunning   \n",
       "2               1                   0            0    FinishedRunning   \n",
       "3               0                   0            0    FinishedRunning   \n",
       "4               1                   0            0    FinishedRunning   \n",
       "...           ...                 ...          ...                ...   \n",
       "258061          1                   0            0    FinishedRunning   \n",
       "258062          0                   0            0    FinishedRunning   \n",
       "258063          0                   0            0    FinishedRunning   \n",
       "258064          0                   0            1          Rewritten   \n",
       "258065          0                   0            0    FinishedRunning   \n",
       "\n",
       "       COMMENTS_EDITEDBY  COMMENTS_CANCELEDBY        COMMENTS_DATE  \n",
       "0                    NaN                  NaN                  NaN  \n",
       "1                    NaN                  NaN                  NaN  \n",
       "2                    NaN                  NaN                  NaN  \n",
       "3                    NaN                  NaN                  NaN  \n",
       "4                    NaN                  NaN                  NaN  \n",
       "...                  ...                  ...                  ...  \n",
       "258061               NaN                  NaN                  NaN  \n",
       "258062               NaN                  NaN                  NaN  \n",
       "258063               NaN                  NaN                  NaN  \n",
       "258064               NaN                   RN  2155-08-09 02:20:00  \n",
       "258065               NaN                  NaN                  NaN  \n",
       "\n",
       "[258066 rows x 25 columns]"
      ]
     },
     "execution_count": 11,
     "metadata": {},
     "output_type": "execute_result"
    }
   ],
   "source": [
    "pro"
   ]
  },
  {
   "cell_type": "code",
   "execution_count": null,
   "id": "a8960603",
   "metadata": {},
   "outputs": [],
   "source": []
  },
  {
   "cell_type": "code",
   "execution_count": 94,
   "id": "881da966",
   "metadata": {},
   "outputs": [
    {
     "data": {
      "text/plain": [
       "[SHORT_TITLE\n",
       " Op skl base fx-deep coma    5\n",
       " Opn skul fx NEC-brf coma    5\n",
       " Cl skl w oth fx-mod coma    5\n",
       " Cl skl w oth fx-coma NOS    5\n",
       " Cl skl w oth fx-brf coma    5\n",
       " Cl skl w oth fx w/o coma    5\n",
       " Opn skul/oth fx-coma NOS    5\n",
       " Opn skul/oth fx-brf coma    5\n",
       " Opn skul/oth fx w/o coma    5\n",
       " Cl skl vlt fx-proln coma    5\n",
       " Name: ICD9_CODE, dtype: int64]"
      ]
     },
     "execution_count": 94,
     "metadata": {},
     "output_type": "execute_result"
    }
   ],
   "source": [
    "d_diag = pd.read_csv('/project/data/D_ICD_DIAGNOSES.csv') #선행\n",
    "[d_diag.groupby(['SHORT_TITLE'])['ICD9_CODE'].count().sort_values(ascending = False)[:10]]"
   ]
  },
  {
   "cell_type": "markdown",
   "id": "91e21c53",
   "metadata": {},
   "source": [
    "# LAB2"
   ]
  },
  {
   "cell_type": "code",
   "execution_count": 13,
   "id": "62116016",
   "metadata": {},
   "outputs": [
    {
     "data": {
      "text/plain": [
       "7799"
      ]
     },
     "execution_count": 13,
     "metadata": {},
     "output_type": "execute_result"
    }
   ],
   "source": [
    "len(subid)"
   ]
  },
  {
   "cell_type": "code",
   "execution_count": 14,
   "id": "b6a16b2f",
   "metadata": {},
   "outputs": [],
   "source": [
    "lab2 = lab[(lab['SUBJECT_ID'].isin(subid))&(lab['FLAG']=='abnormal')].reset_index(drop=True)\n",
    "lab2 = lab2[['SUBJECT_ID','ITEMID','CHARTTIME']]\n",
    "lab2['Type'] = 'LAB'"
   ]
  },
  {
   "cell_type": "code",
   "execution_count": 15,
   "id": "d4fa15f5",
   "metadata": {},
   "outputs": [],
   "source": [
    "lab2['CHARTTIME'] = only_date(lab2['CHARTTIME'])\n",
    "lab2 = lab2.rename(columns={'CHARTTIME':'DATE', 'ITEMID':'ITEM'})\n",
    "lab2 = lab2[['SUBJECT_ID','DATE','ITEM','Type']]"
   ]
  },
  {
   "cell_type": "code",
   "execution_count": 16,
   "id": "0356d0f2",
   "metadata": {},
   "outputs": [
    {
     "data": {
      "text/html": [
       "<div>\n",
       "<style scoped>\n",
       "    .dataframe tbody tr th:only-of-type {\n",
       "        vertical-align: middle;\n",
       "    }\n",
       "\n",
       "    .dataframe tbody tr th {\n",
       "        vertical-align: top;\n",
       "    }\n",
       "\n",
       "    .dataframe thead th {\n",
       "        text-align: right;\n",
       "    }\n",
       "</style>\n",
       "<table border=\"1\" class=\"dataframe\">\n",
       "  <thead>\n",
       "    <tr style=\"text-align: right;\">\n",
       "      <th></th>\n",
       "      <th>SUBJECT_ID</th>\n",
       "      <th>DATE</th>\n",
       "      <th>ITEM</th>\n",
       "      <th>Type</th>\n",
       "    </tr>\n",
       "  </thead>\n",
       "  <tbody>\n",
       "    <tr>\n",
       "      <th>0</th>\n",
       "      <td>9</td>\n",
       "      <td>2149-11-14</td>\n",
       "      <td>50821</td>\n",
       "      <td>LAB</td>\n",
       "    </tr>\n",
       "    <tr>\n",
       "      <th>1</th>\n",
       "      <td>9</td>\n",
       "      <td>2149-11-14</td>\n",
       "      <td>50910</td>\n",
       "      <td>LAB</td>\n",
       "    </tr>\n",
       "    <tr>\n",
       "      <th>2</th>\n",
       "      <td>9</td>\n",
       "      <td>2149-11-14</td>\n",
       "      <td>50911</td>\n",
       "      <td>LAB</td>\n",
       "    </tr>\n",
       "    <tr>\n",
       "      <th>3</th>\n",
       "      <td>9</td>\n",
       "      <td>2149-11-14</td>\n",
       "      <td>50964</td>\n",
       "      <td>LAB</td>\n",
       "    </tr>\n",
       "    <tr>\n",
       "      <th>4</th>\n",
       "      <td>9</td>\n",
       "      <td>2149-11-14</td>\n",
       "      <td>50821</td>\n",
       "      <td>LAB</td>\n",
       "    </tr>\n",
       "    <tr>\n",
       "      <th>...</th>\n",
       "      <td>...</td>\n",
       "      <td>...</td>\n",
       "      <td>...</td>\n",
       "      <td>...</td>\n",
       "    </tr>\n",
       "    <tr>\n",
       "      <th>3406604</th>\n",
       "      <td>96442</td>\n",
       "      <td>2115-06-29</td>\n",
       "      <td>51221</td>\n",
       "      <td>LAB</td>\n",
       "    </tr>\n",
       "    <tr>\n",
       "      <th>3406605</th>\n",
       "      <td>96442</td>\n",
       "      <td>2115-06-29</td>\n",
       "      <td>51222</td>\n",
       "      <td>LAB</td>\n",
       "    </tr>\n",
       "    <tr>\n",
       "      <th>3406606</th>\n",
       "      <td>96442</td>\n",
       "      <td>2115-06-29</td>\n",
       "      <td>51244</td>\n",
       "      <td>LAB</td>\n",
       "    </tr>\n",
       "    <tr>\n",
       "      <th>3406607</th>\n",
       "      <td>96442</td>\n",
       "      <td>2115-06-29</td>\n",
       "      <td>51254</td>\n",
       "      <td>LAB</td>\n",
       "    </tr>\n",
       "    <tr>\n",
       "      <th>3406608</th>\n",
       "      <td>96442</td>\n",
       "      <td>2115-06-29</td>\n",
       "      <td>51256</td>\n",
       "      <td>LAB</td>\n",
       "    </tr>\n",
       "  </tbody>\n",
       "</table>\n",
       "<p>3406609 rows × 4 columns</p>\n",
       "</div>"
      ],
      "text/plain": [
       "         SUBJECT_ID        DATE   ITEM Type\n",
       "0                 9  2149-11-14  50821  LAB\n",
       "1                 9  2149-11-14  50910  LAB\n",
       "2                 9  2149-11-14  50911  LAB\n",
       "3                 9  2149-11-14  50964  LAB\n",
       "4                 9  2149-11-14  50821  LAB\n",
       "...             ...         ...    ...  ...\n",
       "3406604       96442  2115-06-29  51221  LAB\n",
       "3406605       96442  2115-06-29  51222  LAB\n",
       "3406606       96442  2115-06-29  51244  LAB\n",
       "3406607       96442  2115-06-29  51254  LAB\n",
       "3406608       96442  2115-06-29  51256  LAB\n",
       "\n",
       "[3406609 rows x 4 columns]"
      ]
     },
     "execution_count": 16,
     "metadata": {},
     "output_type": "execute_result"
    }
   ],
   "source": [
    "lab2"
   ]
  },
  {
   "cell_type": "markdown",
   "id": "9e25d3f6",
   "metadata": {},
   "source": [
    "# PRE2"
   ]
  },
  {
   "cell_type": "code",
   "execution_count": 18,
   "id": "8e4feb16",
   "metadata": {},
   "outputs": [
    {
     "data": {
      "text/plain": [
       "(1329162, 4)"
      ]
     },
     "execution_count": 18,
     "metadata": {},
     "output_type": "execute_result"
    }
   ],
   "source": [
    "pre2 = pre[pre['SUBJECT_ID'].isin(subid)].reset_index(drop=True)\n",
    "pre2 = pre2[['SUBJECT_ID','STARTDATE','ENDDATE','NDC']]\n",
    "\n",
    "#time drop, yyyy-mm-dd로 변경\n",
    "pre2['STARTDATE'], pre2['ENDDATE'] = only_date(pre2['STARTDATE']), only_date(pre2['ENDDATE'])\n",
    "\n",
    "pre2.shape"
   ]
  },
  {
   "cell_type": "code",
   "execution_count": 19,
   "id": "21111b7c",
   "metadata": {},
   "outputs": [],
   "source": [
    "#enddate가 null인 값은 startdate 삽입\n",
    "end_null = pre2[(pre2['ENDDATE'].isnull())&(pre2['STARTDATE'].notnull())]\n",
    "end_null['ENDDATE'] = end_null['STARTDATE']\n",
    "\n",
    "start_null = pre2[(pre2['STARTDATE'].isnull())&(pre2['ENDDATE'].notnull())]\n",
    "start_null['STARTDATE'] = start_null['ENDDATE']\n",
    "\n",
    "pre2.loc[end_null.index] = end_null\n",
    "pre2.loc[start_null.index] = start_null"
   ]
  },
  {
   "cell_type": "code",
   "execution_count": 20,
   "id": "d392680a",
   "metadata": {},
   "outputs": [],
   "source": [
    "#drop null\n",
    "# pre2 = pre2.drop(pre2[pre2['STARTDATE'].isnull()].index).sort_values(['SUBJECT_ID','STARTDATE']).reset_index(drop=True)\n",
    "pre2 = pre2.dropna().sort_values(['SUBJECT_ID','STARTDATE']).reset_index(drop=True)"
   ]
  },
  {
   "cell_type": "code",
   "execution_count": 22,
   "id": "e95f893d",
   "metadata": {},
   "outputs": [
    {
     "name": "stdout",
     "output_type": "stream",
     "text": [
      "(1327249, 4)\n"
     ]
    },
    {
     "data": {
      "text/plain": [
       "SUBJECT_ID    0\n",
       "STARTDATE     0\n",
       "ENDDATE       0\n",
       "NDC           0\n",
       "dtype: int64"
      ]
     },
     "execution_count": 22,
     "metadata": {},
     "output_type": "execute_result"
    }
   ],
   "source": [
    "print(pre2.shape)\n",
    "pre2.isnull().sum()"
   ]
  },
  {
   "cell_type": "code",
   "execution_count": 23,
   "id": "17ff7f53",
   "metadata": {},
   "outputs": [],
   "source": [
    "from datetime import datetime, timedelta\n",
    "\n",
    "def date_range(start, end):\n",
    "    dates = [(start + timedelta(days=i)).strftime(\"%Y-%m-%d\") for i in range((end-start).days+1)]\n",
    "    return dates"
   ]
  },
  {
   "cell_type": "code",
   "execution_count": 28,
   "id": "7315ec75",
   "metadata": {},
   "outputs": [
    {
     "data": {
      "text/plain": [
       "(datetime.date(2149, 11, 9), datetime.date(2149, 11, 11))"
      ]
     },
     "execution_count": 28,
     "metadata": {},
     "output_type": "execute_result"
    }
   ],
   "source": [
    "pre2['STARTDATE'][10], pre2['ENDDATE'][10]"
   ]
  },
  {
   "cell_type": "code",
   "execution_count": 29,
   "id": "456a124d",
   "metadata": {
    "scrolled": true
   },
   "outputs": [
    {
     "data": {
      "text/plain": [
       "['2149-11-09', '2149-11-10', '2149-11-11']"
      ]
     },
     "execution_count": 29,
     "metadata": {},
     "output_type": "execute_result"
    }
   ],
   "source": [
    "date_range(pre2['STARTDATE'][10], pre2['ENDDATE'][10])"
   ]
  },
  {
   "cell_type": "code",
   "execution_count": 42,
   "id": "05da2e34",
   "metadata": {},
   "outputs": [],
   "source": [
    "# pre2.to_csv('./pre2.csv', index=False)"
   ]
  },
  {
   "cell_type": "code",
   "execution_count": null,
   "id": "f5a793a0",
   "metadata": {},
   "outputs": [],
   "source": []
  },
  {
   "cell_type": "code",
   "execution_count": 43,
   "id": "77db71c1",
   "metadata": {},
   "outputs": [],
   "source": [
    "# pre_dict={}\n",
    "# lst_time = []\n",
    "\n",
    "# with open('./pre2.csv', 'r') as f:\n",
    "#     line=f.readline()\n",
    "#     for line in f:\n",
    "#         sub, start, end, ndc = line[0], line[1], line[2], line[3]\n",
    "#         d = date_range(pre2['STARTDATE'][i], pre2['ENDDATE'][i])\n",
    "#         pre2_dic[i] = d"
   ]
  },
  {
   "cell_type": "code",
   "execution_count": null,
   "id": "e870b5d4",
   "metadata": {},
   "outputs": [],
   "source": []
  },
  {
   "cell_type": "code",
   "execution_count": 44,
   "id": "fe8cfaee",
   "metadata": {
    "scrolled": true
   },
   "outputs": [],
   "source": [
    "# index에 맞춰서 itemid 넣어주려고 dic 생성, key: index, value: 기간\n",
    "pre2_dic = {}\n",
    "for i in range(len(pre2)):\n",
    "    d = date_range(pre2['STARTDATE'][i], pre2['ENDDATE'][i])\n",
    "    pre2_dic[i] = d\n",
    "    \n",
    "lst_time = []\n",
    "for i in range(len(pre2)):\n",
    "    lst_time.extend(pre2_dic[i][:])\n",
    "    \n",
    "# pre2 NDC열에 들어갈 lst\n",
    "lst_itemid = []\n",
    "for i in range(len(pre2)):\n",
    "    for j in pre2_dic[i]:\n",
    "        lst_itemid.append(pre2['NDC'][i])\n",
    "        \n",
    "# pre2 subid열에 들어갈 lst\n",
    "lst_subid = []\n",
    "for i in range(len(pre2)):\n",
    "    for j in pre2_dic[i]:\n",
    "        lst_subid.append(pre2['SUBJECT_ID'][i])\n",
    "\n",
    "pre2sub = pd.DataFrame(lst_subid)\n",
    "pre2time = pd.DataFrame(lst_time)\n",
    "pre2item = pd.DataFrame(lst_itemid)"
   ]
  },
  {
   "cell_type": "code",
   "execution_count": 45,
   "id": "6ff3d01e",
   "metadata": {},
   "outputs": [
    {
     "data": {
      "text/html": [
       "<div>\n",
       "<style scoped>\n",
       "    .dataframe tbody tr th:only-of-type {\n",
       "        vertical-align: middle;\n",
       "    }\n",
       "\n",
       "    .dataframe tbody tr th {\n",
       "        vertical-align: top;\n",
       "    }\n",
       "\n",
       "    .dataframe thead th {\n",
       "        text-align: right;\n",
       "    }\n",
       "</style>\n",
       "<table border=\"1\" class=\"dataframe\">\n",
       "  <thead>\n",
       "    <tr style=\"text-align: right;\">\n",
       "      <th></th>\n",
       "      <th>SUBJECT_ID</th>\n",
       "      <th>DATE</th>\n",
       "      <th>ITEM</th>\n",
       "      <th>Type</th>\n",
       "    </tr>\n",
       "  </thead>\n",
       "  <tbody>\n",
       "    <tr>\n",
       "      <th>0</th>\n",
       "      <td>9</td>\n",
       "      <td>2149-11-09</td>\n",
       "      <td>0.0</td>\n",
       "      <td>PRE</td>\n",
       "    </tr>\n",
       "    <tr>\n",
       "      <th>1</th>\n",
       "      <td>9</td>\n",
       "      <td>2149-11-09</td>\n",
       "      <td>85036207.0</td>\n",
       "      <td>PRE</td>\n",
       "    </tr>\n",
       "    <tr>\n",
       "      <th>2</th>\n",
       "      <td>9</td>\n",
       "      <td>2149-11-09</td>\n",
       "      <td>456066270.0</td>\n",
       "      <td>PRE</td>\n",
       "    </tr>\n",
       "    <tr>\n",
       "      <th>3</th>\n",
       "      <td>9</td>\n",
       "      <td>2149-11-09</td>\n",
       "      <td>456066270.0</td>\n",
       "      <td>PRE</td>\n",
       "    </tr>\n",
       "    <tr>\n",
       "      <th>4</th>\n",
       "      <td>9</td>\n",
       "      <td>2149-11-09</td>\n",
       "      <td>338001702.0</td>\n",
       "      <td>PRE</td>\n",
       "    </tr>\n",
       "    <tr>\n",
       "      <th>...</th>\n",
       "      <td>...</td>\n",
       "      <td>...</td>\n",
       "      <td>...</td>\n",
       "      <td>...</td>\n",
       "    </tr>\n",
       "    <tr>\n",
       "      <th>5650364</th>\n",
       "      <td>99985</td>\n",
       "      <td>2181-02-10</td>\n",
       "      <td>0.0</td>\n",
       "      <td>PRE</td>\n",
       "    </tr>\n",
       "    <tr>\n",
       "      <th>5650365</th>\n",
       "      <td>99985</td>\n",
       "      <td>2181-02-11</td>\n",
       "      <td>0.0</td>\n",
       "      <td>PRE</td>\n",
       "    </tr>\n",
       "    <tr>\n",
       "      <th>5650366</th>\n",
       "      <td>99985</td>\n",
       "      <td>2181-02-12</td>\n",
       "      <td>0.0</td>\n",
       "      <td>PRE</td>\n",
       "    </tr>\n",
       "    <tr>\n",
       "      <th>5650367</th>\n",
       "      <td>99985</td>\n",
       "      <td>2181-02-11</td>\n",
       "      <td>781305714.0</td>\n",
       "      <td>PRE</td>\n",
       "    </tr>\n",
       "    <tr>\n",
       "      <th>5650368</th>\n",
       "      <td>99985</td>\n",
       "      <td>2181-02-12</td>\n",
       "      <td>781305714.0</td>\n",
       "      <td>PRE</td>\n",
       "    </tr>\n",
       "  </tbody>\n",
       "</table>\n",
       "<p>5650369 rows × 4 columns</p>\n",
       "</div>"
      ],
      "text/plain": [
       "         SUBJECT_ID        DATE         ITEM Type\n",
       "0                 9  2149-11-09          0.0  PRE\n",
       "1                 9  2149-11-09   85036207.0  PRE\n",
       "2                 9  2149-11-09  456066270.0  PRE\n",
       "3                 9  2149-11-09  456066270.0  PRE\n",
       "4                 9  2149-11-09  338001702.0  PRE\n",
       "...             ...         ...          ...  ...\n",
       "5650364       99985  2181-02-10          0.0  PRE\n",
       "5650365       99985  2181-02-11          0.0  PRE\n",
       "5650366       99985  2181-02-12          0.0  PRE\n",
       "5650367       99985  2181-02-11  781305714.0  PRE\n",
       "5650368       99985  2181-02-12  781305714.0  PRE\n",
       "\n",
       "[5650369 rows x 4 columns]"
      ]
     },
     "execution_count": 45,
     "metadata": {},
     "output_type": "execute_result"
    }
   ],
   "source": [
    "pre2_completed = pd.concat([pre2sub, pre2time, pre2item], axis = 1)\n",
    "pre2_completed.columns = ['SUBJECT_ID', 'DATE', 'ITEM']\n",
    "pre2_completed['Type'] = 'PRE'\n",
    "pre2_completed"
   ]
  },
  {
   "cell_type": "code",
   "execution_count": null,
   "id": "0aa9200a",
   "metadata": {},
   "outputs": [],
   "source": []
  },
  {
   "cell_type": "markdown",
   "id": "cfbe4df3",
   "metadata": {},
   "source": [
    "# PRO2"
   ]
  },
  {
   "cell_type": "code",
   "execution_count": 46,
   "id": "57da9744",
   "metadata": {},
   "outputs": [],
   "source": [
    "pro2 = pro[pro['SUBJECT_ID'].isin(subid)].reset_index(drop=True)\n",
    "pro2 = pro2[['SUBJECT_ID','STARTTIME','ENDTIME','ITEMID']]\n",
    "pro2['STARTTIME'], pro2['ENDTIME'] = only_date(pro2['STARTTIME']), only_date(pro2['ENDTIME'])"
   ]
  },
  {
   "cell_type": "code",
   "execution_count": 47,
   "id": "ea99b672",
   "metadata": {},
   "outputs": [
    {
     "data": {
      "text/plain": [
       "SUBJECT_ID    0\n",
       "STARTTIME     0\n",
       "ENDTIME       0\n",
       "ITEMID        0\n",
       "dtype: int64"
      ]
     },
     "execution_count": 47,
     "metadata": {},
     "output_type": "execute_result"
    }
   ],
   "source": [
    "pro2.isnull().sum()"
   ]
  },
  {
   "cell_type": "code",
   "execution_count": 48,
   "id": "e68ca95d",
   "metadata": {},
   "outputs": [],
   "source": [
    "# index에 맞춰서 itemid 넣어주려고 dic 생성, key: index, value: 기간\n",
    "pro2_dic = {}\n",
    "for i in range(len(pro2)):\n",
    "    d = date_range(pro2['STARTTIME'][i], pro2['ENDTIME'][i])\n",
    "    pro2_dic[i] = d\n",
    "    \n",
    "lst_time = []\n",
    "for i in range(len(pro2)):\n",
    "    lst_time.extend(pro2_dic[i][:])\n",
    "    \n",
    "# pro2 NDC열에 들어갈 lst\n",
    "lst_itemid = []\n",
    "for i in range(len(pro2)):\n",
    "    for j in pro2_dic[i]:\n",
    "        lst_itemid.append(pro2['ITEMID'][i])\n",
    "        \n",
    "# pro2 subid열에 들어갈 lst\n",
    "lst_subid = []\n",
    "for i in range(len(pro2)):\n",
    "    for j in pro2_dic[i]:\n",
    "        lst_subid.append(pro2['SUBJECT_ID'][i])\n",
    "\n",
    "pro2sub = pd.DataFrame(lst_subid)\n",
    "pro2time = pd.DataFrame(lst_time)\n",
    "pro2item = pd.DataFrame(lst_itemid)"
   ]
  },
  {
   "cell_type": "code",
   "execution_count": 49,
   "id": "ac9cae52",
   "metadata": {},
   "outputs": [
    {
     "data": {
      "text/html": [
       "<div>\n",
       "<style scoped>\n",
       "    .dataframe tbody tr th:only-of-type {\n",
       "        vertical-align: middle;\n",
       "    }\n",
       "\n",
       "    .dataframe tbody tr th {\n",
       "        vertical-align: top;\n",
       "    }\n",
       "\n",
       "    .dataframe thead th {\n",
       "        text-align: right;\n",
       "    }\n",
       "</style>\n",
       "<table border=\"1\" class=\"dataframe\">\n",
       "  <thead>\n",
       "    <tr style=\"text-align: right;\">\n",
       "      <th></th>\n",
       "      <th>SUBJECT_ID</th>\n",
       "      <th>DATE</th>\n",
       "      <th>ITEM</th>\n",
       "      <th>Type</th>\n",
       "    </tr>\n",
       "  </thead>\n",
       "  <tbody>\n",
       "    <tr>\n",
       "      <th>0</th>\n",
       "      <td>31608</td>\n",
       "      <td>2133-01-10</td>\n",
       "      <td>224385</td>\n",
       "      <td>PRO</td>\n",
       "    </tr>\n",
       "    <tr>\n",
       "      <th>1</th>\n",
       "      <td>31608</td>\n",
       "      <td>2133-01-10</td>\n",
       "      <td>225792</td>\n",
       "      <td>PRO</td>\n",
       "    </tr>\n",
       "    <tr>\n",
       "      <th>2</th>\n",
       "      <td>31608</td>\n",
       "      <td>2133-01-11</td>\n",
       "      <td>225792</td>\n",
       "      <td>PRO</td>\n",
       "    </tr>\n",
       "    <tr>\n",
       "      <th>3</th>\n",
       "      <td>31608</td>\n",
       "      <td>2133-01-12</td>\n",
       "      <td>225792</td>\n",
       "      <td>PRO</td>\n",
       "    </tr>\n",
       "    <tr>\n",
       "      <th>4</th>\n",
       "      <td>31608</td>\n",
       "      <td>2133-01-13</td>\n",
       "      <td>225792</td>\n",
       "      <td>PRO</td>\n",
       "    </tr>\n",
       "    <tr>\n",
       "      <th>...</th>\n",
       "      <td>...</td>\n",
       "      <td>...</td>\n",
       "      <td>...</td>\n",
       "      <td>...</td>\n",
       "    </tr>\n",
       "    <tr>\n",
       "      <th>164937</th>\n",
       "      <td>41958</td>\n",
       "      <td>2155-08-10</td>\n",
       "      <td>225204</td>\n",
       "      <td>PRO</td>\n",
       "    </tr>\n",
       "    <tr>\n",
       "      <th>164938</th>\n",
       "      <td>41958</td>\n",
       "      <td>2155-08-09</td>\n",
       "      <td>225402</td>\n",
       "      <td>PRO</td>\n",
       "    </tr>\n",
       "    <tr>\n",
       "      <th>164939</th>\n",
       "      <td>41958</td>\n",
       "      <td>2155-08-09</td>\n",
       "      <td>225459</td>\n",
       "      <td>PRO</td>\n",
       "    </tr>\n",
       "    <tr>\n",
       "      <th>164940</th>\n",
       "      <td>41958</td>\n",
       "      <td>2155-08-09</td>\n",
       "      <td>225966</td>\n",
       "      <td>PRO</td>\n",
       "    </tr>\n",
       "    <tr>\n",
       "      <th>164941</th>\n",
       "      <td>41958</td>\n",
       "      <td>2155-08-09</td>\n",
       "      <td>225401</td>\n",
       "      <td>PRO</td>\n",
       "    </tr>\n",
       "  </tbody>\n",
       "</table>\n",
       "<p>164942 rows × 4 columns</p>\n",
       "</div>"
      ],
      "text/plain": [
       "        SUBJECT_ID        DATE    ITEM Type\n",
       "0            31608  2133-01-10  224385  PRO\n",
       "1            31608  2133-01-10  225792  PRO\n",
       "2            31608  2133-01-11  225792  PRO\n",
       "3            31608  2133-01-12  225792  PRO\n",
       "4            31608  2133-01-13  225792  PRO\n",
       "...            ...         ...     ...  ...\n",
       "164937       41958  2155-08-10  225204  PRO\n",
       "164938       41958  2155-08-09  225402  PRO\n",
       "164939       41958  2155-08-09  225459  PRO\n",
       "164940       41958  2155-08-09  225966  PRO\n",
       "164941       41958  2155-08-09  225401  PRO\n",
       "\n",
       "[164942 rows x 4 columns]"
      ]
     },
     "execution_count": 49,
     "metadata": {},
     "output_type": "execute_result"
    }
   ],
   "source": [
    "pro2_completed = pd.concat([pro2sub, pro2time, pro2item], axis = 1)\n",
    "pro2_completed.columns = ['SUBJECT_ID', 'DATE', 'ITEM']\n",
    "pro2_completed['Type'] = 'PRO'\n",
    "pro2_completed"
   ]
  },
  {
   "cell_type": "code",
   "execution_count": null,
   "id": "d36f79d2",
   "metadata": {},
   "outputs": [],
   "source": []
  },
  {
   "cell_type": "markdown",
   "id": "07d8c63e",
   "metadata": {},
   "source": [
    "# Merge"
   ]
  },
  {
   "cell_type": "code",
   "execution_count": 50,
   "id": "d2ef489d",
   "metadata": {},
   "outputs": [
    {
     "data": {
      "text/plain": [
       "(Index(['SUBJECT_ID', 'DATE', 'ITEM', 'Type'], dtype='object'),\n",
       " Index(['SUBJECT_ID', 'DATE', 'ITEM', 'Type'], dtype='object'),\n",
       " Index(['SUBJECT_ID', 'DATE', 'ITEM', 'Type'], dtype='object'))"
      ]
     },
     "execution_count": 50,
     "metadata": {},
     "output_type": "execute_result"
    }
   ],
   "source": [
    "lab2.columns, pre2_completed.columns, pro2_completed.columns"
   ]
  },
  {
   "cell_type": "code",
   "execution_count": 51,
   "id": "a2d90d6b",
   "metadata": {},
   "outputs": [
    {
     "data": {
      "text/plain": [
       "4813536"
      ]
     },
     "execution_count": 51,
     "metadata": {},
     "output_type": "execute_result"
    }
   ],
   "source": [
    "len(lab2)+len(pro2)+len(pre2)"
   ]
  },
  {
   "cell_type": "code",
   "execution_count": 52,
   "id": "1195f8ab",
   "metadata": {},
   "outputs": [
    {
     "data": {
      "text/html": [
       "<div>\n",
       "<style scoped>\n",
       "    .dataframe tbody tr th:only-of-type {\n",
       "        vertical-align: middle;\n",
       "    }\n",
       "\n",
       "    .dataframe tbody tr th {\n",
       "        vertical-align: top;\n",
       "    }\n",
       "\n",
       "    .dataframe thead th {\n",
       "        text-align: right;\n",
       "    }\n",
       "</style>\n",
       "<table border=\"1\" class=\"dataframe\">\n",
       "  <thead>\n",
       "    <tr style=\"text-align: right;\">\n",
       "      <th></th>\n",
       "      <th>SUBJECT_ID</th>\n",
       "      <th>DATE</th>\n",
       "      <th>ITEM</th>\n",
       "      <th>Type</th>\n",
       "    </tr>\n",
       "  </thead>\n",
       "  <tbody>\n",
       "    <tr>\n",
       "      <th>0</th>\n",
       "      <td>9</td>\n",
       "      <td>2149-11-09</td>\n",
       "      <td>50882.0</td>\n",
       "      <td>LAB</td>\n",
       "    </tr>\n",
       "    <tr>\n",
       "      <th>1</th>\n",
       "      <td>9</td>\n",
       "      <td>2149-11-09</td>\n",
       "      <td>50931.0</td>\n",
       "      <td>LAB</td>\n",
       "    </tr>\n",
       "    <tr>\n",
       "      <th>2</th>\n",
       "      <td>9</td>\n",
       "      <td>2149-11-09</td>\n",
       "      <td>50971.0</td>\n",
       "      <td>LAB</td>\n",
       "    </tr>\n",
       "    <tr>\n",
       "      <th>3</th>\n",
       "      <td>9</td>\n",
       "      <td>2149-11-09</td>\n",
       "      <td>51275.0</td>\n",
       "      <td>LAB</td>\n",
       "    </tr>\n",
       "    <tr>\n",
       "      <th>4</th>\n",
       "      <td>9</td>\n",
       "      <td>2149-11-09</td>\n",
       "      <td>51288.0</td>\n",
       "      <td>LAB</td>\n",
       "    </tr>\n",
       "    <tr>\n",
       "      <th>...</th>\n",
       "      <td>...</td>\n",
       "      <td>...</td>\n",
       "      <td>...</td>\n",
       "      <td>...</td>\n",
       "    </tr>\n",
       "    <tr>\n",
       "      <th>9221915</th>\n",
       "      <td>99985</td>\n",
       "      <td>2181-03-06</td>\n",
       "      <td>51288.0</td>\n",
       "      <td>LAB</td>\n",
       "    </tr>\n",
       "    <tr>\n",
       "      <th>9221916</th>\n",
       "      <td>99985</td>\n",
       "      <td>2182-03-14</td>\n",
       "      <td>51279.0</td>\n",
       "      <td>LAB</td>\n",
       "    </tr>\n",
       "    <tr>\n",
       "      <th>9221917</th>\n",
       "      <td>99985</td>\n",
       "      <td>2182-03-14</td>\n",
       "      <td>51006.0</td>\n",
       "      <td>LAB</td>\n",
       "    </tr>\n",
       "    <tr>\n",
       "      <th>9221918</th>\n",
       "      <td>99985</td>\n",
       "      <td>2182-03-14</td>\n",
       "      <td>51221.0</td>\n",
       "      <td>LAB</td>\n",
       "    </tr>\n",
       "    <tr>\n",
       "      <th>9221919</th>\n",
       "      <td>99985</td>\n",
       "      <td>2182-03-14</td>\n",
       "      <td>51222.0</td>\n",
       "      <td>LAB</td>\n",
       "    </tr>\n",
       "  </tbody>\n",
       "</table>\n",
       "<p>9221920 rows × 4 columns</p>\n",
       "</div>"
      ],
      "text/plain": [
       "         SUBJECT_ID        DATE     ITEM Type\n",
       "0                 9  2149-11-09  50882.0  LAB\n",
       "1                 9  2149-11-09  50931.0  LAB\n",
       "2                 9  2149-11-09  50971.0  LAB\n",
       "3                 9  2149-11-09  51275.0  LAB\n",
       "4                 9  2149-11-09  51288.0  LAB\n",
       "...             ...         ...      ...  ...\n",
       "9221915       99985  2181-03-06  51288.0  LAB\n",
       "9221916       99985  2182-03-14  51279.0  LAB\n",
       "9221917       99985  2182-03-14  51006.0  LAB\n",
       "9221918       99985  2182-03-14  51221.0  LAB\n",
       "9221919       99985  2182-03-14  51222.0  LAB\n",
       "\n",
       "[9221920 rows x 4 columns]"
      ]
     },
     "execution_count": 52,
     "metadata": {},
     "output_type": "execute_result"
    }
   ],
   "source": [
    "m1 = pd.merge(lab2, pre2_completed, on=['SUBJECT_ID','DATE','ITEM','Type'], how='outer').sort_values(['SUBJECT_ID','DATE'])\n",
    "total_data = pd.merge(m1, pro2_completed, on=['SUBJECT_ID','DATE','ITEM','Type'], how='outer').sort_values(['SUBJECT_ID','DATE']).reset_index(drop=True)\n",
    "total_data"
   ]
  },
  {
   "cell_type": "code",
   "execution_count": 24,
   "id": "072531b1",
   "metadata": {},
   "outputs": [
    {
     "data": {
      "text/plain": [
       "4069"
      ]
     },
     "execution_count": 24,
     "metadata": {},
     "output_type": "execute_result"
    }
   ],
   "source": [
    "total_data['ITEM'].nunique()"
   ]
  },
  {
   "cell_type": "code",
   "execution_count": 25,
   "id": "edc787d1",
   "metadata": {},
   "outputs": [
    {
     "data": {
      "text/plain": [
       "7799"
      ]
     },
     "execution_count": 25,
     "metadata": {},
     "output_type": "execute_result"
    }
   ],
   "source": [
    "total_data['SUBJECT_ID'].nunique()"
   ]
  },
  {
   "cell_type": "code",
   "execution_count": 26,
   "id": "f3d99519",
   "metadata": {},
   "outputs": [],
   "source": [
    "total_data['ITEM'] = total_data['ITEM'].astype(int)\n",
    "total_data.to_csv('./data/merge_data.csv',index=False)"
   ]
  },
  {
   "cell_type": "markdown",
   "id": "6814a250",
   "metadata": {},
   "source": [
    "# Model"
   ]
  },
  {
   "cell_type": "code",
   "execution_count": 54,
   "id": "5a3ff37a",
   "metadata": {},
   "outputs": [],
   "source": [
    "total_data = pd.read_csv('../data/merge_data.csv')"
   ]
  },
  {
   "cell_type": "markdown",
   "id": "fccd996d",
   "metadata": {},
   "source": [
    "### Label"
   ]
  },
  {
   "cell_type": "code",
   "execution_count": 13,
   "id": "767a3066",
   "metadata": {},
   "outputs": [],
   "source": [
    "폐렴환자1 = pd.read_csv('/project/data/폐렴환자.csv')\n",
    "label = 폐렴환자1[폐렴환자1['SUBJECT_ID'].isin(subid)][['SUBJECT_ID','EXPIRE_FLAG']].sort_values('SUBJECT_ID').reset_index()['EXPIRE_FLAG']"
   ]
  },
  {
   "cell_type": "code",
   "execution_count": 74,
   "id": "24722fef",
   "metadata": {},
   "outputs": [],
   "source": [
    "np.save(\"./data/2030days_label.npy\",label)"
   ]
  },
  {
   "cell_type": "code",
   "execution_count": 14,
   "id": "78e2fa03",
   "metadata": {},
   "outputs": [
    {
     "data": {
      "text/plain": [
       "(7799, 4069)"
      ]
     },
     "execution_count": 14,
     "metadata": {},
     "output_type": "execute_result"
    }
   ],
   "source": [
    "df.shape"
   ]
  },
  {
   "cell_type": "markdown",
   "id": "655fcf08",
   "metadata": {},
   "source": [
    "## 시계열"
   ]
  },
  {
   "cell_type": "code",
   "execution_count": 62,
   "id": "ec4e5bab",
   "metadata": {},
   "outputs": [],
   "source": [
    "data = pd.read_csv('../data/merge_data.csv')\n",
    "data = data.set_index('SUBJECT_ID')\n",
    "label = pd.read_csv(\"../data/2030days_label.npy\")"
   ]
  },
  {
   "cell_type": "code",
   "execution_count": 64,
   "id": "9a0a6703",
   "metadata": {},
   "outputs": [],
   "source": [
    "admission = pd.read_csv('/data/MIMIC_III/ADMISSIONS.csv')\n",
    "# admission.groupby('SUBJECT_ID')['DISCHTIME'].max()\n",
    "admission = admission[admission['SUBJECT_ID'].isin(data.index.unique())]\n",
    "\n",
    "import datetime as dt\n",
    "admission['DISCHTIME'] = pd.to_datetime(admission['DISCHTIME'])\n",
    "admission['DISCHTIME'] = admission['DISCHTIME'].dt.date\n",
    "\n",
    "#final_date\n",
    "dic_sub2final_date = dict(admission.groupby('SUBJECT_ID')['DISCHTIME'].max())\n",
    "\n",
    "#sub2idx\n",
    "dic_sub2idx = {}\n",
    "for i,j in enumerate(data.index.unique()):\n",
    "    dic_sub2idx[j] = i\n",
    "\n",
    "#item2idx\n",
    "dic_item2idx = {}\n",
    "for i,j in enumerate(data['ITEM'].sort_values().unique()):\n",
    "    dic_item2idx[j] = i"
   ]
  },
  {
   "cell_type": "code",
   "execution_count": null,
   "id": "8862d570",
   "metadata": {},
   "outputs": [],
   "source": []
  },
  {
   "cell_type": "code",
   "execution_count": 62,
   "id": "1b8eed58",
   "metadata": {},
   "outputs": [
    {
     "name": "stdout",
     "output_type": "stream",
     "text": [
      "dic_sub2idx length :  7799\n",
      "dic_item2idx length :  4069\n",
      "dic_sub2final_date length :  7799\n"
     ]
    }
   ],
   "source": [
    "print('dic_sub2idx length : ', len(dic_sub2idx))\n",
    "print('dic_item2idx length : ', len(dic_item2idx))\n",
    "print('dic_sub2final_date length : ', len(dic_sub2final_date))"
   ]
  },
  {
   "cell_type": "code",
   "execution_count": 63,
   "id": "f314757d",
   "metadata": {},
   "outputs": [
    {
     "data": {
      "text/html": [
       "<div>\n",
       "<style scoped>\n",
       "    .dataframe tbody tr th:only-of-type {\n",
       "        vertical-align: middle;\n",
       "    }\n",
       "\n",
       "    .dataframe tbody tr th {\n",
       "        vertical-align: top;\n",
       "    }\n",
       "\n",
       "    .dataframe thead th {\n",
       "        text-align: right;\n",
       "    }\n",
       "</style>\n",
       "<table border=\"1\" class=\"dataframe\">\n",
       "  <thead>\n",
       "    <tr style=\"text-align: right;\">\n",
       "      <th></th>\n",
       "      <th>DATE</th>\n",
       "      <th>ITEM</th>\n",
       "      <th>Type</th>\n",
       "    </tr>\n",
       "    <tr>\n",
       "      <th>SUBJECT_ID</th>\n",
       "      <th></th>\n",
       "      <th></th>\n",
       "      <th></th>\n",
       "    </tr>\n",
       "  </thead>\n",
       "  <tbody>\n",
       "    <tr>\n",
       "      <th>9</th>\n",
       "      <td>2149-11-09</td>\n",
       "      <td>50882</td>\n",
       "      <td>LAB</td>\n",
       "    </tr>\n",
       "  </tbody>\n",
       "</table>\n",
       "</div>"
      ],
      "text/plain": [
       "                  DATE   ITEM Type\n",
       "SUBJECT_ID                        \n",
       "9           2149-11-09  50882  LAB"
      ]
     },
     "execution_count": 63,
     "metadata": {},
     "output_type": "execute_result"
    }
   ],
   "source": [
    "data.head(1)"
   ]
  },
  {
   "cell_type": "code",
   "execution_count": 64,
   "id": "82a6eb87",
   "metadata": {},
   "outputs": [
    {
     "data": {
      "text/plain": [
       "35"
      ]
     },
     "execution_count": 64,
     "metadata": {},
     "output_type": "execute_result"
    }
   ],
   "source": [
    "dic_item2idx[50883]"
   ]
  },
  {
   "cell_type": "markdown",
   "id": "5616acbf",
   "metadata": {},
   "source": [
    "### 10일치"
   ]
  },
  {
   "cell_type": "code",
   "execution_count": 88,
   "id": "36271945",
   "metadata": {},
   "outputs": [
    {
     "name": "stdout",
     "output_type": "stream",
     "text": [
      "time : 0.2058424433072408 분\n",
      "2042722.0\n"
     ]
    }
   ],
   "source": [
    "from datetime import timedelta\n",
    "import time\n",
    "from tqdm.auto import tqdm\n",
    "import datetime\n",
    "\n",
    "start = time.time()  # 시작 시간 저장\n",
    "\n",
    "\n",
    "x = np.zeros((len(dic_sub2idx),10,len(dic_item2idx)))\n",
    "x.shape\n",
    "\n",
    "IF=open(\"../data/merge_data.csv\",'r')\n",
    "line=IF.readline()\n",
    "for line in IF:\n",
    "    ss=line.strip(\"\\n\").split(',')\n",
    "    sub, date, item = int(ss[0]), datetime.date.fromisoformat(ss[1]), int(ss[2])\n",
    "    subidx = dic_sub2idx[sub]\n",
    "    itemidx = dic_item2idx[item]\n",
    "    finaldate = dic_sub2final_date[sub]\n",
    "    dateidx = -(finaldate - date).days + 10\n",
    "#     print(finaldate, date, dateidx)\n",
    "    if (dateidx < 0) or (dateidx > 9) :\n",
    "        continue\n",
    "    else:\n",
    "#         print(finaldate, date, dateidx)\n",
    "        x[subidx, dateidx, itemidx] = 1\n",
    "IF.close()\n",
    "        \n",
    "        \n",
    "print(\"time :\", (time.time() - start)/60, '분') \n",
    "print(x.sum())"
   ]
  },
  {
   "cell_type": "code",
   "execution_count": null,
   "id": "78a0ea32",
   "metadata": {},
   "outputs": [],
   "source": []
  },
  {
   "cell_type": "code",
   "execution_count": null,
   "id": "34fa70dd",
   "metadata": {},
   "outputs": [],
   "source": []
  },
  {
   "cell_type": "code",
   "execution_count": 65,
   "id": "ac048b69",
   "metadata": {},
   "outputs": [
    {
     "name": "stdout",
     "output_type": "stream",
     "text": [
      "time : 0.41984949906667074 분\n",
      "2042722.0\n"
     ]
    }
   ],
   "source": [
    "from datetime import timedelta\n",
    "import time\n",
    "from tqdm.auto import tqdm\n",
    "import datetime\n",
    "\n",
    "start = time.time()  # 시작 시간 저장\n",
    "\n",
    "\n",
    "x = np.zeros((len(dic_sub2idx),10,len(dic_item2idx)))\n",
    "x.shape\n",
    "\n",
    "IF=open(\"./data/merge_data.csv\",'r')\n",
    "line=IF.readline()\n",
    "for line in IF:\n",
    "    ss=line.strip(\"\\n\").split(',')\n",
    "    sub, date, item = int(ss[0]), datetime.date.fromisoformat(ss[1]), int(ss[2])\n",
    "\n",
    "    subidx = dic_sub2idx[sub]\n",
    "    itemidx = dic_item2idx[item]\n",
    "    finaldate = dic_sub2final_date[sub]\n",
    "    dateidx = -(finaldate - date).days + 10\n",
    "    \n",
    "    if (dateidx < 0) or (dateidx > 9) :\n",
    "        continue\n",
    "    else:\n",
    "#         print(finaldate, date, dateidx)\n",
    "        x[subidx, dateidx, itemidx] = 1\n",
    "    \n",
    "IF.close()\n",
    "        \n",
    "        \n",
    "print(\"time :\", (time.time() - start)/60, '분') \n",
    "print(x.sum())"
   ]
  },
  {
   "cell_type": "code",
   "execution_count": 66,
   "id": "52df4816",
   "metadata": {},
   "outputs": [],
   "source": [
    "# np.save(\"./data/10days_data.npy\",x)"
   ]
  },
  {
   "cell_type": "code",
   "execution_count": 67,
   "id": "4f25a82e",
   "metadata": {},
   "outputs": [
    {
     "data": {
      "text/plain": [
       "(7799, 10, 4069)"
      ]
     },
     "execution_count": 67,
     "metadata": {},
     "output_type": "execute_result"
    }
   ],
   "source": [
    "x.shape"
   ]
  },
  {
   "cell_type": "code",
   "execution_count": 68,
   "id": "65901a62",
   "metadata": {},
   "outputs": [
    {
     "data": {
      "text/plain": [
       "5459.299999999999"
      ]
     },
     "execution_count": 68,
     "metadata": {},
     "output_type": "execute_result"
    }
   ],
   "source": [
    "x.shape[0]*0.7"
   ]
  },
  {
   "cell_type": "code",
   "execution_count": 69,
   "id": "62772bd6",
   "metadata": {},
   "outputs": [
    {
     "data": {
      "text/plain": [
       "((5460, 10, 4069), (1, 5), (2339, 10, 4069), (0, 5))"
      ]
     },
     "execution_count": 69,
     "metadata": {},
     "output_type": "execute_result"
    }
   ],
   "source": [
    "# 5460 기준으로 split\n",
    "i=5460\n",
    "X_train = x[:i,:,:]\n",
    "y_train = label[:i]\n",
    "\n",
    "\n",
    "X_test = x[i:,:,:]\n",
    "y_test = label[i:]\n",
    "\n",
    "\n",
    "X_train.shape, y_train.shape, X_test.shape, y_test.shape"
   ]
  },
  {
   "cell_type": "code",
   "execution_count": 70,
   "id": "0ac3c2fc",
   "metadata": {},
   "outputs": [],
   "source": [
    "import math\n",
    "import matplotlib.pyplot as plt\n",
    "\n",
    "from keras.models import Sequential\n",
    "from keras.layers import Dense, LSTM, Dropout\n",
    "from sklearn.preprocessing import MinMaxScaler\n",
    "from sklearn.metrics import mean_squared_error\n",
    "import pickle\n",
    "import gzip"
   ]
  },
  {
   "cell_type": "code",
   "execution_count": 51,
   "id": "844a9fb4",
   "metadata": {
    "scrolled": true
   },
   "outputs": [],
   "source": [
    "# from keras.regularizers import l2\n",
    "\n",
    "# seed_num = 42\n",
    "# np.random.seed(seed_num)\n",
    "# tf.random.set_seed(seed_num)\n",
    "\n",
    "# lstm = Sequential()\n",
    "# lstm.add(LSTM(units=12, activation='tanh', input_shape=(x.shape[1], x.shape[2]),return_sequences=True,\n",
    "#          bias_regularizer=l2(0.001), kernel_regularizer=l2(0.001),recurrent_regularizer=l2(0.001)))\n",
    "# lstm.add(LSTM(units=12, activation='tanh', input_shape=(12, x.shape[2]),\n",
    "#               bias_regularizer=l2(0.001), kernel_regularizer=l2(0.001),recurrent_regularizer=l2(0.001)))\n",
    "# lstm.add(Dense(units=1, activation='sigmoid'))\n",
    "# print(lstm.summary())"
   ]
  },
  {
   "cell_type": "code",
   "execution_count": 52,
   "id": "15be216b",
   "metadata": {
    "scrolled": true
   },
   "outputs": [],
   "source": [
    "# from keras.callbacks import EarlyStopping\n",
    "\n",
    "# lstm.compile(loss='binary_crossentropy', optimizer='adam',metrics=['acc']) #loss='categorical_crossentropy'\n",
    "# early_stop = EarlyStopping(monitor='val_loss', patience=10, verbose=1)\n",
    "# history = lstm.fit(X_train, y_train, validation_split=0.25, batch_size=128, epochs=2000, callbacks=[early_stop])"
   ]
  },
  {
   "cell_type": "code",
   "execution_count": 53,
   "id": "efe5525c",
   "metadata": {
    "scrolled": true
   },
   "outputs": [
    {
     "name": "stdout",
     "output_type": "stream",
     "text": [
      "Model: \"sequential\"\n",
      "_________________________________________________________________\n",
      "Layer (type)                 Output Shape              Param #   \n",
      "=================================================================\n",
      "lstm (LSTM)                  (None, 8)                 130496    \n",
      "_________________________________________________________________\n",
      "dense (Dense)                (None, 1)                 9         \n",
      "=================================================================\n",
      "Total params: 130,505\n",
      "Trainable params: 130,505\n",
      "Non-trainable params: 0\n",
      "_________________________________________________________________\n",
      "None\n",
      "Epoch 1/200\n",
      "32/32 [==============================] - 13s 29ms/step - loss: 0.6220 - acc: 0.6932 - val_loss: 0.6912 - val_acc: 0.5861\n",
      "Epoch 2/200\n",
      "32/32 [==============================] - 0s 12ms/step - loss: 0.5818 - acc: 0.6932 - val_loss: 0.6531 - val_acc: 0.5861\n",
      "Epoch 3/200\n",
      "32/32 [==============================] - 0s 13ms/step - loss: 0.5550 - acc: 0.6932 - val_loss: 0.6247 - val_acc: 0.5861\n",
      "Epoch 4/200\n",
      "32/32 [==============================] - 0s 12ms/step - loss: 0.5343 - acc: 0.6932 - val_loss: 0.6032 - val_acc: 0.5897\n",
      "Epoch 5/200\n",
      "32/32 [==============================] - 0s 12ms/step - loss: 0.5166 - acc: 0.6955 - val_loss: 0.5850 - val_acc: 0.5993\n",
      "Epoch 6/200\n",
      "32/32 [==============================] - 0s 13ms/step - loss: 0.5003 - acc: 0.7039 - val_loss: 0.5696 - val_acc: 0.6205\n",
      "Epoch 7/200\n",
      "32/32 [==============================] - 0s 12ms/step - loss: 0.4854 - acc: 0.7206 - val_loss: 0.5573 - val_acc: 0.6403\n",
      "Epoch 8/200\n",
      "32/32 [==============================] - 0s 13ms/step - loss: 0.4718 - acc: 0.7316 - val_loss: 0.5469 - val_acc: 0.6586\n",
      "Epoch 9/200\n",
      "32/32 [==============================] - 0s 12ms/step - loss: 0.4593 - acc: 0.7468 - val_loss: 0.5380 - val_acc: 0.6894\n",
      "Epoch 10/200\n",
      "32/32 [==============================] - 0s 13ms/step - loss: 0.4473 - acc: 0.7617 - val_loss: 0.5307 - val_acc: 0.7018\n",
      "Epoch 11/200\n",
      "32/32 [==============================] - 0s 13ms/step - loss: 0.4359 - acc: 0.7800 - val_loss: 0.5247 - val_acc: 0.7121\n",
      "Epoch 12/200\n",
      "32/32 [==============================] - 0s 12ms/step - loss: 0.4249 - acc: 0.7970 - val_loss: 0.5201 - val_acc: 0.7231\n",
      "Epoch 13/200\n",
      "32/32 [==============================] - 0s 13ms/step - loss: 0.4143 - acc: 0.8055 - val_loss: 0.5166 - val_acc: 0.7319\n",
      "Epoch 14/200\n",
      "32/32 [==============================] - 0s 13ms/step - loss: 0.4040 - acc: 0.8184 - val_loss: 0.5146 - val_acc: 0.7370\n",
      "Epoch 15/200\n",
      "32/32 [==============================] - 0s 13ms/step - loss: 0.3940 - acc: 0.8267 - val_loss: 0.5139 - val_acc: 0.7392\n",
      "Epoch 16/200\n",
      "32/32 [==============================] - 0s 12ms/step - loss: 0.3843 - acc: 0.8336 - val_loss: 0.5142 - val_acc: 0.7407\n",
      "Epoch 17/200\n",
      "32/32 [==============================] - 0s 13ms/step - loss: 0.3747 - acc: 0.8413 - val_loss: 0.5155 - val_acc: 0.7392\n",
      "Epoch 18/200\n",
      "32/32 [==============================] - 0s 13ms/step - loss: 0.3654 - acc: 0.8440 - val_loss: 0.5178 - val_acc: 0.7407\n",
      "Epoch 19/200\n",
      "32/32 [==============================] - 0s 13ms/step - loss: 0.3561 - acc: 0.8497 - val_loss: 0.5213 - val_acc: 0.7377\n",
      "Epoch 20/200\n",
      "32/32 [==============================] - 0s 13ms/step - loss: 0.3470 - acc: 0.8579 - val_loss: 0.5257 - val_acc: 0.7399\n",
      "Epoch 00020: early stopping\n"
     ]
    }
   ],
   "source": [
    "lstm2 = Sequential()\n",
    "lstm2.add(LSTM(units=8, activation='sigmoid', recurrent_activation='hard_sigmoid', input_shape=(x.shape[1], x.shape[2])))\n",
    "lstm2.add(Dense(units=1, activation='sigmoid'))\n",
    "print(lstm2.summary())\n",
    "\n",
    "from keras.callbacks import EarlyStopping\n",
    "\n",
    "lstm2.compile(loss='binary_crossentropy', optimizer='adam',metrics=['acc']) #loss='categorical_crossentropy'\n",
    "early_stop = EarlyStopping(monitor='val_loss', patience=5, verbose=1)\n",
    "history = lstm2.fit(X_train, y_train, validation_split=0.25, batch_size=128, epochs=200,  callbacks=[early_stop], shuffle=False)"
   ]
  },
  {
   "cell_type": "code",
   "execution_count": 54,
   "id": "68f79b39",
   "metadata": {},
   "outputs": [
    {
     "data": {
      "image/png": "[encoded data removed]",
      "text/plain": [
       "<Figure size 432x288 with 1 Axes>"
      ]
     },
     "metadata": {
      "needs_background": "light"
     },
     "output_type": "display_data"
    }
   ],
   "source": [
    "plt.plot(history.history['loss'])\n",
    "plt.plot(history.history['val_loss'])\n",
    "plt.title('Model loss')\n",
    "plt.ylabel('loss')\n",
    "plt.xlabel('Epoch')\n",
    "plt.legend(['Train', 'Validation'], loc='upper left')\n",
    "plt.show()"
   ]
  },
  {
   "cell_type": "code",
   "execution_count": 55,
   "id": "7f5b51ca",
   "metadata": {},
   "outputs": [
    {
     "data": {
      "image/png": "[encoded data removed]",
      "text/plain": [
       "<Figure size 432x288 with 1 Axes>"
      ]
     },
     "metadata": {
      "needs_background": "light"
     },
     "output_type": "display_data"
    }
   ],
   "source": [
    "plt.plot(history.history['acc'])\n",
    "plt.plot(history.history['val_acc'])\n",
    "plt.title('Model acc')\n",
    "plt.ylabel('acc')\n",
    "plt.xlabel('Epoch')\n",
    "plt.legend(['Train', 'Validation'], loc='upper left')\n",
    "plt.show()"
   ]
  },
  {
   "cell_type": "code",
   "execution_count": 56,
   "id": "0e49af67",
   "metadata": {},
   "outputs": [],
   "source": [
    "pred = lstm2.predict(X_test)\n",
    "pred[pred>0.5]=1\n",
    "pred[pred<=0.5]=0"
   ]
  },
  {
   "cell_type": "code",
   "execution_count": 59,
   "id": "895d2f0a",
   "metadata": {},
   "outputs": [
    {
     "name": "stdout",
     "output_type": "stream",
     "text": [
      "정확도 : 0.7079948696023942\n"
     ]
    }
   ],
   "source": [
    "from sklearn import metrics \n",
    "print('정확도 :', metrics.accuracy_score(y_test, pred))"
   ]
  },
  {
   "cell_type": "code",
   "execution_count": null,
   "id": "ae37a0f8",
   "metadata": {},
   "outputs": [],
   "source": []
  },
  {
   "cell_type": "code",
   "execution_count": null,
   "id": "6b905188",
   "metadata": {},
   "outputs": [],
   "source": []
  },
  {
   "cell_type": "code",
   "execution_count": null,
   "id": "85bced58",
   "metadata": {},
   "outputs": [],
   "source": []
  }
 ],
 "metadata": {
  "kernelspec": {
   "display_name": "Python 3",
   "language": "python",
   "name": "python3"
  },
  "language_info": {
   "codemirror_mode": {
    "name": "ipython",
    "version": 3
   },
   "file_extension": ".py",
   "mimetype": "text/x-python",
   "name": "python",
   "nbconvert_exporter": "python",
   "pygments_lexer": "ipython3",
   "version": "3.8.5"
  },
  "toc": {
   "base_numbering": 1,
   "nav_menu": {},
   "number_sections": true,
   "sideBar": true,
   "skip_h1_title": false,
   "title_cell": "Table of Contents",
   "title_sidebar": "Contents",
   "toc_cell": false,
   "toc_position": {
    "height": "calc(100% - 180px)",
    "left": "10px",
    "top": "150px",
    "width": "164.97px"
   },
   "toc_section_display": true,
   "toc_window_display": true
  }
 },
 "nbformat": 4,
 "nbformat_minor": 5
}
