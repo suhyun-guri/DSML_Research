{
 "cells": [
  {
   "cell_type": "code",
   "execution_count": 2,
   "id": "e51ffdcb",
   "metadata": {},
   "outputs": [],
   "source": [
    "import numpy as np, os\n",
    "import pandas as pd\n",
    "\n",
    "import matplotlib.pyplot as plt\n",
    "from tqdm.notebook import tqdm\n",
    "import seaborn as sns\n",
    "\n",
    "import tensorflow as tf\n",
    "from tensorflow import keras\n",
    "\n",
    "import warnings\n",
    "warnings.filterwarnings(action='ignore')\n",
    "\n",
    "#한글설정\n",
    "import matplotlib.font_manager as fm\n",
    "\n",
    "font_dirs = ['/usr/share/fonts/truetype/nanum', ]\n",
    "font_files = fm.findSystemFonts(fontpaths=font_dirs)\n",
    "\n",
    "for font_file in font_files:\n",
    "    fm.fontManager.addfont(font_file)\n",
    "    \n",
    "# 한글 출력을 위해서 폰트 옵션을 설정합니다.\n",
    "# \"axes.unicode_minus\" : 마이너스가 깨질 것을 방지\n",
    "\n",
    "sns.set(font=\"NanumBarunGothic\", \n",
    "        rc={\"axes.unicode_minus\":False},\n",
    "        style='darkgrid')"
   ]
  },
  {
   "cell_type": "markdown",
   "id": "fca2ccde",
   "metadata": {},
   "source": [
    "# Method1\n",
    "일관성, 방향성 고려한 feature 탐지 <br>\n",
    "**goal : 사망/생존 마커 탐지** <br>\n",
    "- Score 계산 식\n",
    "\n",
    "<div align=center> $Score = ReLU(FI^{inverse})*sign(FI^{reverse})$ </div>\n",
    "\n",
    "- $FI^{reverse}$\n",
    "  1. X_test의 각 feature의 값(4068개)을 모두 1로 바꾸어 예측\n",
    "  2. 예측값 리스트의 평균값 계산\n",
    "  3. 각 feature의 평균값과 기존 baseline의 평균값을 계산 (= x)\n",
    "    - x = mean(pred) - mean(y_test)\n",
    "  4. x > 0 이면 1, x <= 0 이면 -1 으로 {1, -1}으로 부호 결정"
   ]
  },
  {
   "cell_type": "markdown",
   "id": "5ad9e932",
   "metadata": {},
   "source": [
    "# 필요한 데이터 로드"
   ]
  },
  {
   "cell_type": "code",
   "execution_count": 3,
   "id": "07cd0659",
   "metadata": {},
   "outputs": [],
   "source": [
    "fi = pd.read_csv('./data/df_all_best_type.csv')\n",
    "COLS = list(pd.read_csv('/project/LSH/total_data_7727.csv')['ITEMID'].sort_values().unique())\n",
    "model = tf.keras.models.load_model('/project/LSH/model/(LSTM_best_4068)seed42-05-0.5029.hdf5')"
   ]
  },
  {
   "cell_type": "markdown",
   "id": "11c32cd6",
   "metadata": {},
   "source": [
    "# FI에 ReLU 적용"
   ]
  },
  {
   "cell_type": "code",
   "execution_count": 6,
   "id": "5a6c11cc",
   "metadata": {},
   "outputs": [],
   "source": [
    "#relu 함수 정의\n",
    "def relu(x):\n",
    "    if x > 0:\n",
    "        return x\n",
    "    else:\n",
    "        return 0"
   ]
  },
  {
   "cell_type": "code",
   "execution_count": 14,
   "id": "1f33e93f",
   "metadata": {},
   "outputs": [],
   "source": [
    "tmp = fi.copy()\n",
    "tmp['diff'] = tmp['diff'].apply(lambda x:relu(x))\n",
    "relu_fi = tmp[['feature', 'diff']].sort_values('diff', ascending=False)"
   ]
  },
  {
   "cell_type": "code",
   "execution_count": 15,
   "id": "c06888cb",
   "metadata": {},
   "outputs": [
    {
     "data": {
      "text/html": [
       "<div>\n",
       "<style scoped>\n",
       "    .dataframe tbody tr th:only-of-type {\n",
       "        vertical-align: middle;\n",
       "    }\n",
       "\n",
       "    .dataframe tbody tr th {\n",
       "        vertical-align: top;\n",
       "    }\n",
       "\n",
       "    .dataframe thead th {\n",
       "        text-align: right;\n",
       "    }\n",
       "</style>\n",
       "<table border=\"1\" class=\"dataframe\">\n",
       "  <thead>\n",
       "    <tr style=\"text-align: right;\">\n",
       "      <th></th>\n",
       "      <th>feature</th>\n",
       "      <th>diff</th>\n",
       "    </tr>\n",
       "  </thead>\n",
       "  <tbody>\n",
       "    <tr>\n",
       "      <th>0</th>\n",
       "      <td>409606211</td>\n",
       "      <td>0.059180</td>\n",
       "    </tr>\n",
       "    <tr>\n",
       "      <th>1</th>\n",
       "      <td>74606211</td>\n",
       "      <td>0.036668</td>\n",
       "    </tr>\n",
       "    <tr>\n",
       "      <th>2</th>\n",
       "      <td>67434504</td>\n",
       "      <td>0.032467</td>\n",
       "    </tr>\n",
       "    <tr>\n",
       "      <th>3</th>\n",
       "      <td>54817525</td>\n",
       "      <td>0.029130</td>\n",
       "    </tr>\n",
       "    <tr>\n",
       "      <th>4</th>\n",
       "      <td>10019055302</td>\n",
       "      <td>0.027498</td>\n",
       "    </tr>\n",
       "    <tr>\n",
       "      <th>...</th>\n",
       "      <td>...</td>\n",
       "      <td>...</td>\n",
       "    </tr>\n",
       "    <tr>\n",
       "      <th>3469</th>\n",
       "      <td>78005303</td>\n",
       "      <td>0.000000</td>\n",
       "    </tr>\n",
       "    <tr>\n",
       "      <th>3470</th>\n",
       "      <td>17317001801</td>\n",
       "      <td>0.000000</td>\n",
       "    </tr>\n",
       "    <tr>\n",
       "      <th>3471</th>\n",
       "      <td>597003212</td>\n",
       "      <td>0.000000</td>\n",
       "    </tr>\n",
       "    <tr>\n",
       "      <th>3472</th>\n",
       "      <td>51435</td>\n",
       "      <td>0.000000</td>\n",
       "    </tr>\n",
       "    <tr>\n",
       "      <th>4067</th>\n",
       "      <td>51006</td>\n",
       "      <td>0.000000</td>\n",
       "    </tr>\n",
       "  </tbody>\n",
       "</table>\n",
       "<p>4068 rows × 2 columns</p>\n",
       "</div>"
      ],
      "text/plain": [
       "          feature      diff\n",
       "0       409606211  0.059180\n",
       "1        74606211  0.036668\n",
       "2        67434504  0.032467\n",
       "3        54817525  0.029130\n",
       "4     10019055302  0.027498\n",
       "...           ...       ...\n",
       "3469     78005303  0.000000\n",
       "3470  17317001801  0.000000\n",
       "3471    597003212  0.000000\n",
       "3472        51435  0.000000\n",
       "4067        51006  0.000000\n",
       "\n",
       "[4068 rows x 2 columns]"
      ]
     },
     "execution_count": 15,
     "metadata": {},
     "output_type": "execute_result"
    }
   ],
   "source": [
    "relu_fi"
   ]
  },
  {
   "cell_type": "markdown",
   "id": "afc7634d",
   "metadata": {},
   "source": [
    "# all value 0 to 1 - mean(predict_list)"
   ]
  },
  {
   "cell_type": "code",
   "execution_count": 16,
   "id": "bfba52f3",
   "metadata": {},
   "outputs": [
    {
     "data": {
      "text/plain": [
       "((6182, 10, 4068), (6182,), (1545, 10, 4068), (1545,))"
      ]
     },
     "execution_count": 16,
     "metadata": {},
     "output_type": "execute_result"
    }
   ],
   "source": [
    "import random    \n",
    "seed_num = 42\n",
    "random.seed(seed_num)\n",
    "path = '/project/LSH/'\n",
    "X = np.load(path + 'x_(7727,10,4068).npy')\n",
    "y = np.load(path + 'y_(7727,1).npy')\n",
    "\n",
    "idx = list(range(len(X)))\n",
    "random.shuffle(idx)\n",
    "\n",
    "\n",
    "i = round(X.shape[0]*0.8)\n",
    "X_train, y_train = X[idx[:i],:,:], y[idx[:i]]\n",
    "X_test, y_test = X[idx[i:],:,:], y[idx[i:]]\n",
    "\n",
    "X_train.shape, y_train.shape, X_test.shape, y_test.shape"
   ]
  },
  {
   "cell_type": "code",
   "execution_count": 18,
   "id": "29f455af",
   "metadata": {},
   "outputs": [
    {
     "data": {
      "text/plain": [
       "0.63693285"
      ]
     },
     "execution_count": 18,
     "metadata": {},
     "output_type": "execute_result"
    }
   ],
   "source": [
    "base_pred = np.mean(model.predict(X_test))\n",
    "base_pred"
   ]
  },
  {
   "cell_type": "code",
   "execution_count": 21,
   "id": "cf486313",
   "metadata": {},
   "outputs": [
    {
     "data": {
      "application/vnd.jupyter.widget-view+json": {
       "model_id": "e45b161a97c7406c9f8d324aece81eb5",
       "version_major": 2,
       "version_minor": 0
      },
      "text/plain": [
       "  0%|          | 0/4068 [00:00<?, ?it/s]"
      ]
     },
     "metadata": {},
     "output_type": "display_data"
    }
   ],
   "source": [
    "result = []\n",
    "for i in tqdm(range(X_test.shape[2])):\n",
    "    save_cols = X_test[:,:,i].copy()\n",
    "    X_test[:,:,i] = 1\n",
    "    pred = model.predict(X_test)\n",
    "    result.append({'feature' : str(COLS[i]), 'value' : np.mean(pred)})\n",
    "    #값 복원\n",
    "    X_test[:,:,i] = save_cols"
   ]
  },
  {
   "cell_type": "code",
   "execution_count": 38,
   "id": "6f697c7d",
   "metadata": {},
   "outputs": [],
   "source": [
    "sign_fi = pd.DataFrame(result)"
   ]
  },
  {
   "cell_type": "code",
   "execution_count": 32,
   "id": "a13637d1",
   "metadata": {},
   "outputs": [],
   "source": [
    "sign_fi['baseline'] = base_pred\n",
    "sign_fi['diff'] = sign_fi['score'] - sign_fi['baseline']"
   ]
  },
  {
   "cell_type": "code",
   "execution_count": 34,
   "id": "c087b3db",
   "metadata": {},
   "outputs": [],
   "source": [
    "#부호 판별하여 1, -1로 변경하는 함수\n",
    "def only_sign(x):\n",
    "    if x >= 0:\n",
    "        return 1\n",
    "    else:\n",
    "        return -1"
   ]
  },
  {
   "cell_type": "code",
   "execution_count": 35,
   "id": "ae4a7199",
   "metadata": {},
   "outputs": [],
   "source": [
    "sign_fi['sign'] = sign_fi['diff'].apply(lambda x:only_sign(x))\n",
    "sign_fi = sign_fi.sort_values('feature')"
   ]
  },
  {
   "cell_type": "code",
   "execution_count": 37,
   "id": "d3d3326f",
   "metadata": {},
   "outputs": [
    {
     "data": {
      "text/plain": [
       "-1    4068\n",
       "Name: sign, dtype: int64"
      ]
     },
     "execution_count": 37,
     "metadata": {},
     "output_type": "execute_result"
    }
   ],
   "source": [
    "sign_fi['sign'].value_counts()"
   ]
  },
  {
   "cell_type": "code",
   "execution_count": 25,
   "id": "2e3c5f79",
   "metadata": {},
   "outputs": [
    {
     "data": {
      "text/html": [
       "<div>\n",
       "<style scoped>\n",
       "    .dataframe tbody tr th:only-of-type {\n",
       "        vertical-align: middle;\n",
       "    }\n",
       "\n",
       "    .dataframe tbody tr th {\n",
       "        vertical-align: top;\n",
       "    }\n",
       "\n",
       "    .dataframe thead th {\n",
       "        text-align: right;\n",
       "    }\n",
       "</style>\n",
       "<table border=\"1\" class=\"dataframe\">\n",
       "  <thead>\n",
       "    <tr style=\"text-align: right;\">\n",
       "      <th></th>\n",
       "      <th>feature</th>\n",
       "      <th>score</th>\n",
       "    </tr>\n",
       "  </thead>\n",
       "  <tbody>\n",
       "    <tr>\n",
       "      <th>0</th>\n",
       "      <td>0</td>\n",
       "      <td>0.059180</td>\n",
       "    </tr>\n",
       "    <tr>\n",
       "      <th>1</th>\n",
       "      <td>50803</td>\n",
       "      <td>0.036668</td>\n",
       "    </tr>\n",
       "    <tr>\n",
       "      <th>2</th>\n",
       "      <td>50804</td>\n",
       "      <td>0.032467</td>\n",
       "    </tr>\n",
       "    <tr>\n",
       "      <th>3</th>\n",
       "      <td>50805</td>\n",
       "      <td>0.029130</td>\n",
       "    </tr>\n",
       "    <tr>\n",
       "      <th>4</th>\n",
       "      <td>50806</td>\n",
       "      <td>0.027498</td>\n",
       "    </tr>\n",
       "    <tr>\n",
       "      <th>...</th>\n",
       "      <td>...</td>\n",
       "      <td>...</td>\n",
       "    </tr>\n",
       "    <tr>\n",
       "      <th>3996</th>\n",
       "      <td>67457019015</td>\n",
       "      <td>0.000000</td>\n",
       "    </tr>\n",
       "    <tr>\n",
       "      <th>3542</th>\n",
       "      <td>58160082011</td>\n",
       "      <td>0.000000</td>\n",
       "    </tr>\n",
       "    <tr>\n",
       "      <th>3543</th>\n",
       "      <td>58160082611</td>\n",
       "      <td>0.000000</td>\n",
       "    </tr>\n",
       "    <tr>\n",
       "      <th>3544</th>\n",
       "      <td>58160083501</td>\n",
       "      <td>0.000000</td>\n",
       "    </tr>\n",
       "    <tr>\n",
       "      <th>3289</th>\n",
       "      <td>51672125802</td>\n",
       "      <td>0.000000</td>\n",
       "    </tr>\n",
       "  </tbody>\n",
       "</table>\n",
       "<p>4068 rows × 2 columns</p>\n",
       "</div>"
      ],
      "text/plain": [
       "          feature     score\n",
       "0               0  0.059180\n",
       "1           50803  0.036668\n",
       "2           50804  0.032467\n",
       "3           50805  0.029130\n",
       "4           50806  0.027498\n",
       "...           ...       ...\n",
       "3996  67457019015  0.000000\n",
       "3542  58160082011  0.000000\n",
       "3543  58160082611  0.000000\n",
       "3544  58160083501  0.000000\n",
       "3289  51672125802  0.000000\n",
       "\n",
       "[4068 rows x 2 columns]"
      ]
     },
     "execution_count": 25,
     "metadata": {},
     "output_type": "execute_result"
    }
   ],
   "source": [
    "result = sign_fi.feature.to_frame()\n",
    "result['score'] = relu_fi['diff'] * sign_fi['value']\n",
    "result = result.sort_values('score', ascending=False)\n",
    "result"
   ]
  },
  {
   "cell_type": "code",
   "execution_count": 26,
   "id": "608b0a9e",
   "metadata": {},
   "outputs": [],
   "source": [
    "# result.to_csv('./data/method1_score.csv', index=False)"
   ]
  },
  {
   "cell_type": "code",
   "execution_count": null,
   "id": "b1166d17",
   "metadata": {},
   "outputs": [],
   "source": []
  }
 ],
 "metadata": {
  "kernelspec": {
   "display_name": "Python 3",
   "language": "python",
   "name": "python3"
  },
  "language_info": {
   "codemirror_mode": {
    "name": "ipython",
    "version": 3
   },
   "file_extension": ".py",
   "mimetype": "text/x-python",
   "name": "python",
   "nbconvert_exporter": "python",
   "pygments_lexer": "ipython3",
   "version": "3.8.10"
  },
  "toc": {
   "base_numbering": 1,
   "nav_menu": {},
   "number_sections": true,
   "sideBar": true,
   "skip_h1_title": false,
   "title_cell": "Table of Contents",
   "title_sidebar": "Contents",
   "toc_cell": false,
   "toc_position": {},
   "toc_section_display": true,
   "toc_window_display": false
  }
 },
 "nbformat": 4,
 "nbformat_minor": 5
}
