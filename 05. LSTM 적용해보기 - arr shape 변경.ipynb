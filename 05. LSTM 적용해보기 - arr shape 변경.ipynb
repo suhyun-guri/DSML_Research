{
 "cells": [
  {
   "cell_type": "code",
   "execution_count": 1,
   "id": "101b8be4",
   "metadata": {},
   "outputs": [],
   "source": [
    "import numpy as np\n",
    "import pandas as pd\n",
    "# import tensorflow as tf\n",
    "# from tensorflow import keras\n",
    "# from tensorflow.keras.models import Sequential\n",
    "# from tensorflow.keras.layers import Dense, LSTM, Reshape, GRU, RNN\n",
    "import matplotlib.pyplot as plt\n",
    "from sklearn.preprocessing import MinMaxScaler\n",
    "\n",
    "\n",
    "import warnings\n",
    "warnings.filterwarnings(action='ignore')\n",
    "\n",
    "import math\n",
    "\n",
    "from keras.models import Sequential\n",
    "from keras.layers import Dense, LSTM, Dropout\n",
    "from sklearn.preprocessing import MinMaxScaler\n",
    "from sklearn.metrics import mean_squared_error\n",
    "import pickle\n",
    "import gzip"
   ]
  },
  {
   "cell_type": "markdown",
   "id": "9e958de4",
   "metadata": {},
   "source": [
    "# DATA 로드 및 EDA"
   ]
  },
  {
   "cell_type": "code",
   "execution_count": 2,
   "id": "95796e84",
   "metadata": {},
   "outputs": [],
   "source": [
    "# load and uncompress.\n",
    "with gzip.open('3d_array.pickle','rb') as f:\n",
    "    arr = pickle.load(f)"
   ]
  },
  {
   "cell_type": "code",
   "execution_count": 3,
   "id": "1806213d",
   "metadata": {},
   "outputs": [
    {
     "data": {
      "text/plain": [
       "(7799, 690, 10)"
      ]
     },
     "execution_count": 3,
     "metadata": {},
     "output_type": "execute_result"
    }
   ],
   "source": [
    "arr.shape"
   ]
  },
  {
   "cell_type": "code",
   "execution_count": 4,
   "id": "c1c5a969",
   "metadata": {},
   "outputs": [],
   "source": [
    "label = np.load(\"3d_array_label.npy\")"
   ]
  },
  {
   "cell_type": "code",
   "execution_count": 5,
   "id": "636efa3a",
   "metadata": {},
   "outputs": [
    {
     "data": {
      "text/plain": [
       "(7799, 1)"
      ]
     },
     "execution_count": 5,
     "metadata": {},
     "output_type": "execute_result"
    }
   ],
   "source": [
    "label.shape"
   ]
  },
  {
   "cell_type": "code",
   "execution_count": 6,
   "id": "e890e770",
   "metadata": {},
   "outputs": [],
   "source": [
    "label_2d = np.load(\"3d_array_label_2d.npy\")"
   ]
  },
  {
   "cell_type": "code",
   "execution_count": 7,
   "id": "9bf01c52",
   "metadata": {
    "scrolled": true
   },
   "outputs": [
    {
     "data": {
      "text/plain": [
       "771616.0"
      ]
     },
     "execution_count": 7,
     "metadata": {},
     "output_type": "execute_result"
    }
   ],
   "source": [
    "arr.sum()"
   ]
  },
  {
   "cell_type": "code",
   "execution_count": 8,
   "id": "04480d79",
   "metadata": {},
   "outputs": [
    {
     "data": {
      "text/plain": [
       "0.014338813411604237"
      ]
     },
     "execution_count": 8,
     "metadata": {},
     "output_type": "execute_result"
    }
   ],
   "source": [
    "arr.sum()/(7799*690*10)"
   ]
  },
  {
   "cell_type": "code",
   "execution_count": 9,
   "id": "11397676",
   "metadata": {},
   "outputs": [
    {
     "data": {
      "text/plain": [
       "(7799, 10, 690)"
      ]
     },
     "execution_count": 9,
     "metadata": {},
     "output_type": "execute_result"
    }
   ],
   "source": [
    "arr1 = arr.reshape(arr.shape[0], arr.shape[2], arr.shape[1])\n",
    "arr1.shape"
   ]
  },
  {
   "cell_type": "code",
   "execution_count": 10,
   "id": "19d0c674",
   "metadata": {},
   "outputs": [
    {
     "data": {
      "text/plain": [
       "77.0"
      ]
     },
     "execution_count": 10,
     "metadata": {},
     "output_type": "execute_result"
    }
   ],
   "source": [
    "arr1[0,:,:].sum()"
   ]
  },
  {
   "cell_type": "markdown",
   "id": "a44a5218",
   "metadata": {},
   "source": [
    "# 데이터 나누기"
   ]
  },
  {
   "cell_type": "code",
   "execution_count": 11,
   "id": "49e0de91",
   "metadata": {},
   "outputs": [
    {
     "data": {
      "text/plain": [
       "5459.299999999999"
      ]
     },
     "execution_count": 11,
     "metadata": {},
     "output_type": "execute_result"
    }
   ],
   "source": [
    "arr1.shape[0] * 0.7"
   ]
  },
  {
   "cell_type": "code",
   "execution_count": 12,
   "id": "6be0b5f2",
   "metadata": {},
   "outputs": [
    {
     "data": {
      "text/plain": [
       "((5500, 10, 690), (5500, 1), (2299, 10, 690), (2299, 1))"
      ]
     },
     "execution_count": 12,
     "metadata": {},
     "output_type": "execute_result"
    }
   ],
   "source": [
    "# 5500을 기준으로 split\n",
    "X_train = arr1[:5500,:,:]\n",
    "y_train = label[:5500,:]\n",
    "# y_train = label_2d[:5500,:]\n",
    "\n",
    "\n",
    "X_test = arr1[5500:,:,:]\n",
    "y_test = label[5500:,:]\n",
    "# y_test = label_2d[5500:,:]\n",
    "\n",
    "\n",
    "\n",
    "X_train.shape, y_train.shape, X_test.shape, y_test.shape"
   ]
  },
  {
   "cell_type": "code",
   "execution_count": 13,
   "id": "ed129cea",
   "metadata": {},
   "outputs": [
    {
     "data": {
      "text/plain": [
       "0.6122579817925375"
      ]
     },
     "execution_count": 13,
     "metadata": {},
     "output_type": "execute_result"
    }
   ],
   "source": [
    "label.sum()/7799"
   ]
  },
  {
   "cell_type": "markdown",
   "id": "11a2992b",
   "metadata": {},
   "source": [
    "# LSTM"
   ]
  },
  {
   "cell_type": "code",
   "execution_count": 37,
   "id": "092e196c",
   "metadata": {},
   "outputs": [],
   "source": [
    "from keras.regularizers import l2"
   ]
  },
  {
   "cell_type": "code",
   "execution_count": 38,
   "id": "5e592128",
   "metadata": {},
   "outputs": [
    {
     "name": "stdout",
     "output_type": "stream",
     "text": [
      "Model: \"sequential_7\"\n",
      "_________________________________________________________________\n",
      "Layer (type)                 Output Shape              Param #   \n",
      "=================================================================\n",
      "lstm_11 (LSTM)               (None, 10, 12)            33744     \n",
      "_________________________________________________________________\n",
      "lstm_12 (LSTM)               (None, 12)                1200      \n",
      "_________________________________________________________________\n",
      "dense_7 (Dense)              (None, 1)                 13        \n",
      "=================================================================\n",
      "Total params: 34,957\n",
      "Trainable params: 34,957\n",
      "Non-trainable params: 0\n",
      "_________________________________________________________________\n",
      "None\n"
     ]
    }
   ],
   "source": [
    "lstm = Sequential()\n",
    "lstm.add(LSTM(units=12, activation='tanh', input_shape=(arr1.shape[1], arr1.shape[2]),return_sequences=True,\n",
    "         bias_regularizer=l2(0.001), kernel_regularizer=l2(0.001),recurrent_regularizer=l2(0.001)))\n",
    "lstm.add(LSTM(units=12, activation='tanh', input_shape=(12, arr1.shape[2]),\n",
    "              bias_regularizer=l2(0.001), kernel_regularizer=l2(0.001),recurrent_regularizer=l2(0.001)))\n",
    "lstm.add(Dense(units=1, activation='sigmoid'))\n",
    "print(lstm.summary())"
   ]
  },
  {
   "cell_type": "code",
   "execution_count": 39,
   "id": "66df30ab",
   "metadata": {
    "scrolled": true
   },
   "outputs": [
    {
     "name": "stdout",
     "output_type": "stream",
     "text": [
      "Epoch 1/500\n",
      "17/17 [==============================] - 3s 43ms/step - loss: 0.7730 - acc: 0.6485 - val_loss: 0.7872 - val_acc: 0.5782\n",
      "Epoch 2/500\n",
      "17/17 [==============================] - 0s 13ms/step - loss: 0.6566 - acc: 0.7084 - val_loss: 0.7306 - val_acc: 0.5898\n",
      "Epoch 3/500\n",
      "17/17 [==============================] - 0s 12ms/step - loss: 0.6171 - acc: 0.7182 - val_loss: 0.6872 - val_acc: 0.6771\n",
      "Epoch 4/500\n",
      "17/17 [==============================] - 0s 13ms/step - loss: 0.5827 - acc: 0.7687 - val_loss: 0.7373 - val_acc: 0.6618\n",
      "Epoch 5/500\n",
      "17/17 [==============================] - 0s 13ms/step - loss: 0.5682 - acc: 0.7665 - val_loss: 0.6563 - val_acc: 0.7076\n",
      "Epoch 6/500\n",
      "17/17 [==============================] - 0s 13ms/step - loss: 0.5455 - acc: 0.7793 - val_loss: 0.6929 - val_acc: 0.6909\n",
      "Epoch 7/500\n",
      "17/17 [==============================] - 0s 13ms/step - loss: 0.5328 - acc: 0.7852 - val_loss: 0.7060 - val_acc: 0.6916\n",
      "Epoch 8/500\n",
      "17/17 [==============================] - 0s 12ms/step - loss: 0.5206 - acc: 0.8018 - val_loss: 0.6893 - val_acc: 0.6982\n",
      "Epoch 9/500\n",
      "17/17 [==============================] - 0s 12ms/step - loss: 0.5202 - acc: 0.7908 - val_loss: 0.6871 - val_acc: 0.6989\n",
      "Epoch 10/500\n",
      "17/17 [==============================] - 0s 13ms/step - loss: 0.5005 - acc: 0.8003 - val_loss: 0.6303 - val_acc: 0.7018\n",
      "Epoch 11/500\n",
      "17/17 [==============================] - 0s 12ms/step - loss: 0.4982 - acc: 0.8014 - val_loss: 0.6353 - val_acc: 0.7142\n",
      "Epoch 12/500\n",
      "17/17 [==============================] - 0s 12ms/step - loss: 0.4918 - acc: 0.8055 - val_loss: 0.6406 - val_acc: 0.7076\n",
      "Epoch 13/500\n",
      "17/17 [==============================] - 0s 13ms/step - loss: 0.4800 - acc: 0.8097 - val_loss: 0.6888 - val_acc: 0.6960\n",
      "Epoch 14/500\n",
      "17/17 [==============================] - 0s 12ms/step - loss: 0.4837 - acc: 0.8137 - val_loss: 0.6368 - val_acc: 0.7055\n",
      "Epoch 15/500\n",
      "17/17 [==============================] - 0s 13ms/step - loss: 0.4804 - acc: 0.8109 - val_loss: 0.6407 - val_acc: 0.7062\n",
      "Epoch 00015: early stopping\n"
     ]
    }
   ],
   "source": [
    "from keras.callbacks import EarlyStopping\n",
    "\n",
    "lstm.compile(loss='binary_crossentropy', optimizer='rmsprop',metrics=['acc']) #loss='categorical_crossentropy'\n",
    "early_stop = EarlyStopping(monitor='val_loss', patience=5, verbose=1)\n",
    "history = lstm.fit(X_train, y_train, validation_split=0.25, batch_size=256, epochs=500,  callbacks=[early_stop])"
   ]
  },
  {
   "cell_type": "code",
   "execution_count": 40,
   "id": "94766b37",
   "metadata": {},
   "outputs": [
    {
     "data": {
      "image/png": "[encoded data removed]",
      "text/plain": [
       "<Figure size 432x288 with 1 Axes>"
      ]
     },
     "metadata": {
      "needs_background": "light"
     },
     "output_type": "display_data"
    }
   ],
   "source": [
    "plt.plot(history.history['acc'])\n",
    "plt.plot(history.history['val_acc'])\n",
    "plt.title('Model acc')\n",
    "plt.ylabel('acc')\n",
    "plt.xlabel('Epoch')\n",
    "plt.legend(['Train', 'Validation'], loc='upper left')\n",
    "plt.show()"
   ]
  },
  {
   "cell_type": "code",
   "execution_count": null,
   "id": "e04c2b0b",
   "metadata": {},
   "outputs": [],
   "source": []
  },
  {
   "cell_type": "markdown",
   "id": "a4a51a5e",
   "metadata": {},
   "source": [
    "# LSTM 2"
   ]
  },
  {
   "cell_type": "code",
   "execution_count": 67,
   "id": "878158fb",
   "metadata": {},
   "outputs": [
    {
     "data": {
      "text/plain": [
       "(7799, 10, 690)"
      ]
     },
     "execution_count": 67,
     "metadata": {},
     "output_type": "execute_result"
    }
   ],
   "source": [
    "arr1.shape"
   ]
  },
  {
   "cell_type": "code",
   "execution_count": 191,
   "id": "de9df4ba",
   "metadata": {
    "scrolled": true
   },
   "outputs": [
    {
     "name": "stdout",
     "output_type": "stream",
     "text": [
      "Model: \"sequential_39\"\n",
      "_________________________________________________________________\n",
      "Layer (type)                 Output Shape              Param #   \n",
      "=================================================================\n",
      "lstm_81 (LSTM)               (None, 8)                 22368     \n",
      "_________________________________________________________________\n",
      "dense_33 (Dense)             (None, 1)                 9         \n",
      "=================================================================\n",
      "Total params: 22,377\n",
      "Trainable params: 22,377\n",
      "Non-trainable params: 0\n",
      "_________________________________________________________________\n",
      "None\n"
     ]
    }
   ],
   "source": [
    "lstm = Sequential()\n",
    "lstm.add(LSTM(units=8, activation='sigmoid', recurrent_activation='hard_sigmoid', input_shape=(arr1.shape[1], arr1.shape[2])))\n",
    "# lstm.add(LSTM(units=8, activation='sigmoid', recurrent_activation='hard_sigmoid', input_shape=(8, arr1.shape[2])))\n",
    "lstm.add(Dense(units=1, activation='sigmoid'))\n",
    "print(lstm.summary())"
   ]
  },
  {
   "cell_type": "code",
   "execution_count": 192,
   "id": "dbb99d0f",
   "metadata": {},
   "outputs": [
    {
     "data": {
      "text/plain": [
       "690"
      ]
     },
     "execution_count": 192,
     "metadata": {},
     "output_type": "execute_result"
    }
   ],
   "source": [
    "arr1.shape[2]"
   ]
  },
  {
   "cell_type": "code",
   "execution_count": 194,
   "id": "d4c5b779",
   "metadata": {
    "scrolled": true
   },
   "outputs": [
    {
     "name": "stdout",
     "output_type": "stream",
     "text": [
      "Epoch 1/200\n",
      "5/5 [==============================] - 2s 98ms/step - loss: 0.3026 - acc: 0.8809 - val_loss: 0.6870 - val_acc: 0.7105\n",
      "Epoch 2/200\n",
      "5/5 [==============================] - 0s 28ms/step - loss: 0.3072 - acc: 0.8755 - val_loss: 0.7053 - val_acc: 0.6989\n",
      "Epoch 3/200\n",
      "5/5 [==============================] - 0s 24ms/step - loss: 0.3084 - acc: 0.8701 - val_loss: 0.6872 - val_acc: 0.7076\n",
      "Epoch 4/200\n",
      "5/5 [==============================] - 0s 26ms/step - loss: 0.3104 - acc: 0.8783 - val_loss: 0.6719 - val_acc: 0.7025\n",
      "Epoch 5/200\n",
      "5/5 [==============================] - 0s 23ms/step - loss: 0.3041 - acc: 0.8863 - val_loss: 0.6740 - val_acc: 0.7069\n",
      "Epoch 6/200\n",
      "5/5 [==============================] - 0s 25ms/step - loss: 0.3098 - acc: 0.8813 - val_loss: 0.6833 - val_acc: 0.7076\n",
      "Epoch 7/200\n",
      "5/5 [==============================] - 0s 23ms/step - loss: 0.3071 - acc: 0.8783 - val_loss: 0.6886 - val_acc: 0.7076\n",
      "Epoch 8/200\n",
      "5/5 [==============================] - 0s 24ms/step - loss: 0.3021 - acc: 0.8809 - val_loss: 0.6907 - val_acc: 0.7076\n",
      "Epoch 9/200\n",
      "5/5 [==============================] - 0s 24ms/step - loss: 0.3043 - acc: 0.8766 - val_loss: 0.6900 - val_acc: 0.7069\n",
      "Epoch 10/200\n",
      "5/5 [==============================] - 0s 24ms/step - loss: 0.3093 - acc: 0.8773 - val_loss: 0.6858 - val_acc: 0.7091\n",
      "Epoch 11/200\n",
      "5/5 [==============================] - 0s 23ms/step - loss: 0.3016 - acc: 0.8830 - val_loss: 0.6897 - val_acc: 0.7084\n",
      "Epoch 12/200\n",
      "5/5 [==============================] - 0s 25ms/step - loss: 0.3021 - acc: 0.8837 - val_loss: 0.6813 - val_acc: 0.7069\n",
      "Epoch 13/200\n",
      "5/5 [==============================] - 0s 24ms/step - loss: 0.3073 - acc: 0.8833 - val_loss: 0.6786 - val_acc: 0.7025\n",
      "Epoch 14/200\n",
      "5/5 [==============================] - 0s 22ms/step - loss: 0.3089 - acc: 0.8782 - val_loss: 0.6972 - val_acc: 0.7076\n",
      "Epoch 15/200\n",
      "5/5 [==============================] - 0s 22ms/step - loss: 0.3008 - acc: 0.8805 - val_loss: 0.7207 - val_acc: 0.6931\n",
      "Epoch 16/200\n",
      "5/5 [==============================] - 0s 23ms/step - loss: 0.3046 - acc: 0.8747 - val_loss: 0.7079 - val_acc: 0.7004\n",
      "Epoch 17/200\n",
      "5/5 [==============================] - 0s 24ms/step - loss: 0.2972 - acc: 0.8822 - val_loss: 0.6874 - val_acc: 0.7033\n",
      "Epoch 18/200\n",
      "5/5 [==============================] - 0s 23ms/step - loss: 0.3027 - acc: 0.8859 - val_loss: 0.6898 - val_acc: 0.7040\n",
      "Epoch 19/200\n",
      "5/5 [==============================] - 0s 23ms/step - loss: 0.3005 - acc: 0.8866 - val_loss: 0.7064 - val_acc: 0.7004\n",
      "Epoch 20/200\n",
      "5/5 [==============================] - 0s 24ms/step - loss: 0.3061 - acc: 0.8820 - val_loss: 0.7068 - val_acc: 0.7004\n",
      "Epoch 21/200\n",
      "5/5 [==============================] - 0s 23ms/step - loss: 0.2902 - acc: 0.8885 - val_loss: 0.6985 - val_acc: 0.7055\n",
      "Epoch 22/200\n",
      "5/5 [==============================] - 0s 24ms/step - loss: 0.2928 - acc: 0.8880 - val_loss: 0.6951 - val_acc: 0.7033\n",
      "Epoch 23/200\n",
      "5/5 [==============================] - 0s 23ms/step - loss: 0.3014 - acc: 0.8839 - val_loss: 0.7025 - val_acc: 0.7069\n",
      "Epoch 24/200\n",
      "5/5 [==============================] - 0s 23ms/step - loss: 0.2918 - acc: 0.8873 - val_loss: 0.7174 - val_acc: 0.6989\n",
      "Epoch 25/200\n",
      "5/5 [==============================] - 0s 23ms/step - loss: 0.2963 - acc: 0.8837 - val_loss: 0.7126 - val_acc: 0.7033\n",
      "Epoch 26/200\n",
      "5/5 [==============================] - 0s 23ms/step - loss: 0.2949 - acc: 0.8872 - val_loss: 0.7101 - val_acc: 0.7055\n",
      "Epoch 27/200\n",
      "5/5 [==============================] - 0s 21ms/step - loss: 0.2940 - acc: 0.8873 - val_loss: 0.7104 - val_acc: 0.7055\n",
      "Epoch 28/200\n",
      "5/5 [==============================] - 0s 22ms/step - loss: 0.2951 - acc: 0.8874 - val_loss: 0.7179 - val_acc: 0.7025\n",
      "Epoch 29/200\n",
      "5/5 [==============================] - 0s 24ms/step - loss: 0.3031 - acc: 0.8847 - val_loss: 0.7064 - val_acc: 0.7055\n",
      "Epoch 30/200\n",
      "5/5 [==============================] - 0s 23ms/step - loss: 0.2957 - acc: 0.8866 - val_loss: 0.7091 - val_acc: 0.7025\n",
      "Epoch 31/200\n",
      "5/5 [==============================] - 0s 23ms/step - loss: 0.2951 - acc: 0.8898 - val_loss: 0.7167 - val_acc: 0.6989\n",
      "Epoch 32/200\n",
      "5/5 [==============================] - 0s 21ms/step - loss: 0.2985 - acc: 0.8851 - val_loss: 0.7106 - val_acc: 0.7033\n",
      "Epoch 33/200\n",
      "5/5 [==============================] - 0s 22ms/step - loss: 0.2930 - acc: 0.8900 - val_loss: 0.7088 - val_acc: 0.7040\n",
      "Epoch 34/200\n",
      "5/5 [==============================] - 0s 23ms/step - loss: 0.2919 - acc: 0.8927 - val_loss: 0.7074 - val_acc: 0.7047\n",
      "Epoch 35/200\n",
      "5/5 [==============================] - 0s 22ms/step - loss: 0.2867 - acc: 0.8928 - val_loss: 0.7146 - val_acc: 0.7011\n",
      "Epoch 36/200\n",
      "5/5 [==============================] - 0s 22ms/step - loss: 0.2856 - acc: 0.8939 - val_loss: 0.7187 - val_acc: 0.6982\n",
      "Epoch 37/200\n",
      "5/5 [==============================] - 0s 22ms/step - loss: 0.3003 - acc: 0.8846 - val_loss: 0.7222 - val_acc: 0.7004\n",
      "Epoch 38/200\n",
      "5/5 [==============================] - 0s 24ms/step - loss: 0.2958 - acc: 0.8850 - val_loss: 0.7256 - val_acc: 0.7011\n",
      "Epoch 39/200\n",
      "5/5 [==============================] - 0s 22ms/step - loss: 0.2861 - acc: 0.8900 - val_loss: 0.7159 - val_acc: 0.7018\n",
      "Epoch 40/200\n",
      "5/5 [==============================] - 0s 23ms/step - loss: 0.2826 - acc: 0.8974 - val_loss: 0.7032 - val_acc: 0.7040\n",
      "Epoch 41/200\n",
      "5/5 [==============================] - 0s 24ms/step - loss: 0.2913 - acc: 0.8929 - val_loss: 0.7058 - val_acc: 0.7040\n",
      "Epoch 42/200\n",
      "5/5 [==============================] - 0s 22ms/step - loss: 0.2958 - acc: 0.8895 - val_loss: 0.7236 - val_acc: 0.7004\n",
      "Epoch 43/200\n",
      "5/5 [==============================] - 0s 23ms/step - loss: 0.2841 - acc: 0.8888 - val_loss: 0.7336 - val_acc: 0.6982\n",
      "Epoch 44/200\n",
      "5/5 [==============================] - 0s 23ms/step - loss: 0.2925 - acc: 0.8863 - val_loss: 0.7113 - val_acc: 0.7055\n",
      "Epoch 45/200\n",
      "5/5 [==============================] - 0s 24ms/step - loss: 0.2854 - acc: 0.8933 - val_loss: 0.7147 - val_acc: 0.7033\n",
      "Epoch 46/200\n",
      "5/5 [==============================] - 0s 23ms/step - loss: 0.2849 - acc: 0.8921 - val_loss: 0.7381 - val_acc: 0.7040\n",
      "Epoch 47/200\n",
      "5/5 [==============================] - 0s 22ms/step - loss: 0.2942 - acc: 0.8815 - val_loss: 0.7505 - val_acc: 0.6989\n",
      "Epoch 48/200\n",
      "5/5 [==============================] - 0s 22ms/step - loss: 0.2910 - acc: 0.8817 - val_loss: 0.7291 - val_acc: 0.7033\n",
      "Epoch 49/200\n",
      "5/5 [==============================] - 0s 23ms/step - loss: 0.2824 - acc: 0.8925 - val_loss: 0.7064 - val_acc: 0.7040\n",
      "Epoch 50/200\n",
      "5/5 [==============================] - 0s 22ms/step - loss: 0.2916 - acc: 0.8889 - val_loss: 0.7123 - val_acc: 0.7047\n",
      "Epoch 51/200\n",
      "5/5 [==============================] - 0s 22ms/step - loss: 0.2923 - acc: 0.8909 - val_loss: 0.7397 - val_acc: 0.6982\n",
      "Epoch 52/200\n",
      "5/5 [==============================] - 0s 23ms/step - loss: 0.2878 - acc: 0.8850 - val_loss: 0.7283 - val_acc: 0.7047\n",
      "Epoch 53/200\n",
      "5/5 [==============================] - 0s 23ms/step - loss: 0.2832 - acc: 0.8964 - val_loss: 0.7112 - val_acc: 0.7055\n",
      "Epoch 54/200\n",
      "5/5 [==============================] - 0s 22ms/step - loss: 0.2779 - acc: 0.8968 - val_loss: 0.7099 - val_acc: 0.7113\n",
      "Epoch 55/200\n",
      "5/5 [==============================] - 0s 22ms/step - loss: 0.2813 - acc: 0.8985 - val_loss: 0.7115 - val_acc: 0.7127\n",
      "Epoch 56/200\n",
      "5/5 [==============================] - 0s 22ms/step - loss: 0.2862 - acc: 0.8947 - val_loss: 0.7235 - val_acc: 0.7025\n",
      "Epoch 57/200\n",
      "5/5 [==============================] - 0s 23ms/step - loss: 0.2769 - acc: 0.8929 - val_loss: 0.7384 - val_acc: 0.7033\n",
      "Epoch 58/200\n",
      "5/5 [==============================] - 0s 23ms/step - loss: 0.2846 - acc: 0.8853 - val_loss: 0.7281 - val_acc: 0.6996\n",
      "Epoch 59/200\n",
      "5/5 [==============================] - 0s 23ms/step - loss: 0.2806 - acc: 0.8972 - val_loss: 0.7211 - val_acc: 0.7040\n",
      "Epoch 60/200\n",
      "5/5 [==============================] - 0s 22ms/step - loss: 0.2737 - acc: 0.9004 - val_loss: 0.7143 - val_acc: 0.7033\n",
      "Epoch 61/200\n",
      "5/5 [==============================] - 0s 23ms/step - loss: 0.2776 - acc: 0.8971 - val_loss: 0.7203 - val_acc: 0.7033\n",
      "Epoch 62/200\n",
      "5/5 [==============================] - 0s 23ms/step - loss: 0.2746 - acc: 0.8987 - val_loss: 0.7342 - val_acc: 0.6996\n",
      "Epoch 63/200\n",
      "5/5 [==============================] - 0s 24ms/step - loss: 0.2779 - acc: 0.8969 - val_loss: 0.7229 - val_acc: 0.7018\n",
      "Epoch 64/200\n",
      "5/5 [==============================] - 0s 24ms/step - loss: 0.2714 - acc: 0.8988 - val_loss: 0.7204 - val_acc: 0.7025\n",
      "Epoch 65/200\n",
      "5/5 [==============================] - 0s 24ms/step - loss: 0.2809 - acc: 0.8993 - val_loss: 0.7275 - val_acc: 0.7047\n",
      "Epoch 66/200\n",
      "5/5 [==============================] - 0s 22ms/step - loss: 0.2780 - acc: 0.8968 - val_loss: 0.7378 - val_acc: 0.7033\n",
      "Epoch 67/200\n",
      "5/5 [==============================] - 0s 23ms/step - loss: 0.2814 - acc: 0.8958 - val_loss: 0.7327 - val_acc: 0.7047\n",
      "Epoch 68/200\n",
      "5/5 [==============================] - 0s 23ms/step - loss: 0.2775 - acc: 0.8973 - val_loss: 0.7279 - val_acc: 0.7025\n",
      "Epoch 69/200\n",
      "5/5 [==============================] - 0s 27ms/step - loss: 0.2701 - acc: 0.9047 - val_loss: 0.7325 - val_acc: 0.7062\n",
      "Epoch 70/200\n",
      "5/5 [==============================] - 0s 22ms/step - loss: 0.2768 - acc: 0.8946 - val_loss: 0.7484 - val_acc: 0.7011\n",
      "Epoch 71/200\n",
      "5/5 [==============================] - 0s 22ms/step - loss: 0.2750 - acc: 0.8946 - val_loss: 0.7396 - val_acc: 0.7062\n",
      "Epoch 72/200\n",
      "5/5 [==============================] - 0s 23ms/step - loss: 0.2735 - acc: 0.8993 - val_loss: 0.7286 - val_acc: 0.7047\n",
      "Epoch 73/200\n",
      "5/5 [==============================] - 0s 23ms/step - loss: 0.2762 - acc: 0.9018 - val_loss: 0.7328 - val_acc: 0.7040\n",
      "Epoch 74/200\n",
      "5/5 [==============================] - 0s 23ms/step - loss: 0.2729 - acc: 0.8979 - val_loss: 0.7590 - val_acc: 0.6982\n",
      "Epoch 75/200\n",
      "5/5 [==============================] - 0s 22ms/step - loss: 0.2709 - acc: 0.8964 - val_loss: 0.7511 - val_acc: 0.6996\n",
      "Epoch 76/200\n",
      "5/5 [==============================] - 0s 22ms/step - loss: 0.2719 - acc: 0.9001 - val_loss: 0.7413 - val_acc: 0.7047\n",
      "Epoch 77/200\n",
      "5/5 [==============================] - 0s 21ms/step - loss: 0.2712 - acc: 0.9018 - val_loss: 0.7481 - val_acc: 0.6996\n",
      "Epoch 78/200\n",
      "5/5 [==============================] - 0s 23ms/step - loss: 0.2585 - acc: 0.9056 - val_loss: 0.7393 - val_acc: 0.7040\n",
      "Epoch 79/200\n",
      "5/5 [==============================] - 0s 24ms/step - loss: 0.2701 - acc: 0.9044 - val_loss: 0.7295 - val_acc: 0.7018\n",
      "Epoch 80/200\n",
      "5/5 [==============================] - 0s 22ms/step - loss: 0.2758 - acc: 0.9031 - val_loss: 0.7415 - val_acc: 0.6996\n",
      "Epoch 81/200\n",
      "5/5 [==============================] - 0s 22ms/step - loss: 0.2735 - acc: 0.9022 - val_loss: 0.7587 - val_acc: 0.6982\n",
      "Epoch 82/200\n",
      "5/5 [==============================] - 0s 21ms/step - loss: 0.2692 - acc: 0.8991 - val_loss: 0.7522 - val_acc: 0.6982\n",
      "Epoch 83/200\n",
      "5/5 [==============================] - 0s 22ms/step - loss: 0.2687 - acc: 0.9050 - val_loss: 0.7333 - val_acc: 0.7004\n",
      "Epoch 84/200\n",
      "5/5 [==============================] - 0s 23ms/step - loss: 0.2728 - acc: 0.9035 - val_loss: 0.7554 - val_acc: 0.6975\n",
      "Epoch 85/200\n",
      "5/5 [==============================] - 0s 23ms/step - loss: 0.2723 - acc: 0.9010 - val_loss: 0.7610 - val_acc: 0.6975\n",
      "Epoch 86/200\n",
      "5/5 [==============================] - 0s 22ms/step - loss: 0.2682 - acc: 0.8983 - val_loss: 0.7509 - val_acc: 0.6996\n",
      "Epoch 87/200\n",
      "5/5 [==============================] - 0s 22ms/step - loss: 0.2710 - acc: 0.9043 - val_loss: 0.7367 - val_acc: 0.7018\n",
      "Epoch 88/200\n",
      "5/5 [==============================] - 0s 22ms/step - loss: 0.2716 - acc: 0.9058 - val_loss: 0.7471 - val_acc: 0.6975\n",
      "Epoch 89/200\n",
      "5/5 [==============================] - 0s 22ms/step - loss: 0.2732 - acc: 0.9053 - val_loss: 0.7452 - val_acc: 0.6975\n",
      "Epoch 90/200\n",
      "5/5 [==============================] - 0s 23ms/step - loss: 0.2679 - acc: 0.9053 - val_loss: 0.7606 - val_acc: 0.6982\n",
      "Epoch 91/200\n",
      "5/5 [==============================] - 0s 23ms/step - loss: 0.2671 - acc: 0.9010 - val_loss: 0.7592 - val_acc: 0.6996\n",
      "Epoch 92/200\n",
      "5/5 [==============================] - 0s 23ms/step - loss: 0.2607 - acc: 0.9056 - val_loss: 0.7362 - val_acc: 0.6989\n",
      "Epoch 93/200\n",
      "5/5 [==============================] - 0s 22ms/step - loss: 0.2682 - acc: 0.9077 - val_loss: 0.7434 - val_acc: 0.6982\n",
      "Epoch 94/200\n",
      "5/5 [==============================] - 0s 23ms/step - loss: 0.2582 - acc: 0.9083 - val_loss: 0.7418 - val_acc: 0.7011\n",
      "Epoch 95/200\n",
      "5/5 [==============================] - 0s 23ms/step - loss: 0.2595 - acc: 0.9098 - val_loss: 0.7437 - val_acc: 0.7025\n",
      "Epoch 96/200\n",
      "5/5 [==============================] - 0s 23ms/step - loss: 0.2654 - acc: 0.9068 - val_loss: 0.7488 - val_acc: 0.6996\n",
      "Epoch 97/200\n",
      "5/5 [==============================] - 0s 23ms/step - loss: 0.2642 - acc: 0.9057 - val_loss: 0.7536 - val_acc: 0.6975\n",
      "Epoch 98/200\n",
      "5/5 [==============================] - 0s 24ms/step - loss: 0.2608 - acc: 0.9040 - val_loss: 0.7659 - val_acc: 0.7004\n",
      "Epoch 99/200\n",
      "5/5 [==============================] - 0s 23ms/step - loss: 0.2623 - acc: 0.9035 - val_loss: 0.7779 - val_acc: 0.7011\n",
      "Epoch 100/200\n",
      "5/5 [==============================] - 0s 22ms/step - loss: 0.2655 - acc: 0.8978 - val_loss: 0.7606 - val_acc: 0.6989\n",
      "Epoch 101/200\n",
      "5/5 [==============================] - 0s 21ms/step - loss: 0.2630 - acc: 0.9086 - val_loss: 0.7356 - val_acc: 0.7018\n",
      "Epoch 102/200\n",
      "5/5 [==============================] - 0s 23ms/step - loss: 0.2632 - acc: 0.9112 - val_loss: 0.7528 - val_acc: 0.6982\n",
      "Epoch 103/200\n",
      "5/5 [==============================] - 0s 23ms/step - loss: 0.2592 - acc: 0.9075 - val_loss: 0.7893 - val_acc: 0.6996\n",
      "Epoch 104/200\n",
      "5/5 [==============================] - 0s 21ms/step - loss: 0.2640 - acc: 0.8990 - val_loss: 0.7567 - val_acc: 0.6960\n",
      "Epoch 105/200\n",
      "5/5 [==============================] - 0s 27ms/step - loss: 0.2644 - acc: 0.9087 - val_loss: 0.7359 - val_acc: 0.7033\n",
      "Epoch 106/200\n",
      "5/5 [==============================] - 0s 22ms/step - loss: 0.2584 - acc: 0.9115 - val_loss: 0.7632 - val_acc: 0.7011\n",
      "Epoch 107/200\n",
      "5/5 [==============================] - 0s 23ms/step - loss: 0.2591 - acc: 0.9095 - val_loss: 0.7791 - val_acc: 0.6967\n",
      "Epoch 108/200\n",
      "5/5 [==============================] - 0s 25ms/step - loss: 0.2606 - acc: 0.9052 - val_loss: 0.7498 - val_acc: 0.6967\n",
      "Epoch 109/200\n",
      "5/5 [==============================] - 0s 23ms/step - loss: 0.2554 - acc: 0.9153 - val_loss: 0.7429 - val_acc: 0.7004\n",
      "Epoch 110/200\n",
      "5/5 [==============================] - 0s 24ms/step - loss: 0.2619 - acc: 0.9126 - val_loss: 0.7701 - val_acc: 0.6967\n",
      "Epoch 111/200\n",
      "5/5 [==============================] - 0s 22ms/step - loss: 0.2632 - acc: 0.9028 - val_loss: 0.7823 - val_acc: 0.6975\n",
      "Epoch 112/200\n",
      "5/5 [==============================] - 0s 23ms/step - loss: 0.2571 - acc: 0.9041 - val_loss: 0.7675 - val_acc: 0.6967\n",
      "Epoch 113/200\n",
      "5/5 [==============================] - 0s 23ms/step - loss: 0.2536 - acc: 0.9120 - val_loss: 0.7540 - val_acc: 0.7004\n",
      "Epoch 114/200\n",
      "5/5 [==============================] - 0s 22ms/step - loss: 0.2520 - acc: 0.9139 - val_loss: 0.7534 - val_acc: 0.6989\n",
      "Epoch 115/200\n",
      "5/5 [==============================] - 0s 22ms/step - loss: 0.2529 - acc: 0.9136 - val_loss: 0.7680 - val_acc: 0.6989\n",
      "Epoch 116/200\n",
      "5/5 [==============================] - 0s 22ms/step - loss: 0.2477 - acc: 0.9180 - val_loss: 0.7665 - val_acc: 0.6982\n",
      "Epoch 117/200\n",
      "5/5 [==============================] - 0s 21ms/step - loss: 0.2505 - acc: 0.9134 - val_loss: 0.7708 - val_acc: 0.6996\n",
      "Epoch 118/200\n",
      "5/5 [==============================] - 0s 21ms/step - loss: 0.2468 - acc: 0.9133 - val_loss: 0.7748 - val_acc: 0.7004\n",
      "Epoch 119/200\n",
      "5/5 [==============================] - 0s 22ms/step - loss: 0.2494 - acc: 0.9106 - val_loss: 0.7686 - val_acc: 0.6982\n",
      "Epoch 120/200\n",
      "5/5 [==============================] - 0s 23ms/step - loss: 0.2534 - acc: 0.9079 - val_loss: 0.7714 - val_acc: 0.6967\n",
      "Epoch 121/200\n",
      "5/5 [==============================] - 0s 22ms/step - loss: 0.2519 - acc: 0.9121 - val_loss: 0.7712 - val_acc: 0.6960\n",
      "Epoch 122/200\n",
      "5/5 [==============================] - 0s 22ms/step - loss: 0.2506 - acc: 0.9113 - val_loss: 0.7826 - val_acc: 0.6989\n",
      "Epoch 123/200\n",
      "5/5 [==============================] - 0s 22ms/step - loss: 0.2560 - acc: 0.9053 - val_loss: 0.7681 - val_acc: 0.6967\n",
      "Epoch 124/200\n",
      "5/5 [==============================] - 0s 22ms/step - loss: 0.2409 - acc: 0.9172 - val_loss: 0.7703 - val_acc: 0.6960\n",
      "Epoch 125/200\n"
     ]
    },
    {
     "name": "stdout",
     "output_type": "stream",
     "text": [
      "5/5 [==============================] - 0s 23ms/step - loss: 0.2544 - acc: 0.9120 - val_loss: 0.7679 - val_acc: 0.6960\n",
      "Epoch 126/200\n",
      "5/5 [==============================] - 0s 23ms/step - loss: 0.2512 - acc: 0.9143 - val_loss: 0.7648 - val_acc: 0.6960\n",
      "Epoch 127/200\n",
      "5/5 [==============================] - 0s 22ms/step - loss: 0.2441 - acc: 0.9170 - val_loss: 0.7690 - val_acc: 0.6975\n",
      "Epoch 128/200\n",
      "5/5 [==============================] - 0s 22ms/step - loss: 0.2437 - acc: 0.9142 - val_loss: 0.7826 - val_acc: 0.7011\n",
      "Epoch 129/200\n",
      "5/5 [==============================] - 0s 24ms/step - loss: 0.2423 - acc: 0.9148 - val_loss: 0.7672 - val_acc: 0.6982\n",
      "Epoch 130/200\n",
      "5/5 [==============================] - 0s 25ms/step - loss: 0.2483 - acc: 0.9154 - val_loss: 0.7742 - val_acc: 0.6989\n",
      "Epoch 131/200\n",
      "5/5 [==============================] - 0s 24ms/step - loss: 0.2495 - acc: 0.9135 - val_loss: 0.7763 - val_acc: 0.7004\n",
      "Epoch 132/200\n",
      "5/5 [==============================] - 0s 22ms/step - loss: 0.2430 - acc: 0.9176 - val_loss: 0.7773 - val_acc: 0.7018\n",
      "Epoch 133/200\n",
      "5/5 [==============================] - 0s 23ms/step - loss: 0.2432 - acc: 0.9145 - val_loss: 0.7755 - val_acc: 0.6996\n",
      "Epoch 134/200\n",
      "5/5 [==============================] - 0s 23ms/step - loss: 0.2482 - acc: 0.9124 - val_loss: 0.7621 - val_acc: 0.6989\n",
      "Epoch 135/200\n",
      "5/5 [==============================] - 0s 23ms/step - loss: 0.2440 - acc: 0.9196 - val_loss: 0.7756 - val_acc: 0.7011\n",
      "Epoch 136/200\n",
      "5/5 [==============================] - 0s 22ms/step - loss: 0.2412 - acc: 0.9215 - val_loss: 0.7778 - val_acc: 0.7025\n",
      "Epoch 137/200\n",
      "5/5 [==============================] - 0s 24ms/step - loss: 0.2345 - acc: 0.9180 - val_loss: 0.7976 - val_acc: 0.7011\n",
      "Epoch 138/200\n",
      "5/5 [==============================] - 0s 21ms/step - loss: 0.2396 - acc: 0.9121 - val_loss: 0.7853 - val_acc: 0.7004\n",
      "Epoch 139/200\n",
      "5/5 [==============================] - 0s 22ms/step - loss: 0.2507 - acc: 0.9124 - val_loss: 0.7685 - val_acc: 0.6989\n",
      "Epoch 140/200\n",
      "5/5 [==============================] - 0s 25ms/step - loss: 0.2435 - acc: 0.9210 - val_loss: 0.7812 - val_acc: 0.7033\n",
      "Epoch 141/200\n",
      "5/5 [==============================] - 0s 23ms/step - loss: 0.2457 - acc: 0.9159 - val_loss: 0.7951 - val_acc: 0.6989\n",
      "Epoch 142/200\n",
      "5/5 [==============================] - 0s 22ms/step - loss: 0.2368 - acc: 0.9180 - val_loss: 0.7898 - val_acc: 0.7033\n",
      "Epoch 143/200\n",
      "5/5 [==============================] - 0s 22ms/step - loss: 0.2417 - acc: 0.9168 - val_loss: 0.7823 - val_acc: 0.6996\n",
      "Epoch 144/200\n",
      "5/5 [==============================] - 0s 22ms/step - loss: 0.2379 - acc: 0.9192 - val_loss: 0.7893 - val_acc: 0.7055\n",
      "Epoch 145/200\n",
      "5/5 [==============================] - 0s 22ms/step - loss: 0.2407 - acc: 0.9142 - val_loss: 0.7994 - val_acc: 0.7004\n",
      "Epoch 146/200\n",
      "5/5 [==============================] - 0s 23ms/step - loss: 0.2395 - acc: 0.9162 - val_loss: 0.7932 - val_acc: 0.7025\n",
      "Epoch 147/200\n",
      "5/5 [==============================] - 0s 23ms/step - loss: 0.2361 - acc: 0.9211 - val_loss: 0.7862 - val_acc: 0.6989\n",
      "Epoch 148/200\n",
      "5/5 [==============================] - 0s 24ms/step - loss: 0.2298 - acc: 0.9238 - val_loss: 0.7838 - val_acc: 0.6996\n",
      "Epoch 149/200\n",
      "5/5 [==============================] - 0s 23ms/step - loss: 0.2306 - acc: 0.9221 - val_loss: 0.7933 - val_acc: 0.6989\n",
      "Epoch 150/200\n",
      "5/5 [==============================] - 0s 23ms/step - loss: 0.2438 - acc: 0.9153 - val_loss: 0.7999 - val_acc: 0.7011\n",
      "Epoch 151/200\n",
      "5/5 [==============================] - 0s 22ms/step - loss: 0.2367 - acc: 0.9198 - val_loss: 0.7848 - val_acc: 0.6989\n",
      "Epoch 152/200\n",
      "5/5 [==============================] - 0s 23ms/step - loss: 0.2323 - acc: 0.9245 - val_loss: 0.8085 - val_acc: 0.6996\n",
      "Epoch 153/200\n",
      "5/5 [==============================] - 0s 23ms/step - loss: 0.2367 - acc: 0.9151 - val_loss: 0.8106 - val_acc: 0.6975\n",
      "Epoch 154/200\n",
      "5/5 [==============================] - 0s 25ms/step - loss: 0.2280 - acc: 0.9218 - val_loss: 0.7843 - val_acc: 0.6967\n",
      "Epoch 155/200\n",
      "5/5 [==============================] - 0s 23ms/step - loss: 0.2423 - acc: 0.9226 - val_loss: 0.7899 - val_acc: 0.6975\n",
      "Epoch 156/200\n",
      "5/5 [==============================] - 0s 23ms/step - loss: 0.2327 - acc: 0.9203 - val_loss: 0.8184 - val_acc: 0.6982\n",
      "Epoch 157/200\n",
      "5/5 [==============================] - 0s 23ms/step - loss: 0.2400 - acc: 0.9170 - val_loss: 0.7882 - val_acc: 0.7018\n",
      "Epoch 158/200\n",
      "5/5 [==============================] - 0s 22ms/step - loss: 0.2364 - acc: 0.9243 - val_loss: 0.8010 - val_acc: 0.7018\n",
      "Epoch 159/200\n",
      "5/5 [==============================] - 0s 22ms/step - loss: 0.2294 - acc: 0.9263 - val_loss: 0.8195 - val_acc: 0.6938\n",
      "Epoch 160/200\n",
      "5/5 [==============================] - 0s 22ms/step - loss: 0.2318 - acc: 0.9215 - val_loss: 0.7982 - val_acc: 0.6996\n",
      "Epoch 161/200\n",
      "5/5 [==============================] - 0s 25ms/step - loss: 0.2308 - acc: 0.9251 - val_loss: 0.7911 - val_acc: 0.6996\n",
      "Epoch 162/200\n",
      "5/5 [==============================] - 0s 22ms/step - loss: 0.2327 - acc: 0.9246 - val_loss: 0.8116 - val_acc: 0.7004\n",
      "Epoch 163/200\n",
      "5/5 [==============================] - 0s 22ms/step - loss: 0.2313 - acc: 0.9179 - val_loss: 0.8225 - val_acc: 0.6945\n",
      "Epoch 164/200\n",
      "5/5 [==============================] - 0s 23ms/step - loss: 0.2340 - acc: 0.9206 - val_loss: 0.8040 - val_acc: 0.6975\n",
      "Epoch 165/200\n",
      "5/5 [==============================] - 0s 22ms/step - loss: 0.2308 - acc: 0.9261 - val_loss: 0.8069 - val_acc: 0.6967\n",
      "Epoch 166/200\n",
      "5/5 [==============================] - 0s 24ms/step - loss: 0.2270 - acc: 0.9222 - val_loss: 0.8100 - val_acc: 0.6960\n",
      "Epoch 167/200\n",
      "5/5 [==============================] - 0s 25ms/step - loss: 0.2247 - acc: 0.9262 - val_loss: 0.7846 - val_acc: 0.7011\n",
      "Epoch 168/200\n",
      "5/5 [==============================] - 0s 24ms/step - loss: 0.2273 - acc: 0.9281 - val_loss: 0.8130 - val_acc: 0.6996\n",
      "Epoch 169/200\n",
      "5/5 [==============================] - 0s 22ms/step - loss: 0.2344 - acc: 0.9189 - val_loss: 0.8279 - val_acc: 0.6975\n",
      "Epoch 170/200\n",
      "5/5 [==============================] - 0s 22ms/step - loss: 0.2233 - acc: 0.9242 - val_loss: 0.8003 - val_acc: 0.6938\n",
      "Epoch 171/200\n",
      "5/5 [==============================] - 0s 25ms/step - loss: 0.2316 - acc: 0.9267 - val_loss: 0.7916 - val_acc: 0.6982\n",
      "Epoch 172/200\n",
      "5/5 [==============================] - 0s 23ms/step - loss: 0.2321 - acc: 0.9275 - val_loss: 0.8178 - val_acc: 0.6996\n",
      "Epoch 173/200\n",
      "5/5 [==============================] - 0s 22ms/step - loss: 0.2220 - acc: 0.9284 - val_loss: 0.8273 - val_acc: 0.6989\n",
      "Epoch 174/200\n",
      "5/5 [==============================] - 0s 21ms/step - loss: 0.2239 - acc: 0.9251 - val_loss: 0.8175 - val_acc: 0.6953\n",
      "Epoch 175/200\n",
      "5/5 [==============================] - 0s 23ms/step - loss: 0.2301 - acc: 0.9248 - val_loss: 0.8085 - val_acc: 0.6953\n",
      "Epoch 176/200\n",
      "5/5 [==============================] - 0s 21ms/step - loss: 0.2288 - acc: 0.9282 - val_loss: 0.8353 - val_acc: 0.6960\n",
      "Epoch 177/200\n",
      "5/5 [==============================] - 0s 21ms/step - loss: 0.2229 - acc: 0.9249 - val_loss: 0.8151 - val_acc: 0.6975\n",
      "Epoch 178/200\n",
      "5/5 [==============================] - 0s 22ms/step - loss: 0.2224 - acc: 0.9254 - val_loss: 0.7980 - val_acc: 0.6945\n",
      "Epoch 179/200\n",
      "5/5 [==============================] - 0s 21ms/step - loss: 0.2198 - acc: 0.9292 - val_loss: 0.8270 - val_acc: 0.6938\n",
      "Epoch 180/200\n",
      "5/5 [==============================] - 0s 21ms/step - loss: 0.2217 - acc: 0.9273 - val_loss: 0.8268 - val_acc: 0.6938\n",
      "Epoch 181/200\n",
      "5/5 [==============================] - 0s 21ms/step - loss: 0.2081 - acc: 0.9333 - val_loss: 0.8060 - val_acc: 0.6960\n",
      "Epoch 182/200\n",
      "5/5 [==============================] - 0s 22ms/step - loss: 0.2203 - acc: 0.9294 - val_loss: 0.8192 - val_acc: 0.6953\n",
      "Epoch 183/200\n",
      "5/5 [==============================] - 0s 21ms/step - loss: 0.2257 - acc: 0.9276 - val_loss: 0.8288 - val_acc: 0.6960\n",
      "Epoch 184/200\n",
      "5/5 [==============================] - 0s 22ms/step - loss: 0.2186 - acc: 0.9270 - val_loss: 0.8031 - val_acc: 0.6975\n",
      "Epoch 185/200\n",
      "5/5 [==============================] - 0s 22ms/step - loss: 0.2253 - acc: 0.9286 - val_loss: 0.8108 - val_acc: 0.6960\n",
      "Epoch 186/200\n",
      "5/5 [==============================] - 0s 21ms/step - loss: 0.2151 - acc: 0.9317 - val_loss: 0.8151 - val_acc: 0.6945\n",
      "Epoch 187/200\n",
      "5/5 [==============================] - 0s 23ms/step - loss: 0.2171 - acc: 0.9333 - val_loss: 0.8122 - val_acc: 0.6953\n",
      "Epoch 188/200\n",
      "5/5 [==============================] - 0s 24ms/step - loss: 0.2151 - acc: 0.9313 - val_loss: 0.8363 - val_acc: 0.6931\n",
      "Epoch 189/200\n",
      "5/5 [==============================] - 0s 22ms/step - loss: 0.2182 - acc: 0.9300 - val_loss: 0.8141 - val_acc: 0.6945\n",
      "Epoch 190/200\n",
      "5/5 [==============================] - 0s 22ms/step - loss: 0.2117 - acc: 0.9327 - val_loss: 0.8259 - val_acc: 0.6924\n",
      "Epoch 191/200\n",
      "5/5 [==============================] - 0s 23ms/step - loss: 0.2172 - acc: 0.9316 - val_loss: 0.8316 - val_acc: 0.6924\n",
      "Epoch 192/200\n",
      "5/5 [==============================] - 0s 24ms/step - loss: 0.2170 - acc: 0.9309 - val_loss: 0.8154 - val_acc: 0.6924\n",
      "Epoch 193/200\n",
      "5/5 [==============================] - 0s 22ms/step - loss: 0.2203 - acc: 0.9343 - val_loss: 0.8160 - val_acc: 0.6924\n",
      "Epoch 194/200\n",
      "5/5 [==============================] - 0s 21ms/step - loss: 0.2140 - acc: 0.9334 - val_loss: 0.8561 - val_acc: 0.6880\n",
      "Epoch 195/200\n",
      "5/5 [==============================] - 0s 21ms/step - loss: 0.2149 - acc: 0.9235 - val_loss: 0.8453 - val_acc: 0.6902\n",
      "Epoch 196/200\n",
      "5/5 [==============================] - 0s 23ms/step - loss: 0.2140 - acc: 0.9316 - val_loss: 0.8111 - val_acc: 0.6953\n",
      "Epoch 197/200\n",
      "5/5 [==============================] - 0s 21ms/step - loss: 0.2121 - acc: 0.9344 - val_loss: 0.8326 - val_acc: 0.6909\n",
      "Epoch 198/200\n",
      "5/5 [==============================] - 0s 25ms/step - loss: 0.2062 - acc: 0.9349 - val_loss: 0.8306 - val_acc: 0.6924\n",
      "Epoch 199/200\n",
      "5/5 [==============================] - 0s 24ms/step - loss: 0.2203 - acc: 0.9290 - val_loss: 0.8158 - val_acc: 0.6960\n",
      "Epoch 200/200\n",
      "5/5 [==============================] - 0s 23ms/step - loss: 0.2118 - acc: 0.9332 - val_loss: 0.8621 - val_acc: 0.6895\n"
     ]
    }
   ],
   "source": [
    "from keras.callbacks import EarlyStopping\n",
    "\n",
    "lstm.compile(loss='binary_crossentropy', optimizer='adam',metrics=['acc']) #loss='categorical_crossentropy'\n",
    "early_stop = EarlyStopping(monitor='val_loss', patience=5, verbose=1)\n",
    "history = lstm.fit(X_train, y_train, validation_split=0.25, batch_size=1024, epochs=200)#,  callbacks=[early_stop])"
   ]
  },
  {
   "cell_type": "code",
   "execution_count": 195,
   "id": "6944b17a",
   "metadata": {},
   "outputs": [
    {
     "data": {
      "image/png": "[encoded data removed]",
      "text/plain": [
       "<Figure size 432x288 with 1 Axes>"
      ]
     },
     "metadata": {
      "needs_background": "light"
     },
     "output_type": "display_data"
    }
   ],
   "source": [
    "plt.plot(history.history['acc'])\n",
    "plt.plot(history.history['val_acc'])\n",
    "plt.title('Model acc')\n",
    "plt.ylabel('acc')\n",
    "plt.xlabel('Epoch')\n",
    "plt.legend(['Train', 'Validation'], loc='upper left')\n",
    "plt.show()"
   ]
  },
  {
   "cell_type": "code",
   "execution_count": 196,
   "id": "efc6bf05",
   "metadata": {},
   "outputs": [
    {
     "data": {
      "image/png": "[encoded data removed]",
      "text/plain": [
       "<Figure size 432x288 with 1 Axes>"
      ]
     },
     "metadata": {
      "needs_background": "light"
     },
     "output_type": "display_data"
    }
   ],
   "source": [
    "plt.plot(history.history['loss'])\n",
    "plt.plot(history.history['val_loss'])\n",
    "plt.title('Model loss')\n",
    "plt.ylabel('loss')\n",
    "plt.xlabel('Epoch')\n",
    "plt.legend(['Train', 'Validation'], loc='upper left')\n",
    "plt.show()"
   ]
  },
  {
   "cell_type": "code",
   "execution_count": 197,
   "id": "9a5b13de",
   "metadata": {},
   "outputs": [],
   "source": [
    "pred = lstm.predict(X_test)"
   ]
  },
  {
   "cell_type": "code",
   "execution_count": 198,
   "id": "e42d9303",
   "metadata": {},
   "outputs": [],
   "source": [
    "pred[pred>0.5]=1\n",
    "pred[pred<=0.5]=0"
   ]
  },
  {
   "cell_type": "code",
   "execution_count": 199,
   "id": "dcb4bd16",
   "metadata": {},
   "outputs": [
    {
     "data": {
      "text/plain": [
       "1641.0"
      ]
     },
     "execution_count": 199,
     "metadata": {},
     "output_type": "execute_result"
    }
   ],
   "source": [
    "pred.sum()"
   ]
  },
  {
   "cell_type": "code",
   "execution_count": 200,
   "id": "49eb0e05",
   "metadata": {},
   "outputs": [
    {
     "data": {
      "text/plain": [
       "1098"
      ]
     },
     "execution_count": 200,
     "metadata": {},
     "output_type": "execute_result"
    }
   ],
   "source": [
    "y_test.sum()"
   ]
  },
  {
   "cell_type": "code",
   "execution_count": 201,
   "id": "934c8a54",
   "metadata": {},
   "outputs": [
    {
     "name": "stdout",
     "output_type": "stream",
     "text": [
      "정확도 : 0.622879512831666\n"
     ]
    }
   ],
   "source": [
    "from sklearn import metrics \n",
    "print('정확도 :', metrics.accuracy_score(y_test, pred))"
   ]
  },
  {
   "cell_type": "code",
   "execution_count": null,
   "id": "e43758b8",
   "metadata": {},
   "outputs": [],
   "source": []
  },
  {
   "cell_type": "code",
   "execution_count": null,
   "id": "7e977827",
   "metadata": {},
   "outputs": [],
   "source": []
  },
  {
   "cell_type": "code",
   "execution_count": 202,
   "id": "b95b827c",
   "metadata": {
    "scrolled": true
   },
   "outputs": [
    {
     "name": "stdout",
     "output_type": "stream",
     "text": [
      "Epoch 1/100\n",
      "33/33 [==============================] - 5s 52ms/step - loss: 1.6324 - acc: 0.4754 - val_loss: 0.6227 - val_acc: 0.6320\n",
      "Epoch 2/100\n",
      "33/33 [==============================] - 1s 27ms/step - loss: 0.5904 - acc: 0.7119 - val_loss: 0.7751 - val_acc: 0.6131\n",
      "Epoch 3/100\n",
      "33/33 [==============================] - 1s 28ms/step - loss: 0.5520 - acc: 0.7361 - val_loss: 0.6380 - val_acc: 0.6218\n",
      "Epoch 4/100\n",
      "33/33 [==============================] - 1s 28ms/step - loss: 0.5063 - acc: 0.7365 - val_loss: 0.6044 - val_acc: 0.6553\n",
      "Epoch 5/100\n",
      "33/33 [==============================] - 1s 28ms/step - loss: 0.5145 - acc: 0.7467 - val_loss: 0.7425 - val_acc: 0.6349\n",
      "Epoch 6/100\n",
      "33/33 [==============================] - 1s 28ms/step - loss: 0.4870 - acc: 0.7486 - val_loss: 0.6801 - val_acc: 0.6662\n",
      "Epoch 7/100\n",
      "33/33 [==============================] - 1s 28ms/step - loss: 0.4539 - acc: 0.7753 - val_loss: 0.7126 - val_acc: 0.6800\n",
      "Epoch 8/100\n",
      "33/33 [==============================] - 1s 28ms/step - loss: 0.4564 - acc: 0.7878 - val_loss: 0.7447 - val_acc: 0.6916\n",
      "Epoch 9/100\n",
      "33/33 [==============================] - 1s 28ms/step - loss: 0.4343 - acc: 0.7970 - val_loss: 0.6860 - val_acc: 0.6895\n",
      "Epoch 10/100\n",
      "33/33 [==============================] - 1s 28ms/step - loss: 0.4310 - acc: 0.8007 - val_loss: 0.9738 - val_acc: 0.6865\n",
      "Epoch 11/100\n",
      "33/33 [==============================] - 1s 28ms/step - loss: 0.4710 - acc: 0.7489 - val_loss: 0.5779 - val_acc: 0.6829\n",
      "Epoch 12/100\n",
      "33/33 [==============================] - 1s 28ms/step - loss: 0.4446 - acc: 0.7871 - val_loss: 0.7693 - val_acc: 0.6865\n",
      "Epoch 13/100\n",
      "33/33 [==============================] - 1s 28ms/step - loss: 0.6727 - acc: 0.7128 - val_loss: 0.7214 - val_acc: 0.4924\n",
      "Epoch 14/100\n",
      "33/33 [==============================] - 1s 28ms/step - loss: 0.6210 - acc: 0.6761 - val_loss: 0.7695 - val_acc: 0.6262\n",
      "Epoch 15/100\n",
      "33/33 [==============================] - 1s 28ms/step - loss: 0.5043 - acc: 0.7534 - val_loss: 0.5911 - val_acc: 0.6625\n",
      "Epoch 16/100\n",
      "33/33 [==============================] - 1s 28ms/step - loss: 0.4868 - acc: 0.7634 - val_loss: 0.6773 - val_acc: 0.6676\n",
      "Epoch 17/100\n",
      "33/33 [==============================] - 1s 28ms/step - loss: 0.4844 - acc: 0.7679 - val_loss: 0.6395 - val_acc: 0.6735\n",
      "Epoch 18/100\n",
      "33/33 [==============================] - 1s 28ms/step - loss: 0.4588 - acc: 0.7933 - val_loss: 0.9197 - val_acc: 0.6815\n",
      "Epoch 19/100\n",
      "33/33 [==============================] - 1s 28ms/step - loss: 0.4586 - acc: 0.7938 - val_loss: 0.7168 - val_acc: 0.6727\n",
      "Epoch 20/100\n",
      "33/33 [==============================] - 1s 28ms/step - loss: 0.4057 - acc: 0.8027 - val_loss: 0.6552 - val_acc: 0.6916\n",
      "Epoch 21/100\n",
      "33/33 [==============================] - 1s 29ms/step - loss: 0.4318 - acc: 0.7984 - val_loss: 0.9451 - val_acc: 0.6720\n",
      "Epoch 22/100\n",
      "33/33 [==============================] - 1s 28ms/step - loss: 0.3939 - acc: 0.8072 - val_loss: 0.8670 - val_acc: 0.6873\n",
      "Epoch 23/100\n",
      "33/33 [==============================] - 1s 28ms/step - loss: 0.3796 - acc: 0.8207 - val_loss: 0.9767 - val_acc: 0.6858\n",
      "Epoch 24/100\n",
      "33/33 [==============================] - 1s 28ms/step - loss: 0.3678 - acc: 0.8246 - val_loss: 1.1143 - val_acc: 0.6851\n",
      "Epoch 25/100\n",
      "33/33 [==============================] - 1s 28ms/step - loss: 0.3456 - acc: 0.8357 - val_loss: 1.1723 - val_acc: 0.6931\n",
      "Epoch 26/100\n",
      "33/33 [==============================] - 1s 28ms/step - loss: 0.3078 - acc: 0.8557 - val_loss: 1.3682 - val_acc: 0.6924\n",
      "Epoch 27/100\n",
      "33/33 [==============================] - 1s 29ms/step - loss: 0.3110 - acc: 0.8583 - val_loss: 0.9623 - val_acc: 0.6655\n",
      "Epoch 28/100\n",
      "33/33 [==============================] - 1s 28ms/step - loss: 0.3679 - acc: 0.8401 - val_loss: 1.1369 - val_acc: 0.6931\n",
      "Epoch 29/100\n",
      "33/33 [==============================] - 1s 29ms/step - loss: 0.3162 - acc: 0.8627 - val_loss: 1.7140 - val_acc: 0.6960\n",
      "Epoch 30/100\n",
      "33/33 [==============================] - 1s 28ms/step - loss: 0.2964 - acc: 0.8703 - val_loss: 1.9735 - val_acc: 0.6945\n",
      "Epoch 31/100\n",
      "33/33 [==============================] - 1s 29ms/step - loss: 0.2583 - acc: 0.8847 - val_loss: 1.4568 - val_acc: 0.6749\n",
      "Epoch 32/100\n",
      "33/33 [==============================] - 1s 28ms/step - loss: 0.4238 - acc: 0.8167 - val_loss: 0.7237 - val_acc: 0.6982\n",
      "Epoch 33/100\n",
      "33/33 [==============================] - 1s 29ms/step - loss: 0.3302 - acc: 0.8556 - val_loss: 1.3204 - val_acc: 0.6851\n",
      "Epoch 34/100\n",
      "33/33 [==============================] - 1s 29ms/step - loss: 0.3102 - acc: 0.8755 - val_loss: 1.5937 - val_acc: 0.6938\n",
      "Epoch 35/100\n",
      "33/33 [==============================] - 1s 28ms/step - loss: 0.2714 - acc: 0.8892 - val_loss: 2.0441 - val_acc: 0.6924\n",
      "Epoch 36/100\n",
      "33/33 [==============================] - 1s 28ms/step - loss: 0.2455 - acc: 0.9139 - val_loss: 2.1456 - val_acc: 0.6996\n",
      "Epoch 37/100\n",
      "33/33 [==============================] - 1s 29ms/step - loss: 0.2458 - acc: 0.9204 - val_loss: 2.1380 - val_acc: 0.6735\n",
      "Epoch 38/100\n",
      "33/33 [==============================] - 1s 29ms/step - loss: 0.2510 - acc: 0.9068 - val_loss: 1.7110 - val_acc: 0.6931\n",
      "Epoch 39/100\n",
      "33/33 [==============================] - 1s 29ms/step - loss: 0.2358 - acc: 0.9166 - val_loss: 2.4427 - val_acc: 0.6844\n",
      "Epoch 40/100\n",
      "33/33 [==============================] - 1s 29ms/step - loss: 0.1917 - acc: 0.9376 - val_loss: 2.5445 - val_acc: 0.6815\n",
      "Epoch 41/100\n",
      "33/33 [==============================] - 1s 29ms/step - loss: 0.1792 - acc: 0.9391 - val_loss: 2.7703 - val_acc: 0.6975\n",
      "Epoch 42/100\n",
      "33/33 [==============================] - 1s 29ms/step - loss: 0.1901 - acc: 0.9506 - val_loss: 3.0709 - val_acc: 0.6815\n",
      "Epoch 43/100\n",
      "33/33 [==============================] - 1s 29ms/step - loss: 0.1348 - acc: 0.9558 - val_loss: 3.0428 - val_acc: 0.6858\n",
      "Epoch 44/100\n",
      "33/33 [==============================] - 1s 28ms/step - loss: 0.1769 - acc: 0.9517 - val_loss: 2.8140 - val_acc: 0.6785\n",
      "Epoch 45/100\n",
      "33/33 [==============================] - 1s 29ms/step - loss: 0.1987 - acc: 0.9390 - val_loss: 2.6234 - val_acc: 0.6902\n",
      "Epoch 46/100\n",
      "33/33 [==============================] - 1s 29ms/step - loss: 0.1202 - acc: 0.9659 - val_loss: 3.1295 - val_acc: 0.6815\n",
      "Epoch 47/100\n",
      "33/33 [==============================] - 1s 29ms/step - loss: 0.1367 - acc: 0.9679 - val_loss: 3.2933 - val_acc: 0.6895\n",
      "Epoch 48/100\n",
      "33/33 [==============================] - 1s 29ms/step - loss: 0.4019 - acc: 0.9299 - val_loss: 0.9779 - val_acc: 0.6560\n",
      "Epoch 49/100\n",
      "33/33 [==============================] - 1s 28ms/step - loss: 0.4810 - acc: 0.7955 - val_loss: 0.7274 - val_acc: 0.6538\n",
      "Epoch 50/100\n",
      "33/33 [==============================] - 1s 29ms/step - loss: 0.4203 - acc: 0.8085 - val_loss: 0.6584 - val_acc: 0.6705\n",
      "Epoch 51/100\n",
      "33/33 [==============================] - 1s 29ms/step - loss: 0.3945 - acc: 0.8145 - val_loss: 0.7509 - val_acc: 0.6815\n",
      "Epoch 52/100\n",
      "33/33 [==============================] - 1s 28ms/step - loss: 0.3522 - acc: 0.8390 - val_loss: 0.8271 - val_acc: 0.6873\n",
      "Epoch 53/100\n",
      "33/33 [==============================] - 1s 28ms/step - loss: 0.3373 - acc: 0.8551 - val_loss: 0.9518 - val_acc: 0.6887\n",
      "Epoch 54/100\n",
      "33/33 [==============================] - 1s 28ms/step - loss: 0.3262 - acc: 0.8716 - val_loss: 1.1996 - val_acc: 0.6916\n",
      "Epoch 55/100\n",
      "33/33 [==============================] - 1s 29ms/step - loss: 0.2811 - acc: 0.9009 - val_loss: 1.7155 - val_acc: 0.6953\n",
      "Epoch 56/100\n",
      "33/33 [==============================] - 1s 29ms/step - loss: 0.2369 - acc: 0.9045 - val_loss: 2.0732 - val_acc: 0.6931\n",
      "Epoch 57/100\n",
      "33/33 [==============================] - 1s 28ms/step - loss: 0.1945 - acc: 0.9244 - val_loss: 2.3979 - val_acc: 0.6916\n",
      "Epoch 58/100\n",
      "33/33 [==============================] - 1s 29ms/step - loss: 0.2006 - acc: 0.9260 - val_loss: 2.6732 - val_acc: 0.6880\n",
      "Epoch 59/100\n",
      "33/33 [==============================] - 1s 29ms/step - loss: 0.1988 - acc: 0.9382 - val_loss: 2.5899 - val_acc: 0.6851\n",
      "Epoch 60/100\n",
      "33/33 [==============================] - 1s 29ms/step - loss: 0.5402 - acc: 0.8941 - val_loss: 0.6188 - val_acc: 0.6509\n",
      "Epoch 61/100\n",
      "33/33 [==============================] - 1s 29ms/step - loss: 0.4604 - acc: 0.7927 - val_loss: 0.6469 - val_acc: 0.6538\n",
      "Epoch 62/100\n",
      "33/33 [==============================] - 1s 28ms/step - loss: 0.4063 - acc: 0.8053 - val_loss: 0.5738 - val_acc: 0.6931\n",
      "Epoch 63/100\n",
      "33/33 [==============================] - 1s 28ms/step - loss: 0.4409 - acc: 0.8019 - val_loss: 1.2762 - val_acc: 0.6735\n",
      "Epoch 64/100\n",
      "33/33 [==============================] - 1s 28ms/step - loss: 0.3645 - acc: 0.8352 - val_loss: 1.2475 - val_acc: 0.6844\n",
      "Epoch 65/100\n",
      "33/33 [==============================] - 1s 28ms/step - loss: 0.3190 - acc: 0.8643 - val_loss: 1.3996 - val_acc: 0.6836\n",
      "Epoch 66/100\n",
      "33/33 [==============================] - 1s 28ms/step - loss: 0.3117 - acc: 0.8884 - val_loss: 1.4099 - val_acc: 0.6822\n",
      "Epoch 67/100\n",
      "33/33 [==============================] - 1s 28ms/step - loss: 0.2642 - acc: 0.9007 - val_loss: 1.7616 - val_acc: 0.6858\n",
      "Epoch 68/100\n",
      "33/33 [==============================] - 1s 29ms/step - loss: 0.2257 - acc: 0.9158 - val_loss: 2.0187 - val_acc: 0.6778\n",
      "Epoch 69/100\n",
      "33/33 [==============================] - 1s 29ms/step - loss: 0.2146 - acc: 0.9256 - val_loss: 1.8416 - val_acc: 0.6705\n",
      "Epoch 70/100\n",
      "33/33 [==============================] - 1s 28ms/step - loss: 0.2229 - acc: 0.9101 - val_loss: 2.0450 - val_acc: 0.6895\n",
      "Epoch 71/100\n",
      "33/33 [==============================] - 1s 29ms/step - loss: 0.2031 - acc: 0.9306 - val_loss: 2.4699 - val_acc: 0.6865\n",
      "Epoch 72/100\n",
      "33/33 [==============================] - 1s 28ms/step - loss: 0.1731 - acc: 0.9451 - val_loss: 2.6129 - val_acc: 0.6807\n",
      "Epoch 73/100\n",
      "33/33 [==============================] - 1s 29ms/step - loss: 0.1579 - acc: 0.9499 - val_loss: 2.9785 - val_acc: 0.6793\n",
      "Epoch 74/100\n",
      "33/33 [==============================] - 1s 28ms/step - loss: 0.1243 - acc: 0.9540 - val_loss: 2.9269 - val_acc: 0.6785\n",
      "Epoch 75/100\n",
      "33/33 [==============================] - 1s 29ms/step - loss: 0.1253 - acc: 0.9656 - val_loss: 3.2249 - val_acc: 0.6742\n",
      "Epoch 76/100\n",
      "33/33 [==============================] - 1s 28ms/step - loss: 0.1091 - acc: 0.9671 - val_loss: 3.3842 - val_acc: 0.6771\n",
      "Epoch 77/100\n",
      "33/33 [==============================] - 1s 28ms/step - loss: 0.1255 - acc: 0.9687 - val_loss: 3.4146 - val_acc: 0.6793\n",
      "Epoch 78/100\n",
      "33/33 [==============================] - 1s 28ms/step - loss: 0.1258 - acc: 0.9704 - val_loss: 3.6022 - val_acc: 0.6764\n",
      "Epoch 79/100\n",
      "33/33 [==============================] - 1s 28ms/step - loss: 0.1107 - acc: 0.9719 - val_loss: 3.7038 - val_acc: 0.6771\n",
      "Epoch 80/100\n",
      "33/33 [==============================] - 1s 28ms/step - loss: 0.0768 - acc: 0.9759 - val_loss: 3.7924 - val_acc: 0.6793\n",
      "Epoch 81/100\n",
      "33/33 [==============================] - 1s 28ms/step - loss: 0.0722 - acc: 0.9839 - val_loss: 3.7670 - val_acc: 0.6764\n",
      "Epoch 82/100\n",
      "33/33 [==============================] - 1s 28ms/step - loss: 0.0826 - acc: 0.9824 - val_loss: 3.8780 - val_acc: 0.6771\n",
      "Epoch 83/100\n",
      "33/33 [==============================] - 1s 28ms/step - loss: 0.0800 - acc: 0.9871 - val_loss: 3.9700 - val_acc: 0.6778\n",
      "Epoch 84/100\n",
      "33/33 [==============================] - 1s 29ms/step - loss: 0.0767 - acc: 0.9875 - val_loss: 4.0509 - val_acc: 0.6771\n",
      "Epoch 85/100\n",
      "33/33 [==============================] - 1s 29ms/step - loss: 0.0590 - acc: 0.9895 - val_loss: 4.0479 - val_acc: 0.6815\n",
      "Epoch 86/100\n",
      "33/33 [==============================] - 1s 29ms/step - loss: 0.0453 - acc: 0.9919 - val_loss: 4.1309 - val_acc: 0.6735\n",
      "Epoch 87/100\n",
      "33/33 [==============================] - 1s 28ms/step - loss: 0.0874 - acc: 0.9897 - val_loss: 4.1467 - val_acc: 0.6705\n",
      "Epoch 88/100\n",
      "33/33 [==============================] - 1s 28ms/step - loss: 0.3820 - acc: 0.9458 - val_loss: 6.1523 - val_acc: 0.5295\n",
      "Epoch 89/100\n",
      "33/33 [==============================] - 1s 29ms/step - loss: 3.3329 - acc: 0.6143 - val_loss: 0.7126 - val_acc: 0.5782\n",
      "Epoch 90/100\n",
      "33/33 [==============================] - 1s 29ms/step - loss: 0.6316 - acc: 0.6946 - val_loss: 0.7363 - val_acc: 0.5811\n",
      "Epoch 91/100\n",
      "33/33 [==============================] - 1s 28ms/step - loss: 0.5339 - acc: 0.7058 - val_loss: 0.8177 - val_acc: 0.6291\n",
      "Epoch 92/100\n",
      "33/33 [==============================] - 1s 29ms/step - loss: 0.4533 - acc: 0.7803 - val_loss: 1.0773 - val_acc: 0.6458\n",
      "Epoch 93/100\n",
      "33/33 [==============================] - 1s 29ms/step - loss: 0.7526 - acc: 0.5790 - val_loss: 0.7584 - val_acc: 0.5971\n",
      "Epoch 94/100\n",
      "33/33 [==============================] - 1s 28ms/step - loss: 0.4759 - acc: 0.7420 - val_loss: 0.6675 - val_acc: 0.6211\n",
      "Epoch 95/100\n",
      "33/33 [==============================] - 1s 29ms/step - loss: 0.4650 - acc: 0.7588 - val_loss: 0.7271 - val_acc: 0.6444\n",
      "Epoch 96/100\n",
      "33/33 [==============================] - 1s 29ms/step - loss: 0.4221 - acc: 0.7983 - val_loss: 0.8423 - val_acc: 0.6589\n",
      "Epoch 97/100\n",
      "33/33 [==============================] - 1s 28ms/step - loss: 0.4229 - acc: 0.7932 - val_loss: 0.5999 - val_acc: 0.6771\n",
      "Epoch 98/100\n",
      "33/33 [==============================] - 1s 28ms/step - loss: 0.3934 - acc: 0.8155 - val_loss: 0.7747 - val_acc: 0.6727\n",
      "Epoch 99/100\n",
      "33/33 [==============================] - 1s 28ms/step - loss: 0.3778 - acc: 0.8178 - val_loss: 0.9728 - val_acc: 0.6807\n",
      "Epoch 100/100\n",
      "33/33 [==============================] - 1s 28ms/step - loss: 0.3670 - acc: 0.8234 - val_loss: 1.2822 - val_acc: 0.6800\n"
     ]
    }
   ],
   "source": [
    "model = Sequential()\n",
    "#Adding the first LSTM layer and some Dropout regularisation\n",
    "model.add(LSTM(units = 50, return_sequences = True, input_shape = (X_train.shape[1], X_train.shape[2])))\n",
    "# model.add(Dropout(0.2))\n",
    "# Adding a second LSTM layer and some Dropout regularisation\n",
    "model.add(LSTM(units = 50, return_sequences = True))\n",
    "# model.add(Dropout(0.2))\n",
    "# Adding a third LSTM layer and some Dropout regularisation\n",
    "model.add(LSTM(units = 50, return_sequences = True))\n",
    "# model.add(Dropout(0.2))\n",
    "# Adding a fourth LSTM layer and some Dropout regularisation\n",
    "model.add(LSTM(units = 50))\n",
    "# model.add(Dropout(0.2))\n",
    "# Adding the output layer\n",
    "model.add(Dense(units = 1))\n",
    "\n",
    "# Compiling the RNN\n",
    "model.compile(optimizer = 'adam', loss = 'binary_crossentropy',metrics=['acc'])\n",
    "\n",
    "# Fitting the RNN to the Training set\n",
    "# history = model.fit(X_train, y_train, epochs = 100, batch_size = 32)\n",
    "\n",
    "# early_stop = EarlyStopping(monitor='val_loss', patience=5, verbose=1)\n",
    "history = model.fit(X_train, y_train, validation_split=0.25, batch_size=128, epochs=100)#,  callbacks=[early_stop])"
   ]
  },
  {
   "cell_type": "code",
   "execution_count": 205,
   "id": "e2f11032",
   "metadata": {
    "scrolled": true
   },
   "outputs": [
    {
     "data": {
      "image/png": "[encoded data removed]",
      "text/plain": [
       "<Figure size 432x288 with 1 Axes>"
      ]
     },
     "metadata": {
      "needs_background": "light"
     },
     "output_type": "display_data"
    }
   ],
   "source": [
    "plt.plot(history.history['acc'])\n",
    "plt.plot(history.history['val_acc'])\n",
    "plt.title('Model acc')\n",
    "plt.ylabel('acc')\n",
    "plt.xlabel('Epoch')\n",
    "plt.legend(['Train', 'Validation'], loc='upper left')\n",
    "plt.show()"
   ]
  },
  {
   "cell_type": "code",
   "execution_count": 206,
   "id": "c65c22dc",
   "metadata": {},
   "outputs": [
    {
     "data": {
      "image/png": "[encoded data removed]",
      "text/plain": [
       "<Figure size 432x288 with 1 Axes>"
      ]
     },
     "metadata": {
      "needs_background": "light"
     },
     "output_type": "display_data"
    }
   ],
   "source": [
    "plt.plot(history.history['loss'])\n",
    "plt.plot(history.history['val_loss'])\n",
    "plt.title('Model loss')\n",
    "plt.ylabel('loss')\n",
    "plt.xlabel('Epoch')\n",
    "plt.legend(['Train', 'Validation'], loc='upper left')\n",
    "plt.show()"
   ]
  },
  {
   "cell_type": "code",
   "execution_count": null,
   "id": "c39ee91c",
   "metadata": {},
   "outputs": [],
   "source": []
  },
  {
   "cell_type": "code",
   "execution_count": 241,
   "id": "e649841c",
   "metadata": {},
   "outputs": [
    {
     "name": "stdout",
     "output_type": "stream",
     "text": [
      "Model: \"sequential_45\"\n",
      "_________________________________________________________________\n",
      "Layer (type)                 Output Shape              Param #   \n",
      "=================================================================\n",
      "lstm_90 (LSTM)               (None, 100)               316400    \n",
      "_________________________________________________________________\n",
      "dense_51 (Dense)             (None, 50)                5050      \n",
      "_________________________________________________________________\n",
      "dense_52 (Dense)             (None, 25)                1275      \n",
      "_________________________________________________________________\n",
      "dense_53 (Dense)             (None, 10)                260       \n",
      "_________________________________________________________________\n",
      "dense_54 (Dense)             (None, 1)                 11        \n",
      "=================================================================\n",
      "Total params: 322,996\n",
      "Trainable params: 322,996\n",
      "Non-trainable params: 0\n",
      "_________________________________________________________________\n"
     ]
    }
   ],
   "source": [
    "model = Sequential()\n",
    "model.add(LSTM(100, input_shape = (X_train.shape[1], X_train.shape[2])))\n",
    "model.add(Dense(50, activation='relu'))\n",
    "model.add(Dense(25, activation='relu'))\n",
    "model.add(Dense(10, activation='relu'))\n",
    "model.add(Dense(1, activation='sigmoid'))\n",
    "model.summary()"
   ]
  },
  {
   "cell_type": "code",
   "execution_count": 242,
   "id": "1cb3aeff",
   "metadata": {},
   "outputs": [
    {
     "name": "stdout",
     "output_type": "stream",
     "text": [
      "1\n",
      "11\n",
      "709\n",
      "7799\n"
     ]
    }
   ],
   "source": [
    "for i in range(1,10000):\n",
    "    if 7799%i == 0:\n",
    "        print(i)"
   ]
  },
  {
   "cell_type": "code",
   "execution_count": 243,
   "id": "c955be40",
   "metadata": {
    "scrolled": true
   },
   "outputs": [
    {
     "name": "stdout",
     "output_type": "stream",
     "text": [
      "Epoch 1/100\n",
      "6/6 [==============================] - 2s 112ms/step - loss: 0.6505 - acc: 0.6993 - val_loss: 0.6848 - val_acc: 0.5782\n",
      "Epoch 2/100\n",
      "6/6 [==============================] - 0s 50ms/step - loss: 0.5556 - acc: 0.6977 - val_loss: 0.6365 - val_acc: 0.5782\n",
      "Epoch 3/100\n",
      "6/6 [==============================] - 0s 49ms/step - loss: 0.5352 - acc: 0.6978 - val_loss: 0.6288 - val_acc: 0.5833\n",
      "Epoch 4/100\n",
      "6/6 [==============================] - 0s 49ms/step - loss: 0.5175 - acc: 0.7168 - val_loss: 0.6246 - val_acc: 0.6335\n",
      "Epoch 5/100\n",
      "6/6 [==============================] - 0s 49ms/step - loss: 0.5001 - acc: 0.7525 - val_loss: 0.6134 - val_acc: 0.6727\n",
      "Epoch 6/100\n",
      "6/6 [==============================] - 0s 49ms/step - loss: 0.4907 - acc: 0.7700 - val_loss: 0.6073 - val_acc: 0.6924\n",
      "Epoch 7/100\n",
      "6/6 [==============================] - 0s 50ms/step - loss: 0.4778 - acc: 0.7747 - val_loss: 0.6009 - val_acc: 0.7033\n",
      "Epoch 8/100\n",
      "6/6 [==============================] - 0s 50ms/step - loss: 0.4644 - acc: 0.7867 - val_loss: 0.5940 - val_acc: 0.7047\n",
      "Epoch 9/100\n",
      "6/6 [==============================] - 0s 49ms/step - loss: 0.4527 - acc: 0.7964 - val_loss: 0.5906 - val_acc: 0.7142\n",
      "Epoch 10/100\n",
      "6/6 [==============================] - 0s 48ms/step - loss: 0.4424 - acc: 0.8035 - val_loss: 0.5940 - val_acc: 0.7135\n",
      "Epoch 11/100\n",
      "6/6 [==============================] - 0s 49ms/step - loss: 0.4270 - acc: 0.8097 - val_loss: 0.5626 - val_acc: 0.7149\n",
      "Epoch 12/100\n",
      "6/6 [==============================] - 0s 49ms/step - loss: 0.4419 - acc: 0.7939 - val_loss: 0.6091 - val_acc: 0.7156\n",
      "Epoch 13/100\n",
      "6/6 [==============================] - 0s 50ms/step - loss: 0.4120 - acc: 0.8174 - val_loss: 0.6452 - val_acc: 0.6705\n",
      "Epoch 14/100\n",
      "6/6 [==============================] - 0s 49ms/step - loss: 0.4125 - acc: 0.8121 - val_loss: 0.5643 - val_acc: 0.7135\n",
      "Epoch 15/100\n",
      "6/6 [==============================] - 0s 49ms/step - loss: 0.4197 - acc: 0.8092 - val_loss: 0.5958 - val_acc: 0.7200\n",
      "Epoch 16/100\n",
      "6/6 [==============================] - 0s 50ms/step - loss: 0.3962 - acc: 0.8259 - val_loss: 0.5752 - val_acc: 0.7164\n",
      "Epoch 17/100\n",
      "6/6 [==============================] - 0s 49ms/step - loss: 0.3962 - acc: 0.8241 - val_loss: 0.6102 - val_acc: 0.7098\n",
      "Epoch 18/100\n",
      "6/6 [==============================] - 0s 50ms/step - loss: 0.3790 - acc: 0.8296 - val_loss: 0.6792 - val_acc: 0.6655\n",
      "Epoch 19/100\n",
      "6/6 [==============================] - 0s 50ms/step - loss: 0.3795 - acc: 0.8249 - val_loss: 0.6150 - val_acc: 0.7185\n",
      "Epoch 20/100\n",
      "6/6 [==============================] - 0s 50ms/step - loss: 0.4091 - acc: 0.8076 - val_loss: 0.5979 - val_acc: 0.7025\n",
      "Epoch 21/100\n",
      "6/6 [==============================] - 0s 49ms/step - loss: 0.3588 - acc: 0.8465 - val_loss: 0.6069 - val_acc: 0.7156\n",
      "Epoch 22/100\n",
      "6/6 [==============================] - 0s 49ms/step - loss: 0.3948 - acc: 0.8190 - val_loss: 0.6834 - val_acc: 0.6829\n",
      "Epoch 23/100\n",
      "6/6 [==============================] - 0s 49ms/step - loss: 0.3631 - acc: 0.8304 - val_loss: 0.6962 - val_acc: 0.6858\n",
      "Epoch 24/100\n",
      "6/6 [==============================] - 0s 49ms/step - loss: 0.3609 - acc: 0.8364 - val_loss: 0.6079 - val_acc: 0.6960\n",
      "Epoch 25/100\n",
      "6/6 [==============================] - 0s 50ms/step - loss: 0.3460 - acc: 0.8463 - val_loss: 0.5972 - val_acc: 0.7185\n",
      "Epoch 26/100\n",
      "6/6 [==============================] - 0s 50ms/step - loss: 0.3569 - acc: 0.8388 - val_loss: 0.6408 - val_acc: 0.7207\n",
      "Epoch 27/100\n",
      "6/6 [==============================] - 0s 49ms/step - loss: 0.3418 - acc: 0.8487 - val_loss: 0.6496 - val_acc: 0.7185\n",
      "Epoch 28/100\n",
      "6/6 [==============================] - 0s 49ms/step - loss: 0.3305 - acc: 0.8588 - val_loss: 0.6785 - val_acc: 0.7193\n",
      "Epoch 29/100\n",
      "6/6 [==============================] - 0s 49ms/step - loss: 0.3468 - acc: 0.8559 - val_loss: 0.6066 - val_acc: 0.6815\n",
      "Epoch 30/100\n",
      "6/6 [==============================] - 0s 49ms/step - loss: 0.3290 - acc: 0.8509 - val_loss: 0.6691 - val_acc: 0.7135\n",
      "Epoch 31/100\n",
      "6/6 [==============================] - 0s 49ms/step - loss: 0.3076 - acc: 0.8680 - val_loss: 0.8079 - val_acc: 0.6516\n",
      "Epoch 32/100\n",
      "6/6 [==============================] - 0s 49ms/step - loss: 0.3445 - acc: 0.8314 - val_loss: 0.6596 - val_acc: 0.7200\n",
      "Epoch 33/100\n",
      "6/6 [==============================] - 0s 49ms/step - loss: 0.3227 - acc: 0.8506 - val_loss: 0.6656 - val_acc: 0.7178\n",
      "Epoch 34/100\n",
      "6/6 [==============================] - 0s 50ms/step - loss: 0.2963 - acc: 0.8678 - val_loss: 0.5914 - val_acc: 0.7302\n",
      "Epoch 35/100\n",
      "6/6 [==============================] - 0s 50ms/step - loss: 0.3058 - acc: 0.8694 - val_loss: 0.9705 - val_acc: 0.6502\n",
      "Epoch 36/100\n",
      "6/6 [==============================] - 0s 50ms/step - loss: 0.3523 - acc: 0.8436 - val_loss: 0.7624 - val_acc: 0.7047\n",
      "Epoch 37/100\n",
      "6/6 [==============================] - 0s 50ms/step - loss: 0.3150 - acc: 0.8611 - val_loss: 0.7165 - val_acc: 0.7215\n",
      "Epoch 38/100\n",
      "6/6 [==============================] - 0s 49ms/step - loss: 0.2880 - acc: 0.8666 - val_loss: 0.7114 - val_acc: 0.7156\n",
      "Epoch 39/100\n",
      "6/6 [==============================] - 0s 51ms/step - loss: 0.3144 - acc: 0.8446 - val_loss: 0.6993 - val_acc: 0.7142\n",
      "Epoch 40/100\n",
      "6/6 [==============================] - 0s 49ms/step - loss: 0.2652 - acc: 0.8838 - val_loss: 0.9292 - val_acc: 0.6698\n",
      "Epoch 41/100\n",
      "6/6 [==============================] - 0s 50ms/step - loss: 0.3063 - acc: 0.8567 - val_loss: 0.6830 - val_acc: 0.7171\n",
      "Epoch 42/100\n",
      "6/6 [==============================] - 0s 50ms/step - loss: 0.2616 - acc: 0.8815 - val_loss: 0.6028 - val_acc: 0.7295\n",
      "Epoch 43/100\n",
      "6/6 [==============================] - 0s 50ms/step - loss: 0.2827 - acc: 0.8850 - val_loss: 0.7419 - val_acc: 0.7098\n",
      "Epoch 44/100\n",
      "6/6 [==============================] - 0s 50ms/step - loss: 0.3294 - acc: 0.8465 - val_loss: 0.8060 - val_acc: 0.7113\n",
      "Epoch 45/100\n",
      "6/6 [==============================] - 0s 50ms/step - loss: 0.2766 - acc: 0.8753 - val_loss: 0.6574 - val_acc: 0.6996\n",
      "Epoch 46/100\n",
      "6/6 [==============================] - 0s 50ms/step - loss: 0.2561 - acc: 0.8842 - val_loss: 0.7885 - val_acc: 0.7098\n",
      "Epoch 47/100\n",
      "6/6 [==============================] - 0s 50ms/step - loss: 0.2672 - acc: 0.8681 - val_loss: 0.8040 - val_acc: 0.7127\n",
      "Epoch 48/100\n",
      "6/6 [==============================] - 0s 49ms/step - loss: 0.2213 - acc: 0.8965 - val_loss: 0.8930 - val_acc: 0.7011\n",
      "Epoch 49/100\n",
      "6/6 [==============================] - 0s 51ms/step - loss: 0.3560 - acc: 0.8290 - val_loss: 0.8135 - val_acc: 0.6800\n",
      "Epoch 50/100\n",
      "6/6 [==============================] - 0s 50ms/step - loss: 0.2658 - acc: 0.8709 - val_loss: 0.8942 - val_acc: 0.7105\n",
      "Epoch 51/100\n",
      "6/6 [==============================] - 0s 50ms/step - loss: 0.2221 - acc: 0.8993 - val_loss: 1.1775 - val_acc: 0.6815\n",
      "Epoch 52/100\n",
      "6/6 [==============================] - 0s 50ms/step - loss: 0.3043 - acc: 0.8662 - val_loss: 0.8441 - val_acc: 0.7178\n",
      "Epoch 53/100\n",
      "6/6 [==============================] - 0s 50ms/step - loss: 0.2060 - acc: 0.9028 - val_loss: 0.8976 - val_acc: 0.7113\n",
      "Epoch 54/100\n",
      "6/6 [==============================] - 0s 50ms/step - loss: 0.2462 - acc: 0.8811 - val_loss: 0.9050 - val_acc: 0.7164\n",
      "Epoch 55/100\n",
      "6/6 [==============================] - 0s 50ms/step - loss: 0.2209 - acc: 0.8985 - val_loss: 0.8061 - val_acc: 0.6633\n",
      "Epoch 56/100\n",
      "6/6 [==============================] - 0s 50ms/step - loss: 0.2997 - acc: 0.8400 - val_loss: 0.8805 - val_acc: 0.7185\n",
      "Epoch 57/100\n",
      "6/6 [==============================] - 0s 50ms/step - loss: 0.2000 - acc: 0.9083 - val_loss: 1.0196 - val_acc: 0.7207\n",
      "Epoch 58/100\n",
      "6/6 [==============================] - 0s 51ms/step - loss: 0.2386 - acc: 0.8910 - val_loss: 0.7166 - val_acc: 0.7120\n",
      "Epoch 59/100\n",
      "6/6 [==============================] - 0s 50ms/step - loss: 0.2134 - acc: 0.9119 - val_loss: 0.9184 - val_acc: 0.7142\n",
      "Epoch 60/100\n",
      "6/6 [==============================] - 0s 50ms/step - loss: 0.2029 - acc: 0.9050 - val_loss: 0.6916 - val_acc: 0.6836\n",
      "Epoch 61/100\n",
      "6/6 [==============================] - 0s 50ms/step - loss: 0.2468 - acc: 0.8794 - val_loss: 1.0569 - val_acc: 0.7076\n",
      "Epoch 62/100\n",
      "6/6 [==============================] - 0s 50ms/step - loss: 0.2456 - acc: 0.8852 - val_loss: 0.9510 - val_acc: 0.7185\n",
      "Epoch 63/100\n",
      "6/6 [==============================] - 0s 50ms/step - loss: 0.1703 - acc: 0.9161 - val_loss: 1.0461 - val_acc: 0.7076\n",
      "Epoch 64/100\n",
      "6/6 [==============================] - 0s 50ms/step - loss: 0.2936 - acc: 0.8562 - val_loss: 0.7825 - val_acc: 0.7113\n",
      "Epoch 65/100\n",
      "6/6 [==============================] - 0s 52ms/step - loss: 0.2302 - acc: 0.8965 - val_loss: 1.0722 - val_acc: 0.7156\n",
      "Epoch 66/100\n",
      "6/6 [==============================] - 0s 50ms/step - loss: 0.1695 - acc: 0.9230 - val_loss: 1.4914 - val_acc: 0.6822\n",
      "Epoch 67/100\n",
      "6/6 [==============================] - 0s 50ms/step - loss: 0.3240 - acc: 0.8499 - val_loss: 1.0017 - val_acc: 0.7135\n",
      "Epoch 68/100\n",
      "6/6 [==============================] - 0s 51ms/step - loss: 0.1631 - acc: 0.9231 - val_loss: 1.0549 - val_acc: 0.7207\n",
      "Epoch 69/100\n",
      "6/6 [==============================] - 0s 52ms/step - loss: 0.1985 - acc: 0.9011 - val_loss: 0.6946 - val_acc: 0.6465\n",
      "Epoch 70/100\n",
      "6/6 [==============================] - 0s 50ms/step - loss: 0.2623 - acc: 0.8620 - val_loss: 1.1398 - val_acc: 0.7047\n",
      "Epoch 71/100\n",
      "6/6 [==============================] - 0s 50ms/step - loss: 0.1608 - acc: 0.9217 - val_loss: 1.7106 - val_acc: 0.6604\n",
      "Epoch 72/100\n",
      "6/6 [==============================] - 0s 50ms/step - loss: 0.3196 - acc: 0.8467 - val_loss: 1.0692 - val_acc: 0.7113\n",
      "Epoch 73/100\n",
      "6/6 [==============================] - 0s 50ms/step - loss: 0.1486 - acc: 0.9242 - val_loss: 1.1303 - val_acc: 0.7098\n",
      "Epoch 74/100\n",
      "6/6 [==============================] - 0s 49ms/step - loss: 0.3155 - acc: 0.8418 - val_loss: 1.0494 - val_acc: 0.6967\n",
      "Epoch 75/100\n",
      "6/6 [==============================] - 0s 50ms/step - loss: 0.1772 - acc: 0.9117 - val_loss: 1.1625 - val_acc: 0.7149\n",
      "Epoch 76/100\n",
      "6/6 [==============================] - 0s 49ms/step - loss: 0.1431 - acc: 0.9280 - val_loss: 1.5488 - val_acc: 0.6924\n",
      "Epoch 77/100\n",
      "6/6 [==============================] - 0s 50ms/step - loss: 0.2841 - acc: 0.8660 - val_loss: 1.0410 - val_acc: 0.7185\n",
      "Epoch 78/100\n",
      "6/6 [==============================] - 0s 50ms/step - loss: 0.1389 - acc: 0.9323 - val_loss: 1.1393 - val_acc: 0.7193\n",
      "Epoch 79/100\n",
      "6/6 [==============================] - 0s 50ms/step - loss: 0.1703 - acc: 0.9147 - val_loss: 0.7310 - val_acc: 0.6873\n",
      "Epoch 80/100\n",
      "6/6 [==============================] - 0s 49ms/step - loss: 0.2369 - acc: 0.8995 - val_loss: 1.2319 - val_acc: 0.7076\n",
      "Epoch 81/100\n",
      "6/6 [==============================] - 0s 49ms/step - loss: 0.1412 - acc: 0.9279 - val_loss: 1.9320 - val_acc: 0.6473\n",
      "Epoch 82/100\n",
      "6/6 [==============================] - 0s 48ms/step - loss: 0.3856 - acc: 0.8380 - val_loss: 1.1247 - val_acc: 0.7105\n",
      "Epoch 83/100\n",
      "6/6 [==============================] - 0s 49ms/step - loss: 0.1283 - acc: 0.9350 - val_loss: 1.2295 - val_acc: 0.7149\n",
      "Epoch 84/100\n",
      "6/6 [==============================] - 0s 50ms/step - loss: 0.1227 - acc: 0.9362 - val_loss: 1.2089 - val_acc: 0.7025\n",
      "Epoch 85/100\n",
      "6/6 [==============================] - 0s 48ms/step - loss: 0.3505 - acc: 0.8447 - val_loss: 1.1203 - val_acc: 0.7033\n",
      "Epoch 86/100\n",
      "6/6 [==============================] - 0s 50ms/step - loss: 0.1324 - acc: 0.9347 - val_loss: 1.2719 - val_acc: 0.7084\n",
      "Epoch 87/100\n",
      "6/6 [==============================] - 0s 49ms/step - loss: 0.1256 - acc: 0.9357 - val_loss: 1.6319 - val_acc: 0.6800\n",
      "Epoch 88/100\n",
      "6/6 [==============================] - 0s 49ms/step - loss: 0.2027 - acc: 0.8915 - val_loss: 1.3180 - val_acc: 0.7149\n",
      "Epoch 89/100\n",
      "6/6 [==============================] - 0s 49ms/step - loss: 0.1063 - acc: 0.9426 - val_loss: 1.3418 - val_acc: 0.7040\n",
      "Epoch 90/100\n",
      "6/6 [==============================] - 0s 49ms/step - loss: 0.3248 - acc: 0.8366 - val_loss: 1.2222 - val_acc: 0.6756\n",
      "Epoch 91/100\n",
      "6/6 [==============================] - 0s 49ms/step - loss: 0.1598 - acc: 0.9221 - val_loss: 1.3762 - val_acc: 0.7091\n",
      "Epoch 92/100\n",
      "6/6 [==============================] - 0s 51ms/step - loss: 0.1147 - acc: 0.9433 - val_loss: 1.4890 - val_acc: 0.7091\n",
      "Epoch 93/100\n",
      "6/6 [==============================] - 0s 49ms/step - loss: 0.1177 - acc: 0.9402 - val_loss: 2.4580 - val_acc: 0.6487\n",
      "Epoch 94/100\n",
      "6/6 [==============================] - 0s 48ms/step - loss: 0.3729 - acc: 0.8419 - val_loss: 1.3192 - val_acc: 0.7076\n",
      "Epoch 95/100\n",
      "6/6 [==============================] - 0s 50ms/step - loss: 0.1026 - acc: 0.9480 - val_loss: 1.4059 - val_acc: 0.7135\n",
      "Epoch 96/100\n",
      "6/6 [==============================] - 0s 49ms/step - loss: 0.0944 - acc: 0.9499 - val_loss: 1.4501 - val_acc: 0.7156\n",
      "Epoch 97/100\n",
      "6/6 [==============================] - 0s 54ms/step - loss: 0.2186 - acc: 0.8975 - val_loss: 1.2450 - val_acc: 0.6640\n",
      "Epoch 98/100\n",
      "6/6 [==============================] - 0s 49ms/step - loss: 0.1794 - acc: 0.8980 - val_loss: 1.3797 - val_acc: 0.7062\n",
      "Epoch 99/100\n",
      "6/6 [==============================] - 0s 49ms/step - loss: 0.0975 - acc: 0.9507 - val_loss: 1.5045 - val_acc: 0.7135\n",
      "Epoch 100/100\n",
      "6/6 [==============================] - 0s 53ms/step - loss: 0.0915 - acc: 0.9507 - val_loss: 1.5800 - val_acc: 0.7098\n"
     ]
    }
   ],
   "source": [
    "model.compile(optimizer = 'rmsprop', loss = 'binary_crossentropy',metrics=['acc'])\n",
    "history = model.fit(X_train, y_train, validation_split=0.25, batch_size=709, epochs=100, shuffle=False)#,  callbacks=[early_stop])"
   ]
  },
  {
   "cell_type": "code",
   "execution_count": 244,
   "id": "c4a7a69a",
   "metadata": {
    "scrolled": true
   },
   "outputs": [
    {
     "data": {
      "image/png": "[encoded data removed]",
      "text/plain": [
       "<Figure size 432x288 with 1 Axes>"
      ]
     },
     "metadata": {
      "needs_background": "light"
     },
     "output_type": "display_data"
    }
   ],
   "source": [
    "plt.plot(history.history['acc'])\n",
    "plt.plot(history.history['val_acc'])\n",
    "plt.title('Model acc')\n",
    "plt.ylabel('acc')\n",
    "plt.xlabel('Epoch')\n",
    "plt.legend(['Train', 'Validation'], loc='upper left')\n",
    "plt.show()"
   ]
  },
  {
   "cell_type": "code",
   "execution_count": 245,
   "id": "ebdcef0f",
   "metadata": {},
   "outputs": [
    {
     "data": {
      "image/png": "[encoded data removed]",
      "text/plain": [
       "<Figure size 432x288 with 1 Axes>"
      ]
     },
     "metadata": {
      "needs_background": "light"
     },
     "output_type": "display_data"
    }
   ],
   "source": [
    "plt.plot(history.history['loss'])\n",
    "plt.plot(history.history['val_loss'])\n",
    "plt.title('Model loss')\n",
    "plt.ylabel('loss')\n",
    "plt.xlabel('Epoch')\n",
    "plt.legend(['Train', 'Validation'], loc='upper left')\n",
    "plt.show()"
   ]
  },
  {
   "cell_type": "code",
   "execution_count": null,
   "id": "5421f594",
   "metadata": {},
   "outputs": [],
   "source": []
  },
  {
   "cell_type": "code",
   "execution_count": null,
   "id": "5378c48f",
   "metadata": {},
   "outputs": [],
   "source": []
  },
  {
   "cell_type": "code",
   "execution_count": 263,
   "id": "9ce25274",
   "metadata": {},
   "outputs": [
    {
     "name": "stdout",
     "output_type": "stream",
     "text": [
      "Model: \"sequential_50\"\n",
      "_________________________________________________________________\n",
      "Layer (type)                 Output Shape              Param #   \n",
      "=================================================================\n",
      "lstm_95 (LSTM)               (None, 12)                33744     \n",
      "_________________________________________________________________\n",
      "dense_61 (Dense)             (None, 1)                 13        \n",
      "=================================================================\n",
      "Total params: 33,757\n",
      "Trainable params: 33,757\n",
      "Non-trainable params: 0\n",
      "_________________________________________________________________\n"
     ]
    }
   ],
   "source": [
    "model = Sequential()\n",
    "model.add(LSTM(12, input_shape = (X_train.shape[1], X_train.shape[2])))\n",
    "# model.add(Dense(6))\n",
    "# model.add(Dropout(0.9))\n",
    "model.add(Dense(1, activation='softmax'))\n",
    "model.compile(loss='binary_crossentropy', optimizer='adam', metrics=['accuracy'])\n",
    "model.summary()"
   ]
  },
  {
   "cell_type": "code",
   "execution_count": 284,
   "id": "b6cb814a",
   "metadata": {},
   "outputs": [
    {
     "name": "stdout",
     "output_type": "stream",
     "text": [
      "Model: \"sequential_54\"\n",
      "_________________________________________________________________\n",
      "Layer (type)                 Output Shape              Param #   \n",
      "=================================================================\n",
      "lstm_99 (LSTM)               (None, 100)               316400    \n",
      "_________________________________________________________________\n",
      "dense_74 (Dense)             (None, 50)                5050      \n",
      "_________________________________________________________________\n",
      "dense_75 (Dense)             (None, 25)                1275      \n",
      "_________________________________________________________________\n",
      "dense_76 (Dense)             (None, 10)                260       \n",
      "_________________________________________________________________\n",
      "dense_77 (Dense)             (None, 1)                 11        \n",
      "=================================================================\n",
      "Total params: 322,996\n",
      "Trainable params: 322,996\n",
      "Non-trainable params: 0\n",
      "_________________________________________________________________\n"
     ]
    }
   ],
   "source": [
    "model = Sequential()\n",
    "model.add(LSTM(100, input_shape = (X_train.shape[1], X_train.shape[2])))\n",
    "model.add(Dense(50, activation='relu'))\n",
    "model.add(Dense(25, activation='relu'))\n",
    "model.add(Dense(10, activation='relu'))\n",
    "model.add(Dense(1, activation='sigmoid'))\n",
    "model.summary()"
   ]
  },
  {
   "cell_type": "code",
   "execution_count": 285,
   "id": "45b3c5a5",
   "metadata": {
    "scrolled": true
   },
   "outputs": [
    {
     "name": "stdout",
     "output_type": "stream",
     "text": [
      "Epoch 1/12\n",
      "7/7 [==============================] - 2s 145ms/step - loss: 0.6677 - acc: 0.5797 - val_loss: 0.7073 - val_acc: 0.5073\n",
      "Epoch 2/12\n",
      "7/7 [==============================] - 0s 44ms/step - loss: 0.5649 - acc: 0.6926 - val_loss: 0.6922 - val_acc: 0.5073\n",
      "Epoch 3/12\n",
      "7/7 [==============================] - 0s 44ms/step - loss: 0.5360 - acc: 0.6973 - val_loss: 0.6880 - val_acc: 0.5491\n",
      "Epoch 4/12\n",
      "7/7 [==============================] - 0s 44ms/step - loss: 0.5143 - acc: 0.7442 - val_loss: 0.6953 - val_acc: 0.5873\n",
      "Epoch 5/12\n",
      "7/7 [==============================] - 0s 44ms/step - loss: 0.4967 - acc: 0.7641 - val_loss: 0.6767 - val_acc: 0.6255\n",
      "Epoch 6/12\n",
      "7/7 [==============================] - 0s 44ms/step - loss: 0.4824 - acc: 0.7750 - val_loss: 0.6807 - val_acc: 0.6309\n",
      "Epoch 7/12\n",
      "7/7 [==============================] - 0s 43ms/step - loss: 0.4710 - acc: 0.7835 - val_loss: 0.6628 - val_acc: 0.6509\n",
      "Epoch 8/12\n",
      "7/7 [==============================] - 0s 44ms/step - loss: 0.4688 - acc: 0.7792 - val_loss: 0.6265 - val_acc: 0.6782\n",
      "Epoch 9/12\n",
      "7/7 [==============================] - 0s 44ms/step - loss: 0.4654 - acc: 0.7798 - val_loss: 0.6715 - val_acc: 0.6636\n",
      "Epoch 10/12\n",
      "7/7 [==============================] - 0s 43ms/step - loss: 0.4589 - acc: 0.7873 - val_loss: 0.6354 - val_acc: 0.6782\n",
      "Epoch 11/12\n",
      "7/7 [==============================] - 0s 44ms/step - loss: 0.4500 - acc: 0.7924 - val_loss: 0.7027 - val_acc: 0.6473\n",
      "Epoch 12/12\n",
      "7/7 [==============================] - 0s 43ms/step - loss: 0.4293 - acc: 0.8063 - val_loss: 0.6212 - val_acc: 0.6782\n"
     ]
    }
   ],
   "source": [
    "model.compile(optimizer = 'rmsprop', loss = 'binary_crossentropy',metrics=['acc'])\n",
    "es = EarlyStopping(monitor='val_loss', mode='min',patience=20)\n",
    "history = model.fit(X_train, y_train, epochs=12, batch_size=790, validation_split=0.1, shuffle=False)#,  callbacks=[es])"
   ]
  },
  {
   "cell_type": "code",
   "execution_count": 286,
   "id": "4397d37a",
   "metadata": {},
   "outputs": [
    {
     "data": {
      "text/plain": [
       "<matplotlib.legend.Legend at 0x7f486063d490>"
      ]
     },
     "execution_count": 286,
     "metadata": {},
     "output_type": "execute_result"
    },
    {
     "data": {
      "image/png": "[encoded data removed]",
      "text/plain": [
       "<Figure size 1152x432 with 2 Axes>"
      ]
     },
     "metadata": {
      "needs_background": "light"
     },
     "output_type": "display_data"
    }
   ],
   "source": [
    "fig, axes = plt.subplots(1, 2, figsize = (16,6))\n",
    "axes[0].plot(history.history['acc'])\n",
    "axes[0].plot(history.history['val_acc'],'--')\n",
    "axes[0].set_title('model accuracy')\n",
    "axes[0].set_ylabel('accuracy')\n",
    "axes[0].set_xlabel('epoch')\n",
    "axes[0].legend(['train', 'val'], loc='lower right')\n",
    "\n",
    "axes[1].plot(history.history['loss'])\n",
    "axes[1].plot(history.history['val_loss'],\"--\")\n",
    "axes[1].set_title('model loss')\n",
    "axes[1].set_ylabel('accuracy')\n",
    "axes[1].set_xlabel('epoch')\n",
    "axes[1].legend(['loss', 'val_loss'], loc='lower right')"
   ]
  },
  {
   "cell_type": "code",
   "execution_count": 287,
   "id": "02e5c5a0",
   "metadata": {},
   "outputs": [],
   "source": [
    "pred = lstm.predict(X_test)\n",
    "pred[pred>0.5]=1\n",
    "pred[pred<=0.5]=0"
   ]
  },
  {
   "cell_type": "code",
   "execution_count": 289,
   "id": "b973539a",
   "metadata": {},
   "outputs": [
    {
     "name": "stdout",
     "output_type": "stream",
     "text": [
      "1641.0\n",
      "1098\n",
      "(2299, 1)\n",
      "정확도 : 0.622879512831666\n"
     ]
    }
   ],
   "source": [
    "print(pred.sum())\n",
    "print(y_test.sum())\n",
    "print(pred.shape)\n",
    "from sklearn import metrics \n",
    "print('정확도 :', metrics.accuracy_score(y_test, pred))"
   ]
  },
  {
   "cell_type": "code",
   "execution_count": null,
   "id": "edcda1e6",
   "metadata": {},
   "outputs": [],
   "source": []
  },
  {
   "cell_type": "code",
   "execution_count": null,
   "id": "35942bc1",
   "metadata": {},
   "outputs": [],
   "source": []
  },
  {
   "cell_type": "markdown",
   "id": "53a300e8",
   "metadata": {},
   "source": [
    "# 틀린 환자 확인"
   ]
  },
  {
   "cell_type": "code",
   "execution_count": 293,
   "id": "ff94ad1f",
   "metadata": {},
   "outputs": [],
   "source": [
    "pred1 = pd.DataFrame(pred)\n",
    "y_test1 = pd.DataFrame(y_test)"
   ]
  },
  {
   "cell_type": "code",
   "execution_count": 302,
   "id": "7b7e0975",
   "metadata": {},
   "outputs": [
    {
     "data": {
      "text/plain": [
       "0    True\n",
       "Name: 0, dtype: bool"
      ]
     },
     "execution_count": 302,
     "metadata": {},
     "output_type": "execute_result"
    }
   ],
   "source": [
    "pred1.iloc[0]==y_test1.iloc[0]"
   ]
  },
  {
   "cell_type": "code",
   "execution_count": 313,
   "id": "519a49bf",
   "metadata": {},
   "outputs": [
    {
     "data": {
      "text/plain": [
       "Int64Index([   1,    2,    4,    5,   12,   13,   18,   22,   24,   28,\n",
       "            ...\n",
       "            2267, 2271, 2273, 2274, 2275, 2278, 2286, 2287, 2288, 2294],\n",
       "           dtype='int64', length=705)"
      ]
     },
     "execution_count": 313,
     "metadata": {},
     "output_type": "execute_result"
    }
   ],
   "source": [
    "a = pred1-y_test1\n",
    "a[a[0]==1].index"
   ]
  },
  {
   "cell_type": "code",
   "execution_count": 320,
   "id": "b018566b",
   "metadata": {
    "scrolled": true
   },
   "outputs": [
    {
     "data": {
      "text/plain": [
       "array([36., 30., 27.,  0.,  0., 18., 27.,  0.,  0.,  2.])"
      ]
     },
     "execution_count": 320,
     "metadata": {},
     "output_type": "execute_result"
    }
   ],
   "source": [
    "X_test[1,:,:].sum(axis=1)"
   ]
  },
  {
   "cell_type": "code",
   "execution_count": 321,
   "id": "e60ed9a1",
   "metadata": {},
   "outputs": [
    {
     "data": {
      "text/plain": [
       "array([ 3., 18., 14.,  0.,  6., 19., 38.,  0.,  0.,  0.])"
      ]
     },
     "execution_count": 321,
     "metadata": {},
     "output_type": "execute_result"
    }
   ],
   "source": [
    "X_test[3,:,:].sum(axis=1)"
   ]
  },
  {
   "cell_type": "code",
   "execution_count": null,
   "id": "4f8fd38b",
   "metadata": {},
   "outputs": [],
   "source": []
  },
  {
   "cell_type": "code",
   "execution_count": null,
   "id": "ca6bccb0",
   "metadata": {},
   "outputs": [],
   "source": []
  },
  {
   "cell_type": "code",
   "execution_count": null,
   "id": "91a962ac",
   "metadata": {},
   "outputs": [],
   "source": []
  },
  {
   "cell_type": "code",
   "execution_count": null,
   "id": "2b988fa7",
   "metadata": {},
   "outputs": [],
   "source": []
  },
  {
   "cell_type": "code",
   "execution_count": null,
   "id": "94ce5822",
   "metadata": {},
   "outputs": [],
   "source": []
  },
  {
   "cell_type": "code",
   "execution_count": null,
   "id": "89722bed",
   "metadata": {},
   "outputs": [],
   "source": []
  },
  {
   "cell_type": "code",
   "execution_count": null,
   "id": "2c8e94da",
   "metadata": {},
   "outputs": [],
   "source": []
  },
  {
   "cell_type": "code",
   "execution_count": null,
   "id": "3b2c7ceb",
   "metadata": {},
   "outputs": [],
   "source": []
  },
  {
   "cell_type": "code",
   "execution_count": null,
   "id": "c0e8edbe",
   "metadata": {},
   "outputs": [],
   "source": []
  },
  {
   "cell_type": "code",
   "execution_count": null,
   "id": "d1ad6885",
   "metadata": {},
   "outputs": [],
   "source": []
  },
  {
   "cell_type": "code",
   "execution_count": null,
   "id": "caf5f6b2",
   "metadata": {},
   "outputs": [],
   "source": []
  },
  {
   "cell_type": "code",
   "execution_count": null,
   "id": "2bd0b25a",
   "metadata": {},
   "outputs": [],
   "source": []
  },
  {
   "cell_type": "code",
   "execution_count": null,
   "id": "71ea71e3",
   "metadata": {},
   "outputs": [],
   "source": []
  },
  {
   "cell_type": "code",
   "execution_count": null,
   "id": "406d857f",
   "metadata": {},
   "outputs": [],
   "source": []
  },
  {
   "cell_type": "code",
   "execution_count": null,
   "id": "5b7caff5",
   "metadata": {},
   "outputs": [],
   "source": []
  },
  {
   "cell_type": "code",
   "execution_count": null,
   "id": "2f167fc1",
   "metadata": {},
   "outputs": [],
   "source": []
  },
  {
   "cell_type": "code",
   "execution_count": null,
   "id": "3e90a5fb",
   "metadata": {},
   "outputs": [],
   "source": []
  },
  {
   "cell_type": "code",
   "execution_count": null,
   "id": "22eaa89f",
   "metadata": {},
   "outputs": [],
   "source": []
  },
  {
   "cell_type": "code",
   "execution_count": null,
   "id": "a0e14f87",
   "metadata": {},
   "outputs": [],
   "source": []
  },
  {
   "cell_type": "code",
   "execution_count": null,
   "id": "5da13978",
   "metadata": {},
   "outputs": [],
   "source": []
  },
  {
   "cell_type": "code",
   "execution_count": null,
   "id": "9c8973a4",
   "metadata": {},
   "outputs": [],
   "source": []
  }
 ],
 "metadata": {
  "kernelspec": {
   "display_name": "Python 3",
   "language": "python",
   "name": "python3"
  },
  "language_info": {
   "codemirror_mode": {
    "name": "ipython",
    "version": 3
   },
   "file_extension": ".py",
   "mimetype": "text/x-python",
   "name": "python",
   "nbconvert_exporter": "python",
   "pygments_lexer": "ipython3",
   "version": "3.8.5"
  },
  "toc": {
   "base_numbering": 1,
   "nav_menu": {},
   "number_sections": true,
   "sideBar": true,
   "skip_h1_title": false,
   "title_cell": "Table of Contents",
   "title_sidebar": "Contents",
   "toc_cell": false,
   "toc_position": {
    "height": "calc(100% - 180px)",
    "left": "10px",
    "top": "150px",
    "width": "165px"
   },
   "toc_section_display": true,
   "toc_window_display": true
  }
 },
 "nbformat": 4,
 "nbformat_minor": 5
}
