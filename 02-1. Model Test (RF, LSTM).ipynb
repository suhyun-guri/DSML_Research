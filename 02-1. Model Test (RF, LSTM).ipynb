{
 "cells": [
  {
   "cell_type": "code",
   "execution_count": 1,
   "id": "a22b155a",
   "metadata": {},
   "outputs": [],
   "source": [
    "import pandas as pd\n",
    "import numpy as np\n",
    "\n",
    "import warnings\n",
    "warnings.filterwarnings(action='ignore')\n",
    "\n",
    "import math\n",
    "import matplotlib.pyplot as plt\n",
    "\n",
    "#model\n",
    "from keras.models import Sequential\n",
    "from keras.layers import Dense, LSTM\n",
    "from keras.layers import SimpleRNN\n",
    "from keras.layers import Dropout, InputLayer\n",
    "from keras.callbacks import EarlyStopping\n",
    "from keras.regularizers import l2\n",
    "#voting\n",
    "from sklearn.ensemble import AdaBoostRegressor, AdaBoostClassifier\n",
    "from keras.wrappers.scikit_learn import KerasClassifier, KerasRegressor\n",
    "from sklearn.ensemble import VotingClassifier\n",
    "from keras.layers import InputLayer, GRU"
   ]
  },
  {
   "cell_type": "markdown",
   "id": "b8357ec5",
   "metadata": {},
   "source": [
    "Each time I run the Keras, I get different result. - https://github.com/keras-team/keras/issues/2743\n",
    "- Also running in CPU only mode via os.environ[\"CUDA_VISIBLE_DEVICES\"] = \"\" I get same issue."
   ]
  },
  {
   "cell_type": "code",
   "execution_count": 2,
   "id": "fd2cc009",
   "metadata": {},
   "outputs": [
    {
     "data": {
      "text/plain": [
       "[name: \"/device:CPU:0\"\n",
       " device_type: \"CPU\"\n",
       " memory_limit: 268435456\n",
       " locality {\n",
       " }\n",
       " incarnation: 15437405086156065308]"
      ]
     },
     "execution_count": 2,
     "metadata": {},
     "output_type": "execute_result"
    }
   ],
   "source": [
    "#CPU 확인\n",
    "from tensorflow.python.client import device_lib\n",
    "device_lib.list_local_devices()"
   ]
  },
  {
   "cell_type": "code",
   "execution_count": 3,
   "id": "a433adc8",
   "metadata": {},
   "outputs": [],
   "source": [
    "#seed지정 + single thread 사용 => 안됨\n",
    "import tensorflow as tf\n",
    "import random\n",
    "\n",
    "seed_num = 42\n",
    "np.random.seed(seed_num)\n",
    "# random.seed(seed_num)\n",
    "tf.random.set_seed(seed_num)\n",
    "\n",
    "# from keras import backend as K\n",
    "# session_conf = tf.compat.v1.ConfigProto(intra_op_parallelism_threads=1,\n",
    "#                               inter_op_parallelism_threads=1)\n",
    "# sess = tf.compat.v1.Session(graph=tf.compat.v1.get_default_graph(), config=session_conf)\n",
    "# K.set_session(sess)\n",
    "# import os\n",
    "# os.environ['PYTHONHASHSEED']=str(seed_num)\n",
    "# import os\n",
    "# # running in CPU\n",
    "# os.environ[\"CUDA_VISIBLE_DEVICES\"] = \"\""
   ]
  },
  {
   "cell_type": "markdown",
   "id": "836fecf7",
   "metadata": {},
   "source": [
    "# Data Load"
   ]
  },
  {
   "cell_type": "code",
   "execution_count": 133,
   "id": "1221a60d",
   "metadata": {},
   "outputs": [
    {
     "data": {
      "text/plain": [
       "((7799,), (7799, 10, 4069))"
      ]
     },
     "execution_count": 133,
     "metadata": {},
     "output_type": "execute_result"
    }
   ],
   "source": [
    "path = '/project/guri/data/'\n",
    "label = np.load(path + \"2030days_label.npy\")\n",
    "\n",
    "data = np.load(path + \"10days_data.npy\")\n",
    "label.shape, data.shape"
   ]
  },
  {
   "cell_type": "markdown",
   "id": "d9ba756d",
   "metadata": {},
   "source": [
    "# Model"
   ]
  },
  {
   "cell_type": "markdown",
   "id": "130adda8",
   "metadata": {},
   "source": [
    "## RF"
   ]
  },
  {
   "cell_type": "code",
   "execution_count": 134,
   "id": "2cecfe6d",
   "metadata": {
    "scrolled": true
   },
   "outputs": [
    {
     "data": {
      "text/plain": [
       "(7799, 4069)"
      ]
     },
     "execution_count": 134,
     "metadata": {},
     "output_type": "execute_result"
    }
   ],
   "source": [
    "data2d = pd.read_csv(path + 'data2d_forposter.csv')\n",
    "data2d.shape"
   ]
  },
  {
   "cell_type": "code",
   "execution_count": null,
   "id": "6c67495b",
   "metadata": {},
   "outputs": [],
   "source": []
  },
  {
   "cell_type": "code",
   "execution_count": 6,
   "id": "825be035",
   "metadata": {},
   "outputs": [
    {
     "data": {
      "text/plain": [
       "((6239, 4069), (6239,), (1560, 4069), (1560,))"
      ]
     },
     "execution_count": 6,
     "metadata": {},
     "output_type": "execute_result"
    }
   ],
   "source": [
    "import random\n",
    "random.seed(seed_num)\n",
    "\n",
    "# 80% (6239) 기준으로 split\n",
    "\n",
    "idx = list(range(len(data2d)))\n",
    "random.shuffle(idx)\n",
    "\n",
    "i= round(len(data2d)*0.8)\n",
    "\n",
    "X_train = data2d.iloc[idx[:i]]\n",
    "y_train = label[idx[:i]]\n",
    "\n",
    "X_test = data2d.iloc[idx[i:]]\n",
    "y_test = label[idx[i:]]\n",
    "\n",
    "# X_train = data2d[:i]\n",
    "# y_train = label[:i]\n",
    "\n",
    "\n",
    "# X_test = data2d[i:]\n",
    "# y_test = label[i:]\n",
    "\n",
    "\n",
    "X_train.shape, y_train.shape, X_test.shape, y_test.shape"
   ]
  },
  {
   "cell_type": "code",
   "execution_count": 115,
   "id": "a86bdd9a",
   "metadata": {},
   "outputs": [],
   "source": [
    "# idx"
   ]
  },
  {
   "cell_type": "code",
   "execution_count": 8,
   "id": "65b46e91",
   "metadata": {
    "scrolled": true
   },
   "outputs": [],
   "source": [
    "from sklearn.ensemble import RandomForestClassifier\n",
    "\n",
    "forest = RandomForestClassifier(n_estimators=100)\n",
    "forest.fit(X_train,y_train)\n",
    "y_pred = forest.predict(X_test)"
   ]
  },
  {
   "cell_type": "code",
   "execution_count": 9,
   "id": "d55cb4c5",
   "metadata": {},
   "outputs": [
    {
     "name": "stdout",
     "output_type": "stream",
     "text": [
      "정확도 : 0.75\n"
     ]
    }
   ],
   "source": [
    "from sklearn import metrics \n",
    "print('정확도 :', metrics.accuracy_score(y_test, y_pred))"
   ]
  },
  {
   "cell_type": "code",
   "execution_count": null,
   "id": "7e9f70a4",
   "metadata": {},
   "outputs": [],
   "source": []
  },
  {
   "cell_type": "code",
   "execution_count": null,
   "id": "96ca4f35",
   "metadata": {},
   "outputs": [],
   "source": []
  },
  {
   "cell_type": "code",
   "execution_count": null,
   "id": "797e10ac",
   "metadata": {},
   "outputs": [],
   "source": []
  },
  {
   "cell_type": "code",
   "execution_count": null,
   "id": "6ce27db5",
   "metadata": {},
   "outputs": [],
   "source": []
  },
  {
   "cell_type": "markdown",
   "id": "db152000",
   "metadata": {},
   "source": [
    "## LSTM"
   ]
  },
  {
   "cell_type": "code",
   "execution_count": 135,
   "id": "de835b95",
   "metadata": {},
   "outputs": [
    {
     "data": {
      "text/plain": [
       "((6239, 10, 4069), (6239,), (1560, 10, 4069), (1560,))"
      ]
     },
     "execution_count": 135,
     "metadata": {},
     "output_type": "execute_result"
    }
   ],
   "source": [
    "import random\n",
    "random.seed(seed_num)\n",
    "\n",
    "# 80% (6239) 기준으로 split\n",
    "\n",
    "idx = list(range(len(data)))\n",
    "random.shuffle(idx)\n",
    "\n",
    "i= round(len(data)*0.8)\n",
    "\n",
    "X_train = data[idx[:i],:,:]\n",
    "y_train = np.array(label[idx[:i]])\n",
    "\n",
    "X_test = data[idx[i:],:,:]\n",
    "y_test = np.array(label[idx[i:]])\n",
    "\n",
    "# X_train = data[:i,:,:]\n",
    "# y_train = np.array(label[:i])\n",
    "\n",
    "# X_test = data[i:,:,:]\n",
    "# y_test = np.array(label[i:])\n",
    "\n",
    "\n",
    "X_train.shape, y_train.shape, X_test.shape, y_test.shape"
   ]
  },
  {
   "cell_type": "code",
   "execution_count": 155,
   "id": "e2a24d76",
   "metadata": {},
   "outputs": [],
   "source": [
    "seed_num = 1000"
   ]
  },
  {
   "cell_type": "code",
   "execution_count": 156,
   "id": "ed0e1e34",
   "metadata": {
    "scrolled": true
   },
   "outputs": [
    {
     "name": "stdout",
     "output_type": "stream",
     "text": [
      "Epoch 1/30\n",
      "37/37 [==============================] - 8s 86ms/step - loss: 1.8659 - acc: 0.4591 - val_loss: 0.6654 - val_acc: 0.6167\n",
      "Epoch 2/30\n",
      "37/37 [==============================] - 2s 57ms/step - loss: 0.6544 - acc: 0.6154 - val_loss: 0.6031 - val_acc: 0.6756\n",
      "Epoch 3/30\n",
      "37/37 [==============================] - 2s 56ms/step - loss: 0.5272 - acc: 0.7490 - val_loss: 0.9126 - val_acc: 0.6942\n",
      "Epoch 4/30\n",
      "37/37 [==============================] - 2s 56ms/step - loss: 0.4476 - acc: 0.7920 - val_loss: 1.2982 - val_acc: 0.6808\n",
      "Epoch 5/30\n",
      "37/37 [==============================] - 2s 55ms/step - loss: 0.3712 - acc: 0.8376 - val_loss: 1.4837 - val_acc: 0.7103\n",
      "Epoch 6/30\n",
      "37/37 [==============================] - 2s 55ms/step - loss: 0.2944 - acc: 0.8903 - val_loss: 1.3120 - val_acc: 0.6994\n",
      "Epoch 7/30\n",
      "37/37 [==============================] - 2s 56ms/step - loss: 0.4198 - acc: 0.8217 - val_loss: 1.3142 - val_acc: 0.6526\n",
      "Epoch 8/30\n",
      "37/37 [==============================] - 2s 55ms/step - loss: 0.5049 - acc: 0.8222 - val_loss: 1.4342 - val_acc: 0.7038\n",
      "Epoch 9/30\n",
      "37/37 [==============================] - 2s 56ms/step - loss: 0.3648 - acc: 0.9056 - val_loss: 1.7302 - val_acc: 0.6994\n",
      "Epoch 10/30\n",
      "37/37 [==============================] - 2s 56ms/step - loss: 0.3807 - acc: 0.8439 - val_loss: 1.3944 - val_acc: 0.6295\n",
      "Epoch 11/30\n",
      "37/37 [==============================] - 2s 56ms/step - loss: 0.4153 - acc: 0.8315 - val_loss: 2.5311 - val_acc: 0.6385\n",
      "Epoch 12/30\n",
      "37/37 [==============================] - 2s 55ms/step - loss: 0.5338 - acc: 0.8206 - val_loss: 1.6818 - val_acc: 0.6224\n",
      "Epoch 13/30\n",
      "37/37 [==============================] - 2s 56ms/step - loss: 0.6424 - acc: 0.7521 - val_loss: 1.8929 - val_acc: 0.6910\n",
      "Epoch 14/30\n",
      "37/37 [==============================] - 2s 56ms/step - loss: 0.5068 - acc: 0.8318 - val_loss: 1.5588 - val_acc: 0.6019\n",
      "Epoch 15/30\n",
      "37/37 [==============================] - 2s 56ms/step - loss: 0.4504 - acc: 0.7979 - val_loss: 1.9600 - val_acc: 0.6872\n",
      "Epoch 16/30\n",
      "37/37 [==============================] - 2s 56ms/step - loss: 0.2953 - acc: 0.8877 - val_loss: 1.6350 - val_acc: 0.6801\n",
      "Epoch 17/30\n",
      "37/37 [==============================] - 2s 56ms/step - loss: 0.2766 - acc: 0.9021 - val_loss: 2.2497 - val_acc: 0.7115\n",
      "Epoch 18/30\n",
      "37/37 [==============================] - 2s 56ms/step - loss: 0.2274 - acc: 0.9392 - val_loss: 2.5853 - val_acc: 0.7308\n",
      "Epoch 19/30\n",
      "37/37 [==============================] - 2s 57ms/step - loss: 0.2069 - acc: 0.9590 - val_loss: 2.8148 - val_acc: 0.7269\n",
      "Epoch 20/30\n",
      "37/37 [==============================] - 2s 56ms/step - loss: 0.1699 - acc: 0.9649 - val_loss: 2.8772 - val_acc: 0.7186\n",
      "Epoch 21/30\n",
      "37/37 [==============================] - 2s 55ms/step - loss: 0.1556 - acc: 0.9692 - val_loss: 2.9948 - val_acc: 0.7077\n",
      "Epoch 22/30\n",
      "37/37 [==============================] - 2s 55ms/step - loss: 0.1472 - acc: 0.9727 - val_loss: 3.1581 - val_acc: 0.7160\n",
      "Epoch 23/30\n",
      "37/37 [==============================] - 2s 56ms/step - loss: 0.1392 - acc: 0.9768 - val_loss: 3.2304 - val_acc: 0.7103\n",
      "Epoch 24/30\n",
      "37/37 [==============================] - 2s 56ms/step - loss: 0.1372 - acc: 0.9768 - val_loss: 3.2418 - val_acc: 0.7090\n",
      "Epoch 25/30\n",
      "37/37 [==============================] - 2s 56ms/step - loss: 0.1412 - acc: 0.9756 - val_loss: 3.3057 - val_acc: 0.7103\n",
      "Epoch 26/30\n",
      "37/37 [==============================] - 2s 56ms/step - loss: 0.1330 - acc: 0.9777 - val_loss: 3.2961 - val_acc: 0.7115\n",
      "Epoch 27/30\n",
      "37/37 [==============================] - 2s 55ms/step - loss: 0.1259 - acc: 0.9828 - val_loss: 3.3789 - val_acc: 0.7147\n",
      "Epoch 28/30\n",
      "37/37 [==============================] - 2s 50ms/step - loss: 0.1214 - acc: 0.9821 - val_loss: 3.4623 - val_acc: 0.7109\n",
      "Epoch 29/30\n",
      "37/37 [==============================] - 2s 41ms/step - loss: 0.1194 - acc: 0.9843 - val_loss: 3.5104 - val_acc: 0.7135\n",
      "Epoch 30/30\n",
      "37/37 [==============================] - 1s 39ms/step - loss: 0.1170 - acc: 0.9849 - val_loss: 3.5663 - val_acc: 0.7154\n"
     ]
    }
   ],
   "source": [
    "tf.random.set_seed(seed_num)\n",
    "lstm = Sequential()\n",
    "lstm.add(InputLayer(input_shape=(X_train.shape[1],X_train.shape[2])))\n",
    "# lstm.add(LSTM(units=128, activation='relu', return_sequences=True, kernel_regularizer=l2(0.1)))\n",
    "# lstm.add(LSTM(units=64, activation='relu', return_sequences=True, kernel_regularizer=l2(0.1)))\n",
    "# lstm.add(LSTM(units=32, activation='tanh', return_sequences=False, kernel_regularizer=l2(0.1)))\n",
    "# lstm.add(LSTM(units=128, activation='relu', return_sequences=True, kernel_regularizer=l1_l2(l1=0.1, l2=0.01)))\n",
    "# lstm.add(LSTM(units=64, activation='relu', return_sequences=True, kernel_regularizer=l1_l2(l1=0.1, l2=0.01)))\n",
    "# lstm.add(LSTM(units=32, activation='tanh', return_sequences=False, kernel_regularizer=l1_l2(l1=0.1, l2=0.01)))\n",
    "lstm.add(LSTM(units=128, activation='relu', return_sequences=True))\n",
    "lstm.add(LSTM(units=64, activation='relu', return_sequences=True))\n",
    "lstm.add(LSTM(units=32, activation='tanh', return_sequences=False))\n",
    "lstm.add(Dense(units=1))\n",
    "early_stop = EarlyStopping(monitor='val_acc', patience=100, verbose=1, restore_best_weights=True)\n",
    "lstm.compile(optimizer= \"adam\", loss = \"binary_crossentropy\", metrics=['acc'])\n",
    "#     lstm.summary()\n",
    "history = lstm.fit(X_train, y_train, validation_split=0.25, batch_size=128, epochs=30,  callbacks=[early_stop], shuffle=False)"
   ]
  },
  {
   "cell_type": "code",
   "execution_count": 157,
   "id": "e67965e2",
   "metadata": {},
   "outputs": [
    {
     "name": "stdout",
     "output_type": "stream",
     "text": [
      "정확도 : 0.7416666666666667\n"
     ]
    }
   ],
   "source": [
    "preds = lstm.predict(X_test)\n",
    "\n",
    "preds[preds>0.5]=1\n",
    "preds[preds<=0.5]=0\n",
    "\n",
    "from sklearn import metrics \n",
    "print('정확도 :', metrics.accuracy_score(y_test, preds))"
   ]
  },
  {
   "cell_type": "code",
   "execution_count": null,
   "id": "470f2a1e",
   "metadata": {},
   "outputs": [],
   "source": []
  },
  {
   "cell_type": "code",
   "execution_count": 115,
   "id": "de5ed94f",
   "metadata": {},
   "outputs": [
    {
     "name": "stdout",
     "output_type": "stream",
     "text": [
      "정확도 : 0.7557692307692307\n"
     ]
    }
   ],
   "source": [
    "preds = lstm.predict(X_test)\n",
    "\n",
    "preds[preds>0.5]=1\n",
    "preds[preds<=0.5]=0\n",
    "\n",
    "from sklearn import metrics \n",
    "print('정확도 :', metrics.accuracy_score(y_test, preds))"
   ]
  },
  {
   "cell_type": "code",
   "execution_count": null,
   "id": "08775829",
   "metadata": {},
   "outputs": [],
   "source": []
  },
  {
   "cell_type": "markdown",
   "id": "0c6ceef1",
   "metadata": {},
   "source": [
    "## plot"
   ]
  },
  {
   "cell_type": "code",
   "execution_count": 13,
   "id": "1e1fc711",
   "metadata": {},
   "outputs": [
    {
     "data": {
      "image/png": "[encoded data removed]",
      "text/plain": [
       "<Figure size 432x288 with 2 Axes>"
      ]
     },
     "metadata": {
      "needs_background": "light"
     },
     "output_type": "display_data"
    }
   ],
   "source": [
    "import matplotlib.pyplot as plt\n",
    "\n",
    "fig, loss_ax = plt.subplots()\n",
    "\n",
    "acc_ax = loss_ax.twinx()\n",
    "\n",
    "loss_ax.plot(history.history['loss'], 'y', label='train loss')\n",
    "loss_ax.plot(history.history['val_loss'], 'r', label='val loss')\n",
    "\n",
    "acc_ax.plot(history.history['acc'], 'b', label='train acc')\n",
    "acc_ax.plot(history.history['val_acc'], 'g', label='val acc')\n",
    "\n",
    "loss_ax.set_xlabel('epoch')\n",
    "loss_ax.set_ylabel('loss')\n",
    "acc_ax.set_ylabel('accuray')\n",
    "\n",
    "loss_ax.legend(loc='upper left')\n",
    "acc_ax.legend(loc='lower left')\n",
    "\n",
    "plt.show()"
   ]
  },
  {
   "cell_type": "code",
   "execution_count": null,
   "id": "418f28de",
   "metadata": {},
   "outputs": [],
   "source": []
  },
  {
   "cell_type": "markdown",
   "id": "3e70328d",
   "metadata": {},
   "source": [
    "# lsh code"
   ]
  },
  {
   "cell_type": "code",
   "execution_count": 15,
   "id": "70e89378",
   "metadata": {
    "scrolled": true
   },
   "outputs": [
    {
     "name": "stdout",
     "output_type": "stream",
     "text": [
      "Epoch 1/30\n",
      "37/37 [==============================] - 18s 314ms/step - loss: 0.7125 - acc: 0.5625 - val_loss: 0.5783 - val_acc: 0.7019\n",
      "Epoch 2/30\n",
      "37/37 [==============================] - 10s 264ms/step - loss: 0.5491 - acc: 0.7345 - val_loss: 0.5453 - val_acc: 0.7160\n",
      "Epoch 3/30\n",
      "37/37 [==============================] - 10s 263ms/step - loss: 0.5669 - acc: 0.6980 - val_loss: 0.5953 - val_acc: 0.7071\n",
      "Epoch 4/30\n",
      "37/37 [==============================] - 10s 261ms/step - loss: 0.4687 - acc: 0.8134 - val_loss: 0.5371 - val_acc: 0.7404\n",
      "Epoch 5/30\n",
      "37/37 [==============================] - 9s 256ms/step - loss: 0.3621 - acc: 0.8623 - val_loss: 0.5550 - val_acc: 0.7603\n",
      "Epoch 6/30\n",
      "37/37 [==============================] - 10s 264ms/step - loss: 0.2796 - acc: 0.8957 - val_loss: 0.6892 - val_acc: 0.7526\n",
      "Epoch 7/30\n",
      "37/37 [==============================] - 9s 257ms/step - loss: 0.2631 - acc: 0.9202 - val_loss: 0.6751 - val_acc: 0.7372\n",
      "Epoch 8/30\n",
      "37/37 [==============================] - 9s 256ms/step - loss: 0.2284 - acc: 0.9225 - val_loss: 1.3116 - val_acc: 0.7513\n",
      "Epoch 9/30\n",
      "37/37 [==============================] - 10s 260ms/step - loss: 0.2102 - acc: 0.9301 - val_loss: 1.2395 - val_acc: 0.7481\n",
      "Epoch 10/30\n",
      "37/37 [==============================] - 10s 261ms/step - loss: 0.1641 - acc: 0.9539 - val_loss: 2.3163 - val_acc: 0.7462\n",
      "Epoch 11/30\n",
      "37/37 [==============================] - 9s 257ms/step - loss: 0.1419 - acc: 0.9767 - val_loss: 2.0226 - val_acc: 0.7019\n",
      "Epoch 12/30\n",
      "37/37 [==============================] - 10s 259ms/step - loss: 0.3255 - acc: 0.8868 - val_loss: 0.8656 - val_acc: 0.4083\n",
      "Epoch 13/30\n",
      "37/37 [==============================] - 10s 260ms/step - loss: 0.7808 - acc: 0.4152 - val_loss: 0.6774 - val_acc: 0.5923\n",
      "Epoch 14/30\n",
      "37/37 [==============================] - 10s 259ms/step - loss: 0.6690 - acc: 0.6112 - val_loss: 0.6761 - val_acc: 0.5923\n",
      "Epoch 15/30\n",
      "37/37 [==============================] - 10s 261ms/step - loss: 0.6656 - acc: 0.6112 - val_loss: 0.6712 - val_acc: 0.5923\n",
      "Epoch 16/30\n",
      "37/37 [==============================] - 10s 260ms/step - loss: 0.6490 - acc: 0.6119 - val_loss: 0.6199 - val_acc: 0.6795\n",
      "Epoch 17/30\n",
      "37/37 [==============================] - 10s 259ms/step - loss: 0.5319 - acc: 0.8503 - val_loss: 0.5675 - val_acc: 0.7365\n",
      "Epoch 18/30\n",
      "37/37 [==============================] - 9s 255ms/step - loss: 0.3536 - acc: 0.9211 - val_loss: 0.6234 - val_acc: 0.7442\n",
      "Epoch 19/30\n",
      "37/37 [==============================] - 10s 262ms/step - loss: 0.1886 - acc: 0.9504 - val_loss: 1.4591 - val_acc: 0.7321\n",
      "Epoch 20/30\n",
      "37/37 [==============================] - 10s 259ms/step - loss: 0.1656 - acc: 0.9608 - val_loss: 1.3588 - val_acc: 0.7244\n",
      "Epoch 21/30\n",
      "37/37 [==============================] - 10s 258ms/step - loss: 0.1100 - acc: 0.9733 - val_loss: 2.5547 - val_acc: 0.7353\n",
      "Epoch 22/30\n",
      "37/37 [==============================] - 9s 257ms/step - loss: 0.0937 - acc: 0.9818 - val_loss: 2.1370 - val_acc: 0.7333\n",
      "Epoch 23/30\n",
      "37/37 [==============================] - 10s 259ms/step - loss: 0.0904 - acc: 0.9788 - val_loss: 2.6175 - val_acc: 0.7346\n",
      "Epoch 24/30\n",
      "37/37 [==============================] - 9s 255ms/step - loss: 0.0742 - acc: 0.9873 - val_loss: 2.6547 - val_acc: 0.7385\n",
      "Epoch 25/30\n",
      "37/37 [==============================] - 10s 264ms/step - loss: 0.0638 - acc: 0.9877 - val_loss: 2.8682 - val_acc: 0.7359\n",
      "Epoch 26/30\n",
      "37/37 [==============================] - 10s 260ms/step - loss: 0.0935 - acc: 0.9816 - val_loss: 2.4989 - val_acc: 0.7321\n",
      "Epoch 27/30\n",
      "37/37 [==============================] - 10s 261ms/step - loss: 0.0931 - acc: 0.9860 - val_loss: 2.6056 - val_acc: 0.7410\n",
      "Epoch 28/30\n",
      "37/37 [==============================] - 10s 258ms/step - loss: 0.1353 - acc: 0.9724 - val_loss: 2.3909 - val_acc: 0.7218\n",
      "Epoch 29/30\n",
      "37/37 [==============================] - 9s 256ms/step - loss: 0.0767 - acc: 0.9909 - val_loss: 2.7408 - val_acc: 0.7429\n",
      "Epoch 30/30\n",
      "37/37 [==============================] - 9s 255ms/step - loss: 0.0502 - acc: 0.9911 - val_loss: 2.8074 - val_acc: 0.7276\n"
     ]
    }
   ],
   "source": [
    "lstm2 = Sequential()\n",
    "lstm2.add(InputLayer(input_shape=(X_train.shape[1],X_train.shape[2])))\n",
    "lstm2.add(LSTM(units=512, activation='tanh', return_sequences=True))\n",
    "lstm2.add(LSTM(units=256, activation='tanh', return_sequences=True))\n",
    "lstm2.add(LSTM(units=128, activation='tanh', return_sequences=True))\n",
    "lstm2.add(LSTM(units=64, activation='sigmoid', return_sequences=True))\n",
    "lstm2.add(LSTM(units=32, activation='sigmoid', return_sequences=False))\n",
    "lstm2.add(Dense(units=1))\n",
    "early_stop = EarlyStopping(monitor='val_acc', patience=100, verbose=1, restore_best_weights=True)\n",
    "lstm2.compile(optimizer= \"adam\", loss = \"binary_crossentropy\", metrics=['acc'])\n",
    "history = lstm2.fit(X_train, y_train, validation_split=0.25, batch_size=128, epochs=30,  callbacks=[early_stop], shuffle=False)"
   ]
  },
  {
   "cell_type": "code",
   "execution_count": 17,
   "id": "65e3c543",
   "metadata": {},
   "outputs": [
    {
     "name": "stdout",
     "output_type": "stream",
     "text": [
      "정확도 : 0.7403846153846154\n"
     ]
    }
   ],
   "source": [
    "preds = lstm2.predict(X_test)\n",
    "\n",
    "preds[preds>0.5]=1\n",
    "preds[preds<=0.5]=0\n",
    "\n",
    "from sklearn import metrics \n",
    "print('정확도 :', metrics.accuracy_score(y_test, preds))"
   ]
  },
  {
   "cell_type": "code",
   "execution_count": null,
   "id": "e159f201",
   "metadata": {},
   "outputs": [],
   "source": []
  },
  {
   "cell_type": "code",
   "execution_count": null,
   "id": "fc90d532",
   "metadata": {},
   "outputs": [],
   "source": []
  },
  {
   "cell_type": "markdown",
   "id": "dcd72bde",
   "metadata": {},
   "source": [
    "# 7799 - 72\n",
    "- ITEM 값이 모두 0인 사람 72명 제거"
   ]
  },
  {
   "cell_type": "code",
   "execution_count": 4,
   "id": "6f197c06",
   "metadata": {},
   "outputs": [
    {
     "data": {
      "text/plain": [
       "((7727,), (7727, 10, 4069), (7727, 4069))"
      ]
     },
     "execution_count": 4,
     "metadata": {},
     "output_type": "execute_result"
    }
   ],
   "source": [
    "path = '/project/LSH/'\n",
    "label1 = np.load(path + \"y_(7727,1).npy\")\n",
    "\n",
    "data1 = np.load(path + \"x_(7727,10,4069).npy\")\n",
    "data2d = np.load(path + 'x_(7727,4069).npy')\n",
    "data2d[data2d>1] = 1\n",
    "\n",
    "label1.shape, data1.shape, data2d.shape"
   ]
  },
  {
   "cell_type": "code",
   "execution_count": null,
   "id": "cdc4a74e",
   "metadata": {},
   "outputs": [],
   "source": []
  },
  {
   "cell_type": "code",
   "execution_count": 6,
   "id": "affbb095",
   "metadata": {
    "scrolled": true
   },
   "outputs": [],
   "source": [
    "# t = pd.DataFrame(data2d.sum(axis=1))\n",
    "# t[0].value_counts(sort=True, ascending=True)[:10]"
   ]
  },
  {
   "cell_type": "code",
   "execution_count": null,
   "id": "069b4a39",
   "metadata": {},
   "outputs": [],
   "source": []
  },
  {
   "cell_type": "code",
   "execution_count": null,
   "id": "675393b0",
   "metadata": {},
   "outputs": [],
   "source": []
  },
  {
   "cell_type": "code",
   "execution_count": null,
   "id": "73dcf772",
   "metadata": {},
   "outputs": [],
   "source": []
  },
  {
   "cell_type": "code",
   "execution_count": 159,
   "id": "a2c25e91",
   "metadata": {},
   "outputs": [],
   "source": []
  },
  {
   "cell_type": "code",
   "execution_count": 161,
   "id": "833fdcce",
   "metadata": {},
   "outputs": [
    {
     "data": {
      "text/plain": [
       "((6182, 4069), (6182,), (1545, 4069), (1545,))"
      ]
     },
     "execution_count": 161,
     "metadata": {},
     "output_type": "execute_result"
    }
   ],
   "source": [
    "import random\n",
    "random.seed(seed_num)\n",
    "\n",
    "# 80% (6239) 기준으로 split\n",
    "\n",
    "idx = list(range(len(data2d)))\n",
    "random.shuffle(idx)\n",
    "\n",
    "i= round(len(data2d)*0.8)\n",
    "\n",
    "X_train = data2d[idx[:i]]\n",
    "y_train = label[idx[:i]]\n",
    "\n",
    "X_test = data2d[idx[i:]]\n",
    "y_test = label[idx[i:]]\n",
    "\n",
    "# X_train = data2d[:i]\n",
    "# y_train = label1[:i]\n",
    "\n",
    "\n",
    "# X_test = data2d[i:]\n",
    "# y_test = label1[i:]\n",
    "\n",
    "\n",
    "X_train.shape, y_train.shape, X_test.shape, y_test.shape"
   ]
  },
  {
   "cell_type": "code",
   "execution_count": null,
   "id": "a6c478fd",
   "metadata": {},
   "outputs": [],
   "source": []
  },
  {
   "cell_type": "code",
   "execution_count": 162,
   "id": "5da57807",
   "metadata": {
    "scrolled": true
   },
   "outputs": [
    {
     "name": "stdout",
     "output_type": "stream",
     "text": [
      "정확도 : 0.6006472491909385\n"
     ]
    }
   ],
   "source": [
    "from sklearn.ensemble import RandomForestClassifier\n",
    "\n",
    "forest = RandomForestClassifier(n_estimators=100)\n",
    "forest.fit(X_train,y_train)\n",
    "y_pred = forest.predict(X_test)\n",
    "\n",
    "from sklearn import metrics \n",
    "print('정확도 :', metrics.accuracy_score(y_test, y_pred))"
   ]
  },
  {
   "cell_type": "code",
   "execution_count": null,
   "id": "ab888d6e",
   "metadata": {},
   "outputs": [],
   "source": []
  },
  {
   "cell_type": "code",
   "execution_count": null,
   "id": "3a413a58",
   "metadata": {},
   "outputs": [],
   "source": []
  },
  {
   "cell_type": "code",
   "execution_count": 6,
   "id": "d6d7533b",
   "metadata": {},
   "outputs": [
    {
     "data": {
      "text/plain": [
       "((6182, 10, 4069), (6182,), (1545, 10, 4069), (1545,))"
      ]
     },
     "execution_count": 6,
     "metadata": {},
     "output_type": "execute_result"
    }
   ],
   "source": [
    "import random\n",
    "random.seed(seed_num)\n",
    "\n",
    "path = '/project/LSH/'\n",
    "label1 = np.load(path + \"y_(7727,1).npy\")\n",
    "\n",
    "data1 = np.load(path + \"x_(7727,10,4069).npy\")\n",
    "data2d = np.load(path + 'x_(7727,4069).npy')\n",
    "data2d[data2d>1] = 1\n",
    "\n",
    "# 80% (6239) 기준으로 split\n",
    "\n",
    "idx = list(range(len(data1)))\n",
    "random.shuffle(idx)\n",
    "\n",
    "i= round(len(data1)*0.8)\n",
    "\n",
    "X_train1 = data1[idx[:i],:,:]\n",
    "y_train1 = np.array(label1[idx[:i]])\n",
    "\n",
    "X_test1 = data1[idx[i:],:,:]\n",
    "y_test1 = np.array(label1[idx[i:]])\n",
    "\n",
    "\n",
    "X_train1.shape, y_train1.shape, X_test1.shape, y_test1.shape"
   ]
  },
  {
   "cell_type": "code",
   "execution_count": 60,
   "id": "30c93bd9",
   "metadata": {
    "scrolled": true
   },
   "outputs": [
    {
     "name": "stdout",
     "output_type": "stream",
     "text": [
      "Epoch 1/500\n",
      "37/37 [==============================] - 8s 81ms/step - loss: 0.6778 - acc: 0.5968 - val_loss: 0.6652 - val_acc: 0.6177\n",
      "Epoch 2/500\n",
      "37/37 [==============================] - 2s 53ms/step - loss: 0.6736 - acc: 0.6035 - val_loss: 0.6524 - val_acc: 0.6177\n",
      "Epoch 3/500\n",
      "37/37 [==============================] - 2s 53ms/step - loss: 0.6446 - acc: 0.6198 - val_loss: 0.5579 - val_acc: 0.7335\n",
      "Epoch 4/500\n",
      "37/37 [==============================] - 2s 53ms/step - loss: 0.6009 - acc: 0.7046 - val_loss: 0.5212 - val_acc: 0.7574\n",
      "Epoch 5/500\n",
      "37/37 [==============================] - 2s 53ms/step - loss: 0.4960 - acc: 0.7831 - val_loss: 0.5002 - val_acc: 0.7633\n",
      "Epoch 6/500\n",
      "37/37 [==============================] - 2s 53ms/step - loss: 0.4610 - acc: 0.8130 - val_loss: 0.4894 - val_acc: 0.7704\n",
      "Epoch 7/500\n",
      "37/37 [==============================] - 2s 53ms/step - loss: 0.4490 - acc: 0.8279 - val_loss: 0.5244 - val_acc: 0.7374\n",
      "Epoch 8/500\n",
      "37/37 [==============================] - 2s 53ms/step - loss: 0.4421 - acc: 0.8189 - val_loss: 0.4977 - val_acc: 0.7678\n",
      "Epoch 9/500\n",
      "37/37 [==============================] - 2s 53ms/step - loss: 0.3944 - acc: 0.8532 - val_loss: 0.4980 - val_acc: 0.7788\n",
      "Epoch 10/500\n",
      "37/37 [==============================] - 2s 53ms/step - loss: 0.3519 - acc: 0.8815 - val_loss: 0.5209 - val_acc: 0.7730\n",
      "Epoch 11/500\n",
      "37/37 [==============================] - 2s 53ms/step - loss: 0.3903 - acc: 0.8990 - val_loss: 1.1390 - val_acc: 0.5298\n",
      "Epoch 12/500\n",
      "37/37 [==============================] - 2s 52ms/step - loss: 0.7179 - acc: 0.6950 - val_loss: 0.5606 - val_acc: 0.7122\n",
      "Epoch 13/500\n",
      "37/37 [==============================] - 2s 53ms/step - loss: 0.4776 - acc: 0.8062 - val_loss: 0.5437 - val_acc: 0.7180\n",
      "Epoch 14/500\n",
      "37/37 [==============================] - 2s 53ms/step - loss: 0.4358 - acc: 0.8350 - val_loss: 0.5367 - val_acc: 0.7264\n",
      "Epoch 15/500\n",
      "37/37 [==============================] - 2s 53ms/step - loss: 0.4011 - acc: 0.8522 - val_loss: 0.5339 - val_acc: 0.7335\n",
      "Epoch 16/500\n",
      "37/37 [==============================] - 2s 53ms/step - loss: 0.3872 - acc: 0.8635 - val_loss: 0.5353 - val_acc: 0.7380\n",
      "Epoch 17/500\n",
      "37/37 [==============================] - 2s 53ms/step - loss: 0.3613 - acc: 0.8764 - val_loss: 0.5444 - val_acc: 0.7471\n",
      "Epoch 18/500\n",
      "37/37 [==============================] - 2s 53ms/step - loss: 0.3417 - acc: 0.8905 - val_loss: 0.5631 - val_acc: 0.7516\n",
      "Epoch 19/500\n",
      "37/37 [==============================] - 2s 53ms/step - loss: 0.3120 - acc: 0.9002 - val_loss: 0.5192 - val_acc: 0.7445\n",
      "Epoch 20/500\n",
      "37/37 [==============================] - 2s 53ms/step - loss: 0.3385 - acc: 0.9016 - val_loss: 0.5195 - val_acc: 0.7536\n",
      "Epoch 21/500\n",
      "37/37 [==============================] - 2s 53ms/step - loss: 0.3173 - acc: 0.9115 - val_loss: 0.5293 - val_acc: 0.7581\n",
      "Epoch 22/500\n",
      "37/37 [==============================] - 2s 53ms/step - loss: 0.3068 - acc: 0.9190 - val_loss: 0.5378 - val_acc: 0.7607\n",
      "Epoch 23/500\n",
      "37/37 [==============================] - 2s 53ms/step - loss: 0.2742 - acc: 0.9292 - val_loss: 0.5575 - val_acc: 0.7574\n",
      "Epoch 24/500\n",
      "37/37 [==============================] - 2s 54ms/step - loss: 0.3207 - acc: 0.8923 - val_loss: 0.5758 - val_acc: 0.6811\n",
      "Epoch 25/500\n",
      "37/37 [==============================] - 2s 53ms/step - loss: 0.4209 - acc: 0.8640 - val_loss: 0.5115 - val_acc: 0.7600\n",
      "Epoch 26/500\n",
      "37/37 [==============================] - 2s 53ms/step - loss: 0.3539 - acc: 0.9113 - val_loss: 0.5065 - val_acc: 0.7652\n",
      "Epoch 27/500\n",
      "37/37 [==============================] - 2s 53ms/step - loss: 0.3120 - acc: 0.9292 - val_loss: 0.5112 - val_acc: 0.7626\n",
      "Epoch 28/500\n",
      "37/37 [==============================] - 2s 53ms/step - loss: 0.2870 - acc: 0.9287 - val_loss: 0.5223 - val_acc: 0.7607\n",
      "Epoch 29/500\n",
      "37/37 [==============================] - 2s 53ms/step - loss: 0.2569 - acc: 0.9382 - val_loss: 0.5409 - val_acc: 0.7581\n",
      "Epoch 30/500\n",
      "37/37 [==============================] - 2s 53ms/step - loss: 0.2499 - acc: 0.9385 - val_loss: 0.5706 - val_acc: 0.7581\n",
      "Epoch 31/500\n",
      "37/37 [==============================] - 2s 53ms/step - loss: 0.2414 - acc: 0.9449 - val_loss: 0.5950 - val_acc: 0.7561\n",
      "Epoch 32/500\n",
      "37/37 [==============================] - 2s 53ms/step - loss: 0.2264 - acc: 0.9450 - val_loss: 0.5891 - val_acc: 0.7555\n",
      "Epoch 33/500\n",
      "37/37 [==============================] - 2s 53ms/step - loss: 0.2269 - acc: 0.9490 - val_loss: 0.6084 - val_acc: 0.7561\n",
      "Epoch 34/500\n",
      "37/37 [==============================] - 2s 53ms/step - loss: 0.2066 - acc: 0.9534 - val_loss: 0.6231 - val_acc: 0.7536\n",
      "Epoch 35/500\n",
      "37/37 [==============================] - 2s 53ms/step - loss: 0.2048 - acc: 0.9552 - val_loss: 0.6593 - val_acc: 0.7542\n",
      "Epoch 36/500\n",
      "37/37 [==============================] - 2s 53ms/step - loss: 0.2048 - acc: 0.9556 - val_loss: 0.7604 - val_acc: 0.7542\n",
      "Epoch 37/500\n",
      "37/37 [==============================] - 2s 53ms/step - loss: 0.1995 - acc: 0.9650 - val_loss: 1.2113 - val_acc: 0.7503\n",
      "Epoch 38/500\n",
      "37/37 [==============================] - 2s 53ms/step - loss: 0.1961 - acc: 0.9656 - val_loss: 1.3753 - val_acc: 0.7516\n",
      "Epoch 39/500\n",
      "37/37 [==============================] - 2s 53ms/step - loss: 0.1903 - acc: 0.9665 - val_loss: 1.3784 - val_acc: 0.7439\n",
      "Restoring model weights from the end of the best epoch.\n",
      "Epoch 00039: early stopping\n"
     ]
    }
   ],
   "source": [
    "seed_num = 42\n",
    "tf.random.set_seed(seed_num)\n",
    "\n",
    "# lstm = Sequential()\n",
    "# lstm.add(InputLayer(input_shape=(X_train1.shape[1],X_train1.shape[2])))\n",
    "# lstm.add(LSTM(units=128, activation='hard_sigmoid', return_sequences=True))\n",
    "# lstm.add(Dropout(0.1))\n",
    "# lstm.add(LSTM(units=64, activation='hard_sigmoid', return_sequences=True))\n",
    "# lstm.add(Dropout(0.1))\n",
    "# lstm.add(LSTM(units=64, activation='hard_sigmoid', return_sequences=True))\n",
    "# lstm.add(Dropout(0.1))\n",
    "# lstm.add(LSTM(units=32, activation='hard_sigmoid', return_sequences=True))\n",
    "# lstm.add(Dropout(0.1))\n",
    "# lstm.add(LSTM(units=32, activation='hard_sigmoid', return_sequences=False))\n",
    "# lstm.add(Dropout(0.1))\n",
    "# lstm.add(Dense(units=1, activation='sigmoid'))\n",
    "\n",
    "lstm = Sequential()\n",
    "lstm.add(InputLayer(input_shape=(X_train1.shape[1],X_train1.shape[2])))\n",
    "lstm.add(LSTM(units=128, activation='hard_sigmoid', return_sequences=True))\n",
    "lstm.add(LSTM(units=64, activation='hard_sigmoid', return_sequences=True))\n",
    "lstm.add(Dropout(0.2))\n",
    "lstm.add(LSTM(units=64, activation='hard_sigmoid', return_sequences=True))\n",
    "lstm.add(LSTM(units=32, activation='hard_sigmoid', return_sequences=False))\n",
    "lstm.add(Dropout(0.2))\n",
    "lstm.add(Dense(units=1, activation='sigmoid'))\n",
    "\n",
    "early_stop = EarlyStopping(monitor='val_acc', patience=30, verbose=1, restore_best_weights=True)\n",
    "lstm.compile(optimizer= \"adam\", loss = \"binary_crossentropy\", metrics=['acc'])\n",
    "history = lstm.fit(X_train1, y_train1, validation_split=0.25, batch_size=128, epochs=500,  callbacks=[early_stop], shuffle=False)"
   ]
  },
  {
   "cell_type": "code",
   "execution_count": 61,
   "id": "e2bee926",
   "metadata": {},
   "outputs": [
    {
     "name": "stdout",
     "output_type": "stream",
     "text": [
      "정확도 : 0.7663430420711974\n"
     ]
    }
   ],
   "source": [
    "preds = lstm.predict(X_test1)\n",
    "\n",
    "preds[preds>0.5]=1\n",
    "preds[preds<=0.5]=0\n",
    "\n",
    "from sklearn import metrics \n",
    "print('정확도 :', metrics.accuracy_score(y_test1, preds))"
   ]
  },
  {
   "cell_type": "markdown",
   "id": "a7542cb9",
   "metadata": {},
   "source": [
    "## BN"
   ]
  },
  {
   "cell_type": "code",
   "execution_count": 5,
   "id": "2ee4bf59",
   "metadata": {},
   "outputs": [],
   "source": [
    "from keras.layers import BatchNormalization\n",
    "from keras.layers import Activation"
   ]
  },
  {
   "cell_type": "code",
   "execution_count": 11,
   "id": "1f402f17",
   "metadata": {
    "scrolled": true
   },
   "outputs": [
    {
     "name": "stdout",
     "output_type": "stream",
     "text": [
      "Epoch 1/500\n",
      "37/37 [==============================] - 12s 201ms/step - loss: 0.6595 - acc: 0.6190 - val_loss: 0.6658 - val_acc: 0.6177\n",
      "Epoch 2/500\n",
      "37/37 [==============================] - 6s 170ms/step - loss: 0.4922 - acc: 0.7940 - val_loss: 0.6659 - val_acc: 0.6177\n",
      "Epoch 3/500\n",
      "37/37 [==============================] - 6s 170ms/step - loss: 0.4311 - acc: 0.8575 - val_loss: 0.6662 - val_acc: 0.6177\n",
      "Epoch 4/500\n",
      "37/37 [==============================] - 6s 170ms/step - loss: 0.3893 - acc: 0.8995 - val_loss: 0.6664 - val_acc: 0.6177\n",
      "Epoch 5/500\n",
      "37/37 [==============================] - 6s 171ms/step - loss: 0.3547 - acc: 0.9233 - val_loss: 0.6654 - val_acc: 0.6177\n",
      "Epoch 6/500\n",
      "37/37 [==============================] - 6s 170ms/step - loss: 0.3287 - acc: 0.9424 - val_loss: 0.6644 - val_acc: 0.6177\n",
      "Epoch 7/500\n",
      "37/37 [==============================] - 6s 168ms/step - loss: 0.3087 - acc: 0.9496 - val_loss: 0.6615 - val_acc: 0.6177\n",
      "Epoch 8/500\n",
      "37/37 [==============================] - 6s 168ms/step - loss: 0.2948 - acc: 0.9576 - val_loss: 0.6578 - val_acc: 0.6177\n",
      "Epoch 9/500\n",
      "37/37 [==============================] - 6s 171ms/step - loss: 0.2787 - acc: 0.9642 - val_loss: 0.6572 - val_acc: 0.6177\n",
      "Epoch 10/500\n",
      "37/37 [==============================] - 6s 168ms/step - loss: 0.2577 - acc: 0.9749 - val_loss: 0.6354 - val_acc: 0.6184\n",
      "Epoch 11/500\n",
      "37/37 [==============================] - 6s 170ms/step - loss: 0.2431 - acc: 0.9815 - val_loss: 0.6474 - val_acc: 0.6197\n",
      "Epoch 12/500\n",
      "37/37 [==============================] - 6s 168ms/step - loss: 0.2291 - acc: 0.9881 - val_loss: 0.5901 - val_acc: 0.6785\n",
      "Epoch 13/500\n",
      "37/37 [==============================] - 6s 170ms/step - loss: 0.2179 - acc: 0.9888 - val_loss: 0.5414 - val_acc: 0.7413\n",
      "Epoch 14/500\n",
      "37/37 [==============================] - 6s 170ms/step - loss: 0.2056 - acc: 0.9934 - val_loss: 0.5426 - val_acc: 0.7329\n",
      "Epoch 15/500\n",
      "37/37 [==============================] - 6s 169ms/step - loss: 0.1985 - acc: 0.9941 - val_loss: 0.5534 - val_acc: 0.7296\n",
      "Epoch 16/500\n",
      "37/37 [==============================] - 6s 169ms/step - loss: 0.1899 - acc: 0.9954 - val_loss: 0.5815 - val_acc: 0.7180\n",
      "Epoch 17/500\n",
      "37/37 [==============================] - 6s 169ms/step - loss: 0.1824 - acc: 0.9972 - val_loss: 0.5711 - val_acc: 0.7199\n",
      "Epoch 18/500\n",
      "37/37 [==============================] - 6s 169ms/step - loss: 0.1769 - acc: 0.9957 - val_loss: 0.5746 - val_acc: 0.7257\n",
      "Epoch 19/500\n",
      "37/37 [==============================] - 6s 168ms/step - loss: 0.1718 - acc: 0.9968 - val_loss: 0.5625 - val_acc: 0.7432\n",
      "Epoch 20/500\n",
      "37/37 [==============================] - 6s 169ms/step - loss: 0.1635 - acc: 0.9986 - val_loss: 0.5679 - val_acc: 0.7367\n",
      "Epoch 21/500\n",
      "37/37 [==============================] - 6s 169ms/step - loss: 0.1579 - acc: 0.9991 - val_loss: 0.5807 - val_acc: 0.7296\n",
      "Epoch 22/500\n",
      "37/37 [==============================] - 6s 168ms/step - loss: 0.1533 - acc: 0.9988 - val_loss: 0.5796 - val_acc: 0.7367\n",
      "Epoch 23/500\n",
      "37/37 [==============================] - 6s 168ms/step - loss: 0.1486 - acc: 0.9990 - val_loss: 0.5935 - val_acc: 0.7361\n",
      "Epoch 24/500\n",
      "37/37 [==============================] - 6s 169ms/step - loss: 0.1442 - acc: 0.9990 - val_loss: 0.5898 - val_acc: 0.7367\n",
      "Epoch 25/500\n",
      "37/37 [==============================] - 6s 169ms/step - loss: 0.1397 - acc: 0.9994 - val_loss: 0.6013 - val_acc: 0.7316\n",
      "Epoch 26/500\n",
      "37/37 [==============================] - 6s 168ms/step - loss: 0.1357 - acc: 0.9994 - val_loss: 0.5971 - val_acc: 0.7361\n",
      "Epoch 27/500\n",
      "37/37 [==============================] - 6s 168ms/step - loss: 0.1320 - acc: 0.9994 - val_loss: 0.6040 - val_acc: 0.7329\n",
      "Epoch 28/500\n",
      "37/37 [==============================] - 6s 168ms/step - loss: 0.1284 - acc: 0.9994 - val_loss: 0.6039 - val_acc: 0.7329\n",
      "Epoch 29/500\n",
      "37/37 [==============================] - 6s 170ms/step - loss: 0.1248 - acc: 0.9994 - val_loss: 0.6109 - val_acc: 0.7335\n",
      "Epoch 30/500\n",
      "37/37 [==============================] - 6s 170ms/step - loss: 0.1215 - acc: 0.9996 - val_loss: 0.6152 - val_acc: 0.7367\n",
      "Epoch 31/500\n",
      "37/37 [==============================] - 6s 170ms/step - loss: 0.1183 - acc: 0.9996 - val_loss: 0.6201 - val_acc: 0.7316\n",
      "Epoch 32/500\n",
      "37/37 [==============================] - 6s 169ms/step - loss: 0.1152 - acc: 0.9996 - val_loss: 0.6247 - val_acc: 0.7348\n",
      "Epoch 33/500\n",
      "37/37 [==============================] - 6s 169ms/step - loss: 0.1122 - acc: 0.9996 - val_loss: 0.6296 - val_acc: 0.7335\n",
      "Epoch 34/500\n",
      "37/37 [==============================] - 6s 168ms/step - loss: 0.1094 - acc: 0.9996 - val_loss: 0.6345 - val_acc: 0.7316\n",
      "Epoch 35/500\n",
      "37/37 [==============================] - 6s 169ms/step - loss: 0.1066 - acc: 0.9996 - val_loss: 0.6413 - val_acc: 0.7303\n",
      "Epoch 36/500\n",
      "37/37 [==============================] - 6s 169ms/step - loss: 0.1039 - acc: 0.9996 - val_loss: 0.6475 - val_acc: 0.7277\n",
      "Epoch 37/500\n",
      "37/37 [==============================] - 6s 169ms/step - loss: 0.1013 - acc: 0.9996 - val_loss: 0.6557 - val_acc: 0.7264\n",
      "Epoch 38/500\n",
      "37/37 [==============================] - 6s 168ms/step - loss: 0.0986 - acc: 0.9996 - val_loss: 0.6580 - val_acc: 0.7264\n",
      "Epoch 39/500\n",
      "37/37 [==============================] - 6s 169ms/step - loss: 0.0960 - acc: 1.0000 - val_loss: 0.6634 - val_acc: 0.7277\n",
      "Epoch 40/500\n",
      "37/37 [==============================] - 6s 168ms/step - loss: 0.0937 - acc: 1.0000 - val_loss: 0.6601 - val_acc: 0.7290\n",
      "Epoch 41/500\n",
      "37/37 [==============================] - 6s 168ms/step - loss: 0.0915 - acc: 1.0000 - val_loss: 0.6703 - val_acc: 0.7290\n",
      "Epoch 42/500\n",
      "37/37 [==============================] - 6s 168ms/step - loss: 0.0893 - acc: 1.0000 - val_loss: 0.6720 - val_acc: 0.7290\n",
      "Epoch 43/500\n",
      "37/37 [==============================] - 6s 168ms/step - loss: 0.0873 - acc: 1.0000 - val_loss: 0.6692 - val_acc: 0.7283\n",
      "Epoch 44/500\n",
      "37/37 [==============================] - 6s 168ms/step - loss: 0.0853 - acc: 1.0000 - val_loss: 0.6762 - val_acc: 0.7296\n",
      "Epoch 45/500\n",
      "37/37 [==============================] - 6s 170ms/step - loss: 0.0833 - acc: 1.0000 - val_loss: 0.6781 - val_acc: 0.7283\n",
      "Epoch 46/500\n",
      "37/37 [==============================] - 6s 168ms/step - loss: 0.0814 - acc: 1.0000 - val_loss: 0.6841 - val_acc: 0.7296\n",
      "Epoch 47/500\n",
      "37/37 [==============================] - 6s 168ms/step - loss: 0.0796 - acc: 1.0000 - val_loss: 0.6744 - val_acc: 0.7296\n",
      "Epoch 48/500\n",
      "37/37 [==============================] - 6s 169ms/step - loss: 0.0779 - acc: 1.0000 - val_loss: 0.6894 - val_acc: 0.7296\n",
      "Epoch 49/500\n",
      "37/37 [==============================] - 6s 168ms/step - loss: 0.0762 - acc: 1.0000 - val_loss: 0.6944 - val_acc: 0.7303\n",
      "Restoring model weights from the end of the best epoch.\n",
      "Epoch 00049: early stopping\n"
     ]
    }
   ],
   "source": [
    "seed_num = 42\n",
    "tf.random.set_seed(seed_num)\n",
    "\n",
    "lstm = Sequential()\n",
    "lstm.add(InputLayer(input_shape=(X_train1.shape[1],X_train1.shape[2])))\n",
    "lstm.add(LSTM(units=512, return_sequences = True))\n",
    "lstm.add(BatchNormalization())\n",
    "lstm.add(Activation('hard_sigmoid'))\n",
    "lstm.add(LSTM(units=128, return_sequences = True))\n",
    "lstm.add(BatchNormalization())\n",
    "lstm.add(Activation('hard_sigmoid'))\n",
    "lstm.add(LSTM(units=64, return_sequences = True))\n",
    "lstm.add(BatchNormalization())\n",
    "lstm.add(Activation('hard_sigmoid'))\n",
    "lstm.add(LSTM(units=32, return_sequences = True))\n",
    "lstm.add(BatchNormalization())\n",
    "lstm.add(Activation('hard_sigmoid'))\n",
    "lstm.add(LSTM(units=1, return_sequences = False))\n",
    "lstm.add(BatchNormalization())\n",
    "lstm.add(Activation('sigmoid'))\n",
    "\n",
    "\n",
    "early_stop = EarlyStopping(monitor='val_acc', patience=30, verbose=1, restore_best_weights=True)\n",
    "lstm.compile(optimizer= \"adam\", loss = \"binary_crossentropy\", metrics=['acc'])\n",
    "history = lstm.fit(X_train1, y_train1, validation_split=0.25, batch_size=128, epochs=500,  callbacks=[early_stop], shuffle=False)"
   ]
  },
  {
   "cell_type": "code",
   "execution_count": null,
   "id": "e2658c8f",
   "metadata": {},
   "outputs": [],
   "source": []
  },
  {
   "cell_type": "code",
   "execution_count": 12,
   "id": "da974912",
   "metadata": {},
   "outputs": [
    {
     "name": "stdout",
     "output_type": "stream",
     "text": [
      "정확도 : 0.7411003236245954\n"
     ]
    }
   ],
   "source": [
    "preds = lstm.predict(X_test1)\n",
    "\n",
    "preds[preds>0.5]=1\n",
    "preds[preds<=0.5]=0\n",
    "\n",
    "from sklearn import metrics \n",
    "print('정확도 :', metrics.accuracy_score(y_test1, preds))"
   ]
  },
  {
   "cell_type": "code",
   "execution_count": null,
   "id": "c970b0c7",
   "metadata": {},
   "outputs": [],
   "source": []
  },
  {
   "cell_type": "code",
   "execution_count": null,
   "id": "4e6848ec",
   "metadata": {},
   "outputs": [],
   "source": []
  },
  {
   "cell_type": "code",
   "execution_count": null,
   "id": "ed405039",
   "metadata": {},
   "outputs": [],
   "source": []
  },
  {
   "cell_type": "code",
   "execution_count": null,
   "id": "a209c20e",
   "metadata": {},
   "outputs": [],
   "source": []
  },
  {
   "cell_type": "code",
   "execution_count": 180,
   "id": "44783190",
   "metadata": {
    "scrolled": true
   },
   "outputs": [
    {
     "name": "stdout",
     "output_type": "stream",
     "text": [
      "Epoch 1/30\n",
      "37/37 [==============================] - 7s 86ms/step - loss: 1.3221 - acc: 0.4827 - val_loss: 0.6889 - val_acc: 0.5964\n",
      "Epoch 2/30\n",
      "37/37 [==============================] - 2s 55ms/step - loss: 0.6164 - acc: 0.6387 - val_loss: 0.5507 - val_acc: 0.7154\n",
      "Epoch 3/30\n",
      "37/37 [==============================] - 2s 56ms/step - loss: 0.5119 - acc: 0.7635 - val_loss: 0.7465 - val_acc: 0.7633\n",
      "Epoch 4/30\n",
      "37/37 [==============================] - 2s 55ms/step - loss: 0.4645 - acc: 0.8045 - val_loss: 1.1522 - val_acc: 0.7594\n",
      "Epoch 5/30\n",
      "37/37 [==============================] - 2s 55ms/step - loss: 0.3702 - acc: 0.8571 - val_loss: 1.3871 - val_acc: 0.7587\n",
      "Epoch 6/30\n",
      "37/37 [==============================] - 2s 56ms/step - loss: 0.3152 - acc: 0.8958 - val_loss: 2.2077 - val_acc: 0.7232\n",
      "Epoch 7/30\n",
      "37/37 [==============================] - 2s 55ms/step - loss: 0.3534 - acc: 0.8949 - val_loss: 2.4471 - val_acc: 0.7264\n",
      "Epoch 8/30\n",
      "37/37 [==============================] - 2s 55ms/step - loss: 0.3037 - acc: 0.9139 - val_loss: 3.2016 - val_acc: 0.7012\n",
      "Epoch 9/30\n",
      "37/37 [==============================] - 2s 56ms/step - loss: 0.6092 - acc: 0.8792 - val_loss: 2.2624 - val_acc: 0.7316\n",
      "Epoch 10/30\n",
      "37/37 [==============================] - 2s 55ms/step - loss: 0.3436 - acc: 0.9115 - val_loss: 1.3208 - val_acc: 0.7335\n",
      "Epoch 11/30\n",
      "37/37 [==============================] - 2s 56ms/step - loss: 0.3550 - acc: 0.9096 - val_loss: 1.5585 - val_acc: 0.7458\n",
      "Epoch 12/30\n",
      "37/37 [==============================] - 2s 55ms/step - loss: 0.2712 - acc: 0.9433 - val_loss: 2.0978 - val_acc: 0.7380\n",
      "Epoch 13/30\n",
      "37/37 [==============================] - 2s 44ms/step - loss: 0.2302 - acc: 0.9577 - val_loss: 2.2838 - val_acc: 0.7464\n",
      "Epoch 14/30\n",
      "37/37 [==============================] - 2s 42ms/step - loss: 0.2408 - acc: 0.9621 - val_loss: 2.3565 - val_acc: 0.7380\n",
      "Epoch 15/30\n",
      "37/37 [==============================] - 1s 40ms/step - loss: 0.1784 - acc: 0.9656 - val_loss: 2.4338 - val_acc: 0.7406\n",
      "Epoch 16/30\n",
      "37/37 [==============================] - 1s 40ms/step - loss: 0.1584 - acc: 0.9706 - val_loss: 2.5122 - val_acc: 0.7374\n",
      "Epoch 17/30\n",
      "37/37 [==============================] - 2s 45ms/step - loss: 0.1385 - acc: 0.9761 - val_loss: 2.5279 - val_acc: 0.7516\n",
      "Epoch 18/30\n",
      "37/37 [==============================] - 2s 51ms/step - loss: 0.1153 - acc: 0.9846 - val_loss: 2.6580 - val_acc: 0.7503\n",
      "Epoch 19/30\n",
      "37/37 [==============================] - 2s 48ms/step - loss: 0.1186 - acc: 0.9845 - val_loss: 2.7100 - val_acc: 0.7464\n",
      "Epoch 20/30\n",
      "37/37 [==============================] - 2s 55ms/step - loss: 0.1054 - acc: 0.9872 - val_loss: 2.7901 - val_acc: 0.7477\n",
      "Epoch 21/30\n",
      "37/37 [==============================] - 2s 56ms/step - loss: 0.1034 - acc: 0.9886 - val_loss: 2.8852 - val_acc: 0.7464\n",
      "Epoch 22/30\n",
      "37/37 [==============================] - 2s 55ms/step - loss: 0.1015 - acc: 0.9891 - val_loss: 2.9511 - val_acc: 0.7464\n",
      "Epoch 23/30\n",
      "37/37 [==============================] - 2s 56ms/step - loss: 0.1018 - acc: 0.9892 - val_loss: 2.9865 - val_acc: 0.7477\n",
      "Epoch 24/30\n",
      "37/37 [==============================] - 2s 55ms/step - loss: 0.1001 - acc: 0.9902 - val_loss: 3.0264 - val_acc: 0.7439\n",
      "Epoch 25/30\n",
      "37/37 [==============================] - 2s 55ms/step - loss: 0.0987 - acc: 0.9908 - val_loss: 3.0629 - val_acc: 0.7503\n",
      "Epoch 26/30\n",
      "37/37 [==============================] - 2s 56ms/step - loss: 0.0974 - acc: 0.9920 - val_loss: 3.0905 - val_acc: 0.7471\n",
      "Epoch 27/30\n",
      "37/37 [==============================] - 2s 55ms/step - loss: 0.0948 - acc: 0.9913 - val_loss: 3.0622 - val_acc: 0.7484\n",
      "Epoch 28/30\n",
      "37/37 [==============================] - 2s 55ms/step - loss: 0.0942 - acc: 0.9919 - val_loss: 3.1686 - val_acc: 0.7451\n",
      "Epoch 29/30\n",
      "37/37 [==============================] - 2s 55ms/step - loss: 0.0932 - acc: 0.9927 - val_loss: 3.0941 - val_acc: 0.7445\n",
      "Epoch 30/30\n",
      "37/37 [==============================] - 2s 55ms/step - loss: 0.0925 - acc: 0.9927 - val_loss: 3.1428 - val_acc: 0.7419\n"
     ]
    }
   ],
   "source": [
    "seed_num = 42\n",
    "tf.random.set_seed(seed_num)\n",
    "lstm = Sequential()\n",
    "lstm.add(InputLayer(input_shape=(X_train1.shape[1],X_train1.shape[2])))\n",
    "# lstm.add(LSTM(units=128, activation='relu', return_sequences=True, kernel_regularizer=l2(0.1)))\n",
    "# lstm.add(LSTM(units=64, activation='relu', return_sequences=True, kernel_regularizer=l2(0.1)))\n",
    "# lstm.add(LSTM(units=32, activation='tanh', return_sequences=False, kernel_regularizer=l2(0.1)))\n",
    "# lstm.add(LSTM(units=128, activation='relu', return_sequences=True, kernel_regularizer=l1_l2(l1=0.1, l2=0.01)))\n",
    "# lstm.add(LSTM(units=64, activation='relu', return_sequences=True, kernel_regularizer=l1_l2(l1=0.1, l2=0.01)))\n",
    "# lstm.add(LSTM(units=32, activation='tanh', return_sequences=False, kernel_regularizer=l1_l2(l1=0.1, l2=0.01)))\n",
    "lstm.add(LSTM(units=128, activation='relu', return_sequences=True))\n",
    "lstm.add(LSTM(units=64, activation='relu', return_sequences=True))\n",
    "lstm.add(LSTM(units=32, activation='tanh', return_sequences=False))\n",
    "lstm.add(Dense(units=1))\n",
    "early_stop = EarlyStopping(monitor='val_acc', patience=100, verbose=1, restore_best_weights=True)\n",
    "lstm.compile(optimizer= \"adam\", loss = \"binary_crossentropy\", metrics=['acc'])\n",
    "#     lstm.summary()\n",
    "history = lstm.fit(X_train1, y_train1, validation_split=0.25, batch_size=128, epochs=30,  callbacks=[early_stop], shuffle=False)"
   ]
  },
  {
   "cell_type": "code",
   "execution_count": 34,
   "id": "a727a25b",
   "metadata": {},
   "outputs": [
    {
     "name": "stdout",
     "output_type": "stream",
     "text": [
      "정확도 : 0.7313915857605178\n"
     ]
    }
   ],
   "source": [
    "preds = lstm.predict(X_test1)\n",
    "\n",
    "preds[preds>0.5]=1\n",
    "preds[preds<=0.5]=0\n",
    "\n",
    "from sklearn import metrics \n",
    "print('정확도 :', metrics.accuracy_score(y_test1, preds))"
   ]
  },
  {
   "cell_type": "code",
   "execution_count": null,
   "id": "e5214081",
   "metadata": {},
   "outputs": [],
   "source": []
  },
  {
   "cell_type": "code",
   "execution_count": 173,
   "id": "2a7fa67b",
   "metadata": {},
   "outputs": [
    {
     "data": {
      "text/plain": [
       "0.6718446601941748"
      ]
     },
     "execution_count": 173,
     "metadata": {},
     "output_type": "execute_result"
    }
   ],
   "source": [
    "preds.sum() / len(preds)"
   ]
  },
  {
   "cell_type": "code",
   "execution_count": null,
   "id": "2582651f",
   "metadata": {},
   "outputs": [],
   "source": [
    "0.7378640776699029"
   ]
  },
  {
   "cell_type": "code",
   "execution_count": null,
   "id": "08f409e0",
   "metadata": {},
   "outputs": [],
   "source": []
  },
  {
   "cell_type": "code",
   "execution_count": null,
   "id": "278a707c",
   "metadata": {},
   "outputs": [],
   "source": []
  },
  {
   "cell_type": "code",
   "execution_count": 112,
   "id": "7e2faeb9",
   "metadata": {},
   "outputs": [
    {
     "data": {
      "image/png": "[encoded data removed]",
      "text/plain": [
       "<Figure size 432x288 with 2 Axes>"
      ]
     },
     "metadata": {
      "needs_background": "light"
     },
     "output_type": "display_data"
    }
   ],
   "source": [
    "import matplotlib.pyplot as plt\n",
    "\n",
    "fig, loss_ax = plt.subplots()\n",
    "\n",
    "acc_ax = loss_ax.twinx()\n",
    "\n",
    "loss_ax.plot(history.history['loss'], 'y', label='train loss')\n",
    "loss_ax.plot(history.history['val_loss'], 'r', label='val loss')\n",
    "\n",
    "acc_ax.plot(history.history['acc'], 'b', label='train acc')\n",
    "acc_ax.plot(history.history['val_acc'], 'g', label='val acc')\n",
    "\n",
    "loss_ax.set_xlabel('epoch')\n",
    "loss_ax.set_ylabel('loss')\n",
    "acc_ax.set_ylabel('accuray')\n",
    "\n",
    "loss_ax.legend(loc='upper left')\n",
    "acc_ax.legend(loc='lower left')\n",
    "\n",
    "plt.show()"
   ]
  },
  {
   "cell_type": "code",
   "execution_count": null,
   "id": "2933854d",
   "metadata": {},
   "outputs": [],
   "source": []
  },
  {
   "cell_type": "code",
   "execution_count": null,
   "id": "e9a95551",
   "metadata": {},
   "outputs": [],
   "source": []
  },
  {
   "cell_type": "code",
   "execution_count": null,
   "id": "5a4d3a23",
   "metadata": {},
   "outputs": [],
   "source": []
  },
  {
   "cell_type": "code",
   "execution_count": null,
   "id": "f4afe172",
   "metadata": {},
   "outputs": [],
   "source": []
  },
  {
   "cell_type": "code",
   "execution_count": null,
   "id": "c9b3e565",
   "metadata": {},
   "outputs": [],
   "source": []
  },
  {
   "cell_type": "code",
   "execution_count": null,
   "id": "6f105032",
   "metadata": {},
   "outputs": [],
   "source": []
  },
  {
   "cell_type": "code",
   "execution_count": null,
   "id": "f6a7817d",
   "metadata": {},
   "outputs": [],
   "source": []
  },
  {
   "cell_type": "code",
   "execution_count": null,
   "id": "4f74e90e",
   "metadata": {},
   "outputs": [],
   "source": []
  },
  {
   "cell_type": "code",
   "execution_count": null,
   "id": "2f2dd06e",
   "metadata": {},
   "outputs": [],
   "source": []
  },
  {
   "cell_type": "code",
   "execution_count": null,
   "id": "e6363c01",
   "metadata": {},
   "outputs": [],
   "source": []
  },
  {
   "cell_type": "code",
   "execution_count": null,
   "id": "84866356",
   "metadata": {},
   "outputs": [],
   "source": []
  },
  {
   "cell_type": "code",
   "execution_count": null,
   "id": "b12468ba",
   "metadata": {},
   "outputs": [],
   "source": []
  },
  {
   "cell_type": "code",
   "execution_count": null,
   "id": "a52204d0",
   "metadata": {},
   "outputs": [],
   "source": []
  },
  {
   "cell_type": "code",
   "execution_count": null,
   "id": "98189931",
   "metadata": {},
   "outputs": [],
   "source": []
  },
  {
   "cell_type": "code",
   "execution_count": null,
   "id": "1ca75f30",
   "metadata": {},
   "outputs": [],
   "source": []
  },
  {
   "cell_type": "markdown",
   "id": "f82c8a2d",
   "metadata": {},
   "source": [
    "# VotingClassifier"
   ]
  },
  {
   "cell_type": "code",
   "execution_count": 62,
   "id": "53ef7548",
   "metadata": {},
   "outputs": [
    {
     "data": {
      "text/plain": [
       "((7727,), (7727, 10, 4069))"
      ]
     },
     "execution_count": 62,
     "metadata": {},
     "output_type": "execute_result"
    }
   ],
   "source": [
    "path = '/project/LSH/'\n",
    "label1 = np.load(path + \"y_(7727,1).npy\")\n",
    "\n",
    "data1 = np.load(path + \"x_(7727,10,4069).npy\")\n",
    "data2d = np.load(path + 'x_(7727,4069).npy')\n",
    "label1.shape, data1.shape"
   ]
  },
  {
   "cell_type": "code",
   "execution_count": 63,
   "id": "221aa7cf",
   "metadata": {},
   "outputs": [
    {
     "data": {
      "text/plain": [
       "((6182, 10, 4069), (6182,), (1545, 10, 4069), (1545,))"
      ]
     },
     "execution_count": 63,
     "metadata": {},
     "output_type": "execute_result"
    }
   ],
   "source": [
    "import random\n",
    "random.seed(seed_num)\n",
    "\n",
    "# 80% (6239) 기준으로 split\n",
    "\n",
    "idx = list(range(len(data1)))\n",
    "random.shuffle(idx)\n",
    "\n",
    "i= round(len(data1)*0.8)\n",
    "\n",
    "X_train = data1[idx[:i],:,:]\n",
    "y_train = np.array(label1[idx[:i]])\n",
    "\n",
    "X_test = data1[idx[i:],:,:]\n",
    "y_test = np.array(label1[idx[i:]])\n",
    "\n",
    "\n",
    "X_train.shape, y_train.shape, X_test.shape, y_test.shape"
   ]
  },
  {
   "cell_type": "code",
   "execution_count": 68,
   "id": "8d2a5e71",
   "metadata": {},
   "outputs": [],
   "source": [
    "tf.random.set_seed(seed_num)\n",
    "lstm = Sequential()\n",
    "lstm.add(InputLayer(input_shape=(X_train.shape[1],X_train.shape[2])))\n",
    "lstm.add(LSTM(units=128, activation='hard_sigmoid', return_sequences=True))\n",
    "lstm.add(LSTM(units=64, activation='hard_sigmoid', return_sequences=True))\n",
    "lstm.add(Dropout(0.2))\n",
    "lstm.add(LSTM(units=64, activation='hard_sigmoid', return_sequences=True))\n",
    "lstm.add(LSTM(units=32, activation='hard_sigmoid', return_sequences=False))\n",
    "lstm.add(Dropout(0.2))\n",
    "lstm.add(Dense(units=1, activation='sigmoid'))\n",
    "lstm.compile(optimizer= \"adam\", loss = \"binary_crossentropy\", metrics=['acc'])"
   ]
  },
  {
   "cell_type": "code",
   "execution_count": 70,
   "id": "bd235afc",
   "metadata": {
    "scrolled": true
   },
   "outputs": [
    {
     "name": "stdout",
     "output_type": "stream",
     "text": [
      "[('model1', <keras.wrappers.scikit_learn.KerasClassifier object at 0x7fa538482af0>), ('model2', <keras.wrappers.scikit_learn.KerasClassifier object at 0x7fa5181dbac0>), ('model3', <keras.wrappers.scikit_learn.KerasClassifier object at 0x7fa5181db4c0>), ('model4', <keras.wrappers.scikit_learn.KerasClassifier object at 0x7fa5181db5b0>), ('model5', <keras.wrappers.scikit_learn.KerasClassifier object at 0x7fa5181dbee0>)]\n",
      "Epoch 1/20\n",
      "25/25 [==============================] - 2s 90ms/step - loss: 0.0799 - acc: 0.9811\n",
      "Epoch 2/20\n",
      "25/25 [==============================] - 2s 89ms/step - loss: 0.0817 - acc: 0.9799\n",
      "Epoch 3/20\n",
      "25/25 [==============================] - 2s 88ms/step - loss: 0.0759 - acc: 0.9841\n",
      "Epoch 4/20\n",
      "25/25 [==============================] - 2s 89ms/step - loss: 0.0752 - acc: 0.9833\n",
      "Epoch 5/20\n",
      "25/25 [==============================] - 2s 88ms/step - loss: 0.0731 - acc: 0.9838\n",
      "Epoch 6/20\n",
      "25/25 [==============================] - 2s 90ms/step - loss: 0.0769 - acc: 0.9819\n",
      "Epoch 7/20\n",
      "25/25 [==============================] - 2s 90ms/step - loss: 0.0722 - acc: 0.9841\n",
      "Epoch 8/20\n",
      "25/25 [==============================] - 2s 89ms/step - loss: 0.0784 - acc: 0.9824\n",
      "Epoch 9/20\n",
      "25/25 [==============================] - 2s 88ms/step - loss: 0.0730 - acc: 0.9833\n",
      "Epoch 10/20\n",
      "25/25 [==============================] - 2s 88ms/step - loss: 0.0709 - acc: 0.9854\n",
      "Epoch 11/20\n",
      "25/25 [==============================] - 2s 88ms/step - loss: 0.0709 - acc: 0.9841\n",
      "Epoch 12/20\n",
      "25/25 [==============================] - 2s 90ms/step - loss: 0.0693 - acc: 0.9843\n",
      "Epoch 13/20\n",
      "25/25 [==============================] - 2s 89ms/step - loss: 0.0681 - acc: 0.9838\n",
      "Epoch 14/20\n",
      "25/25 [==============================] - 2s 89ms/step - loss: 0.0709 - acc: 0.9845\n",
      "Epoch 15/20\n",
      "25/25 [==============================] - 2s 88ms/step - loss: 0.0780 - acc: 0.9811\n",
      "Epoch 16/20\n",
      "25/25 [==============================] - 2s 87ms/step - loss: 0.0784 - acc: 0.9796\n",
      "Epoch 17/20\n",
      "25/25 [==============================] - 2s 87ms/step - loss: 0.0677 - acc: 0.9843\n",
      "Epoch 18/20\n",
      "25/25 [==============================] - 2s 87ms/step - loss: 0.0905 - acc: 0.9756\n",
      "Epoch 19/20\n",
      "25/25 [==============================] - 2s 87ms/step - loss: 0.0879 - acc: 0.9753\n",
      "Epoch 20/20\n",
      "25/25 [==============================] - 2s 88ms/step - loss: 0.0766 - acc: 0.9814\n",
      "Epoch 1/20\n",
      "25/25 [==============================] - 2s 89ms/step - loss: 0.0747 - acc: 0.9809\n",
      "Epoch 2/20\n",
      "25/25 [==============================] - 2s 88ms/step - loss: 0.0752 - acc: 0.9798\n",
      "Epoch 3/20\n",
      "25/25 [==============================] - 2s 88ms/step - loss: 0.0726 - acc: 0.9833\n",
      "Epoch 4/20\n",
      "25/25 [==============================] - 2s 88ms/step - loss: 0.0721 - acc: 0.9829\n",
      "Epoch 5/20\n",
      "25/25 [==============================] - 2s 90ms/step - loss: 0.0682 - acc: 0.9841\n",
      "Epoch 6/20\n",
      "25/25 [==============================] - 2s 89ms/step - loss: 0.0650 - acc: 0.9851\n",
      "Epoch 7/20\n",
      "25/25 [==============================] - 2s 91ms/step - loss: 0.0630 - acc: 0.9866\n",
      "Epoch 8/20\n",
      "25/25 [==============================] - 2s 89ms/step - loss: 0.0707 - acc: 0.9829\n",
      "Epoch 9/20\n",
      "25/25 [==============================] - 2s 91ms/step - loss: 0.0637 - acc: 0.9861\n",
      "Epoch 10/20\n",
      "25/25 [==============================] - 2s 90ms/step - loss: 0.0601 - acc: 0.9866\n",
      "Epoch 11/20\n",
      "25/25 [==============================] - 2s 89ms/step - loss: 0.0613 - acc: 0.9869\n",
      "Epoch 12/20\n",
      "25/25 [==============================] - 2s 89ms/step - loss: 0.0652 - acc: 0.9858\n",
      "Epoch 13/20\n",
      "25/25 [==============================] - 2s 89ms/step - loss: 0.0673 - acc: 0.9840\n",
      "Epoch 14/20\n",
      "25/25 [==============================] - 2s 91ms/step - loss: 0.0620 - acc: 0.9877\n",
      "Epoch 15/20\n",
      "25/25 [==============================] - 2s 91ms/step - loss: 0.0602 - acc: 0.9877\n",
      "Epoch 16/20\n",
      "25/25 [==============================] - 2s 89ms/step - loss: 0.0604 - acc: 0.9871\n",
      "Epoch 17/20\n",
      "25/25 [==============================] - 2s 89ms/step - loss: 0.0638 - acc: 0.9854\n",
      "Epoch 18/20\n",
      "25/25 [==============================] - 2s 88ms/step - loss: 0.0865 - acc: 0.9769\n",
      "Epoch 19/20\n",
      "25/25 [==============================] - 2s 89ms/step - loss: 0.0610 - acc: 0.9871\n",
      "Epoch 20/20\n",
      "25/25 [==============================] - 2s 88ms/step - loss: 0.0585 - acc: 0.9880\n",
      "Epoch 1/20\n",
      "25/25 [==============================] - 3s 91ms/step - loss: 0.0607 - acc: 0.9869\n",
      "Epoch 2/20\n",
      "25/25 [==============================] - 2s 89ms/step - loss: 0.0633 - acc: 0.9859\n",
      "Epoch 3/20\n",
      "25/25 [==============================] - 2s 88ms/step - loss: 0.0566 - acc: 0.9893\n",
      "Epoch 4/20\n",
      "25/25 [==============================] - 2s 88ms/step - loss: 0.0636 - acc: 0.9854\n",
      "Epoch 5/20\n",
      "25/25 [==============================] - 2s 89ms/step - loss: 0.0573 - acc: 0.9874\n",
      "Epoch 6/20\n",
      "25/25 [==============================] - 2s 91ms/step - loss: 0.0563 - acc: 0.9880\n",
      "Epoch 7/20\n",
      "25/25 [==============================] - 2s 90ms/step - loss: 0.0589 - acc: 0.9879\n",
      "Epoch 8/20\n",
      "25/25 [==============================] - 2s 91ms/step - loss: 0.0625 - acc: 0.9858\n",
      "Epoch 9/20\n",
      "25/25 [==============================] - 2s 90ms/step - loss: 0.0577 - acc: 0.9872\n",
      "Epoch 10/20\n",
      "25/25 [==============================] - 2s 91ms/step - loss: 0.0552 - acc: 0.9892\n",
      "Epoch 11/20\n",
      "25/25 [==============================] - 2s 92ms/step - loss: 0.0546 - acc: 0.9903\n",
      "Epoch 12/20\n",
      "25/25 [==============================] - 2s 92ms/step - loss: 0.0636 - acc: 0.9848\n",
      "Epoch 13/20\n",
      "25/25 [==============================] - 2s 91ms/step - loss: 0.0617 - acc: 0.9863\n",
      "Epoch 14/20\n",
      "25/25 [==============================] - 2s 90ms/step - loss: 0.0632 - acc: 0.9853\n",
      "Epoch 15/20\n",
      "25/25 [==============================] - 2s 92ms/step - loss: 0.0557 - acc: 0.9882\n",
      "Epoch 16/20\n",
      "25/25 [==============================] - 2s 88ms/step - loss: 0.0535 - acc: 0.9890\n",
      "Epoch 17/20\n",
      "25/25 [==============================] - 2s 88ms/step - loss: 0.0553 - acc: 0.9872\n",
      "Epoch 18/20\n",
      "25/25 [==============================] - 2s 88ms/step - loss: 0.0633 - acc: 0.9853\n",
      "Epoch 19/20\n",
      "25/25 [==============================] - 2s 89ms/step - loss: 0.0555 - acc: 0.9885\n",
      "Epoch 20/20\n",
      "25/25 [==============================] - 2s 88ms/step - loss: 0.0536 - acc: 0.9887\n",
      "Epoch 1/20\n",
      "25/25 [==============================] - 2s 89ms/step - loss: 0.0515 - acc: 0.9898\n",
      "Epoch 2/20\n",
      "25/25 [==============================] - 2s 88ms/step - loss: 0.0560 - acc: 0.9879\n",
      "Epoch 3/20\n",
      "25/25 [==============================] - 2s 87ms/step - loss: 0.0515 - acc: 0.9887\n",
      "Epoch 4/20\n",
      "25/25 [==============================] - 2s 89ms/step - loss: 0.0533 - acc: 0.9882\n",
      "Epoch 5/20\n",
      "25/25 [==============================] - 2s 87ms/step - loss: 0.0508 - acc: 0.9908\n",
      "Epoch 6/20\n",
      "25/25 [==============================] - 2s 90ms/step - loss: 0.0546 - acc: 0.9892\n",
      "Epoch 7/20\n",
      "25/25 [==============================] - 2s 91ms/step - loss: 0.0534 - acc: 0.9879\n",
      "Epoch 8/20\n",
      "25/25 [==============================] - 2s 90ms/step - loss: 0.0582 - acc: 0.9864\n",
      "Epoch 9/20\n",
      "25/25 [==============================] - 2s 89ms/step - loss: 0.0504 - acc: 0.9895\n",
      "Epoch 10/20\n",
      "25/25 [==============================] - 2s 90ms/step - loss: 0.0488 - acc: 0.9901\n",
      "Epoch 11/20\n",
      "25/25 [==============================] - 2s 89ms/step - loss: 0.0498 - acc: 0.9909\n",
      "Epoch 12/20\n",
      "25/25 [==============================] - 2s 89ms/step - loss: 0.0494 - acc: 0.9901\n",
      "Epoch 13/20\n",
      "25/25 [==============================] - 2s 90ms/step - loss: 0.0552 - acc: 0.9884\n",
      "Epoch 14/20\n",
      "25/25 [==============================] - 2s 90ms/step - loss: 0.0617 - acc: 0.9859\n",
      "Epoch 15/20\n",
      "25/25 [==============================] - 2s 89ms/step - loss: 0.0520 - acc: 0.9892\n",
      "Epoch 16/20\n",
      "25/25 [==============================] - 2s 89ms/step - loss: 0.0921 - acc: 0.9733\n",
      "Epoch 17/20\n",
      "25/25 [==============================] - 2s 88ms/step - loss: 0.0593 - acc: 0.9863\n",
      "Epoch 18/20\n",
      "25/25 [==============================] - 2s 88ms/step - loss: 0.0493 - acc: 0.9903\n",
      "Epoch 19/20\n",
      "25/25 [==============================] - 2s 89ms/step - loss: 0.0498 - acc: 0.9900\n",
      "Epoch 20/20\n",
      "25/25 [==============================] - 2s 88ms/step - loss: 0.0464 - acc: 0.9918\n",
      "Epoch 1/20\n",
      "25/25 [==============================] - 3s 91ms/step - loss: 0.0480 - acc: 0.9911\n",
      "Epoch 2/20\n",
      "25/25 [==============================] - 2s 90ms/step - loss: 0.0502 - acc: 0.9903\n",
      "Epoch 3/20\n",
      "25/25 [==============================] - 2s 90ms/step - loss: 0.0476 - acc: 0.9916\n",
      "Epoch 4/20\n",
      "25/25 [==============================] - 2s 89ms/step - loss: 0.0467 - acc: 0.9906\n",
      "Epoch 5/20\n",
      "25/25 [==============================] - 2s 90ms/step - loss: 0.0457 - acc: 0.9918\n",
      "Epoch 6/20\n",
      "25/25 [==============================] - 2s 90ms/step - loss: 0.0504 - acc: 0.9901\n",
      "Epoch 7/20\n",
      "25/25 [==============================] - 2s 90ms/step - loss: 0.0523 - acc: 0.9888\n",
      "Epoch 8/20\n",
      "25/25 [==============================] - 2s 89ms/step - loss: 0.0622 - acc: 0.9838\n",
      "Epoch 9/20\n",
      "25/25 [==============================] - 2s 90ms/step - loss: 0.0509 - acc: 0.9898\n",
      "Epoch 10/20\n",
      "25/25 [==============================] - 2s 90ms/step - loss: 0.0486 - acc: 0.9905\n",
      "Epoch 11/20\n",
      "25/25 [==============================] - 2s 91ms/step - loss: 0.0558 - acc: 0.9866\n",
      "Epoch 12/20\n",
      "25/25 [==============================] - 2s 90ms/step - loss: 0.0480 - acc: 0.9905\n",
      "Epoch 13/20\n",
      "25/25 [==============================] - 2s 92ms/step - loss: 0.0432 - acc: 0.9919\n",
      "Epoch 14/20\n",
      "25/25 [==============================] - 2s 90ms/step - loss: 0.0495 - acc: 0.9895\n",
      "Epoch 15/20\n",
      "25/25 [==============================] - 2s 90ms/step - loss: 0.0499 - acc: 0.9884\n",
      "Epoch 16/20\n",
      "25/25 [==============================] - 2s 88ms/step - loss: 0.0490 - acc: 0.9892\n",
      "Epoch 17/20\n",
      "25/25 [==============================] - 2s 87ms/step - loss: 0.0474 - acc: 0.9901\n",
      "Epoch 18/20\n",
      "25/25 [==============================] - 2s 89ms/step - loss: 0.0444 - acc: 0.9916\n",
      "Epoch 19/20\n",
      "25/25 [==============================] - 2s 89ms/step - loss: 0.0442 - acc: 0.9927\n",
      "Epoch 20/20\n",
      "25/25 [==============================] - 2s 88ms/step - loss: 0.0411 - acc: 0.9926\n",
      "CPU times: user 2h 48min 57s, sys: 20min 18s, total: 3h 9min 16s\n",
      "Wall time: 3min 46s\n"
     ]
    },
    {
     "data": {
      "text/plain": [
       "VotingClassifier(estimators=[('model1',\n",
       "                              <keras.wrappers.scikit_learn.KerasClassifier object at 0x7fa538482af0>),\n",
       "                             ('model2',\n",
       "                              <keras.wrappers.scikit_learn.KerasClassifier object at 0x7fa5181dbac0>),\n",
       "                             ('model3',\n",
       "                              <keras.wrappers.scikit_learn.KerasClassifier object at 0x7fa5181db4c0>),\n",
       "                             ('model4',\n",
       "                              <keras.wrappers.scikit_learn.KerasClassifier object at 0x7fa5181db5b0>),\n",
       "                             ('model5',\n",
       "                              <keras.wrappers.scikit_learn.KerasClassifier object at 0x7fa5181dbee0>)],\n",
       "                 voting='soft')"
      ]
     },
     "execution_count": 70,
     "metadata": {},
     "output_type": "execute_result"
    }
   ],
   "source": [
    "%%time\n",
    "#LSTM 쌓기\n",
    "estimator = []\n",
    "for i in range(1,6): #일단 1개로 정확도 측정\n",
    "    LSTM_Predictors = KerasClassifier(build_fn=lambda:lstm, epochs=20, batch_size=256)\n",
    "    LSTM_Predictors._estimator_type=\"classifier\"\n",
    "    estimator.append((f'model{i}', LSTM_Predictors))\n",
    "print(estimator)    \n",
    "\n",
    "final_model = VotingClassifier(estimators = estimator, voting = 'soft')\n",
    "final_model.fit(X_train,y_train)"
   ]
  },
  {
   "cell_type": "code",
   "execution_count": 71,
   "id": "304809ce",
   "metadata": {
    "scrolled": true
   },
   "outputs": [
    {
     "name": "stdout",
     "output_type": "stream",
     "text": [
      "정확도 : 0.7385113268608414\n"
     ]
    }
   ],
   "source": [
    "#예측 후 가공\n",
    "preds = final_model.predict(X_test)\n",
    "\n",
    "preds[preds>0.5]=1\n",
    "preds[preds<=0.5]=0\n",
    "\n",
    "from sklearn import metrics \n",
    "print('정확도 :', metrics.accuracy_score(y_test, preds))\n",
    "# print(\"RMSE : \", RMSE(y_test, preds))"
   ]
  },
  {
   "cell_type": "code",
   "execution_count": null,
   "id": "32b2f51d",
   "metadata": {},
   "outputs": [],
   "source": []
  },
  {
   "cell_type": "code",
   "execution_count": 123,
   "id": "20c74b8d",
   "metadata": {},
   "outputs": [],
   "source": [
    "def get_acc(preds, valid):\n",
    "    preds[preds>0.5]=1\n",
    "    preds[preds<=0.5]=0\n",
    "    return metrics.accuracy_score(valid, preds)"
   ]
  },
  {
   "cell_type": "code",
   "execution_count": 126,
   "id": "122f77d7",
   "metadata": {},
   "outputs": [],
   "source": [
    "def get_model():\n",
    "    tf.random.set_seed(seed_num)\n",
    "    lstm = Sequential()\n",
    "    lstm.add(InputLayer(input_shape=(X_train.shape[1],X_train.shape[2])))\n",
    "    lstm.add(LSTM(units=128, activation='relu', return_sequences=True))\n",
    "    lstm.add(LSTM(units=64, activation='relu', return_sequences=True))\n",
    "    lstm.add(LSTM(units=32, activation='tanh', return_sequences=False))\n",
    "    lstm.add(Dense(units=1))\n",
    "    early_stop = EarlyStopping(monitor='val_acc', patience=100, verbose=1, restore_best_weights=True)\n",
    "    lstm.compile(optimizer= \"adam\", loss = \"binary_crossentropy\", metrics=['acc'])\n",
    "    return lstm"
   ]
  },
  {
   "cell_type": "code",
   "execution_count": 127,
   "id": "2df10ad2",
   "metadata": {
    "scrolled": true
   },
   "outputs": [
    {
     "name": "stdout",
     "output_type": "stream",
     "text": [
      "Epoch 1/30\n",
      "44/44 [==============================] - 5s 52ms/step - loss: 1.3604 - acc: 0.5042 - val_loss: 0.7169 - val_acc: 0.5784\n",
      "Epoch 2/30\n",
      "44/44 [==============================] - 2s 36ms/step - loss: 0.6402 - acc: 0.6425 - val_loss: 0.5848 - val_acc: 0.6914\n",
      "Epoch 3/30\n",
      "44/44 [==============================] - 2s 37ms/step - loss: 0.5120 - acc: 0.7467 - val_loss: 0.6801 - val_acc: 0.7496\n",
      "Epoch 4/30\n",
      "44/44 [==============================] - 2s 36ms/step - loss: 0.4734 - acc: 0.8008 - val_loss: 1.2488 - val_acc: 0.7754\n",
      "Epoch 5/30\n",
      "44/44 [==============================] - 2s 36ms/step - loss: 0.4510 - acc: 0.8397 - val_loss: 1.5276 - val_acc: 0.7577\n",
      "Epoch 6/30\n",
      "44/44 [==============================] - 2s 37ms/step - loss: 0.3914 - acc: 0.8761 - val_loss: 1.6761 - val_acc: 0.7302\n",
      "Epoch 7/30\n",
      "44/44 [==============================] - 2s 37ms/step - loss: 0.3841 - acc: 0.8799 - val_loss: 2.1293 - val_acc: 0.6931\n",
      "Epoch 8/30\n",
      "44/44 [==============================] - 2s 37ms/step - loss: 0.2974 - acc: 0.9148 - val_loss: 2.0930 - val_acc: 0.6850\n",
      "Epoch 9/30\n",
      "44/44 [==============================] - 2s 37ms/step - loss: 0.2997 - acc: 0.9066 - val_loss: 1.5468 - val_acc: 0.7528\n",
      "Epoch 10/30\n",
      "44/44 [==============================] - 2s 37ms/step - loss: 0.2290 - acc: 0.9281 - val_loss: 2.4161 - val_acc: 0.7415\n",
      "Epoch 11/30\n",
      "44/44 [==============================] - 2s 37ms/step - loss: 0.2095 - acc: 0.9293 - val_loss: 2.0294 - val_acc: 0.7447\n",
      "Epoch 12/30\n",
      "44/44 [==============================] - 2s 36ms/step - loss: 0.1908 - acc: 0.9400 - val_loss: 2.3405 - val_acc: 0.7561\n",
      "Epoch 13/30\n",
      "44/44 [==============================] - 2s 37ms/step - loss: 0.2454 - acc: 0.9441 - val_loss: 2.2586 - val_acc: 0.7625\n",
      "Epoch 14/30\n",
      "44/44 [==============================] - 2s 37ms/step - loss: 0.1301 - acc: 0.9633 - val_loss: 2.5127 - val_acc: 0.7480\n",
      "Epoch 15/30\n",
      "44/44 [==============================] - 2s 36ms/step - loss: 0.1741 - acc: 0.9503 - val_loss: 1.9899 - val_acc: 0.7189\n",
      "Epoch 16/30\n",
      "44/44 [==============================] - 2s 36ms/step - loss: 0.2701 - acc: 0.9325 - val_loss: 2.2704 - val_acc: 0.7431\n",
      "Epoch 17/30\n",
      "44/44 [==============================] - 2s 37ms/step - loss: 0.1023 - acc: 0.9702 - val_loss: 2.3590 - val_acc: 0.7658\n",
      "Epoch 18/30\n",
      "44/44 [==============================] - 2s 37ms/step - loss: 0.1402 - acc: 0.9738 - val_loss: 2.3489 - val_acc: 0.7480\n",
      "Epoch 19/30\n",
      "44/44 [==============================] - 2s 39ms/step - loss: 0.0970 - acc: 0.9830 - val_loss: 2.4616 - val_acc: 0.7593\n",
      "Epoch 20/30\n",
      "44/44 [==============================] - 2s 48ms/step - loss: 0.0909 - acc: 0.9856 - val_loss: 2.5936 - val_acc: 0.7706\n",
      "Epoch 21/30\n",
      "44/44 [==============================] - 2s 41ms/step - loss: 0.0796 - acc: 0.9866 - val_loss: 2.7544 - val_acc: 0.7609\n",
      "Epoch 22/30\n",
      "44/44 [==============================] - 2s 50ms/step - loss: 0.0701 - acc: 0.9782 - val_loss: 2.4439 - val_acc: 0.7722\n",
      "Epoch 23/30\n",
      "44/44 [==============================] - 2s 50ms/step - loss: 0.0810 - acc: 0.9880 - val_loss: 2.7313 - val_acc: 0.7609\n",
      "Epoch 24/30\n",
      "44/44 [==============================] - 2s 50ms/step - loss: 0.0697 - acc: 0.9902 - val_loss: 2.6739 - val_acc: 0.7544\n",
      "Epoch 25/30\n",
      "44/44 [==============================] - 2s 51ms/step - loss: 0.0698 - acc: 0.9894 - val_loss: 2.5588 - val_acc: 0.7658\n",
      "Epoch 26/30\n",
      "44/44 [==============================] - 2s 51ms/step - loss: 0.0665 - acc: 0.9911 - val_loss: 2.6088 - val_acc: 0.7641\n",
      "Epoch 27/30\n",
      "44/44 [==============================] - 2s 50ms/step - loss: 0.0784 - acc: 0.9879 - val_loss: 2.5165 - val_acc: 0.7561\n",
      "Epoch 28/30\n",
      "44/44 [==============================] - 2s 50ms/step - loss: 0.0850 - acc: 0.9830 - val_loss: 2.6999 - val_acc: 0.7803\n",
      "Epoch 29/30\n",
      "44/44 [==============================] - 2s 50ms/step - loss: 0.0842 - acc: 0.9879 - val_loss: 2.7726 - val_acc: 0.7447\n",
      "Epoch 30/30\n",
      "44/44 [==============================] - 2s 49ms/step - loss: 0.0638 - acc: 0.9862 - val_loss: 2.6228 - val_acc: 0.7674\n",
      "Fold 1, ACC = 0.7673667205169629\n",
      "Epoch 1/30\n",
      "44/44 [==============================] - 8s 72ms/step - loss: 1.1768 - acc: 0.5000 - val_loss: 0.6682 - val_acc: 0.6220\n",
      "Epoch 2/30\n",
      "44/44 [==============================] - 2s 51ms/step - loss: 0.5926 - acc: 0.6722 - val_loss: 0.5920 - val_acc: 0.7593\n",
      "Epoch 3/30\n",
      "44/44 [==============================] - 2s 50ms/step - loss: 0.5281 - acc: 0.7471 - val_loss: 0.7832 - val_acc: 0.7318\n",
      "Epoch 4/30\n",
      "44/44 [==============================] - 2s 50ms/step - loss: 0.4928 - acc: 0.8057 - val_loss: 1.1567 - val_acc: 0.7157\n",
      "Epoch 5/30\n",
      "44/44 [==============================] - 2s 50ms/step - loss: 0.4684 - acc: 0.8049 - val_loss: 1.5549 - val_acc: 0.6914\n",
      "Epoch 6/30\n",
      "44/44 [==============================] - 2s 50ms/step - loss: 0.5164 - acc: 0.8106 - val_loss: 1.9607 - val_acc: 0.7011\n",
      "Epoch 7/30\n",
      "44/44 [==============================] - 2s 51ms/step - loss: 0.4681 - acc: 0.8623 - val_loss: 1.5166 - val_acc: 0.7399\n",
      "Epoch 8/30\n",
      "44/44 [==============================] - 2s 51ms/step - loss: 0.2876 - acc: 0.9059 - val_loss: 2.0237 - val_acc: 0.7076\n",
      "Epoch 9/30\n",
      "44/44 [==============================] - 2s 50ms/step - loss: 0.2740 - acc: 0.9265 - val_loss: 2.6225 - val_acc: 0.7157\n",
      "Epoch 10/30\n",
      "44/44 [==============================] - 2s 49ms/step - loss: 0.2268 - acc: 0.9486 - val_loss: 2.9270 - val_acc: 0.7027\n",
      "Epoch 11/30\n",
      "44/44 [==============================] - 2s 50ms/step - loss: 0.2593 - acc: 0.9494 - val_loss: 2.8816 - val_acc: 0.7157\n",
      "Epoch 12/30\n",
      "44/44 [==============================] - 2s 48ms/step - loss: 0.2329 - acc: 0.9602 - val_loss: 2.7210 - val_acc: 0.7286\n",
      "Epoch 13/30\n",
      "44/44 [==============================] - 2s 36ms/step - loss: 0.2136 - acc: 0.9608 - val_loss: 3.2097 - val_acc: 0.7334\n",
      "Epoch 14/30\n",
      "44/44 [==============================] - 2s 36ms/step - loss: 0.2054 - acc: 0.9635 - val_loss: 3.0464 - val_acc: 0.7302\n",
      "Epoch 15/30\n",
      "44/44 [==============================] - 2s 36ms/step - loss: 0.2775 - acc: 0.9555 - val_loss: 3.0632 - val_acc: 0.7076\n",
      "Epoch 16/30\n",
      "44/44 [==============================] - 2s 36ms/step - loss: 0.2248 - acc: 0.9649 - val_loss: 2.9997 - val_acc: 0.7334\n",
      "Epoch 17/30\n",
      "44/44 [==============================] - 2s 37ms/step - loss: 0.1947 - acc: 0.9641 - val_loss: 2.8653 - val_acc: 0.7302\n",
      "Epoch 18/30\n",
      "44/44 [==============================] - 2s 37ms/step - loss: 0.1750 - acc: 0.9689 - val_loss: 2.8794 - val_acc: 0.7270\n",
      "Epoch 19/30\n",
      "44/44 [==============================] - 2s 37ms/step - loss: 0.1738 - acc: 0.9722 - val_loss: 2.0764 - val_acc: 0.7302\n",
      "Epoch 20/30\n",
      "44/44 [==============================] - 2s 37ms/step - loss: 0.3144 - acc: 0.9289 - val_loss: 2.3566 - val_acc: 0.7415\n",
      "Epoch 21/30\n",
      "44/44 [==============================] - 2s 36ms/step - loss: 0.1766 - acc: 0.9656 - val_loss: 2.3541 - val_acc: 0.7367\n",
      "Epoch 22/30\n",
      "44/44 [==============================] - 2s 37ms/step - loss: 0.1282 - acc: 0.9759 - val_loss: 2.6295 - val_acc: 0.7318\n",
      "Epoch 23/30\n",
      "44/44 [==============================] - 2s 37ms/step - loss: 0.1124 - acc: 0.9792 - val_loss: 2.7750 - val_acc: 0.7415\n",
      "Epoch 24/30\n",
      "44/44 [==============================] - 2s 37ms/step - loss: 0.1584 - acc: 0.9756 - val_loss: 2.8332 - val_acc: 0.7318\n",
      "Epoch 25/30\n",
      "44/44 [==============================] - 2s 37ms/step - loss: 0.1385 - acc: 0.9760 - val_loss: 3.9569 - val_acc: 0.6527\n",
      "Epoch 26/30\n",
      "44/44 [==============================] - 2s 37ms/step - loss: 0.5836 - acc: 0.9347 - val_loss: 2.7689 - val_acc: 0.7318\n",
      "Epoch 27/30\n",
      "44/44 [==============================] - 2s 36ms/step - loss: 0.1519 - acc: 0.9739 - val_loss: 2.6466 - val_acc: 0.7383\n",
      "Epoch 28/30\n",
      "44/44 [==============================] - 2s 36ms/step - loss: 0.1461 - acc: 0.9813 - val_loss: 2.7246 - val_acc: 0.7302\n",
      "Epoch 29/30\n",
      "44/44 [==============================] - 2s 36ms/step - loss: 0.0996 - acc: 0.9832 - val_loss: 2.7486 - val_acc: 0.7399\n",
      "Epoch 30/30\n",
      "44/44 [==============================] - 2s 36ms/step - loss: 0.1100 - acc: 0.9830 - val_loss: 2.9131 - val_acc: 0.7415\n",
      "Fold 2, ACC = 0.7415185783521809\n",
      "Epoch 1/30\n",
      "44/44 [==============================] - 5s 52ms/step - loss: 1.1484 - acc: 0.5122 - val_loss: 0.6118 - val_acc: 0.6246\n",
      "Epoch 2/30\n",
      "44/44 [==============================] - 2s 36ms/step - loss: 0.5904 - acc: 0.6964 - val_loss: 0.5706 - val_acc: 0.7476\n"
     ]
    },
    {
     "name": "stdout",
     "output_type": "stream",
     "text": [
      "Epoch 3/30\n",
      "44/44 [==============================] - 2s 36ms/step - loss: 0.5250 - acc: 0.7808 - val_loss: 0.6623 - val_acc: 0.7638\n",
      "Epoch 4/30\n",
      "44/44 [==============================] - 2s 37ms/step - loss: 0.4431 - acc: 0.8311 - val_loss: 1.2396 - val_acc: 0.7718\n",
      "Epoch 5/30\n",
      "44/44 [==============================] - 2s 36ms/step - loss: 0.3991 - acc: 0.8667 - val_loss: 1.2883 - val_acc: 0.7492\n",
      "Epoch 6/30\n",
      "44/44 [==============================] - 2s 36ms/step - loss: 0.4304 - acc: 0.8814 - val_loss: 1.5610 - val_acc: 0.7540\n",
      "Epoch 7/30\n",
      "44/44 [==============================] - 2s 36ms/step - loss: 0.3743 - acc: 0.9059 - val_loss: 1.3963 - val_acc: 0.7314\n",
      "Epoch 8/30\n",
      "44/44 [==============================] - 2s 36ms/step - loss: 0.3171 - acc: 0.9246 - val_loss: 1.7773 - val_acc: 0.7346\n",
      "Epoch 9/30\n",
      "44/44 [==============================] - 2s 36ms/step - loss: 0.2925 - acc: 0.9277 - val_loss: 1.8647 - val_acc: 0.7767\n",
      "Epoch 10/30\n",
      "44/44 [==============================] - 2s 37ms/step - loss: 0.2640 - acc: 0.9478 - val_loss: 2.0130 - val_acc: 0.7605\n",
      "Epoch 11/30\n",
      "44/44 [==============================] - 2s 37ms/step - loss: 0.2079 - acc: 0.9607 - val_loss: 2.1260 - val_acc: 0.7379\n",
      "Epoch 12/30\n",
      "44/44 [==============================] - 2s 36ms/step - loss: 0.2005 - acc: 0.9635 - val_loss: 2.3027 - val_acc: 0.7621\n",
      "Epoch 13/30\n",
      "44/44 [==============================] - 2s 37ms/step - loss: 0.2330 - acc: 0.9558 - val_loss: 2.5260 - val_acc: 0.7168\n",
      "Epoch 14/30\n",
      "44/44 [==============================] - 2s 37ms/step - loss: 0.7357 - acc: 0.8940 - val_loss: 1.9634 - val_acc: 0.7621\n",
      "Epoch 15/30\n",
      "44/44 [==============================] - 2s 36ms/step - loss: 0.3409 - acc: 0.9225 - val_loss: 2.0470 - val_acc: 0.7395\n",
      "Epoch 16/30\n",
      "44/44 [==============================] - 2s 37ms/step - loss: 0.1979 - acc: 0.9588 - val_loss: 2.2603 - val_acc: 0.7476\n",
      "Epoch 17/30\n",
      "44/44 [==============================] - 2s 36ms/step - loss: 0.1650 - acc: 0.9648 - val_loss: 2.1611 - val_acc: 0.7589\n",
      "Epoch 18/30\n",
      "44/44 [==============================] - 2s 37ms/step - loss: 0.1547 - acc: 0.9728 - val_loss: 2.3101 - val_acc: 0.7492\n",
      "Epoch 19/30\n",
      "44/44 [==============================] - 2s 37ms/step - loss: 0.1374 - acc: 0.9768 - val_loss: 2.6269 - val_acc: 0.7799\n",
      "Epoch 20/30\n",
      "44/44 [==============================] - 2s 37ms/step - loss: 0.1804 - acc: 0.9634 - val_loss: 2.2438 - val_acc: 0.7508\n",
      "Epoch 21/30\n",
      "44/44 [==============================] - 2s 37ms/step - loss: 0.1388 - acc: 0.9776 - val_loss: 2.2202 - val_acc: 0.7767\n",
      "Epoch 22/30\n",
      "44/44 [==============================] - 2s 37ms/step - loss: 0.1202 - acc: 0.9820 - val_loss: 2.3300 - val_acc: 0.7638\n",
      "Epoch 23/30\n",
      "44/44 [==============================] - 2s 37ms/step - loss: 0.1162 - acc: 0.9827 - val_loss: 2.4394 - val_acc: 0.7638\n",
      "Epoch 24/30\n",
      "44/44 [==============================] - 2s 36ms/step - loss: 0.1126 - acc: 0.9832 - val_loss: 2.5173 - val_acc: 0.7638\n",
      "Epoch 25/30\n",
      "44/44 [==============================] - 2s 36ms/step - loss: 0.1099 - acc: 0.9837 - val_loss: 2.5989 - val_acc: 0.7557\n",
      "Epoch 26/30\n",
      "44/44 [==============================] - 2s 37ms/step - loss: 0.1077 - acc: 0.9852 - val_loss: 2.7033 - val_acc: 0.7540\n",
      "Epoch 27/30\n",
      "44/44 [==============================] - 2s 37ms/step - loss: 0.1063 - acc: 0.9847 - val_loss: 2.7667 - val_acc: 0.7605\n",
      "Epoch 28/30\n",
      "44/44 [==============================] - 2s 36ms/step - loss: 0.1049 - acc: 0.9865 - val_loss: 2.8006 - val_acc: 0.7621\n",
      "Epoch 29/30\n",
      "44/44 [==============================] - 2s 36ms/step - loss: 0.1038 - acc: 0.9862 - val_loss: 2.8208 - val_acc: 0.7605\n",
      "Epoch 30/30\n",
      "44/44 [==============================] - 2s 36ms/step - loss: 0.1139 - acc: 0.9862 - val_loss: 2.6984 - val_acc: 0.7735\n",
      "Fold 3, ACC = 0.7734627831715211\n",
      "Epoch 1/30\n",
      "44/44 [==============================] - 5s 52ms/step - loss: 1.1613 - acc: 0.4780 - val_loss: 0.7142 - val_acc: 0.5874\n",
      "Epoch 2/30\n",
      "44/44 [==============================] - 2s 36ms/step - loss: 0.6822 - acc: 0.6387 - val_loss: 0.6355 - val_acc: 0.7087\n",
      "Epoch 3/30\n",
      "44/44 [==============================] - 2s 36ms/step - loss: 0.5563 - acc: 0.7552 - val_loss: 0.6226 - val_acc: 0.6893\n",
      "Epoch 4/30\n",
      "44/44 [==============================] - 2s 36ms/step - loss: 0.4861 - acc: 0.7727 - val_loss: 0.6609 - val_acc: 0.7346\n",
      "Epoch 5/30\n",
      "44/44 [==============================] - 2s 37ms/step - loss: 0.4148 - acc: 0.8371 - val_loss: 0.9970 - val_acc: 0.7055\n",
      "Epoch 6/30\n",
      "44/44 [==============================] - 2s 36ms/step - loss: 0.3899 - acc: 0.8515 - val_loss: 1.3209 - val_acc: 0.7460\n",
      "Epoch 7/30\n",
      "44/44 [==============================] - 2s 37ms/step - loss: 0.3181 - acc: 0.8881 - val_loss: 1.6864 - val_acc: 0.7508\n",
      "Epoch 8/30\n",
      "44/44 [==============================] - 2s 37ms/step - loss: 0.3321 - acc: 0.9015 - val_loss: 1.8301 - val_acc: 0.7476\n",
      "Epoch 9/30\n",
      "44/44 [==============================] - 2s 36ms/step - loss: 0.2726 - acc: 0.9269 - val_loss: 1.6738 - val_acc: 0.7087\n",
      "Epoch 10/30\n",
      "44/44 [==============================] - 2s 37ms/step - loss: 0.2860 - acc: 0.9170 - val_loss: 1.9843 - val_acc: 0.7524\n",
      "Epoch 11/30\n",
      "44/44 [==============================] - 2s 37ms/step - loss: 0.2324 - acc: 0.9450 - val_loss: 2.1259 - val_acc: 0.7411\n",
      "Epoch 12/30\n",
      "44/44 [==============================] - 2s 37ms/step - loss: 0.2131 - acc: 0.9413 - val_loss: 2.0908 - val_acc: 0.7411\n",
      "Epoch 13/30\n",
      "44/44 [==============================] - 2s 36ms/step - loss: 0.2445 - acc: 0.9441 - val_loss: 2.4840 - val_acc: 0.7346\n",
      "Epoch 14/30\n",
      "44/44 [==============================] - 2s 37ms/step - loss: 0.2663 - acc: 0.9434 - val_loss: 2.6009 - val_acc: 0.7379\n",
      "Epoch 15/30\n",
      "44/44 [==============================] - 2s 37ms/step - loss: 0.2274 - acc: 0.9569 - val_loss: 2.5033 - val_acc: 0.7573\n",
      "Epoch 16/30\n",
      "44/44 [==============================] - 2s 37ms/step - loss: 0.1873 - acc: 0.9681 - val_loss: 2.5473 - val_acc: 0.7524\n",
      "Epoch 17/30\n",
      "44/44 [==============================] - 2s 37ms/step - loss: 0.1706 - acc: 0.9700 - val_loss: 2.6211 - val_acc: 0.7362\n",
      "Epoch 18/30\n",
      "44/44 [==============================] - 2s 36ms/step - loss: 0.1529 - acc: 0.9749 - val_loss: 2.7959 - val_acc: 0.7540\n",
      "Epoch 19/30\n",
      "44/44 [==============================] - 2s 37ms/step - loss: 0.1408 - acc: 0.9749 - val_loss: 2.7903 - val_acc: 0.7492\n",
      "Epoch 20/30\n",
      "44/44 [==============================] - 2s 37ms/step - loss: 0.1539 - acc: 0.9773 - val_loss: 2.9695 - val_acc: 0.7362\n",
      "Epoch 21/30\n",
      "44/44 [==============================] - 2s 36ms/step - loss: 0.2059 - acc: 0.9736 - val_loss: 2.9797 - val_acc: 0.7330\n",
      "Epoch 22/30\n",
      "44/44 [==============================] - 2s 36ms/step - loss: 0.1254 - acc: 0.9792 - val_loss: 3.3086 - val_acc: 0.7184\n",
      "Epoch 23/30\n",
      "44/44 [==============================] - 2s 37ms/step - loss: 0.4483 - acc: 0.9340 - val_loss: 2.5640 - val_acc: 0.7104\n",
      "Epoch 24/30\n",
      "44/44 [==============================] - 2s 37ms/step - loss: 0.2021 - acc: 0.9580 - val_loss: 2.7218 - val_acc: 0.7282\n",
      "Epoch 25/30\n",
      "44/44 [==============================] - 2s 37ms/step - loss: 0.1149 - acc: 0.9757 - val_loss: 2.8000 - val_acc: 0.7282\n",
      "Epoch 26/30\n",
      "44/44 [==============================] - 2s 37ms/step - loss: 0.1220 - acc: 0.9740 - val_loss: 2.4105 - val_acc: 0.7395\n",
      "Epoch 27/30\n",
      "44/44 [==============================] - 2s 37ms/step - loss: 0.0996 - acc: 0.9836 - val_loss: 2.7836 - val_acc: 0.7233\n",
      "Epoch 28/30\n",
      "44/44 [==============================] - 2s 36ms/step - loss: 0.1023 - acc: 0.9830 - val_loss: 2.9527 - val_acc: 0.7249\n",
      "Epoch 29/30\n",
      "44/44 [==============================] - 2s 36ms/step - loss: 0.0844 - acc: 0.9858 - val_loss: 3.0536 - val_acc: 0.7217\n",
      "Epoch 30/30\n",
      "44/44 [==============================] - 2s 36ms/step - loss: 0.0877 - acc: 0.9856 - val_loss: 3.0189 - val_acc: 0.7184\n",
      "Fold 4, ACC = 0.7184466019417476\n",
      "Epoch 1/30\n",
      "44/44 [==============================] - 5s 53ms/step - loss: 1.0995 - acc: 0.5124 - val_loss: 0.5678 - val_acc: 0.6926\n",
      "Epoch 2/30\n",
      "44/44 [==============================] - 2s 36ms/step - loss: 0.5663 - acc: 0.7021 - val_loss: 0.5597 - val_acc: 0.7411\n",
      "Epoch 3/30\n",
      "44/44 [==============================] - 2s 36ms/step - loss: 0.5329 - acc: 0.7694 - val_loss: 0.6639 - val_acc: 0.6537\n",
      "Epoch 4/30\n",
      "44/44 [==============================] - 2s 36ms/step - loss: 0.4866 - acc: 0.7647 - val_loss: 0.6662 - val_acc: 0.7557\n"
     ]
    },
    {
     "name": "stdout",
     "output_type": "stream",
     "text": [
      "Epoch 5/30\n",
      "44/44 [==============================] - 2s 36ms/step - loss: 0.4145 - acc: 0.8415 - val_loss: 0.6782 - val_acc: 0.7314\n",
      "Epoch 6/30\n",
      "44/44 [==============================] - 2s 36ms/step - loss: 0.3580 - acc: 0.8639 - val_loss: 0.9880 - val_acc: 0.7621\n",
      "Epoch 7/30\n",
      "44/44 [==============================] - 2s 38ms/step - loss: 0.3265 - acc: 0.8964 - val_loss: 1.4459 - val_acc: 0.7589\n",
      "Epoch 8/30\n",
      "44/44 [==============================] - 2s 36ms/step - loss: 0.2878 - acc: 0.9204 - val_loss: 1.9422 - val_acc: 0.7314\n",
      "Epoch 9/30\n",
      "44/44 [==============================] - 2s 38ms/step - loss: 0.2541 - acc: 0.9322 - val_loss: 1.8968 - val_acc: 0.7265\n",
      "Epoch 10/30\n",
      "44/44 [==============================] - 2s 36ms/step - loss: 0.2800 - acc: 0.9354 - val_loss: 2.3061 - val_acc: 0.7589\n",
      "Epoch 11/30\n",
      "44/44 [==============================] - 2s 39ms/step - loss: 0.2639 - acc: 0.9372 - val_loss: 2.1236 - val_acc: 0.7540\n",
      "Epoch 12/30\n",
      "44/44 [==============================] - 2s 36ms/step - loss: 0.2031 - acc: 0.9557 - val_loss: 2.2572 - val_acc: 0.7540\n",
      "Epoch 13/30\n",
      "44/44 [==============================] - 2s 36ms/step - loss: 0.2051 - acc: 0.9591 - val_loss: 2.2567 - val_acc: 0.7702\n",
      "Epoch 14/30\n",
      "44/44 [==============================] - 2s 36ms/step - loss: 0.2184 - acc: 0.9640 - val_loss: 2.1201 - val_acc: 0.7654\n",
      "Epoch 15/30\n",
      "44/44 [==============================] - 2s 36ms/step - loss: 0.1679 - acc: 0.9706 - val_loss: 2.4370 - val_acc: 0.7524\n",
      "Epoch 16/30\n",
      "44/44 [==============================] - 2s 36ms/step - loss: 0.1599 - acc: 0.9726 - val_loss: 2.5292 - val_acc: 0.7686\n",
      "Epoch 17/30\n",
      "44/44 [==============================] - 2s 36ms/step - loss: 0.1544 - acc: 0.9747 - val_loss: 2.5284 - val_acc: 0.7605\n",
      "Epoch 18/30\n",
      "44/44 [==============================] - 2s 36ms/step - loss: 0.1297 - acc: 0.9787 - val_loss: 2.6419 - val_acc: 0.7557\n",
      "Epoch 19/30\n",
      "44/44 [==============================] - 2s 37ms/step - loss: 0.2719 - acc: 0.9660 - val_loss: 2.8604 - val_acc: 0.7492\n",
      "Epoch 20/30\n",
      "44/44 [==============================] - 2s 37ms/step - loss: 0.3509 - acc: 0.9513 - val_loss: 3.9998 - val_acc: 0.7087\n",
      "Epoch 21/30\n",
      "44/44 [==============================] - 2s 37ms/step - loss: 1.3196 - acc: 0.8000 - val_loss: 1.4622 - val_acc: 0.7524\n",
      "Epoch 22/30\n",
      "44/44 [==============================] - 2s 37ms/step - loss: 0.3768 - acc: 0.9245 - val_loss: 1.8239 - val_acc: 0.7427\n",
      "Epoch 23/30\n",
      "44/44 [==============================] - 2s 37ms/step - loss: 0.1894 - acc: 0.9654 - val_loss: 2.4628 - val_acc: 0.7443\n",
      "Epoch 24/30\n",
      "44/44 [==============================] - 2s 37ms/step - loss: 0.1512 - acc: 0.9770 - val_loss: 2.6165 - val_acc: 0.7443\n",
      "Epoch 25/30\n",
      "44/44 [==============================] - 2s 36ms/step - loss: 0.1464 - acc: 0.9788 - val_loss: 2.6957 - val_acc: 0.7540\n",
      "Epoch 26/30\n",
      "44/44 [==============================] - 2s 36ms/step - loss: 0.1293 - acc: 0.9834 - val_loss: 2.8108 - val_acc: 0.7557\n",
      "Epoch 27/30\n",
      "44/44 [==============================] - 2s 37ms/step - loss: 0.1347 - acc: 0.9835 - val_loss: 2.5850 - val_acc: 0.7605\n",
      "Epoch 28/30\n",
      "44/44 [==============================] - 2s 36ms/step - loss: 0.1404 - acc: 0.9814 - val_loss: 2.6764 - val_acc: 0.7621\n",
      "Epoch 29/30\n",
      "44/44 [==============================] - 2s 36ms/step - loss: 0.1294 - acc: 0.9842 - val_loss: 2.8200 - val_acc: 0.7573\n",
      "Epoch 30/30\n",
      "44/44 [==============================] - 2s 35ms/step - loss: 0.1239 - acc: 0.9860 - val_loss: 2.9530 - val_acc: 0.7621\n",
      "Fold 5, ACC = 0.7621359223300971\n",
      "Epoch 1/30\n",
      "44/44 [==============================] - 8s 93ms/step - loss: 1.2882 - acc: 0.5064 - val_loss: 0.6136 - val_acc: 0.6408\n",
      "Epoch 2/30\n",
      "44/44 [==============================] - 3s 64ms/step - loss: 0.5828 - acc: 0.6915 - val_loss: 0.5676 - val_acc: 0.7265\n",
      "Epoch 3/30\n",
      "44/44 [==============================] - 3s 66ms/step - loss: 0.5562 - acc: 0.7628 - val_loss: 0.6150 - val_acc: 0.6650\n",
      "Epoch 4/30\n",
      "44/44 [==============================] - 3s 62ms/step - loss: 0.4552 - acc: 0.8030 - val_loss: 0.8028 - val_acc: 0.7362\n",
      "Epoch 5/30\n",
      "44/44 [==============================] - 3s 63ms/step - loss: 0.4120 - acc: 0.8337 - val_loss: 0.9729 - val_acc: 0.7249\n",
      "Epoch 6/30\n",
      "44/44 [==============================] - 3s 64ms/step - loss: 0.3554 - acc: 0.8771 - val_loss: 1.1284 - val_acc: 0.7395\n",
      "Epoch 7/30\n",
      "44/44 [==============================] - 3s 63ms/step - loss: 0.2929 - acc: 0.9087 - val_loss: 1.3250 - val_acc: 0.7298\n",
      "Epoch 8/30\n",
      "44/44 [==============================] - 3s 64ms/step - loss: 0.3030 - acc: 0.9192 - val_loss: 1.0275 - val_acc: 0.7298\n",
      "Epoch 9/30\n",
      "44/44 [==============================] - 3s 64ms/step - loss: 0.2489 - acc: 0.9197 - val_loss: 1.4243 - val_acc: 0.7524\n",
      "Epoch 10/30\n",
      "44/44 [==============================] - 3s 65ms/step - loss: 0.2205 - acc: 0.9348 - val_loss: 1.5105 - val_acc: 0.7411\n",
      "Epoch 11/30\n",
      "44/44 [==============================] - 3s 63ms/step - loss: 0.1987 - acc: 0.9530 - val_loss: 1.7945 - val_acc: 0.7524\n",
      "Epoch 12/30\n",
      "44/44 [==============================] - 3s 65ms/step - loss: 0.2280 - acc: 0.9486 - val_loss: 1.6330 - val_acc: 0.7379\n",
      "Epoch 13/30\n",
      "44/44 [==============================] - 3s 65ms/step - loss: 0.1386 - acc: 0.9664 - val_loss: 2.0886 - val_acc: 0.7346\n",
      "Epoch 14/30\n",
      "44/44 [==============================] - 3s 63ms/step - loss: 0.1312 - acc: 0.9711 - val_loss: 2.0616 - val_acc: 0.7395\n",
      "Epoch 15/30\n",
      "44/44 [==============================] - 3s 65ms/step - loss: 0.1222 - acc: 0.9708 - val_loss: 2.0405 - val_acc: 0.7395\n",
      "Epoch 16/30\n",
      "44/44 [==============================] - 3s 66ms/step - loss: 0.1024 - acc: 0.9778 - val_loss: 2.3867 - val_acc: 0.7508\n",
      "Epoch 17/30\n",
      "44/44 [==============================] - 3s 63ms/step - loss: 0.0900 - acc: 0.9820 - val_loss: 2.4191 - val_acc: 0.7476\n",
      "Epoch 18/30\n",
      "44/44 [==============================] - 3s 63ms/step - loss: 0.1025 - acc: 0.9814 - val_loss: 2.2634 - val_acc: 0.7460\n",
      "Epoch 19/30\n",
      "44/44 [==============================] - 3s 65ms/step - loss: 0.0821 - acc: 0.9872 - val_loss: 2.4222 - val_acc: 0.7589\n",
      "Epoch 20/30\n",
      "44/44 [==============================] - 3s 65ms/step - loss: 0.0806 - acc: 0.9857 - val_loss: 2.4924 - val_acc: 0.7557\n",
      "Epoch 21/30\n",
      "44/44 [==============================] - 3s 63ms/step - loss: 0.0844 - acc: 0.9845 - val_loss: 2.4960 - val_acc: 0.7217\n",
      "Epoch 22/30\n",
      "44/44 [==============================] - 3s 66ms/step - loss: 0.1849 - acc: 0.9633 - val_loss: 2.2961 - val_acc: 0.7573\n",
      "Epoch 23/30\n",
      "44/44 [==============================] - 3s 65ms/step - loss: 0.0911 - acc: 0.9851 - val_loss: 2.3818 - val_acc: 0.7460\n",
      "Epoch 24/30\n",
      "44/44 [==============================] - 3s 64ms/step - loss: 0.0742 - acc: 0.9888 - val_loss: 2.7049 - val_acc: 0.7621\n",
      "Epoch 25/30\n",
      "44/44 [==============================] - 3s 66ms/step - loss: 0.0799 - acc: 0.9891 - val_loss: 2.5482 - val_acc: 0.7492\n",
      "Epoch 26/30\n",
      "44/44 [==============================] - 3s 63ms/step - loss: 0.0745 - acc: 0.9892 - val_loss: 2.6644 - val_acc: 0.7524\n",
      "Epoch 27/30\n",
      "44/44 [==============================] - 3s 65ms/step - loss: 0.0671 - acc: 0.9925 - val_loss: 2.7804 - val_acc: 0.7589\n",
      "Epoch 28/30\n",
      "44/44 [==============================] - 3s 65ms/step - loss: 0.0782 - acc: 0.9920 - val_loss: 2.9386 - val_acc: 0.7524\n",
      "Epoch 29/30\n",
      "44/44 [==============================] - 3s 64ms/step - loss: 0.0733 - acc: 0.9915 - val_loss: 2.7955 - val_acc: 0.7508\n",
      "Epoch 30/30\n",
      "44/44 [==============================] - 3s 63ms/step - loss: 0.0693 - acc: 0.9945 - val_loss: 2.9059 - val_acc: 0.7492\n",
      "Fold 6, ACC = 0.7491909385113269\n",
      "Epoch 1/30\n",
      "44/44 [==============================] - 9s 96ms/step - loss: 1.1100 - acc: 0.5174 - val_loss: 0.6683 - val_acc: 0.6327\n",
      "Epoch 2/30\n",
      "44/44 [==============================] - 3s 66ms/step - loss: 0.6127 - acc: 0.6989 - val_loss: 0.7482 - val_acc: 0.6958\n",
      "Epoch 3/30\n",
      "44/44 [==============================] - 3s 64ms/step - loss: 0.5801 - acc: 0.7614 - val_loss: 0.7764 - val_acc: 0.7573\n",
      "Epoch 4/30\n",
      "44/44 [==============================] - 3s 64ms/step - loss: 0.4579 - acc: 0.8212 - val_loss: 0.8144 - val_acc: 0.6958\n",
      "Epoch 5/30\n",
      "44/44 [==============================] - 3s 65ms/step - loss: 0.4027 - acc: 0.8329 - val_loss: 0.8822 - val_acc: 0.7443\n",
      "Epoch 6/30\n",
      "44/44 [==============================] - 3s 64ms/step - loss: 0.3716 - acc: 0.8653 - val_loss: 1.3451 - val_acc: 0.7314\n"
     ]
    },
    {
     "name": "stdout",
     "output_type": "stream",
     "text": [
      "Epoch 7/30\n",
      "44/44 [==============================] - 3s 65ms/step - loss: 0.3307 - acc: 0.8842 - val_loss: 1.8215 - val_acc: 0.7346\n",
      "Epoch 8/30\n",
      "44/44 [==============================] - 3s 66ms/step - loss: 0.2799 - acc: 0.9191 - val_loss: 2.3297 - val_acc: 0.7460\n",
      "Epoch 9/30\n",
      "44/44 [==============================] - 3s 65ms/step - loss: 0.2288 - acc: 0.9342 - val_loss: 2.6424 - val_acc: 0.7104\n",
      "Epoch 10/30\n",
      "44/44 [==============================] - 3s 64ms/step - loss: 0.2784 - acc: 0.9400 - val_loss: 3.5537 - val_acc: 0.6133\n",
      "Epoch 11/30\n",
      "44/44 [==============================] - 3s 66ms/step - loss: 0.7312 - acc: 0.8759 - val_loss: 2.4094 - val_acc: 0.6877\n",
      "Epoch 12/30\n",
      "44/44 [==============================] - 3s 65ms/step - loss: 0.4616 - acc: 0.8952 - val_loss: 2.0210 - val_acc: 0.7476\n",
      "Epoch 13/30\n",
      "44/44 [==============================] - 3s 65ms/step - loss: 0.4005 - acc: 0.9103 - val_loss: 2.0393 - val_acc: 0.7330\n",
      "Epoch 14/30\n",
      "44/44 [==============================] - 3s 65ms/step - loss: 0.2410 - acc: 0.9460 - val_loss: 2.1063 - val_acc: 0.7362\n",
      "Epoch 15/30\n",
      "44/44 [==============================] - 3s 64ms/step - loss: 0.1985 - acc: 0.9610 - val_loss: 2.4636 - val_acc: 0.7379\n",
      "Epoch 16/30\n",
      "44/44 [==============================] - 3s 64ms/step - loss: 0.1990 - acc: 0.9542 - val_loss: 2.3718 - val_acc: 0.7362\n",
      "Epoch 17/30\n",
      "44/44 [==============================] - 3s 65ms/step - loss: 0.1547 - acc: 0.9693 - val_loss: 2.6287 - val_acc: 0.7314\n",
      "Epoch 18/30\n",
      "44/44 [==============================] - 3s 64ms/step - loss: 0.1514 - acc: 0.9737 - val_loss: 2.5189 - val_acc: 0.7298\n",
      "Epoch 19/30\n",
      "44/44 [==============================] - 3s 64ms/step - loss: 0.1545 - acc: 0.9645 - val_loss: 2.5320 - val_acc: 0.7330\n",
      "Epoch 20/30\n",
      "44/44 [==============================] - 3s 65ms/step - loss: 0.1090 - acc: 0.9779 - val_loss: 2.5978 - val_acc: 0.7362\n",
      "Epoch 21/30\n",
      "44/44 [==============================] - 3s 68ms/step - loss: 0.1018 - acc: 0.9813 - val_loss: 2.8241 - val_acc: 0.7346\n",
      "Epoch 22/30\n",
      "44/44 [==============================] - 3s 65ms/step - loss: 0.0974 - acc: 0.9824 - val_loss: 2.9386 - val_acc: 0.7379\n",
      "Epoch 23/30\n",
      "44/44 [==============================] - 3s 65ms/step - loss: 0.0934 - acc: 0.9848 - val_loss: 3.1074 - val_acc: 0.7379\n",
      "Epoch 24/30\n",
      "44/44 [==============================] - 4s 81ms/step - loss: 0.0911 - acc: 0.9855 - val_loss: 3.0074 - val_acc: 0.7379\n",
      "Epoch 25/30\n",
      "44/44 [==============================] - 3s 72ms/step - loss: 0.0887 - acc: 0.9864 - val_loss: 3.1923 - val_acc: 0.7330\n",
      "Epoch 26/30\n",
      "44/44 [==============================] - 4s 83ms/step - loss: 0.0864 - acc: 0.9885 - val_loss: 3.3313 - val_acc: 0.7201\n",
      "Epoch 27/30\n",
      "44/44 [==============================] - 4s 80ms/step - loss: 0.1106 - acc: 0.9867 - val_loss: 3.1793 - val_acc: 0.7314\n",
      "Epoch 28/30\n",
      "44/44 [==============================] - 4s 80ms/step - loss: 0.0953 - acc: 0.9885 - val_loss: 3.1681 - val_acc: 0.7362\n",
      "Epoch 29/30\n",
      "44/44 [==============================] - 4s 82ms/step - loss: 0.0840 - acc: 0.9888 - val_loss: 3.3164 - val_acc: 0.7233\n",
      "Epoch 30/30\n",
      "44/44 [==============================] - 4s 80ms/step - loss: 0.0871 - acc: 0.9895 - val_loss: 3.1659 - val_acc: 0.7298\n",
      "Fold 7, ACC = 0.7297734627831716\n",
      "Epoch 1/30\n",
      "44/44 [==============================] - 11s 117ms/step - loss: 1.1521 - acc: 0.5031 - val_loss: 0.6372 - val_acc: 0.6278\n",
      "Epoch 2/30\n",
      "44/44 [==============================] - 4s 79ms/step - loss: 0.5924 - acc: 0.6861 - val_loss: 0.6632 - val_acc: 0.7233\n",
      "Epoch 3/30\n",
      "44/44 [==============================] - 3s 80ms/step - loss: 0.5268 - acc: 0.7698 - val_loss: 0.9624 - val_acc: 0.7443\n",
      "Epoch 4/30\n",
      "44/44 [==============================] - 4s 81ms/step - loss: 0.4577 - acc: 0.8083 - val_loss: 1.2343 - val_acc: 0.6133\n",
      "Epoch 5/30\n",
      "44/44 [==============================] - 3s 78ms/step - loss: 0.9278 - acc: 0.6828 - val_loss: 0.8570 - val_acc: 0.6537\n",
      "Epoch 6/30\n",
      "44/44 [==============================] - 3s 78ms/step - loss: 0.4657 - acc: 0.7929 - val_loss: 1.3868 - val_acc: 0.7265\n",
      "Epoch 7/30\n",
      "44/44 [==============================] - 4s 81ms/step - loss: 0.3444 - acc: 0.8675 - val_loss: 1.8366 - val_acc: 0.7233\n",
      "Epoch 8/30\n",
      "44/44 [==============================] - 3s 79ms/step - loss: 0.3296 - acc: 0.9047 - val_loss: 1.9939 - val_acc: 0.7071\n",
      "Epoch 9/30\n",
      "44/44 [==============================] - 4s 81ms/step - loss: 0.2581 - acc: 0.9228 - val_loss: 2.7715 - val_acc: 0.6990\n",
      "Epoch 10/30\n",
      "44/44 [==============================] - 3s 80ms/step - loss: 0.2189 - acc: 0.9394 - val_loss: 2.4921 - val_acc: 0.7233\n",
      "Epoch 11/30\n",
      "44/44 [==============================] - 4s 80ms/step - loss: 0.2065 - acc: 0.9517 - val_loss: 2.8060 - val_acc: 0.7201\n",
      "Epoch 12/30\n",
      "44/44 [==============================] - 4s 80ms/step - loss: 0.2424 - acc: 0.9497 - val_loss: 2.6665 - val_acc: 0.7184\n",
      "Epoch 13/30\n",
      "44/44 [==============================] - 3s 79ms/step - loss: 0.7444 - acc: 0.8905 - val_loss: 2.1574 - val_acc: 0.6181\n",
      "Epoch 14/30\n",
      "44/44 [==============================] - 4s 80ms/step - loss: 0.5766 - acc: 0.8564 - val_loss: 2.0942 - val_acc: 0.7006\n",
      "Epoch 15/30\n",
      "44/44 [==============================] - 4s 81ms/step - loss: 0.3390 - acc: 0.9191 - val_loss: 2.1192 - val_acc: 0.7443\n",
      "Epoch 16/30\n",
      "44/44 [==============================] - 4s 81ms/step - loss: 0.2400 - acc: 0.9503 - val_loss: 2.3755 - val_acc: 0.7411\n",
      "Epoch 17/30\n",
      "44/44 [==============================] - 4s 81ms/step - loss: 0.2020 - acc: 0.9601 - val_loss: 2.5351 - val_acc: 0.7249\n",
      "Epoch 18/30\n",
      "44/44 [==============================] - 3s 80ms/step - loss: 0.1817 - acc: 0.9705 - val_loss: 2.7758 - val_acc: 0.7298\n",
      "Epoch 19/30\n",
      "44/44 [==============================] - 3s 79ms/step - loss: 0.1603 - acc: 0.9714 - val_loss: 3.1340 - val_acc: 0.7006\n",
      "Epoch 20/30\n",
      "44/44 [==============================] - 3s 64ms/step - loss: 0.2195 - acc: 0.9619 - val_loss: 2.6184 - val_acc: 0.7233\n",
      "Epoch 21/30\n",
      "44/44 [==============================] - 2s 50ms/step - loss: 0.1752 - acc: 0.9726 - val_loss: 2.6521 - val_acc: 0.7346\n",
      "Epoch 22/30\n",
      "44/44 [==============================] - 2s 50ms/step - loss: 0.1330 - acc: 0.9767 - val_loss: 2.7529 - val_acc: 0.7249\n",
      "Epoch 23/30\n",
      "44/44 [==============================] - 2s 50ms/step - loss: 0.1604 - acc: 0.9756 - val_loss: 2.9635 - val_acc: 0.7152\n",
      "Epoch 24/30\n",
      "44/44 [==============================] - 2s 50ms/step - loss: 0.2510 - acc: 0.9621 - val_loss: 3.1394 - val_acc: 0.7233\n",
      "Epoch 25/30\n",
      "44/44 [==============================] - 2s 50ms/step - loss: 0.3653 - acc: 0.9407 - val_loss: 2.2939 - val_acc: 0.7314\n",
      "Epoch 26/30\n",
      "44/44 [==============================] - 2s 50ms/step - loss: 0.1985 - acc: 0.9700 - val_loss: 2.4538 - val_acc: 0.7460\n",
      "Epoch 27/30\n",
      "44/44 [==============================] - 2s 50ms/step - loss: 0.1835 - acc: 0.9734 - val_loss: 2.5541 - val_acc: 0.7476\n",
      "Epoch 28/30\n",
      "44/44 [==============================] - 2s 49ms/step - loss: 0.1680 - acc: 0.9769 - val_loss: 2.7864 - val_acc: 0.7314\n",
      "Epoch 29/30\n",
      "44/44 [==============================] - 2s 49ms/step - loss: 0.1625 - acc: 0.9774 - val_loss: 2.8101 - val_acc: 0.7362\n",
      "Epoch 30/30\n",
      "44/44 [==============================] - 2s 49ms/step - loss: 0.1460 - acc: 0.9804 - val_loss: 2.8342 - val_acc: 0.7427\n",
      "Fold 8, ACC = 0.7427184466019418\n",
      "Epoch 1/30\n",
      "44/44 [==============================] - 6s 61ms/step - loss: 1.1881 - acc: 0.5185 - val_loss: 0.6151 - val_acc: 0.6294\n",
      "Epoch 2/30\n",
      "44/44 [==============================] - 2s 36ms/step - loss: 0.5787 - acc: 0.7049 - val_loss: 0.8797 - val_acc: 0.7298\n",
      "Epoch 3/30\n",
      "44/44 [==============================] - 2s 36ms/step - loss: 0.5601 - acc: 0.7748 - val_loss: 0.7187 - val_acc: 0.7589\n",
      "Epoch 4/30\n",
      "44/44 [==============================] - 2s 36ms/step - loss: 0.6642 - acc: 0.7650 - val_loss: 1.3637 - val_acc: 0.7217\n",
      "Epoch 5/30\n",
      "44/44 [==============================] - 2s 36ms/step - loss: 0.6144 - acc: 0.7831 - val_loss: 0.7877 - val_acc: 0.7411\n",
      "Epoch 6/30\n",
      "44/44 [==============================] - 2s 36ms/step - loss: 0.4414 - acc: 0.8329 - val_loss: 0.9054 - val_acc: 0.7443\n",
      "Epoch 7/30\n",
      "44/44 [==============================] - 2s 36ms/step - loss: 0.3642 - acc: 0.8771 - val_loss: 1.3342 - val_acc: 0.7346\n",
      "Epoch 8/30\n",
      "44/44 [==============================] - 2s 36ms/step - loss: 0.3343 - acc: 0.8984 - val_loss: 1.7673 - val_acc: 0.6942\n"
     ]
    },
    {
     "name": "stdout",
     "output_type": "stream",
     "text": [
      "Epoch 9/30\n",
      "44/44 [==============================] - 2s 36ms/step - loss: 0.2920 - acc: 0.9110 - val_loss: 1.9364 - val_acc: 0.7443\n",
      "Epoch 10/30\n",
      "44/44 [==============================] - 2s 36ms/step - loss: 0.2329 - acc: 0.9358 - val_loss: 2.0641 - val_acc: 0.7540\n",
      "Epoch 11/30\n",
      "44/44 [==============================] - 2s 36ms/step - loss: 0.2155 - acc: 0.9487 - val_loss: 2.1529 - val_acc: 0.7476\n",
      "Epoch 12/30\n",
      "44/44 [==============================] - 2s 37ms/step - loss: 0.2002 - acc: 0.9547 - val_loss: 2.5504 - val_acc: 0.7573\n",
      "Epoch 13/30\n",
      "44/44 [==============================] - 2s 36ms/step - loss: 0.2189 - acc: 0.9469 - val_loss: 2.0822 - val_acc: 0.7540\n",
      "Epoch 14/30\n",
      "44/44 [==============================] - 2s 36ms/step - loss: 0.2182 - acc: 0.9529 - val_loss: 2.6088 - val_acc: 0.7589\n",
      "Epoch 15/30\n",
      "44/44 [==============================] - 2s 36ms/step - loss: 0.2219 - acc: 0.9590 - val_loss: 2.6541 - val_acc: 0.7540\n",
      "Epoch 16/30\n",
      "44/44 [==============================] - 2s 36ms/step - loss: 0.2323 - acc: 0.9537 - val_loss: 2.6500 - val_acc: 0.7540\n",
      "Epoch 17/30\n",
      "44/44 [==============================] - 2s 37ms/step - loss: 0.2018 - acc: 0.9669 - val_loss: 2.5049 - val_acc: 0.7492\n",
      "Epoch 18/30\n",
      "44/44 [==============================] - 2s 37ms/step - loss: 0.1615 - acc: 0.9722 - val_loss: 2.5031 - val_acc: 0.7589\n",
      "Epoch 19/30\n",
      "44/44 [==============================] - 2s 36ms/step - loss: 0.1753 - acc: 0.9730 - val_loss: 2.4658 - val_acc: 0.7621\n",
      "Epoch 20/30\n",
      "44/44 [==============================] - 2s 36ms/step - loss: 0.1678 - acc: 0.9761 - val_loss: 2.5429 - val_acc: 0.7702\n",
      "Epoch 21/30\n",
      "44/44 [==============================] - 2s 36ms/step - loss: 0.1478 - acc: 0.9775 - val_loss: 2.8106 - val_acc: 0.7557\n",
      "Epoch 22/30\n",
      "44/44 [==============================] - 2s 36ms/step - loss: 0.1284 - acc: 0.9830 - val_loss: 2.9408 - val_acc: 0.7524\n",
      "Epoch 23/30\n",
      "44/44 [==============================] - 2s 36ms/step - loss: 0.1275 - acc: 0.9833 - val_loss: 3.0112 - val_acc: 0.7443\n",
      "Epoch 24/30\n",
      "44/44 [==============================] - 2s 36ms/step - loss: 0.1473 - acc: 0.9807 - val_loss: 2.9554 - val_acc: 0.7605\n",
      "Epoch 25/30\n",
      "44/44 [==============================] - 2s 36ms/step - loss: 0.1286 - acc: 0.9852 - val_loss: 3.3850 - val_acc: 0.7249\n",
      "Epoch 26/30\n",
      "44/44 [==============================] - 2s 36ms/step - loss: 2.5608 - acc: 0.8193 - val_loss: 4.9396 - val_acc: 0.6715\n",
      "Epoch 27/30\n",
      "44/44 [==============================] - 2s 36ms/step - loss: 3.5410 - acc: 0.7628 - val_loss: 5.5225 - val_acc: 0.6359\n",
      "Epoch 28/30\n",
      "44/44 [==============================] - 2s 36ms/step - loss: 3.7345 - acc: 0.7518 - val_loss: 5.1440 - val_acc: 0.6602\n",
      "Epoch 29/30\n",
      "44/44 [==============================] - 2s 36ms/step - loss: 3.4172 - acc: 0.7505 - val_loss: 3.6176 - val_acc: 0.6505\n",
      "Epoch 30/30\n",
      "44/44 [==============================] - 2s 35ms/step - loss: 2.4778 - acc: 0.7800 - val_loss: 3.0017 - val_acc: 0.6602\n",
      "Fold 9, ACC = 0.6601941747572816\n",
      "Epoch 1/30\n",
      "44/44 [==============================] - 5s 52ms/step - loss: 1.2060 - acc: 0.4864 - val_loss: 0.6756 - val_acc: 0.6214\n",
      "Epoch 2/30\n",
      "44/44 [==============================] - 2s 36ms/step - loss: 0.6549 - acc: 0.6364 - val_loss: 0.5723 - val_acc: 0.7039\n",
      "Epoch 3/30\n",
      "44/44 [==============================] - 2s 36ms/step - loss: 0.5511 - acc: 0.7349 - val_loss: 0.5625 - val_acc: 0.7104\n",
      "Epoch 4/30\n",
      "44/44 [==============================] - 2s 36ms/step - loss: 0.5241 - acc: 0.7928 - val_loss: 0.7917 - val_acc: 0.7298\n",
      "Epoch 5/30\n",
      "44/44 [==============================] - 2s 36ms/step - loss: 0.4526 - acc: 0.8194 - val_loss: 1.2926 - val_acc: 0.7217\n",
      "Epoch 6/30\n",
      "44/44 [==============================] - 2s 36ms/step - loss: 0.4592 - acc: 0.8450 - val_loss: 0.9871 - val_acc: 0.7508\n",
      "Epoch 7/30\n",
      "44/44 [==============================] - 2s 36ms/step - loss: 0.3747 - acc: 0.8644 - val_loss: 1.1793 - val_acc: 0.6586\n",
      "Epoch 8/30\n",
      "44/44 [==============================] - 2s 36ms/step - loss: 0.4338 - acc: 0.8278 - val_loss: 1.4207 - val_acc: 0.7330\n",
      "Epoch 9/30\n",
      "44/44 [==============================] - 2s 36ms/step - loss: 0.3437 - acc: 0.8983 - val_loss: 1.5204 - val_acc: 0.7282\n",
      "Epoch 10/30\n",
      "44/44 [==============================] - 2s 36ms/step - loss: 0.2678 - acc: 0.9191 - val_loss: 1.6812 - val_acc: 0.7395\n",
      "Epoch 11/30\n",
      "44/44 [==============================] - 2s 36ms/step - loss: 0.2279 - acc: 0.9423 - val_loss: 2.1180 - val_acc: 0.7249\n",
      "Epoch 12/30\n",
      "44/44 [==============================] - 2s 36ms/step - loss: 0.2222 - acc: 0.9471 - val_loss: 2.3951 - val_acc: 0.7055\n",
      "Epoch 13/30\n",
      "44/44 [==============================] - 2s 36ms/step - loss: 0.3542 - acc: 0.9097 - val_loss: 1.8148 - val_acc: 0.7282\n",
      "Epoch 14/30\n",
      "44/44 [==============================] - 2s 36ms/step - loss: 0.1880 - acc: 0.9499 - val_loss: 2.3046 - val_acc: 0.7249\n",
      "Epoch 15/30\n",
      "44/44 [==============================] - 2s 36ms/step - loss: 0.1363 - acc: 0.9602 - val_loss: 2.4458 - val_acc: 0.7379\n",
      "Epoch 16/30\n",
      "44/44 [==============================] - 2s 36ms/step - loss: 0.1166 - acc: 0.9712 - val_loss: 2.7995 - val_acc: 0.7314\n",
      "Epoch 17/30\n",
      "44/44 [==============================] - 2s 36ms/step - loss: 0.1081 - acc: 0.9759 - val_loss: 2.7016 - val_acc: 0.7395\n",
      "Epoch 18/30\n",
      "44/44 [==============================] - 2s 36ms/step - loss: 0.1035 - acc: 0.9764 - val_loss: 2.9671 - val_acc: 0.7314\n",
      "Epoch 19/30\n",
      "44/44 [==============================] - 2s 36ms/step - loss: 0.0960 - acc: 0.9798 - val_loss: 3.1670 - val_acc: 0.7233\n",
      "Epoch 20/30\n",
      "44/44 [==============================] - 2s 37ms/step - loss: 0.0916 - acc: 0.9818 - val_loss: 3.0757 - val_acc: 0.7217\n",
      "Epoch 21/30\n",
      "44/44 [==============================] - 2s 36ms/step - loss: 0.0933 - acc: 0.9797 - val_loss: 3.1313 - val_acc: 0.7346\n",
      "Epoch 22/30\n",
      "44/44 [==============================] - 2s 36ms/step - loss: 0.1068 - acc: 0.9786 - val_loss: 3.0140 - val_acc: 0.7379\n",
      "Epoch 23/30\n",
      "44/44 [==============================] - 2s 36ms/step - loss: 0.0919 - acc: 0.9839 - val_loss: 3.1034 - val_acc: 0.7427\n",
      "Epoch 24/30\n",
      "44/44 [==============================] - 2s 36ms/step - loss: 0.0928 - acc: 0.9843 - val_loss: 3.1074 - val_acc: 0.7379\n",
      "Epoch 25/30\n",
      "44/44 [==============================] - 2s 36ms/step - loss: 0.1195 - acc: 0.9815 - val_loss: 3.1785 - val_acc: 0.7233\n",
      "Epoch 26/30\n",
      "44/44 [==============================] - 2s 36ms/step - loss: 0.2153 - acc: 0.9611 - val_loss: 2.5725 - val_acc: 0.7411\n",
      "Epoch 27/30\n",
      "44/44 [==============================] - 2s 37ms/step - loss: 0.1667 - acc: 0.9733 - val_loss: 2.5900 - val_acc: 0.7314\n",
      "Epoch 28/30\n",
      "44/44 [==============================] - 2s 35ms/step - loss: 0.2072 - acc: 0.9640 - val_loss: 2.6827 - val_acc: 0.7362\n",
      "Epoch 29/30\n",
      "44/44 [==============================] - 2s 35ms/step - loss: 0.1069 - acc: 0.9823 - val_loss: 2.6484 - val_acc: 0.7443\n",
      "Epoch 30/30\n",
      "44/44 [==============================] - 2s 36ms/step - loss: 0.0964 - acc: 0.9867 - val_loss: 2.7720 - val_acc: 0.7508\n",
      "Fold 10, ACC = 0.7508090614886731\n",
      "Cross Validation ACC = 0.7395616690454905\n"
     ]
    }
   ],
   "source": [
    "from sklearn.model_selection import KFold\n",
    "kf = KFold(n_splits=10, shuffle=True, random_state=42069)\n",
    "preds = []\n",
    "fold = 0\n",
    "aucs = 0\n",
    "for train_idx, val_idx in kf.split(X_train):\n",
    "    x_train_f, y_train_f = X_train[train_idx], y_train[train_idx]\n",
    "    x_val_f, y_val_f = X_train[val_idx], y_train[val_idx]\n",
    "    model = get_model()\n",
    "    model.fit(x_train_f, y_train_f, validation_data=(x_val_f, y_val_f),\n",
    "              batch_size=128, epochs=30,  callbacks=[early_stop], shuffle=False)\n",
    "\n",
    "    preds_val = model.predict([x_val_f], batch_size=128) #배치크기를 넣는 이유는? fit batch와 상관이 있는가?\n",
    "    preds.append(model.predict(X_test1))\n",
    "    fold+=1\n",
    "\n",
    "    acc = get_acc(preds_val, y_val_f)\n",
    "    aucs += acc\n",
    "    print('Fold {}, ACC = {}'.format(fold, acc))\n",
    "print(\"Cross Validation ACC = {}\".format(aucs/10))"
   ]
  },
  {
   "cell_type": "code",
   "execution_count": 125,
   "id": "27dd821a",
   "metadata": {},
   "outputs": [
    {
     "data": {
      "text/plain": [
       "<keras.engine.sequential.Sequential at 0x7fb8bce82fa0>"
      ]
     },
     "execution_count": 125,
     "metadata": {},
     "output_type": "execute_result"
    }
   ],
   "source": [
    "lstm"
   ]
  },
  {
   "cell_type": "code",
   "execution_count": null,
   "id": "6edb6580",
   "metadata": {},
   "outputs": [],
   "source": []
  },
  {
   "cell_type": "code",
   "execution_count": null,
   "id": "2e578d5f",
   "metadata": {},
   "outputs": [],
   "source": []
  },
  {
   "cell_type": "code",
   "execution_count": null,
   "id": "f1b98a2d",
   "metadata": {},
   "outputs": [],
   "source": []
  }
 ],
 "metadata": {
  "kernelspec": {
   "display_name": "Python 3",
   "language": "python",
   "name": "python3"
  },
  "language_info": {
   "codemirror_mode": {
    "name": "ipython",
    "version": 3
   },
   "file_extension": ".py",
   "mimetype": "text/x-python",
   "name": "python",
   "nbconvert_exporter": "python",
   "pygments_lexer": "ipython3",
   "version": "3.8.5"
  },
  "toc": {
   "base_numbering": 1,
   "nav_menu": {},
   "number_sections": true,
   "sideBar": true,
   "skip_h1_title": false,
   "title_cell": "Table of Contents",
   "title_sidebar": "Contents",
   "toc_cell": false,
   "toc_position": {
    "height": "calc(100% - 180px)",
    "left": "10px",
    "top": "150px",
    "width": "164.985px"
   },
   "toc_section_display": true,
   "toc_window_display": true
  }
 },
 "nbformat": 4,
 "nbformat_minor": 5
}
