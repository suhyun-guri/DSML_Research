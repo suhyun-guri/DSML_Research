{
 "cells": [
  {
   "cell_type": "code",
   "execution_count": 1,
   "id": "79e240dd",
   "metadata": {},
   "outputs": [
    {
     "name": "stdout",
     "output_type": "stream",
     "text": [
      "[PhysicalDevice(name='/physical_device:GPU:0', device_type='GPU'), PhysicalDevice(name='/physical_device:GPU:1', device_type='GPU')]\n"
     ]
    }
   ],
   "source": [
    "import numpy as np\n",
    "import os\n",
    "import pandas as pd\n",
    "\n",
    "import matplotlib.pyplot as plt\n",
    "from tqdm.notebook import tqdm\n",
    "import seaborn as sns\n",
    "\n",
    "import tensorflow as tf\n",
    "from tensorflow import keras\n",
    "\n",
    "from tensorflow.keras.models import Sequential\n",
    "from tensorflow.keras.layers import Dense, LSTM\n",
    "from tensorflow.keras.layers import SimpleRNN\n",
    "from tensorflow.keras.layers import Dropout, InputLayer, Activation\n",
    "from tensorflow.keras.callbacks import EarlyStopping\n",
    "from tensorflow.keras.regularizers import l2\n",
    "from tensorflow.keras.optimizers import Adam\n",
    "from tensorflow.keras.callbacks import ModelCheckpoint\n",
    "\n",
    "from sklearn.metrics import accuracy_score\n",
    "from sklearn.model_selection import train_test_split, StratifiedShuffleSplit\n",
    "\n",
    "import warnings\n",
    "warnings.filterwarnings(action='ignore')\n",
    "\n",
    "#한글설정\n",
    "import matplotlib.font_manager as fm\n",
    "\n",
    "font_dirs = ['/usr/share/fonts/truetype/nanum', ]\n",
    "font_files = fm.findSystemFonts(fontpaths=font_dirs)\n",
    "\n",
    "for font_file in font_files:\n",
    "    fm.fontManager.addfont(font_file)\n",
    "    \n",
    "# 한글 출력을 위해서 폰트 옵션을 설정합니다.\n",
    "# \"axes.unicode_minus\" : 마이너스가 깨질 것을 방지\n",
    "\n",
    "sns.set(font=\"NanumBarunGothic\",\n",
    "        rc={\"axes.unicode_minus\":False},\n",
    "        style='darkgrid')\n",
    "\n",
    "#GPU 사용 설정, -1이면 CPU 사용\n",
    "# os.environ[\"CUDA_VISIBLE_DEVICES\"] = \"0, 1\"\n",
    "\n",
    "gpus = tf.config.experimental.list_physical_devices('GPU')\n",
    "print(gpus)\n",
    "if gpus:\n",
    "    try:\n",
    "        for i in range(len(gpus)):\n",
    "            tf.config.experimental.set_memory_growth(gpus[i], True)\n",
    "    except RuntimeError as e:\n",
    "        # 프로그램 시작시에 메모리 증가가 설정되어야만 합니다\n",
    "        print(e)"
   ]
  },
  {
   "cell_type": "markdown",
   "id": "4ead600b",
   "metadata": {},
   "source": [
    "## 결과 2) method1_entropy\n",
    "\n",
    "- **LSH ⇒ 최종 모델 정리 (val_acc, crossvalidation)**\n",
    "- method1_entropy에 대한 정성적 비교..\n",
    "- method1_entropy : ( E(0to1) - E(1to0) ) * entropy\n",
    "- top10에 대해서 조사한 내용 표로 만들기\n",
    "\n",
    "**A4용지 절반 나눠서 위에 사망_표, 사망_absum / 생존_표, 생존_absum 제시**\n",
    "\n",
    "- **guri, kelly ⇒ 표 내용, 스토리텔링**\n",
    "- PRE, PRO, LAB 나눌 수는 있지만.. 복잡함 (합치는 게 나을 듯)\n",
    "- 사망marker, 생존marker에 대한 top5를 각각 고르는 방안 고려...\n",
    "\n",
    "**absum 그래프 그림**"
   ]
  },
  {
   "cell_type": "markdown",
   "id": "a08875e9",
   "metadata": {},
   "source": [
    "# Method1 - all fit 사용 + lambda\n",
    "일관성, 방향성 고려한 feature 탐지 <br>\n",
    "**goal : 사망/생존 마커 탐지** <br>\n",
    "- Score 계산 식\n",
    "\n",
    "  - <div> $Score = {E(0to1) - E(1to0)} * Entropy^{ λ}$ </div>\n",
    "\n",
    "- $E(0to1), E(1to0)$\n",
    "  1. X의 각 feature의 값(4068개)을 모두 1, 0로 바꾸어 예측\n",
    "  2. 예측값 리스트의 평균값 계산\n",
    "  3. 1로 바꾼 E(0to1)에서 0으로 바꾼 E(0to1)을 뺀다.\n",
    "  \n",
    "- `Entropy([proportion of 1, proportion of 0])^{λ}` 를 곱해준다.\n",
    "  - λ (0 or 1) 적용 (0이면 entropy X, 1이면 entropy O)"
   ]
  },
  {
   "cell_type": "code",
   "execution_count": 12,
   "id": "38743689",
   "metadata": {},
   "outputs": [],
   "source": [
    "path = '/project/LSH/'\n",
    "model_path = path + 'model/allfit_ep500/allfit_ep500_seed42-17-0.7619.hdf5'"
   ]
  },
  {
   "cell_type": "code",
   "execution_count": 9,
   "id": "5ac09112",
   "metadata": {},
   "outputs": [],
   "source": [
    "COLS = list(pd.read_csv(path + 'total_data_7727.csv')['ITEMID'].sort_values().unique())\n",
    "x = np.load(path + 'x_(7727,10,4068).npy')\n",
    "y = np.load(path + 'y_(7727,1).npy')"
   ]
  },
  {
   "cell_type": "code",
   "execution_count": 10,
   "id": "04196609",
   "metadata": {},
   "outputs": [
    {
     "data": {
      "application/vnd.jupyter.widget-view+json": {
       "model_id": "f0a26a5fb3f841a4b6a74170fda78c6c",
       "version_major": 2,
       "version_minor": 0
      },
      "text/plain": [
       "  0%|          | 0/4068 [00:00<?, ?it/s]"
      ]
     },
     "metadata": {},
     "output_type": "display_data"
    }
   ],
   "source": [
    "def entropy(ratio_list):\n",
    "    one_ratio, zero_ratio = ratio_list[0], ratio_list[1] \n",
    "    return - ((one_ratio * (np.log2(one_ratio))) + (zero_ratio * (np.log2(zero_ratio))))\n",
    "\n",
    "X = np.load('/project/LSH/x_(7727,10,4068).npy')\n",
    "\n",
    "entropy_dict = {}\n",
    "for i in tqdm(range(len(COLS))):\n",
    "    one_ratio = X[:,:,i].sum() / (X.shape[0]*X.shape[1])\n",
    "    zero_ratio = 1 - one_ratio\n",
    "    entropy_num = entropy([one_ratio, zero_ratio])\n",
    "    entropy_dict[COLS[i]] = entropy_num"
   ]
  },
  {
   "cell_type": "code",
   "execution_count": null,
   "id": "ff05a7f7",
   "metadata": {},
   "outputs": [
    {
     "name": "stdout",
     "output_type": "stream",
     "text": [
      "WARNING:tensorflow:Layer lstm_12 will not use cuDNN kernels since it doesn't meet the criteria. It will use a generic GPU kernel as fallback when running on GPU.\n",
      "WARNING:tensorflow:Layer lstm_13 will not use cuDNN kernels since it doesn't meet the criteria. It will use a generic GPU kernel as fallback when running on GPU.\n",
      "WARNING:tensorflow:Layer lstm_14 will not use cuDNN kernels since it doesn't meet the criteria. It will use a generic GPU kernel as fallback when running on GPU.\n",
      "WARNING:tensorflow:Layer lstm_15 will not use cuDNN kernels since it doesn't meet the criteria. It will use a generic GPU kernel as fallback when running on GPU.\n"
     ]
    },
    {
     "data": {
      "application/vnd.jupyter.widget-view+json": {
       "model_id": "9819e27cb1384ceba2f3308bab8b6b3c",
       "version_major": 2,
       "version_minor": 0
      },
      "text/plain": [
       "  0%|          | 0/4068 [00:00<?, ?it/s]"
      ]
     },
     "metadata": {},
     "output_type": "display_data"
    }
   ],
   "source": [
    "with tf.device('/device:GPU:1'): \n",
    "    model = tf.keras.models.load_model(model_path)\n",
    "    result = []\n",
    "    for i in tqdm(range(X.shape[2])):\n",
    "        save_cols = X[:,:,i].copy()\n",
    "        #-----zero2one-----\n",
    "        X[:,:,i] = 1\n",
    "        pred1 = model.predict(X, batch_size=10000, workers=-1, use_multiprocessing=True)\n",
    "        mean_pred1 = np.mean(pred1)\n",
    "        #-----one2zero-----\n",
    "        X[:,:,i] = 0\n",
    "        pred2 = model.predict(X, batch_size=10000, workers=-1, use_multiprocessing=True)\n",
    "        mean_pred2 = np.mean(pred2)\n",
    "\n",
    "        result.append({'feature' : str(COLS[i]), 'zero2one' : mean_pred1, 'one2zero' : mean_pred2,\n",
    "                       'lambda0' : mean_pred1 - mean_pred2, 'lambda1' : (mean_pred1 - mean_pred2) * entropy_dict[COLS[i]]})\n",
    "        #값 복원\n",
    "        X[:,:,i] = save_cols"
   ]
  },
  {
   "cell_type": "code",
   "execution_count": null,
   "id": "edf9560f",
   "metadata": {},
   "outputs": [],
   "source": [
    "df = pd.DataFrame(result)\n",
    "df.to_csv('./Result2,3.csv', index=False)\n",
    "df.sort_values('lambda1', ascending=False)"
   ]
  },
  {
   "cell_type": "code",
   "execution_count": null,
   "id": "563e4234",
   "metadata": {},
   "outputs": [],
   "source": []
  },
  {
   "cell_type": "code",
   "execution_count": null,
   "id": "4a5ecce8",
   "metadata": {},
   "outputs": [],
   "source": []
  }
 ],
 "metadata": {
  "kernelspec": {
   "display_name": "Python 3",
   "language": "python",
   "name": "python3"
  },
  "language_info": {
   "codemirror_mode": {
    "name": "ipython",
    "version": 3
   },
   "file_extension": ".py",
   "mimetype": "text/x-python",
   "name": "python",
   "nbconvert_exporter": "python",
   "pygments_lexer": "ipython3",
   "version": "3.8.10"
  },
  "toc": {
   "base_numbering": 1,
   "nav_menu": {},
   "number_sections": true,
   "sideBar": true,
   "skip_h1_title": false,
   "title_cell": "Table of Contents",
   "title_sidebar": "Contents",
   "toc_cell": false,
   "toc_position": {},
   "toc_section_display": true,
   "toc_window_display": false
  }
 },
 "nbformat": 4,
 "nbformat_minor": 5
}
