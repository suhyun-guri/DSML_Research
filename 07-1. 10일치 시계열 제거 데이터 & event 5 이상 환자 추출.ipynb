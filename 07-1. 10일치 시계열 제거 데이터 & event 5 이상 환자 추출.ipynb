{
 "cells": [
  {
   "cell_type": "markdown",
   "id": "f3716ed0",
   "metadata": {},
   "source": [
    "- **목표 : 10일치 데이터로 시계열 제거하고 2차원 데이터 생성하여 LSTM 적용**"
   ]
  },
  {
   "cell_type": "markdown",
   "id": "b4ddc63c",
   "metadata": {},
   "source": [
    "# 데이터 가공"
   ]
  },
  {
   "cell_type": "code",
   "execution_count": 1,
   "id": "fd9233bd",
   "metadata": {},
   "outputs": [],
   "source": [
    "import pandas as pd\n",
    "import numpy as np\n",
    "\n",
    "import warnings\n",
    "warnings.filterwarnings(action='ignore')\n",
    "import matplotlib.pyplot as plt\n"
   ]
  },
  {
   "cell_type": "code",
   "execution_count": 2,
   "id": "403abe15",
   "metadata": {},
   "outputs": [],
   "source": [
    "# load\n",
    "arr = np.load(\"./data/3d_array2.npy\")\n",
    "label = np.load(\"./data/3d_array_label.npy\")"
   ]
  },
  {
   "cell_type": "code",
   "execution_count": 3,
   "id": "624435a1",
   "metadata": {},
   "outputs": [
    {
     "data": {
      "text/plain": [
       "[0, 0, 0, 0, 0, 11, 16, 9, 8, 17]"
      ]
     },
     "execution_count": 3,
     "metadata": {},
     "output_type": "execute_result"
    }
   ],
   "source": [
    "[int(i) for i in arr[0,:,:].sum(axis=1)]"
   ]
  },
  {
   "cell_type": "code",
   "execution_count": 4,
   "id": "de44f53c",
   "metadata": {},
   "outputs": [
    {
     "data": {
      "text/plain": [
       "7799"
      ]
     },
     "execution_count": 4,
     "metadata": {},
     "output_type": "execute_result"
    }
   ],
   "source": [
    "len(arr)"
   ]
  },
  {
   "cell_type": "code",
   "execution_count": 5,
   "id": "5e97d284",
   "metadata": {},
   "outputs": [],
   "source": [
    "arr_2d = []\n",
    "for i in range(len(arr)):\n",
    "    for k in arr[i,:,:].sum(axis=1):\n",
    "        if k>0:\n",
    "            k=1\n",
    "        arr_2d.append(k)\n",
    "arr_2d = np.array(arr_2d)"
   ]
  },
  {
   "cell_type": "code",
   "execution_count": 6,
   "id": "3813d3f7",
   "metadata": {},
   "outputs": [
    {
     "data": {
      "text/plain": [
       "77990"
      ]
     },
     "execution_count": 6,
     "metadata": {},
     "output_type": "execute_result"
    }
   ],
   "source": [
    "len(arr_2d)"
   ]
  },
  {
   "cell_type": "code",
   "execution_count": 7,
   "id": "94d6f9d4",
   "metadata": {},
   "outputs": [],
   "source": [
    "arr_2d = arr_2d.reshape(-1,10)"
   ]
  },
  {
   "cell_type": "code",
   "execution_count": 8,
   "id": "b4e5066c",
   "metadata": {},
   "outputs": [
    {
     "data": {
      "text/plain": [
       "array([[0., 0., 0., ..., 1., 1., 1.],\n",
       "       [0., 1., 1., ..., 1., 1., 0.],\n",
       "       [0., 0., 1., ..., 1., 1., 1.],\n",
       "       ...,\n",
       "       [0., 1., 1., ..., 1., 1., 1.],\n",
       "       [0., 0., 0., ..., 1., 1., 1.],\n",
       "       [1., 1., 1., ..., 1., 1., 1.]])"
      ]
     },
     "execution_count": 8,
     "metadata": {},
     "output_type": "execute_result"
    }
   ],
   "source": [
    "arr_2d"
   ]
  },
  {
   "cell_type": "code",
   "execution_count": 9,
   "id": "4d3bf488",
   "metadata": {},
   "outputs": [
    {
     "data": {
      "text/plain": [
       "(7799, 10)"
      ]
     },
     "execution_count": 9,
     "metadata": {},
     "output_type": "execute_result"
    }
   ],
   "source": [
    "arr_2d.shape"
   ]
  },
  {
   "cell_type": "code",
   "execution_count": 13,
   "id": "b2970778",
   "metadata": {},
   "outputs": [],
   "source": [
    "# save\n",
    "np.save(\"./data/arr_2d.npy\", arr_2d)\n",
    "# load\n",
    "yyy = np.load(\"./data/arr_2d.npy\")"
   ]
  },
  {
   "cell_type": "code",
   "execution_count": 14,
   "id": "be24d86b",
   "metadata": {},
   "outputs": [
    {
     "data": {
      "text/plain": [
       "(7799, 10)"
      ]
     },
     "execution_count": 14,
     "metadata": {},
     "output_type": "execute_result"
    }
   ],
   "source": [
    "yyy.shape"
   ]
  },
  {
   "cell_type": "code",
   "execution_count": 12,
   "id": "565d56be",
   "metadata": {},
   "outputs": [
    {
     "data": {
      "text/plain": [
       "5459.299999999999"
      ]
     },
     "execution_count": 12,
     "metadata": {},
     "output_type": "execute_result"
    }
   ],
   "source": [
    "len(arr_2d)*0.7"
   ]
  },
  {
   "cell_type": "code",
   "execution_count": 25,
   "id": "9936ee95",
   "metadata": {},
   "outputs": [
    {
     "data": {
      "text/plain": [
       "(5460, 10)"
      ]
     },
     "execution_count": 25,
     "metadata": {},
     "output_type": "execute_result"
    }
   ],
   "source": [
    "arr_2d[:5460,:].shape"
   ]
  },
  {
   "cell_type": "markdown",
   "id": "b1a3e639",
   "metadata": {},
   "source": [
    "# 모델적용"
   ]
  },
  {
   "cell_type": "code",
   "execution_count": 26,
   "id": "f9c15287",
   "metadata": {},
   "outputs": [],
   "source": [
    "# 5460 기준으로 나눔\n",
    "i = 5460\n",
    "x_train = arr_2d[:i,:]\n",
    "y_train = label[:i]\n",
    "x_test = arr_2d[i:,:]\n",
    "y_test = label[i:]"
   ]
  },
  {
   "cell_type": "code",
   "execution_count": 27,
   "id": "11f1af10",
   "metadata": {},
   "outputs": [],
   "source": [
    "from keras.models import Sequential\n",
    "from keras.layers import Dense, Dropout, Activation"
   ]
  },
  {
   "cell_type": "code",
   "execution_count": 28,
   "id": "2fd5804c",
   "metadata": {},
   "outputs": [
    {
     "data": {
      "text/plain": [
       "((5460, 10), (5460, 1), (2339, 10), (2339, 1))"
      ]
     },
     "execution_count": 28,
     "metadata": {},
     "output_type": "execute_result"
    }
   ],
   "source": [
    "x_train.shape, y_train.shape, x_test.shape, y_test.shape"
   ]
  },
  {
   "cell_type": "code",
   "execution_count": 15,
   "id": "ee6c96bf",
   "metadata": {
    "scrolled": true
   },
   "outputs": [],
   "source": [
    "# model = Sequential()\n",
    "\n",
    "# #첫 번째 Layer\n",
    "# model.add(Dense(256, input_dim=10, activation='sigmoid')) \n",
    "# # model.add(Dropout(0.3))\n",
    "\n",
    "# # 두 번째 Layer (Hidden layer 1) \n",
    "# # 두 번째 Layer부터는 output_dim만 설정하면 된다 \n",
    "# # input_dim은 이전 레이어의 output_dim과 같다고 가정함 \n",
    "# # model.add(Dense(256, activation='relu')) \n",
    "# # model.add(Dropout(0.3))\n",
    "\n",
    "# # 세 번째 Layer (Hidden layer 2) \n",
    "# # model.add(Dense(256, activation='relu')) \n",
    "# # model.add(Dropout(0.3)) \n",
    "\n",
    "# # 네 번째 Layer (Hidden layer 3) \n",
    "# # model.add(Dense(256, activation='relu')) \n",
    "# # model.add(Dropout(0.3)) \n",
    "\n",
    "# # 다섯 번째 Layer (Output layer) \n",
    "# # Output layer는 softmax activation function \n",
    "\n",
    "# model.add(Dense(1, activation='sigmoid'))\n",
    "# model.summary()"
   ]
  },
  {
   "cell_type": "code",
   "execution_count": null,
   "id": "b81e663b",
   "metadata": {},
   "outputs": [],
   "source": []
  },
  {
   "cell_type": "code",
   "execution_count": 29,
   "id": "2be21995",
   "metadata": {},
   "outputs": [],
   "source": [
    "model = Sequential()\n",
    "model.add(Dense(256, input_dim=10, activation='relu'))\n",
    "model.add(Dense(units=1, activation='sigmoid'))"
   ]
  },
  {
   "cell_type": "code",
   "execution_count": 30,
   "id": "94dbcd13",
   "metadata": {
    "scrolled": true
   },
   "outputs": [
    {
     "name": "stdout",
     "output_type": "stream",
     "text": [
      "Epoch 1/200\n",
      "32/32 [==============================] - 8s 8ms/step - loss: 0.6799 - acc: 0.5373 - val_loss: 0.7321 - val_acc: 0.5861\n",
      "Epoch 2/200\n",
      "32/32 [==============================] - 0s 1ms/step - loss: 0.6052 - acc: 0.7041 - val_loss: 0.7136 - val_acc: 0.5861\n",
      "Epoch 3/200\n",
      "32/32 [==============================] - 0s 1ms/step - loss: 0.6113 - acc: 0.6950 - val_loss: 0.7151 - val_acc: 0.5861\n",
      "Epoch 4/200\n",
      "32/32 [==============================] - 0s 1ms/step - loss: 0.6173 - acc: 0.6861 - val_loss: 0.7303 - val_acc: 0.5861\n",
      "Epoch 5/200\n",
      "32/32 [==============================] - 0s 1ms/step - loss: 0.6016 - acc: 0.7037 - val_loss: 0.7101 - val_acc: 0.5861\n",
      "Epoch 6/200\n",
      "32/32 [==============================] - 0s 1ms/step - loss: 0.6022 - acc: 0.7038 - val_loss: 0.7048 - val_acc: 0.5861\n",
      "Epoch 7/200\n",
      "32/32 [==============================] - 0s 1ms/step - loss: 0.6008 - acc: 0.7051 - val_loss: 0.7106 - val_acc: 0.5861\n",
      "Epoch 8/200\n",
      "32/32 [==============================] - 0s 1ms/step - loss: 0.6030 - acc: 0.7022 - val_loss: 0.7030 - val_acc: 0.5853\n",
      "Epoch 9/200\n",
      "32/32 [==============================] - 0s 1ms/step - loss: 0.5962 - acc: 0.7099 - val_loss: 0.7228 - val_acc: 0.5853\n",
      "Epoch 10/200\n",
      "32/32 [==============================] - 0s 1ms/step - loss: 0.6029 - acc: 0.7007 - val_loss: 0.7127 - val_acc: 0.5861\n",
      "Epoch 11/200\n",
      "32/32 [==============================] - 0s 1ms/step - loss: 0.6020 - acc: 0.7020 - val_loss: 0.7018 - val_acc: 0.5861\n",
      "Epoch 12/200\n",
      "32/32 [==============================] - 0s 1ms/step - loss: 0.5933 - acc: 0.7144 - val_loss: 0.7011 - val_acc: 0.5861\n",
      "Epoch 13/200\n",
      "32/32 [==============================] - 0s 1ms/step - loss: 0.6052 - acc: 0.6953 - val_loss: 0.7064 - val_acc: 0.5853\n",
      "Epoch 14/200\n",
      "32/32 [==============================] - 0s 1ms/step - loss: 0.6054 - acc: 0.7005 - val_loss: 0.7056 - val_acc: 0.5861\n",
      "Epoch 15/200\n",
      "32/32 [==============================] - 0s 1ms/step - loss: 0.6001 - acc: 0.7037 - val_loss: 0.7262 - val_acc: 0.5861\n",
      "Epoch 16/200\n",
      "32/32 [==============================] - 0s 1ms/step - loss: 0.6155 - acc: 0.6859 - val_loss: 0.7283 - val_acc: 0.5861\n",
      "Epoch 17/200\n",
      "32/32 [==============================] - 0s 1ms/step - loss: 0.5937 - acc: 0.7084 - val_loss: 0.7071 - val_acc: 0.5868\n",
      "Epoch 00017: early stopping\n"
     ]
    }
   ],
   "source": [
    "from keras.callbacks import EarlyStopping\n",
    "\n",
    "model.compile(loss='binary_crossentropy', optimizer='adam', metrics=['acc'])\n",
    "early_stop = EarlyStopping(monitor='val_loss', patience=5, verbose=1)\n",
    "history = model.fit(x_train, y_train, validation_split=0.25, batch_size=128, epochs=200,  callbacks=[early_stop])"
   ]
  },
  {
   "cell_type": "code",
   "execution_count": 31,
   "id": "97b9dccc",
   "metadata": {
    "scrolled": true
   },
   "outputs": [
    {
     "data": {
      "image/png": "[encoded data removed]",
      "text/plain": [
       "<Figure size 432x288 with 1 Axes>"
      ]
     },
     "metadata": {
      "needs_background": "light"
     },
     "output_type": "display_data"
    }
   ],
   "source": [
    "plt.plot(history.history['loss'])\n",
    "plt.plot(history.history['val_loss'])\n",
    "plt.title('Model loss')\n",
    "plt.ylabel('loss')\n",
    "plt.xlabel('Epoch')\n",
    "plt.legend(['Train', 'Validation'], loc='upper left')\n",
    "plt.show()"
   ]
  },
  {
   "cell_type": "code",
   "execution_count": 32,
   "id": "100d7f29",
   "metadata": {},
   "outputs": [
    {
     "data": {
      "image/png": "[encoded data removed]",
      "text/plain": [
       "<Figure size 432x288 with 1 Axes>"
      ]
     },
     "metadata": {
      "needs_background": "light"
     },
     "output_type": "display_data"
    }
   ],
   "source": [
    "plt.plot(history.history['acc'])\n",
    "plt.plot(history.history['val_acc'])\n",
    "plt.title('Model acc')\n",
    "plt.ylabel('acc')\n",
    "plt.xlabel('Epoch')\n",
    "plt.legend(['Train', 'Validation'], loc='upper left')\n",
    "plt.show()"
   ]
  },
  {
   "cell_type": "code",
   "execution_count": 33,
   "id": "bd3ab0bf",
   "metadata": {},
   "outputs": [],
   "source": [
    "pred = model.predict(x_test)\n",
    "pred[pred>0.5]=1\n",
    "pred[pred<=0.5]=0"
   ]
  },
  {
   "cell_type": "code",
   "execution_count": 34,
   "id": "33aa080a",
   "metadata": {},
   "outputs": [
    {
     "data": {
      "text/plain": [
       "(2339, 1)"
      ]
     },
     "execution_count": 34,
     "metadata": {},
     "output_type": "execute_result"
    }
   ],
   "source": [
    "y_test.shape"
   ]
  },
  {
   "cell_type": "code",
   "execution_count": 35,
   "id": "30d61155",
   "metadata": {},
   "outputs": [
    {
     "name": "stdout",
     "output_type": "stream",
     "text": [
      "정확도 : 0.4762719110731082\n"
     ]
    }
   ],
   "source": [
    "from sklearn import metrics \n",
    "print('정확도 :', metrics.accuracy_score(y_test, pred))"
   ]
  },
  {
   "cell_type": "code",
   "execution_count": null,
   "id": "c66d0789",
   "metadata": {},
   "outputs": [],
   "source": []
  },
  {
   "cell_type": "code",
   "execution_count": 36,
   "id": "61620d68",
   "metadata": {},
   "outputs": [
    {
     "name": "stdout",
     "output_type": "stream",
     "text": [
      "Model: \"sequential_1\"\n",
      "_________________________________________________________________\n",
      "Layer (type)                 Output Shape              Param #   \n",
      "=================================================================\n",
      "dense_2 (Dense)              (None, 256)               2816      \n",
      "_________________________________________________________________\n",
      "dense_3 (Dense)              (None, 50)                12850     \n",
      "_________________________________________________________________\n",
      "dense_4 (Dense)              (None, 1)                 51        \n",
      "=================================================================\n",
      "Total params: 15,717\n",
      "Trainable params: 15,717\n",
      "Non-trainable params: 0\n",
      "_________________________________________________________________\n",
      "None\n"
     ]
    }
   ],
   "source": [
    "from keras.regularizers import l2\n",
    "lstm = Sequential()\n",
    "lstm.add(Dense(256, activation='tanh', input_dim=10))\n",
    "lstm.add(Dense(50, activation='tanh'))\n",
    "lstm.add(Dense(1, activation='sigmoid'))\n",
    "print(lstm.summary())"
   ]
  },
  {
   "cell_type": "code",
   "execution_count": 37,
   "id": "a05079e2",
   "metadata": {},
   "outputs": [
    {
     "name": "stdout",
     "output_type": "stream",
     "text": [
      "Epoch 1/200\n",
      "32/32 [==============================] - 1s 5ms/step - loss: 0.6345 - acc: 0.6705 - val_loss: 0.6986 - val_acc: 0.5861\n",
      "Epoch 2/200\n",
      "32/32 [==============================] - 0s 1ms/step - loss: 0.6168 - acc: 0.6912 - val_loss: 0.7320 - val_acc: 0.5861\n",
      "Epoch 3/200\n",
      "32/32 [==============================] - 0s 1ms/step - loss: 0.6249 - acc: 0.6873 - val_loss: 0.7214 - val_acc: 0.5861\n",
      "Epoch 4/200\n",
      "32/32 [==============================] - 0s 1ms/step - loss: 0.5949 - acc: 0.7151 - val_loss: 0.6860 - val_acc: 0.5817\n",
      "Epoch 5/200\n",
      "32/32 [==============================] - 0s 1ms/step - loss: 0.6114 - acc: 0.7029 - val_loss: 0.7273 - val_acc: 0.5861\n",
      "Epoch 6/200\n",
      "32/32 [==============================] - 0s 1ms/step - loss: 0.6093 - acc: 0.6984 - val_loss: 0.7328 - val_acc: 0.5861\n",
      "Epoch 7/200\n",
      "32/32 [==============================] - 0s 1ms/step - loss: 0.6169 - acc: 0.6897 - val_loss: 0.7045 - val_acc: 0.5875\n",
      "Epoch 8/200\n",
      "32/32 [==============================] - 0s 2ms/step - loss: 0.6206 - acc: 0.6880 - val_loss: 0.7640 - val_acc: 0.5861\n",
      "Epoch 9/200\n",
      "32/32 [==============================] - 0s 2ms/step - loss: 0.6169 - acc: 0.6981 - val_loss: 0.7117 - val_acc: 0.5868\n",
      "Epoch 00009: early stopping\n"
     ]
    }
   ],
   "source": [
    "from keras.callbacks import EarlyStopping\n",
    "\n",
    "lstm.compile(loss='binary_crossentropy', optimizer='adam', metrics=['acc'])\n",
    "early_stop = EarlyStopping(monitor='val_loss', patience=5, verbose=1)\n",
    "history = lstm.fit(x_train, y_train, validation_split=0.25, batch_size=128, epochs=200,  callbacks=[early_stop])"
   ]
  },
  {
   "cell_type": "code",
   "execution_count": 38,
   "id": "05e560ab",
   "metadata": {
    "scrolled": true
   },
   "outputs": [
    {
     "data": {
      "image/png": "[encoded data removed]",
      "text/plain": [
       "<Figure size 432x288 with 1 Axes>"
      ]
     },
     "metadata": {
      "needs_background": "light"
     },
     "output_type": "display_data"
    }
   ],
   "source": [
    "plt.plot(history.history['loss'])\n",
    "plt.plot(history.history['val_loss'])\n",
    "plt.title('Model loss')\n",
    "plt.ylabel('loss')\n",
    "plt.xlabel('Epoch')\n",
    "plt.legend(['Train', 'Validation'], loc='upper left')\n",
    "plt.show()"
   ]
  },
  {
   "cell_type": "code",
   "execution_count": 39,
   "id": "212400e1",
   "metadata": {},
   "outputs": [
    {
     "data": {
      "image/png": "[encoded data removed]",
      "text/plain": [
       "<Figure size 432x288 with 1 Axes>"
      ]
     },
     "metadata": {
      "needs_background": "light"
     },
     "output_type": "display_data"
    }
   ],
   "source": [
    "plt.plot(history.history['acc'])\n",
    "plt.plot(history.history['val_acc'])\n",
    "plt.title('Model acc')\n",
    "plt.ylabel('acc')\n",
    "plt.xlabel('Epoch')\n",
    "plt.legend(['Train', 'Validation'], loc='upper left')\n",
    "plt.show()"
   ]
  },
  {
   "cell_type": "code",
   "execution_count": null,
   "id": "51ac5a9b",
   "metadata": {},
   "outputs": [],
   "source": []
  },
  {
   "cell_type": "markdown",
   "id": "b419f694",
   "metadata": {},
   "source": [
    "# sum 5인 환자 subject_id 추출"
   ]
  },
  {
   "cell_type": "code",
   "execution_count": 9,
   "id": "e4d0f314",
   "metadata": {},
   "outputs": [
    {
     "data": {
      "text/plain": [
       "0        5.0\n",
       "1        8.0\n",
       "2        8.0\n",
       "3        9.0\n",
       "4        5.0\n",
       "        ... \n",
       "7794     9.0\n",
       "7795     5.0\n",
       "7796     9.0\n",
       "7797     5.0\n",
       "7798    10.0\n",
       "Length: 7799, dtype: float64"
      ]
     },
     "execution_count": 9,
     "metadata": {},
     "output_type": "execute_result"
    },
    {
     "data": {
      "image/png": "[encoded data removed]",
      "text/plain": [
       "<Figure size 432x288 with 1 Axes>"
      ]
     },
     "metadata": {
      "needs_background": "light"
     },
     "output_type": "display_data"
    }
   ],
   "source": [
    "import matplotlib.pyplot as plt\n",
    "import seaborn as sns\n",
    "sns.countplot(pd.DataFrame(arr_2d).sum(axis=1))\n",
    "pd.DataFrame(arr_2d).sum(axis=1)"
   ]
  },
  {
   "cell_type": "code",
   "execution_count": 10,
   "id": "0691c90b",
   "metadata": {},
   "outputs": [
    {
     "data": {
      "text/plain": [
       "10.0    2673\n",
       "9.0      881\n",
       "8.0      702\n",
       "6.0      681\n",
       "7.0      606\n",
       "5.0      566\n",
       "4.0      563\n",
       "3.0      448\n",
       "2.0      314\n",
       "1.0      262\n",
       "0.0      103\n",
       "dtype: int64"
      ]
     },
     "execution_count": 10,
     "metadata": {},
     "output_type": "execute_result"
    }
   ],
   "source": [
    "pd.DataFrame(arr_2d).sum(axis=1).value_counts()"
   ]
  },
  {
   "cell_type": "code",
   "execution_count": 27,
   "id": "b2617240",
   "metadata": {},
   "outputs": [
    {
     "data": {
      "text/plain": [
       "Int64Index([   0,    1,    2,    3,    4,    5,    6,    7,    8,    9,\n",
       "            ...\n",
       "            7789, 7790, 7791, 7792, 7793, 7794, 7795, 7796, 7797, 7798],\n",
       "           dtype='int64', length=6109)"
      ]
     },
     "execution_count": 27,
     "metadata": {},
     "output_type": "execute_result"
    }
   ],
   "source": [
    "df = pd.DataFrame(arr_2d)\n",
    "df[df.sum(axis=1)>=5].index"
   ]
  },
  {
   "cell_type": "code",
   "execution_count": 18,
   "id": "e24effa6",
   "metadata": {},
   "outputs": [
    {
     "data": {
      "text/plain": [
       "array([[0., 0., 0., ..., 1., 1., 1.],\n",
       "       [0., 1., 1., ..., 1., 1., 0.],\n",
       "       [0., 0., 1., ..., 1., 1., 1.],\n",
       "       ...,\n",
       "       [0., 1., 1., ..., 1., 1., 1.],\n",
       "       [0., 0., 0., ..., 1., 1., 1.],\n",
       "       [1., 1., 1., ..., 1., 1., 1.]])"
      ]
     },
     "execution_count": 18,
     "metadata": {},
     "output_type": "execute_result"
    }
   ],
   "source": [
    "arr_2d[arr_2d.sum(axis=1)>=5]"
   ]
  },
  {
   "cell_type": "code",
   "execution_count": 28,
   "id": "4a1dbf50",
   "metadata": {},
   "outputs": [],
   "source": [
    "환자lab = pd.read_csv('/project/data/폐렴환자lab.csv')"
   ]
  },
  {
   "cell_type": "code",
   "execution_count": 31,
   "id": "db7d42fc",
   "metadata": {},
   "outputs": [],
   "source": [
    "df['환자'] = 환자lab['SUBJECT_ID'].unique()"
   ]
  },
  {
   "cell_type": "code",
   "execution_count": 40,
   "id": "a61964c8",
   "metadata": {},
   "outputs": [
    {
     "data": {
      "text/plain": [
       "[9,\n",
       " 21,\n",
       " 36,\n",
       " 31,\n",
       " 41,\n",
       " 37,\n",
       " 68,\n",
       " 94,\n",
       " 85,\n",
       " 109,\n",
       " 117,\n",
       " 124,\n",
       " 99096,\n",
       " 148,\n",
       " 156,\n",
       " 157,\n",
       " 175,\n",
       " 166,\n",
       " 177,\n",
       " 188,\n",
       " 184,\n",
       " 186,\n",
       " 191,\n",
       " 211,\n",
       " 203,\n",
       " 208,\n",
       " 214,\n",
       " 224,\n",
       " 242,\n",
       " 248,\n",
       " 252,\n",
       " 253,\n",
       " 269,\n",
       " 268,\n",
       " 274,\n",
       " 305,\n",
       " 290,\n",
       " 286,\n",
       " 308,\n",
       " 303,\n",
       " 328,\n",
       " 330,\n",
       " 346,\n",
       " 356,\n",
       " 357,\n",
       " 368,\n",
       " 360,\n",
       " 370,\n",
       " 404,\n",
       " 412,\n",
       " 423,\n",
       " 426,\n",
       " 434,\n",
       " 450,\n",
       " 452,\n",
       " 453,\n",
       " 482,\n",
       " 497,\n",
       " 481,\n",
       " 505,\n",
       " 508,\n",
       " 509,\n",
       " 514,\n",
       " 530,\n",
       " 536,\n",
       " 538,\n",
       " 565,\n",
       " 571,\n",
       " 550,\n",
       " 586,\n",
       " 580,\n",
       " 592,\n",
       " 605,\n",
       " 618,\n",
       " 596,\n",
       " 627,\n",
       " 634,\n",
       " 638,\n",
       " 654,\n",
       " 670,\n",
       " 665,\n",
       " 688,\n",
       " 676,\n",
       " 698,\n",
       " 695,\n",
       " 719,\n",
       " 720,\n",
       " 711,\n",
       " 726,\n",
       " 731,\n",
       " 745,\n",
       " 740,\n",
       " 738,\n",
       " 784,\n",
       " 798,\n",
       " 801,\n",
       " 803,\n",
       " 808,\n",
       " 818,\n",
       " 813,\n",
       " 824,\n",
       " 827,\n",
       " 834,\n",
       " 819,\n",
       " 851,\n",
       " 870,\n",
       " 863,\n",
       " 874,\n",
       " 878,\n",
       " 897,\n",
       " 906,\n",
       " 924,\n",
       " 938,\n",
       " 940,\n",
       " 945,\n",
       " 954,\n",
       " 979,\n",
       " 1006,\n",
       " 1003,\n",
       " 1093,\n",
       " 1104,\n",
       " 1106,\n",
       " 1079,\n",
       " 1086,\n",
       " 1092,\n",
       " 1098,\n",
       " 1134,\n",
       " 1135,\n",
       " 1136,\n",
       " 1119,\n",
       " 1030,\n",
       " 1039,\n",
       " 1033,\n",
       " 1041,\n",
       " 1007,\n",
       " 1017,\n",
       " 1026,\n",
       " 1049,\n",
       " 1053,\n",
       " 1234,\n",
       " 1222,\n",
       " 1224,\n",
       " 1228,\n",
       " 1215,\n",
       " 1266,\n",
       " 1264,\n",
       " 1244,\n",
       " 1143,\n",
       " 1148,\n",
       " 1158,\n",
       " 1163,\n",
       " 1165,\n",
       " 1174,\n",
       " 1182,\n",
       " 1186,\n",
       " 1193,\n",
       " 1179,\n",
       " 1184,\n",
       " 1349,\n",
       " 1356,\n",
       " 1355,\n",
       " 1369,\n",
       " 1371,\n",
       " 1339,\n",
       " 1408,\n",
       " 1394,\n",
       " 1389,\n",
       " 1406,\n",
       " 1271,\n",
       " 1272,\n",
       " 1294,\n",
       " 1308,\n",
       " 1269,\n",
       " 1331,\n",
       " 1332,\n",
       " 1335,\n",
       " 1313,\n",
       " 1322,\n",
       " 1325,\n",
       " 1541,\n",
       " 1521,\n",
       " 1528,\n",
       " 1531,\n",
       " 1535,\n",
       " 1530,\n",
       " 1533,\n",
       " 1578,\n",
       " 1551,\n",
       " 1546,\n",
       " 1568,\n",
       " 1474,\n",
       " 1470,\n",
       " 1488,\n",
       " 1501,\n",
       " 1676,\n",
       " 1695,\n",
       " 1709,\n",
       " 1712,\n",
       " 1597,\n",
       " 1602,\n",
       " 1593,\n",
       " 1606,\n",
       " 1610,\n",
       " 1611,\n",
       " 1598,\n",
       " 1621,\n",
       " 1630,\n",
       " 1620,\n",
       " 1645,\n",
       " 1649,\n",
       " 1656,\n",
       " 1651,\n",
       " 1642,\n",
       " 1816,\n",
       " 1840,\n",
       " 1799,\n",
       " 1811,\n",
       " 1860,\n",
       " 1869,\n",
       " 1849,\n",
       " 1855,\n",
       " 1861,\n",
       " 1763,\n",
       " 1771,\n",
       " 1778,\n",
       " 1734,\n",
       " 1748,\n",
       " 1752,\n",
       " 1729,\n",
       " 1757,\n",
       " 1758,\n",
       " 1785,\n",
       " 1791,\n",
       " 1792,\n",
       " 1793,\n",
       " 1972,\n",
       " 1974,\n",
       " 1967,\n",
       " 1978,\n",
       " 1970,\n",
       " 1981,\n",
       " 1944,\n",
       " 1982,\n",
       " 1963,\n",
       " 2014,\n",
       " 1988,\n",
       " 1997,\n",
       " 1989,\n",
       " 1900,\n",
       " 1886,\n",
       " 1888,\n",
       " 1891,\n",
       " 1895,\n",
       " 1905,\n",
       " 1923,\n",
       " 1901,\n",
       " 1918,\n",
       " 2090,\n",
       " 2092,\n",
       " 2093,\n",
       " 2075,\n",
       " 2074,\n",
       " 2078,\n",
       " 2081,\n",
       " 2098,\n",
       " 2159,\n",
       " 2238,\n",
       " 2224,\n",
       " 2178,\n",
       " 2179,\n",
       " 2144,\n",
       " 2338,\n",
       " 2156,\n",
       " 2343,\n",
       " 2322,\n",
       " 2172,\n",
       " 2015,\n",
       " 2016,\n",
       " 2111,\n",
       " 2113,\n",
       " 2136,\n",
       " 2115,\n",
       " 2116,\n",
       " 2143,\n",
       " 2029,\n",
       " 2119,\n",
       " 2034,\n",
       " 2035,\n",
       " 2128,\n",
       " 2031,\n",
       " 2040,\n",
       " 2056,\n",
       " 2053,\n",
       " 2052,\n",
       " 2464,\n",
       " 2467,\n",
       " 2460,\n",
       " 2452,\n",
       " 2425,\n",
       " 2482,\n",
       " 2436,\n",
       " 2459,\n",
       " 2394,\n",
       " 2397,\n",
       " 2378,\n",
       " 2381,\n",
       " 2374,\n",
       " 2377,\n",
       " 2403,\n",
       " 2280,\n",
       " 2265,\n",
       " 2364,\n",
       " 2349,\n",
       " 2337,\n",
       " 2357,\n",
       " 2362,\n",
       " 2262,\n",
       " 2291,\n",
       " 2289,\n",
       " 2317,\n",
       " 2310,\n",
       " 2298,\n",
       " 2306,\n",
       " 2281,\n",
       " 2261,\n",
       " 2296,\n",
       " 2614,\n",
       " 2586,\n",
       " 2587,\n",
       " 2589,\n",
       " 2582,\n",
       " 2561,\n",
       " 2628,\n",
       " 2598,\n",
       " 2590,\n",
       " 2573,\n",
       " 2530,\n",
       " 2488,\n",
       " 2511,\n",
       " 2860,\n",
       " 2855,\n",
       " 2648,\n",
       " 2664,\n",
       " 2658,\n",
       " 2636,\n",
       " 2638,\n",
       " 2657,\n",
       " 2834,\n",
       " 2849,\n",
       " 2640,\n",
       " 2647,\n",
       " 2912,\n",
       " 2784,\n",
       " 2850,\n",
       " 2905,\n",
       " 2906,\n",
       " 2925,\n",
       " 2788,\n",
       " 2911,\n",
       " 2702,\n",
       " 2690,\n",
       " 2538,\n",
       " 2554,\n",
       " 2553,\n",
       " 2540,\n",
       " 2539,\n",
       " 2707,\n",
       " 2543,\n",
       " 2537,\n",
       " 2708,\n",
       " 2712,\n",
       " 2732,\n",
       " 2731,\n",
       " 2759,\n",
       " 2743,\n",
       " 2694,\n",
       " 2744,\n",
       " 2974,\n",
       " 2941,\n",
       " 2944,\n",
       " 2953,\n",
       " 2967,\n",
       " 2961,\n",
       " 2986,\n",
       " 3158,\n",
       " 3129,\n",
       " 3179,\n",
       " 3156,\n",
       " 2828,\n",
       " 3002,\n",
       " 3006,\n",
       " 2783,\n",
       " 2777,\n",
       " 2799,\n",
       " 2809,\n",
       " 2806,\n",
       " 2800,\n",
       " 3011,\n",
       " 2823,\n",
       " 3019,\n",
       " 2814,\n",
       " 2993,\n",
       " 3024,\n",
       " 3040,\n",
       " 3225,\n",
       " 3294,\n",
       " 3318,\n",
       " 3310,\n",
       " 3248,\n",
       " 3286,\n",
       " 3289,\n",
       " 3220,\n",
       " 3226,\n",
       " 3426,\n",
       " 3222,\n",
       " 3392,\n",
       " 3397,\n",
       " 3101,\n",
       " 3052,\n",
       " 3051,\n",
       " 3046,\n",
       " 3047,\n",
       " 3084,\n",
       " 3092,\n",
       " 3122,\n",
       " 3108,\n",
       " 3124,\n",
       " 3070,\n",
       " 3065,\n",
       " 3080,\n",
       " 3081,\n",
       " 3275,\n",
       " 3268,\n",
       " 3258,\n",
       " 3277,\n",
       " 3313,\n",
       " 3283,\n",
       " 3273,\n",
       " 3604,\n",
       " 3469,\n",
       " 3461,\n",
       " 3488,\n",
       " 3574,\n",
       " 3441,\n",
       " 3456,\n",
       " 3706,\n",
       " 3516,\n",
       " 3521,\n",
       " 3703,\n",
       " 3705,\n",
       " 3695,\n",
       " 3700,\n",
       " 3377,\n",
       " 3333,\n",
       " 3386,\n",
       " 3347,\n",
       " 3435,\n",
       " 3370,\n",
       " 3389,\n",
       " 3560,\n",
       " 3564,\n",
       " 3523,\n",
       " 3526,\n",
       " 3539,\n",
       " 3551,\n",
       " 3838,\n",
       " 3830,\n",
       " 3866,\n",
       " 3768,\n",
       " 3835,\n",
       " 3865,\n",
       " 3853,\n",
       " 3841,\n",
       " 3862,\n",
       " 3784,\n",
       " 3742,\n",
       " 3773,\n",
       " 3929,\n",
       " 3927,\n",
       " 3826,\n",
       " 3819,\n",
       " 3818,\n",
       " 3935,\n",
       " 3813,\n",
       " 3649,\n",
       " 3644,\n",
       " 3722,\n",
       " 3657,\n",
       " 3623,\n",
       " 3641,\n",
       " 3629,\n",
       " 3716,\n",
       " 3740,\n",
       " 3661,\n",
       " 3670,\n",
       " 3676,\n",
       " 3677,\n",
       " 3682,\n",
       " 3980,\n",
       " 3977,\n",
       " 4040,\n",
       " 4017,\n",
       " 4063,\n",
       " 4016,\n",
       " 4104,\n",
       " 4066,\n",
       " 4070,\n",
       " 4071,\n",
       " 4058,\n",
       " 4082,\n",
       " 3975,\n",
       " 4022,\n",
       " 4196,\n",
       " 4009,\n",
       " 3999,\n",
       " 4180,\n",
       " 4183,\n",
       " 4187,\n",
       " 3939,\n",
       " 3967,\n",
       " 3952,\n",
       " 3949,\n",
       " 3951,\n",
       " 3874,\n",
       " 3881,\n",
       " 4053,\n",
       " 3914,\n",
       " 3919,\n",
       " 3918,\n",
       " 3915,\n",
       " 4155,\n",
       " 4347,\n",
       " 4383,\n",
       " 4338,\n",
       " 4398,\n",
       " 4399,\n",
       " 4388,\n",
       " 4410,\n",
       " 4362,\n",
       " 4148,\n",
       " 4137,\n",
       " 4314,\n",
       " 4275,\n",
       " 4306,\n",
       " 4292,\n",
       " 4272,\n",
       " 4290,\n",
       " 4316,\n",
       " 4323,\n",
       " 4324,\n",
       " 4333,\n",
       " 4236,\n",
       " 4195,\n",
       " 4257,\n",
       " 4109,\n",
       " 4211,\n",
       " 4246,\n",
       " 4112,\n",
       " 4200,\n",
       " 4252,\n",
       " 4269,\n",
       " 4225,\n",
       " 4230,\n",
       " 4255,\n",
       " 4184,\n",
       " 4127,\n",
       " 4136,\n",
       " 4107,\n",
       " 4152,\n",
       " 4467,\n",
       " 4668,\n",
       " 4670,\n",
       " 4666,\n",
       " 4664,\n",
       " 4657,\n",
       " 4655,\n",
       " 4688,\n",
       " 4461,\n",
       " 4653,\n",
       " 4696,\n",
       " 4700,\n",
       " 4671,\n",
       " 4489,\n",
       " 4599,\n",
       " 4676,\n",
       " 4589,\n",
       " 4594,\n",
       " 4612,\n",
       " 4592,\n",
       " 4593,\n",
       " 4587,\n",
       " 4584,\n",
       " 4495,\n",
       " 4499,\n",
       " 4534,\n",
       " 4507,\n",
       " 4543,\n",
       " 4516,\n",
       " 4518,\n",
       " 4522,\n",
       " 4574,\n",
       " 4527,\n",
       " 4424,\n",
       " 4448,\n",
       " 4453,\n",
       " 4454,\n",
       " 4780,\n",
       " 4748,\n",
       " 4749,\n",
       " 4754,\n",
       " 4908,\n",
       " 4760,\n",
       " 4766,\n",
       " 4765,\n",
       " 4843,\n",
       " 4949,\n",
       " 4950,\n",
       " 4944,\n",
       " 4929,\n",
       " 4948,\n",
       " 4951,\n",
       " 4870,\n",
       " 4802,\n",
       " 4806,\n",
       " 4816,\n",
       " 4829,\n",
       " 4787,\n",
       " 4813,\n",
       " 4803,\n",
       " 4828,\n",
       " 4812,\n",
       " 4713,\n",
       " 4708,\n",
       " 4745,\n",
       " 4732,\n",
       " 4730,\n",
       " 4741,\n",
       " 4726,\n",
       " 5193,\n",
       " 5191,\n",
       " 5188,\n",
       " 4962,\n",
       " 4976,\n",
       " 4979,\n",
       " 5004,\n",
       " 5171,\n",
       " 5175,\n",
       " 5195,\n",
       " 4964,\n",
       " 4987,\n",
       " 4966,\n",
       " 4999,\n",
       " 5002,\n",
       " 5090,\n",
       " 5205,\n",
       " 5206,\n",
       " 5093,\n",
       " 5107,\n",
       " 5112,\n",
       " 5174,\n",
       " 5198,\n",
       " 5096,\n",
       " 5039,\n",
       " 5047,\n",
       " 4901,\n",
       " 5054,\n",
       " 4899,\n",
       " 4884,\n",
       " 5030,\n",
       " 5035,\n",
       " 5078,\n",
       " 5083,\n",
       " 5077,\n",
       " 5075,\n",
       " 5072,\n",
       " 5074,\n",
       " 5278,\n",
       " 5449,\n",
       " 5239,\n",
       " 5275,\n",
       " 5266,\n",
       " 5453,\n",
       " 5241,\n",
       " 5254,\n",
       " 5244,\n",
       " 5422,\n",
       " 5481,\n",
       " 5476,\n",
       " 5472,\n",
       " 5382,\n",
       " 5439,\n",
       " 5466,\n",
       " 5384,\n",
       " 5367,\n",
       " 5370,\n",
       " 5289,\n",
       " 5282,\n",
       " 5150,\n",
       " 5145,\n",
       " 5144,\n",
       " 5301,\n",
       " 5307,\n",
       " 5308,\n",
       " 5351,\n",
       " 5357,\n",
       " 5349,\n",
       " 5360,\n",
       " 5544,\n",
       " 5509,\n",
       " 5493,\n",
       " 5548,\n",
       " 5537,\n",
       " 5542,\n",
       " 5494,\n",
       " 5608,\n",
       " 5727,\n",
       " 5738,\n",
       " 5701,\n",
       " 5695,\n",
       " 5726,\n",
       " 5737,\n",
       " 5729,\n",
       " 5389,\n",
       " 5397,\n",
       " 5392,\n",
       " 5375,\n",
       " 5564,\n",
       " 5562,\n",
       " 5587,\n",
       " 5575,\n",
       " 5555,\n",
       " 5607,\n",
       " 5824,\n",
       " 5748,\n",
       " 5768,\n",
       " 5761,\n",
       " 5775,\n",
       " 5833,\n",
       " 5806,\n",
       " 5762,\n",
       " 5812,\n",
       " 5764,\n",
       " 5819,\n",
       " 5901,\n",
       " 5904,\n",
       " 5910,\n",
       " 5911,\n",
       " 5643,\n",
       " 5622,\n",
       " 5642,\n",
       " 5637,\n",
       " 5676,\n",
       " 5664,\n",
       " 5656,\n",
       " 5681,\n",
       " 5678,\n",
       " 5786,\n",
       " 5794,\n",
       " 5838,\n",
       " 5966,\n",
       " 6032,\n",
       " 6069,\n",
       " 6071,\n",
       " 6082,\n",
       " 6085,\n",
       " 5955,\n",
       " 5969,\n",
       " 6042,\n",
       " 6075,\n",
       " 6065,\n",
       " 5964,\n",
       " 6156,\n",
       " 6176,\n",
       " 6005,\n",
       " 5989,\n",
       " 6020,\n",
       " 6016,\n",
       " 6008,\n",
       " 6166,\n",
       " 6170,\n",
       " 6001,\n",
       " 6023,\n",
       " 6200,\n",
       " 6189,\n",
       " 5849,\n",
       " 5853,\n",
       " 5932,\n",
       " 5928,\n",
       " 5949,\n",
       " 5924,\n",
       " 5869,\n",
       " 5841,\n",
       " 5881,\n",
       " 5890,\n",
       " 5886,\n",
       " 5895,\n",
       " 6262,\n",
       " 6263,\n",
       " 6325,\n",
       " 6362,\n",
       " 6383,\n",
       " 6270,\n",
       " 6349,\n",
       " 6279,\n",
       " 6282,\n",
       " 6283,\n",
       " 6358,\n",
       " 6304,\n",
       " 6292,\n",
       " 6497,\n",
       " 6469,\n",
       " 6471,\n",
       " 6480,\n",
       " 6496,\n",
       " 6116,\n",
       " 6107,\n",
       " 6208,\n",
       " 6218,\n",
       " 6126,\n",
       " 6099,\n",
       " 6222,\n",
       " 6105,\n",
       " 6246,\n",
       " 6132,\n",
       " 6131,\n",
       " 6145,\n",
       " 6143,\n",
       " 6449,\n",
       " 6636,\n",
       " 6601,\n",
       " 6613,\n",
       " 6610,\n",
       " 6606,\n",
       " 6639,\n",
       " 6673,\n",
       " 6602,\n",
       " 6464,\n",
       " 6605,\n",
       " 6603,\n",
       " 6466,\n",
       " 6468,\n",
       " 6543,\n",
       " 6548,\n",
       " 6539,\n",
       " 6546,\n",
       " 6574,\n",
       " 6588,\n",
       " 6535,\n",
       " 6597,\n",
       " 6598,\n",
       " 6550,\n",
       " 6516,\n",
       " 6525,\n",
       " 6432,\n",
       " 6440,\n",
       " 6423,\n",
       " 6400,\n",
       " 6398,\n",
       " 6447,\n",
       " 6914,\n",
       " 6702,\n",
       " 6718,\n",
       " 6723,\n",
       " 6884,\n",
       " 6893,\n",
       " 6904,\n",
       " 6850,\n",
       " 6821,\n",
       " 6841,\n",
       " 6824,\n",
       " 6822,\n",
       " 6835,\n",
       " 6772,\n",
       " 6756,\n",
       " 6749,\n",
       " 6734,\n",
       " 6802,\n",
       " 6741,\n",
       " 6735,\n",
       " 6787,\n",
       " 6745,\n",
       " 6698,\n",
       " 6687,\n",
       " 6720,\n",
       " 7160,\n",
       " 7184,\n",
       " 6973,\n",
       " 6975,\n",
       " 6962,\n",
       " 7143,\n",
       " 7138,\n",
       " 6958,\n",
       " 7139,\n",
       " 6960,\n",
       " 7144,\n",
       " 7182,\n",
       " 7169,\n",
       " 7093,\n",
       " 7087,\n",
       " 7067,\n",
       " 7118,\n",
       " 7187,\n",
       " 7068,\n",
       " 7204,\n",
       " 7127,\n",
       " 7133,\n",
       " 7013,\n",
       " 7059,\n",
       " 6981,\n",
       " 7030,\n",
       " 6979,\n",
       " 7037,\n",
       " 7039,\n",
       " 6986,\n",
       " 7002,\n",
       " 7018,\n",
       " 7015,\n",
       " 7393,\n",
       " 7212,\n",
       " 7207,\n",
       " 7229,\n",
       " 7216,\n",
       " 7374,\n",
       " 7234,\n",
       " 7375,\n",
       " 7235,\n",
       " 7237,\n",
       " 7225,\n",
       " 7379,\n",
       " 7310,\n",
       " 7344,\n",
       " 7429,\n",
       " 7415,\n",
       " 7433,\n",
       " 7440,\n",
       " 7402,\n",
       " 7407,\n",
       " 7401,\n",
       " 7406,\n",
       " 7339,\n",
       " 7272,\n",
       " 7283,\n",
       " 7277,\n",
       " 7306,\n",
       " 7304,\n",
       " 7478,\n",
       " 7636,\n",
       " 7444,\n",
       " 7452,\n",
       " 7454,\n",
       " 7482,\n",
       " 7445,\n",
       " 7659,\n",
       " 7689,\n",
       " 7676,\n",
       " 7670,\n",
       " 7681,\n",
       " 7675,\n",
       " 7569,\n",
       " 7683,\n",
       " 7507,\n",
       " 7495,\n",
       " 7363,\n",
       " 7519,\n",
       " 7358,\n",
       " 7553,\n",
       " 7554,\n",
       " 7538,\n",
       " 7525,\n",
       " 7543,\n",
       " 7533,\n",
       " 7534,\n",
       " 7561,\n",
       " 7755,\n",
       " 7711,\n",
       " 7728,\n",
       " 7756,\n",
       " 7761,\n",
       " 7700,\n",
       " 7701,\n",
       " 7753,\n",
       " 7729,\n",
       " 7708,\n",
       " 7718,\n",
       " 7803,\n",
       " 7951,\n",
       " 7952,\n",
       " 7950,\n",
       " 7911,\n",
       " 7930,\n",
       " 7953,\n",
       " 7939,\n",
       " 7910,\n",
       " 7947,\n",
       " 7928,\n",
       " 7629,\n",
       " 7787,\n",
       " 7614,\n",
       " 7621,\n",
       " 7798,\n",
       " ...]"
      ]
     },
     "execution_count": 40,
     "metadata": {},
     "output_type": "execute_result"
    }
   ],
   "source": [
    "sub5 = list(df[df.iloc[:,:-1].sum(axis=1)>=5]['환자'])\n",
    "sub5"
   ]
  },
  {
   "cell_type": "code",
   "execution_count": 59,
   "id": "11c84e64",
   "metadata": {},
   "outputs": [
    {
     "data": {
      "text/plain": [
       "Int64Index([   0,    1,    2,    3,    4,    5,    6,    7,    8,    9,\n",
       "            ...\n",
       "            7789, 7790, 7791, 7792, 7793, 7794, 7795, 7796, 7797, 7798],\n",
       "           dtype='int64', length=6109)"
      ]
     },
     "execution_count": 59,
     "metadata": {},
     "output_type": "execute_result"
    }
   ],
   "source": [
    "df[df.iloc[:,:-1].sum(axis=1)>=5].index"
   ]
  },
  {
   "cell_type": "markdown",
   "id": "a22522e1",
   "metadata": {},
   "source": [
    "## 모델 적용"
   ]
  },
  {
   "cell_type": "code",
   "execution_count": 45,
   "id": "368fbcbe",
   "metadata": {},
   "outputs": [],
   "source": [
    "arr1 = arr_2d[arr_2d.sum(axis=1)>=5]"
   ]
  },
  {
   "cell_type": "code",
   "execution_count": 46,
   "id": "7bcde83c",
   "metadata": {},
   "outputs": [
    {
     "data": {
      "text/plain": [
       "4276.3"
      ]
     },
     "execution_count": 46,
     "metadata": {},
     "output_type": "execute_result"
    }
   ],
   "source": [
    "len(arr1)*0.7"
   ]
  },
  {
   "cell_type": "code",
   "execution_count": 47,
   "id": "75cf41ca",
   "metadata": {},
   "outputs": [],
   "source": [
    "i = 4276\n",
    "x_train = arr_2d[:i,:]\n",
    "y_train = label[:i]\n",
    "x_test = arr_2d[i:,:]\n",
    "y_test = label[i:]"
   ]
  },
  {
   "cell_type": "code",
   "execution_count": 48,
   "id": "7def1b63",
   "metadata": {},
   "outputs": [],
   "source": [
    "from keras.models import Sequential\n",
    "from keras.layers import Dense, Dropout, Activation"
   ]
  },
  {
   "cell_type": "code",
   "execution_count": 49,
   "id": "fede7a2c",
   "metadata": {},
   "outputs": [
    {
     "data": {
      "text/plain": [
       "((4276, 10), (4276, 1), (3523, 10), (3523, 1))"
      ]
     },
     "execution_count": 49,
     "metadata": {},
     "output_type": "execute_result"
    }
   ],
   "source": [
    "x_train.shape, y_train.shape, x_test.shape, y_test.shape"
   ]
  },
  {
   "cell_type": "code",
   "execution_count": 62,
   "id": "2c59c05b",
   "metadata": {},
   "outputs": [],
   "source": [
    "lab = label[df[df.iloc[:,:-1].sum(axis=1)>=5].index]"
   ]
  },
  {
   "cell_type": "code",
   "execution_count": 63,
   "id": "4e9d769f",
   "metadata": {},
   "outputs": [
    {
     "data": {
      "text/plain": [
       "((5460, 10), (5460, 1), (649, 10), (649, 1))"
      ]
     },
     "execution_count": 63,
     "metadata": {},
     "output_type": "execute_result"
    }
   ],
   "source": [
    "# 5460 기준으로 나눔\n",
    "i = 5460\n",
    "x_train = arr1[:i,:]\n",
    "y_train = lab[:i]\n",
    "x_test = arr1[i:,:]\n",
    "y_test = lab[i:]\n",
    "\n",
    "from keras.models import Sequential\n",
    "from keras.layers import Dense, Dropout, Activation\n",
    "\n",
    "x_train.shape, y_train.shape, x_test.shape, y_test.shape"
   ]
  },
  {
   "cell_type": "code",
   "execution_count": 64,
   "id": "f8e37ea8",
   "metadata": {},
   "outputs": [],
   "source": [
    "model = Sequential()\n",
    "model.add(Dense(256, input_dim=10, activation='relu'))\n",
    "model.add(Dense(units=1, activation='sigmoid'))"
   ]
  },
  {
   "cell_type": "code",
   "execution_count": 65,
   "id": "94dbcd13",
   "metadata": {
    "scrolled": true
   },
   "outputs": [
    {
     "name": "stdout",
     "output_type": "stream",
     "text": [
      "Epoch 1/200\n",
      "32/32 [==============================] - 0s 4ms/step - loss: 0.6658 - acc: 0.5817 - val_loss: 0.8182 - val_acc: 0.4586\n",
      "Epoch 2/200\n",
      "32/32 [==============================] - 0s 1ms/step - loss: 0.6184 - acc: 0.6871 - val_loss: 0.8105 - val_acc: 0.4586\n",
      "Epoch 3/200\n",
      "32/32 [==============================] - 0s 1ms/step - loss: 0.6246 - acc: 0.6798 - val_loss: 0.8207 - val_acc: 0.4586\n",
      "Epoch 4/200\n",
      "32/32 [==============================] - 0s 1ms/step - loss: 0.6150 - acc: 0.6928 - val_loss: 0.8062 - val_acc: 0.4586\n",
      "Epoch 5/200\n",
      "32/32 [==============================] - 0s 1ms/step - loss: 0.6060 - acc: 0.7020 - val_loss: 0.7894 - val_acc: 0.4586\n",
      "Epoch 6/200\n",
      "32/32 [==============================] - 0s 1ms/step - loss: 0.6110 - acc: 0.6974 - val_loss: 0.7761 - val_acc: 0.4586\n",
      "Epoch 7/200\n",
      "32/32 [==============================] - 0s 1ms/step - loss: 0.6220 - acc: 0.6821 - val_loss: 0.8004 - val_acc: 0.4586\n",
      "Epoch 8/200\n",
      "32/32 [==============================] - 0s 1ms/step - loss: 0.6193 - acc: 0.6839 - val_loss: 0.8120 - val_acc: 0.4586\n",
      "Epoch 9/200\n",
      "32/32 [==============================] - 0s 1ms/step - loss: 0.6222 - acc: 0.6840 - val_loss: 0.8159 - val_acc: 0.4586\n",
      "Epoch 10/200\n",
      "32/32 [==============================] - 0s 1ms/step - loss: 0.6188 - acc: 0.6870 - val_loss: 0.7766 - val_acc: 0.4579\n",
      "Epoch 11/200\n",
      "32/32 [==============================] - 0s 1ms/step - loss: 0.6153 - acc: 0.6888 - val_loss: 0.7933 - val_acc: 0.4586\n",
      "Epoch 00011: early stopping\n"
     ]
    }
   ],
   "source": [
    "from keras.callbacks import EarlyStopping\n",
    "\n",
    "model.compile(loss='binary_crossentropy', optimizer='adam', metrics=['acc'])\n",
    "early_stop = EarlyStopping(monitor='val_loss', patience=5, verbose=1)\n",
    "history = model.fit(x_train, y_train, validation_split=0.25, batch_size=128, epochs=200,  callbacks=[early_stop])"
   ]
  },
  {
   "cell_type": "code",
   "execution_count": 66,
   "id": "97b9dccc",
   "metadata": {
    "scrolled": true
   },
   "outputs": [
    {
     "data": {
      "image/png": "[encoded data removed]",
      "text/plain": [
       "<Figure size 432x288 with 1 Axes>"
      ]
     },
     "metadata": {
      "needs_background": "light"
     },
     "output_type": "display_data"
    }
   ],
   "source": [
    "plt.plot(history.history['loss'])\n",
    "plt.plot(history.history['val_loss'])\n",
    "plt.title('Model loss')\n",
    "plt.ylabel('loss')\n",
    "plt.xlabel('Epoch')\n",
    "plt.legend(['Train', 'Validation'], loc='upper left')\n",
    "plt.show()"
   ]
  },
  {
   "cell_type": "code",
   "execution_count": 67,
   "id": "100d7f29",
   "metadata": {},
   "outputs": [
    {
     "data": {
      "image/png": "[encoded data removed]",
      "text/plain": [
       "<Figure size 432x288 with 1 Axes>"
      ]
     },
     "metadata": {
      "needs_background": "light"
     },
     "output_type": "display_data"
    }
   ],
   "source": [
    "plt.plot(history.history['acc'])\n",
    "plt.plot(history.history['val_acc'])\n",
    "plt.title('Model acc')\n",
    "plt.ylabel('acc')\n",
    "plt.xlabel('Epoch')\n",
    "plt.legend(['Train', 'Validation'], loc='upper left')\n",
    "plt.show()"
   ]
  },
  {
   "cell_type": "code",
   "execution_count": 68,
   "id": "bd3ab0bf",
   "metadata": {},
   "outputs": [],
   "source": [
    "pred = model.predict(x_test)\n",
    "pred[pred>0.5]=1\n",
    "pred[pred<=0.5]=0"
   ]
  },
  {
   "cell_type": "code",
   "execution_count": 69,
   "id": "33aa080a",
   "metadata": {},
   "outputs": [
    {
     "data": {
      "text/plain": [
       "(649, 1)"
      ]
     },
     "execution_count": 69,
     "metadata": {},
     "output_type": "execute_result"
    }
   ],
   "source": [
    "y_test.shape"
   ]
  },
  {
   "cell_type": "code",
   "execution_count": 70,
   "id": "30d61155",
   "metadata": {},
   "outputs": [
    {
     "name": "stdout",
     "output_type": "stream",
     "text": [
      "정확도 : 0.47303543913713403\n"
     ]
    }
   ],
   "source": [
    "from sklearn import metrics \n",
    "print('정확도 :', metrics.accuracy_score(y_test, pred))"
   ]
  },
  {
   "cell_type": "code",
   "execution_count": null,
   "id": "43e7fd79",
   "metadata": {},
   "outputs": [],
   "source": []
  },
  {
   "cell_type": "code",
   "execution_count": null,
   "id": "6ed60cae",
   "metadata": {},
   "outputs": [],
   "source": []
  },
  {
   "cell_type": "code",
   "execution_count": null,
   "id": "e7fa44e6",
   "metadata": {},
   "outputs": [],
   "source": []
  },
  {
   "cell_type": "code",
   "execution_count": null,
   "id": "fe206f0d",
   "metadata": {},
   "outputs": [],
   "source": []
  },
  {
   "cell_type": "code",
   "execution_count": null,
   "id": "7d9ce3e0",
   "metadata": {},
   "outputs": [],
   "source": []
  },
  {
   "cell_type": "code",
   "execution_count": null,
   "id": "b3202244",
   "metadata": {},
   "outputs": [],
   "source": []
  },
  {
   "cell_type": "code",
   "execution_count": null,
   "id": "72565d79",
   "metadata": {},
   "outputs": [],
   "source": []
  },
  {
   "cell_type": "code",
   "execution_count": null,
   "id": "50a296ef",
   "metadata": {},
   "outputs": [],
   "source": []
  },
  {
   "cell_type": "code",
   "execution_count": null,
   "id": "4a736129",
   "metadata": {},
   "outputs": [],
   "source": []
  }
 ],
 "metadata": {
  "kernelspec": {
   "display_name": "Python 3",
   "language": "python",
   "name": "python3"
  },
  "language_info": {
   "codemirror_mode": {
    "name": "ipython",
    "version": 3
   },
   "file_extension": ".py",
   "mimetype": "text/x-python",
   "name": "python",
   "nbconvert_exporter": "python",
   "pygments_lexer": "ipython3",
   "version": "3.8.5"
  },
  "toc": {
   "base_numbering": 1,
   "nav_menu": {},
   "number_sections": true,
   "sideBar": true,
   "skip_h1_title": false,
   "title_cell": "Table of Contents",
   "title_sidebar": "Contents",
   "toc_cell": false,
   "toc_position": {
    "height": "calc(100% - 180px)",
    "left": "10px",
    "top": "150px",
    "width": "165px"
   },
   "toc_section_display": true,
   "toc_window_display": true
  }
 },
 "nbformat": 4,
 "nbformat_minor": 5
}
