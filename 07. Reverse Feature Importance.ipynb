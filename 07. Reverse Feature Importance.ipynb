{
 "cells": [
  {
   "cell_type": "markdown",
   "id": "5df06dbd",
   "metadata": {},
   "source": [
    "# Process\n",
    "1. 랜덤으로 700명 추출\n",
    "2. Base Loss 측정\n",
    "3. 각 피처마다 0 -> 1, 1 -> 0으로 바꾸어서 모델 train, predict 후 loss 측정\n",
    "4. 비교 DF 생성"
   ]
  },
  {
   "cell_type": "code",
   "execution_count": 1,
   "id": "51ad4450",
   "metadata": {},
   "outputs": [
    {
     "name": "stdout",
     "output_type": "stream",
     "text": [
      "2.5.0\n",
      "2.5.0\n"
     ]
    }
   ],
   "source": [
    "import numpy as np, os\n",
    "import pandas as pd\n",
    "\n",
    "import matplotlib.pyplot as plt\n",
    "from tqdm.notebook import tqdm\n",
    "\n",
    "import tensorflow as tf\n",
    "from tensorflow import keras\n",
    "from tensorflow.keras.callbacks import EarlyStopping, ModelCheckpoint\n",
    "\n",
    "import warnings\n",
    "warnings.filterwarnings(action='ignore')\n",
    "\n",
    "from tensorflow.keras.models import Sequential\n",
    "from tensorflow.keras.layers import Dense, LSTM\n",
    "from tensorflow.keras.layers import SimpleRNN\n",
    "from tensorflow.keras.layers import Dropout, InputLayer\n",
    "from tensorflow.keras.callbacks import EarlyStopping\n",
    "from tensorflow.keras.regularizers import l2\n",
    "from tensorflow.keras.optimizers import Adam\n",
    "\n",
    "print(tf.__version__)\n",
    "print(keras.__version__)"
   ]
  },
  {
   "cell_type": "markdown",
   "id": "37bc60ee",
   "metadata": {},
   "source": [
    "# get_model, BinaryCrossEntropy"
   ]
  },
  {
   "cell_type": "code",
   "execution_count": 2,
   "id": "10fc0fd7",
   "metadata": {},
   "outputs": [],
   "source": [
    "def get_model():\n",
    "    seed_num = 48\n",
    "    tf.random.set_seed(seed_num)\n",
    "\n",
    "    lstm = Sequential()\n",
    "    lstm.add(InputLayer(input_shape=(X.shape[1],X.shape[2])))\n",
    "    lstm.add(LSTM(units=128, activation='hard_sigmoid', return_sequences=True))\n",
    "    lstm.add(LSTM(units=64, activation='hard_sigmoid', return_sequences=True))\n",
    "    lstm.add(Dropout(0.2))\n",
    "    lstm.add(LSTM(units=64, activation='hard_sigmoid', return_sequences=True))\n",
    "    lstm.add(LSTM(units=32, activation='hard_sigmoid', return_sequences=False))\n",
    "    lstm.add(Dropout(0.2))\n",
    "    lstm.add(Dense(units=1, activation='sigmoid'))\n",
    "    \n",
    "    optimizer = Adam(learning_rate = 0.001)\n",
    "    lstm.compile(optimizer=optimizer, loss = \"binary_crossentropy\", metrics=['acc'])\n",
    "    return lstm"
   ]
  },
  {
   "cell_type": "code",
   "execution_count": 3,
   "id": "2ed6cb61",
   "metadata": {},
   "outputs": [],
   "source": [
    "def BinaryCrossEntropy(y_true, y_pred):\n",
    "    m = y_true.shape[1]\n",
    "    y_pred = np.clip(y_pred, 1e-7, 1 - 1e-7)\n",
    "    # Calculating loss\n",
    "    loss = -1/m * (np.dot(y_true.T, np.log(y_pred)) + np.dot((1 - y_true).T, np.log(1 - y_pred)))\n",
    "\n",
    "    return loss"
   ]
  },
  {
   "cell_type": "markdown",
   "id": "2d97114d",
   "metadata": {},
   "source": [
    "# Reversed Feature - 700\n",
    "- https://stackoverflow.com/questions/39164786/invert-0-and-1-in-a-binary-array"
   ]
  },
  {
   "cell_type": "code",
   "execution_count": 77,
   "id": "919fc411",
   "metadata": {},
   "outputs": [
    {
     "name": "stdout",
     "output_type": "stream",
     "text": [
      "(700, 10, 4069)\n"
     ]
    },
    {
     "data": {
      "text/plain": [
       "((560, 10, 4069), (560,), (140, 10, 4069), (140,))"
      ]
     },
     "execution_count": 77,
     "metadata": {},
     "output_type": "execute_result"
    }
   ],
   "source": [
    "import random    \n",
    "seed_num = 48\n",
    "random.seed(seed_num)\n",
    "\n",
    "X = np.load('/project/LSH/x_(7727,10,4069).npy')\n",
    "y = np.load('/project/LSH/y_(7727,1).npy')\n",
    "\n",
    "idx = list(range(len(X)))\n",
    "random.shuffle(idx)\n",
    "\n",
    "X_700 = X[idx[:700]]\n",
    "y_700 = y[idx[:700]]\n",
    "print(X_700.shape)\n",
    "\n",
    "i = round(X_700.shape[0]*0.8)\n",
    "X_train, y_train = X_700[:i,:,:], y_700[:i]\n",
    "X_test, y_test = X_700[i:,:,:], y_700[i:]\n",
    "\n",
    "X_train.shape, y_train.shape, X_test.shape, y_test.shape"
   ]
  },
  {
   "cell_type": "code",
   "execution_count": 78,
   "id": "2894546c",
   "metadata": {},
   "outputs": [
    {
     "data": {
      "text/plain": [
       "((700, 10, 4069), (700,))"
      ]
     },
     "execution_count": 78,
     "metadata": {},
     "output_type": "execute_result"
    }
   ],
   "source": [
    "X_700.shape, y_700.shape"
   ]
  },
  {
   "cell_type": "code",
   "execution_count": 79,
   "id": "a6f4225f",
   "metadata": {
    "scrolled": true
   },
   "outputs": [
    {
     "name": "stdout",
     "output_type": "stream",
     "text": [
      "Epoch 1/500\n",
      "4/4 [==============================] - 3s 155ms/step - loss: 0.6796 - acc: 0.6048 - val_loss: 0.6735 - val_acc: 0.6000\n",
      "Epoch 2/500\n",
      "4/4 [==============================] - 0s 58ms/step - loss: 0.6637 - acc: 0.6071 - val_loss: 0.6731 - val_acc: 0.6000\n",
      "Epoch 3/500\n",
      "4/4 [==============================] - 0s 58ms/step - loss: 0.6779 - acc: 0.6048 - val_loss: 0.6731 - val_acc: 0.6000\n",
      "Epoch 4/500\n",
      "4/4 [==============================] - 0s 55ms/step - loss: 0.6732 - acc: 0.6048 - val_loss: 0.6732 - val_acc: 0.6000\n",
      "Epoch 5/500\n",
      "4/4 [==============================] - 0s 56ms/step - loss: 0.6724 - acc: 0.6024 - val_loss: 0.6732 - val_acc: 0.6000\n",
      "Epoch 6/500\n",
      "4/4 [==============================] - 0s 56ms/step - loss: 0.6738 - acc: 0.6095 - val_loss: 0.6733 - val_acc: 0.6000\n",
      "Epoch 7/500\n",
      "4/4 [==============================] - 0s 55ms/step - loss: 0.6714 - acc: 0.6071 - val_loss: 0.6731 - val_acc: 0.6000\n",
      "Epoch 8/500\n",
      "4/4 [==============================] - 0s 55ms/step - loss: 0.6732 - acc: 0.6214 - val_loss: 0.6730 - val_acc: 0.6000\n",
      "Epoch 9/500\n",
      "4/4 [==============================] - 0s 54ms/step - loss: 0.6775 - acc: 0.6071 - val_loss: 0.6729 - val_acc: 0.6000\n",
      "Epoch 10/500\n",
      "4/4 [==============================] - 0s 55ms/step - loss: 0.6643 - acc: 0.6119 - val_loss: 0.6728 - val_acc: 0.6000\n",
      "Epoch 11/500\n",
      "4/4 [==============================] - 0s 56ms/step - loss: 0.6678 - acc: 0.6143 - val_loss: 0.6725 - val_acc: 0.6000\n",
      "Epoch 12/500\n",
      "4/4 [==============================] - 0s 56ms/step - loss: 0.6720 - acc: 0.6095 - val_loss: 0.6719 - val_acc: 0.6000\n",
      "Epoch 13/500\n",
      "4/4 [==============================] - 0s 57ms/step - loss: 0.6694 - acc: 0.6119 - val_loss: 0.6709 - val_acc: 0.6000\n",
      "Epoch 14/500\n",
      "4/4 [==============================] - 0s 55ms/step - loss: 0.6663 - acc: 0.6167 - val_loss: 0.6694 - val_acc: 0.6000\n",
      "Epoch 15/500\n",
      "4/4 [==============================] - 0s 55ms/step - loss: 0.6679 - acc: 0.6095 - val_loss: 0.6664 - val_acc: 0.6000\n",
      "Epoch 16/500\n",
      "4/4 [==============================] - 0s 55ms/step - loss: 0.6520 - acc: 0.6119 - val_loss: 0.6607 - val_acc: 0.6000\n",
      "Epoch 17/500\n",
      "4/4 [==============================] - 0s 54ms/step - loss: 0.6424 - acc: 0.6119 - val_loss: 0.6525 - val_acc: 0.6000\n",
      "Epoch 18/500\n",
      "4/4 [==============================] - 0s 54ms/step - loss: 0.6188 - acc: 0.6167 - val_loss: 0.6422 - val_acc: 0.6000\n",
      "Epoch 19/500\n",
      "4/4 [==============================] - 0s 56ms/step - loss: 0.5683 - acc: 0.6524 - val_loss: 0.6346 - val_acc: 0.6571\n",
      "Epoch 20/500\n",
      "4/4 [==============================] - 0s 57ms/step - loss: 0.5203 - acc: 0.7500 - val_loss: 0.6369 - val_acc: 0.6714\n",
      "Epoch 21/500\n",
      "4/4 [==============================] - 0s 55ms/step - loss: 0.4600 - acc: 0.8405 - val_loss: 0.6493 - val_acc: 0.6500\n",
      "Epoch 22/500\n",
      "4/4 [==============================] - 0s 54ms/step - loss: 0.3888 - acc: 0.8762 - val_loss: 0.6655 - val_acc: 0.6500\n",
      "Epoch 23/500\n",
      "4/4 [==============================] - 0s 55ms/step - loss: 0.3313 - acc: 0.8952 - val_loss: 0.7026 - val_acc: 0.6143\n",
      "Epoch 24/500\n",
      "4/4 [==============================] - 0s 57ms/step - loss: 0.2661 - acc: 0.9238 - val_loss: 0.7593 - val_acc: 0.6643\n",
      "Epoch 25/500\n",
      "4/4 [==============================] - 0s 55ms/step - loss: 0.2274 - acc: 0.9238 - val_loss: 0.7981 - val_acc: 0.6500\n",
      "Epoch 26/500\n",
      "4/4 [==============================] - 0s 55ms/step - loss: 0.1878 - acc: 0.9405 - val_loss: 0.8367 - val_acc: 0.6643\n",
      "Epoch 27/500\n",
      "4/4 [==============================] - 0s 56ms/step - loss: 0.1634 - acc: 0.9548 - val_loss: 0.8950 - val_acc: 0.6286\n",
      "Epoch 28/500\n",
      "4/4 [==============================] - 0s 55ms/step - loss: 0.1440 - acc: 0.9619 - val_loss: 0.9578 - val_acc: 0.6214\n",
      "Epoch 29/500\n",
      "4/4 [==============================] - 0s 55ms/step - loss: 0.1426 - acc: 0.9595 - val_loss: 0.9823 - val_acc: 0.6000\n",
      "Epoch 30/500\n",
      "4/4 [==============================] - 0s 56ms/step - loss: 0.1282 - acc: 0.9738 - val_loss: 1.0425 - val_acc: 0.5929\n",
      "Epoch 31/500\n",
      "4/4 [==============================] - 0s 55ms/step - loss: 0.1239 - acc: 0.9714 - val_loss: 1.0366 - val_acc: 0.6071\n",
      "Epoch 32/500\n",
      "4/4 [==============================] - 0s 55ms/step - loss: 0.1243 - acc: 0.9667 - val_loss: 1.1023 - val_acc: 0.6000\n",
      "Epoch 33/500\n",
      "4/4 [==============================] - 0s 56ms/step - loss: 0.1009 - acc: 0.9762 - val_loss: 1.1119 - val_acc: 0.6000\n",
      "Epoch 34/500\n",
      "4/4 [==============================] - 0s 55ms/step - loss: 0.1131 - acc: 0.9714 - val_loss: 1.1859 - val_acc: 0.5857\n",
      "Epoch 35/500\n",
      "4/4 [==============================] - 0s 55ms/step - loss: 0.1033 - acc: 0.9762 - val_loss: 1.1904 - val_acc: 0.5929\n",
      "Epoch 36/500\n",
      "4/4 [==============================] - 0s 55ms/step - loss: 0.0949 - acc: 0.9762 - val_loss: 1.2105 - val_acc: 0.6071\n",
      "Epoch 37/500\n",
      "4/4 [==============================] - 0s 56ms/step - loss: 0.0961 - acc: 0.9810 - val_loss: 1.2604 - val_acc: 0.5857\n",
      "Epoch 38/500\n",
      "4/4 [==============================] - 0s 54ms/step - loss: 0.0877 - acc: 0.9857 - val_loss: 1.2305 - val_acc: 0.6000\n",
      "Epoch 39/500\n",
      "4/4 [==============================] - 0s 55ms/step - loss: 0.0914 - acc: 0.9810 - val_loss: 1.2655 - val_acc: 0.5857\n",
      "Epoch 40/500\n",
      "4/4 [==============================] - 0s 55ms/step - loss: 0.0823 - acc: 0.9833 - val_loss: 1.2666 - val_acc: 0.6071\n",
      "Epoch 41/500\n",
      "4/4 [==============================] - 0s 54ms/step - loss: 0.0745 - acc: 0.9833 - val_loss: 1.3626 - val_acc: 0.5786\n",
      "Epoch 42/500\n",
      "4/4 [==============================] - 0s 55ms/step - loss: 0.0733 - acc: 0.9857 - val_loss: 1.3812 - val_acc: 0.5857\n",
      "Epoch 43/500\n",
      "4/4 [==============================] - 0s 55ms/step - loss: 0.0628 - acc: 0.9881 - val_loss: 1.4232 - val_acc: 0.5786\n",
      "Epoch 44/500\n",
      "4/4 [==============================] - 0s 56ms/step - loss: 0.0678 - acc: 0.9905 - val_loss: 1.4020 - val_acc: 0.5786\n",
      "Epoch 45/500\n",
      "4/4 [==============================] - 0s 56ms/step - loss: 0.0662 - acc: 0.9881 - val_loss: 1.4197 - val_acc: 0.5714\n",
      "Epoch 46/500\n",
      "4/4 [==============================] - 0s 57ms/step - loss: 0.0670 - acc: 0.9857 - val_loss: 1.4090 - val_acc: 0.5786\n",
      "Epoch 47/500\n",
      "4/4 [==============================] - 0s 55ms/step - loss: 0.0550 - acc: 0.9905 - val_loss: 1.3922 - val_acc: 0.6143\n",
      "Epoch 48/500\n",
      "4/4 [==============================] - 0s 57ms/step - loss: 0.0674 - acc: 0.9857 - val_loss: 1.4718 - val_acc: 0.5786\n",
      "Epoch 49/500\n",
      "4/4 [==============================] - 0s 56ms/step - loss: 0.0694 - acc: 0.9833 - val_loss: 1.4139 - val_acc: 0.6000\n",
      "Epoch 50/500\n",
      "4/4 [==============================] - 0s 56ms/step - loss: 0.0577 - acc: 0.9857 - val_loss: 1.4567 - val_acc: 0.6071\n",
      "Restoring model weights from the end of the best epoch.\n",
      "Epoch 00050: early stopping\n"
     ]
    },
    {
     "data": {
      "text/plain": [
       "<tensorflow.python.keras.callbacks.History at 0x7fac43793d30>"
      ]
     },
     "execution_count": 79,
     "metadata": {},
     "output_type": "execute_result"
    }
   ],
   "source": [
    "model = get_model()\n",
    "early_stop = EarlyStopping(monitor='val_acc', patience=30, verbose=1, restore_best_weights=True)\n",
    "model.fit(X_train, y_train, validation_split=0.25, batch_size=128, epochs=500,  callbacks=[early_stop], shuffle=False)"
   ]
  },
  {
   "cell_type": "code",
   "execution_count": 80,
   "id": "6092f840",
   "metadata": {
    "scrolled": true
   },
   "outputs": [],
   "source": [
    "pred = model.predict(X_test)\n",
    "# bce = tf.keras.losses.BinaryCrossentropy(from_logits=True)\n",
    "base_bce_700 = BinaryCrossEntropy(pred, y_test)[0]"
   ]
  },
  {
   "cell_type": "markdown",
   "id": "77d695d2",
   "metadata": {},
   "source": [
    "## COLS, reverse function"
   ]
  },
  {
   "cell_type": "code",
   "execution_count": 7,
   "id": "a5b6884e",
   "metadata": {},
   "outputs": [],
   "source": [
    "# 컬럼이름 로드\n",
    "COLS = list(pd.read_csv('/project/guri/data/data2d_forposter.csv').columns)"
   ]
  },
  {
   "cell_type": "code",
   "execution_count": 8,
   "id": "28d0b86f",
   "metadata": {
    "scrolled": true
   },
   "outputs": [
    {
     "data": {
      "text/plain": [
       "array([0., 1., 1., 0., 1., 0.])"
      ]
     },
     "execution_count": 8,
     "metadata": {},
     "output_type": "execute_result"
    }
   ],
   "source": [
    "#reverse 함수 생성\n",
    "a = [1,0,0,1,0,1]\n",
    "def reverse(li):\n",
    "    return np.logical_not(li).astype(np.float64)\n",
    "\n",
    "reverse(a)"
   ]
  },
  {
   "cell_type": "markdown",
   "id": "f39a6803",
   "metadata": {},
   "source": [
    "## 700 result"
   ]
  },
  {
   "cell_type": "code",
   "execution_count": 83,
   "id": "f14b26fc",
   "metadata": {},
   "outputs": [
    {
     "data": {
      "application/vnd.jupyter.widget-view+json": {
       "model_id": "95e55493d8f74cb7b9822149da1a8152",
       "version_major": 2,
       "version_minor": 0
      },
      "text/plain": [
       "  0%|          | 0/4069 [00:00<?, ?it/s]"
      ]
     },
     "metadata": {},
     "output_type": "display_data"
    }
   ],
   "source": [
    "results = []\n",
    "results.append({'feature':'BASELINE', 'bce':base_bce_700})\n",
    "for i in tqdm(range(len(COLS))):\n",
    "    save_col = X_test[:,:,i].copy()\n",
    "    for p in range(X_test.shape[0]):\n",
    "        X_test[p,:,i] = reverse(X_test[p,:,i])\n",
    "        \n",
    "    pred = model.predict(X_test)\n",
    "    bce = BinaryCrossEntropy(pred, y_test)[0]\n",
    "    results.append({'feature':COLS[i], 'bce':bce})\n",
    "    X_test[:,:,i] = save_col"
   ]
  },
  {
   "cell_type": "code",
   "execution_count": 84,
   "id": "0fe3d28b",
   "metadata": {},
   "outputs": [
    {
     "data": {
      "text/html": [
       "<div>\n",
       "<style scoped>\n",
       "    .dataframe tbody tr th:only-of-type {\n",
       "        vertical-align: middle;\n",
       "    }\n",
       "\n",
       "    .dataframe tbody tr th {\n",
       "        vertical-align: top;\n",
       "    }\n",
       "\n",
       "    .dataframe thead th {\n",
       "        text-align: right;\n",
       "    }\n",
       "</style>\n",
       "<table border=\"1\" class=\"dataframe\">\n",
       "  <thead>\n",
       "    <tr style=\"text-align: right;\">\n",
       "      <th></th>\n",
       "      <th>feature</th>\n",
       "      <th>bce</th>\n",
       "    </tr>\n",
       "  </thead>\n",
       "  <tbody>\n",
       "    <tr>\n",
       "      <th>3834</th>\n",
       "      <td>63323026201</td>\n",
       "      <td>945.888091</td>\n",
       "    </tr>\n",
       "    <tr>\n",
       "      <th>207</th>\n",
       "      <td>51277</td>\n",
       "      <td>942.538465</td>\n",
       "    </tr>\n",
       "    <tr>\n",
       "      <th>2052</th>\n",
       "      <td>338500241</td>\n",
       "      <td>938.744749</td>\n",
       "    </tr>\n",
       "    <tr>\n",
       "      <th>1</th>\n",
       "      <td>0</td>\n",
       "      <td>936.068178</td>\n",
       "    </tr>\n",
       "    <tr>\n",
       "      <th>84</th>\n",
       "      <td>50956</td>\n",
       "      <td>935.338353</td>\n",
       "    </tr>\n",
       "    <tr>\n",
       "      <th>...</th>\n",
       "      <td>...</td>\n",
       "      <td>...</td>\n",
       "    </tr>\n",
       "    <tr>\n",
       "      <th>13</th>\n",
       "      <td>50821</td>\n",
       "      <td>913.981922</td>\n",
       "    </tr>\n",
       "    <tr>\n",
       "      <th>12</th>\n",
       "      <td>50820</td>\n",
       "      <td>913.958896</td>\n",
       "    </tr>\n",
       "    <tr>\n",
       "      <th>3900</th>\n",
       "      <td>63739002401</td>\n",
       "      <td>913.953672</td>\n",
       "    </tr>\n",
       "    <tr>\n",
       "      <th>2051</th>\n",
       "      <td>338355248</td>\n",
       "      <td>913.278603</td>\n",
       "    </tr>\n",
       "    <tr>\n",
       "      <th>95</th>\n",
       "      <td>50970</td>\n",
       "      <td>912.069099</td>\n",
       "    </tr>\n",
       "  </tbody>\n",
       "</table>\n",
       "<p>4070 rows × 2 columns</p>\n",
       "</div>"
      ],
      "text/plain": [
       "          feature         bce\n",
       "3834  63323026201  945.888091\n",
       "207         51277  942.538465\n",
       "2052    338500241  938.744749\n",
       "1               0  936.068178\n",
       "84          50956  935.338353\n",
       "...           ...         ...\n",
       "13          50821  913.981922\n",
       "12          50820  913.958896\n",
       "3900  63739002401  913.953672\n",
       "2051    338355248  913.278603\n",
       "95          50970  912.069099\n",
       "\n",
       "[4070 rows x 2 columns]"
      ]
     },
     "execution_count": 84,
     "metadata": {},
     "output_type": "execute_result"
    }
   ],
   "source": [
    "df = pd.DataFrame(results)\n",
    "df = df.sort_values('bce', ascending=False)\n",
    "df"
   ]
  },
  {
   "cell_type": "markdown",
   "id": "32a45002",
   "metadata": {},
   "source": [
    "# ALL (7727)"
   ]
  },
  {
   "cell_type": "code",
   "execution_count": 61,
   "id": "c6da889f",
   "metadata": {},
   "outputs": [
    {
     "data": {
      "text/plain": [
       "((6182, 10, 4069), (6182,), (1545, 10, 4069), (1545,))"
      ]
     },
     "execution_count": 61,
     "metadata": {},
     "output_type": "execute_result"
    }
   ],
   "source": [
    "import random    \n",
    "seed_num = 48\n",
    "random.seed(seed_num)\n",
    "\n",
    "X = np.load('/project/LSH/x_(7727,10,4069).npy')\n",
    "y = np.load('/project/LSH/y_(7727,1).npy')\n",
    "\n",
    "idx = list(range(len(X)))\n",
    "random.shuffle(idx)\n",
    "\n",
    "\n",
    "i = round(X.shape[0]*0.8)\n",
    "X_train, y_train = X[:i,:,:], y[:i]\n",
    "X_test, y_test = X[i:,:,:], y[i:]\n",
    "\n",
    "X_train.shape, y_train.shape, X_test.shape, y_test.shape"
   ]
  },
  {
   "cell_type": "code",
   "execution_count": 62,
   "id": "9be7afc1",
   "metadata": {
    "scrolled": true
   },
   "outputs": [
    {
     "name": "stdout",
     "output_type": "stream",
     "text": [
      "Epoch 1/500\n",
      "37/37 [==============================] - 5s 64ms/step - loss: 0.6255 - acc: 0.6872 - val_loss: 0.7495 - val_acc: 0.4955\n",
      "Epoch 2/500\n",
      "37/37 [==============================] - 2s 53ms/step - loss: 0.6240 - acc: 0.6887 - val_loss: 0.7583 - val_acc: 0.4955\n",
      "Epoch 3/500\n",
      "37/37 [==============================] - 2s 53ms/step - loss: 0.6265 - acc: 0.6885 - val_loss: 0.7581 - val_acc: 0.4955\n",
      "Epoch 4/500\n",
      "37/37 [==============================] - 2s 53ms/step - loss: 0.5813 - acc: 0.6943 - val_loss: 0.6175 - val_acc: 0.6953\n",
      "Epoch 5/500\n",
      "37/37 [==============================] - 2s 54ms/step - loss: 0.4594 - acc: 0.7871 - val_loss: 0.5644 - val_acc: 0.7277\n",
      "Epoch 6/500\n",
      "37/37 [==============================] - 2s 54ms/step - loss: 0.3944 - acc: 0.8281 - val_loss: 0.5836 - val_acc: 0.7212\n",
      "Epoch 7/500\n",
      "37/37 [==============================] - 2s 53ms/step - loss: 0.3458 - acc: 0.8598 - val_loss: 0.6110 - val_acc: 0.7342\n",
      "Epoch 8/500\n",
      "37/37 [==============================] - 2s 53ms/step - loss: 0.3175 - acc: 0.8794 - val_loss: 0.6430 - val_acc: 0.7342\n",
      "Epoch 9/500\n",
      "37/37 [==============================] - 2s 54ms/step - loss: 0.2873 - acc: 0.8967 - val_loss: 0.6973 - val_acc: 0.7348\n",
      "Epoch 10/500\n",
      "37/37 [==============================] - 2s 54ms/step - loss: 0.2660 - acc: 0.9072 - val_loss: 0.7159 - val_acc: 0.7309\n",
      "Epoch 11/500\n",
      "37/37 [==============================] - 2s 54ms/step - loss: 0.2597 - acc: 0.9070 - val_loss: 0.7542 - val_acc: 0.6986\n",
      "Epoch 12/500\n",
      "37/37 [==============================] - 2s 54ms/step - loss: 0.2631 - acc: 0.9062 - val_loss: 0.7121 - val_acc: 0.7173\n",
      "Epoch 13/500\n",
      "37/37 [==============================] - 2s 54ms/step - loss: 0.3039 - acc: 0.8779 - val_loss: 0.7242 - val_acc: 0.6863\n",
      "Epoch 14/500\n",
      "37/37 [==============================] - 2s 53ms/step - loss: 0.3291 - acc: 0.8691 - val_loss: 0.6295 - val_acc: 0.7367\n",
      "Epoch 15/500\n",
      "37/37 [==============================] - 2s 54ms/step - loss: 0.2420 - acc: 0.9163 - val_loss: 0.7374 - val_acc: 0.7329\n",
      "Epoch 16/500\n",
      "37/37 [==============================] - 2s 54ms/step - loss: 0.2225 - acc: 0.9217 - val_loss: 0.7786 - val_acc: 0.7232\n",
      "Epoch 17/500\n",
      "37/37 [==============================] - 2s 54ms/step - loss: 0.2039 - acc: 0.9353 - val_loss: 0.8790 - val_acc: 0.7025\n",
      "Epoch 18/500\n",
      "37/37 [==============================] - 2s 53ms/step - loss: 0.1981 - acc: 0.9372 - val_loss: 0.9061 - val_acc: 0.7012\n",
      "Epoch 19/500\n",
      "37/37 [==============================] - 2s 54ms/step - loss: 0.1748 - acc: 0.9476 - val_loss: 0.8652 - val_acc: 0.7115\n",
      "Epoch 20/500\n",
      "37/37 [==============================] - 2s 53ms/step - loss: 0.1795 - acc: 0.9433 - val_loss: 0.8979 - val_acc: 0.7038\n",
      "Epoch 21/500\n",
      "37/37 [==============================] - 2s 54ms/step - loss: 0.2255 - acc: 0.9174 - val_loss: 0.8078 - val_acc: 0.7160\n",
      "Epoch 22/500\n",
      "37/37 [==============================] - 2s 53ms/step - loss: 0.2061 - acc: 0.9308 - val_loss: 0.8216 - val_acc: 0.7180\n",
      "Epoch 23/500\n",
      "37/37 [==============================] - 2s 53ms/step - loss: 0.1612 - acc: 0.9530 - val_loss: 0.8775 - val_acc: 0.7096\n",
      "Epoch 24/500\n",
      "37/37 [==============================] - 2s 53ms/step - loss: 0.1525 - acc: 0.9584 - val_loss: 0.9039 - val_acc: 0.7096\n",
      "Epoch 25/500\n",
      "37/37 [==============================] - 2s 54ms/step - loss: 0.1468 - acc: 0.9577 - val_loss: 0.9177 - val_acc: 0.7141\n",
      "Epoch 26/500\n",
      "37/37 [==============================] - 2s 53ms/step - loss: 0.1400 - acc: 0.9620 - val_loss: 0.9440 - val_acc: 0.7135\n",
      "Epoch 27/500\n",
      "37/37 [==============================] - 2s 53ms/step - loss: 0.1336 - acc: 0.9646 - val_loss: 0.9614 - val_acc: 0.7160\n",
      "Epoch 28/500\n",
      "37/37 [==============================] - 2s 53ms/step - loss: 0.1302 - acc: 0.9651 - val_loss: 0.9761 - val_acc: 0.7102\n",
      "Epoch 29/500\n",
      "37/37 [==============================] - 2s 54ms/step - loss: 0.1252 - acc: 0.9674 - val_loss: 1.0000 - val_acc: 0.7115\n",
      "Epoch 30/500\n",
      "37/37 [==============================] - 2s 54ms/step - loss: 0.1201 - acc: 0.9700 - val_loss: 1.0302 - val_acc: 0.7083\n",
      "Epoch 31/500\n",
      "37/37 [==============================] - 2s 54ms/step - loss: 0.1161 - acc: 0.9717 - val_loss: 1.0383 - val_acc: 0.7063\n",
      "Epoch 32/500\n",
      "37/37 [==============================] - 2s 54ms/step - loss: 0.1155 - acc: 0.9713 - val_loss: 1.0613 - val_acc: 0.7050\n",
      "Epoch 33/500\n",
      "37/37 [==============================] - 2s 54ms/step - loss: 0.1130 - acc: 0.9722 - val_loss: 1.0565 - val_acc: 0.7005\n",
      "Epoch 34/500\n",
      "37/37 [==============================] - 2s 53ms/step - loss: 0.1068 - acc: 0.9728 - val_loss: 1.0886 - val_acc: 0.7018\n",
      "Epoch 35/500\n",
      "37/37 [==============================] - 2s 54ms/step - loss: 0.1054 - acc: 0.9739 - val_loss: 1.1157 - val_acc: 0.6992\n",
      "Epoch 36/500\n",
      "37/37 [==============================] - 2s 54ms/step - loss: 0.1018 - acc: 0.9750 - val_loss: 1.1301 - val_acc: 0.6973\n",
      "Epoch 37/500\n",
      "37/37 [==============================] - 2s 54ms/step - loss: 0.0992 - acc: 0.9750 - val_loss: 1.1396 - val_acc: 0.6979\n",
      "Epoch 38/500\n",
      "37/37 [==============================] - 2s 53ms/step - loss: 0.0990 - acc: 0.9748 - val_loss: 1.1317 - val_acc: 0.6953\n",
      "Epoch 39/500\n",
      "37/37 [==============================] - 2s 54ms/step - loss: 0.0988 - acc: 0.9733 - val_loss: 1.1476 - val_acc: 0.6999\n",
      "Epoch 40/500\n",
      "37/37 [==============================] - 2s 54ms/step - loss: 0.0969 - acc: 0.9743 - val_loss: 1.2036 - val_acc: 0.6869\n",
      "Epoch 41/500\n",
      "37/37 [==============================] - 2s 54ms/step - loss: 0.0955 - acc: 0.9739 - val_loss: 1.2294 - val_acc: 0.6882\n",
      "Epoch 42/500\n",
      "37/37 [==============================] - 2s 54ms/step - loss: 0.1061 - acc: 0.9692 - val_loss: 1.2143 - val_acc: 0.6837\n",
      "Epoch 43/500\n",
      "37/37 [==============================] - 2s 54ms/step - loss: 0.1125 - acc: 0.9679 - val_loss: 1.1404 - val_acc: 0.6973\n",
      "Epoch 44/500\n",
      "37/37 [==============================] - 2s 54ms/step - loss: 0.1266 - acc: 0.9612 - val_loss: 1.0978 - val_acc: 0.7031\n",
      "Restoring model weights from the end of the best epoch.\n",
      "Epoch 00044: early stopping\n"
     ]
    },
    {
     "data": {
      "text/plain": [
       "<tensorflow.python.keras.callbacks.History at 0x7fac4b693340>"
      ]
     },
     "execution_count": 62,
     "metadata": {},
     "output_type": "execute_result"
    }
   ],
   "source": [
    "model = get_model()\n",
    "early_stop = EarlyStopping(monitor='val_acc', patience=30, verbose=1, restore_best_weights=True)\n",
    "model.fit(X_train, y_train, validation_split=0.25, batch_size=128, epochs=500,  callbacks=[early_stop], shuffle=False)"
   ]
  },
  {
   "cell_type": "code",
   "execution_count": 63,
   "id": "8e245bda",
   "metadata": {},
   "outputs": [],
   "source": [
    "pred = model.predict(X_test)\n",
    "# bce = tf.keras.losses.BinaryCrossentropy(from_logits=True)\n",
    "base_bce = BinaryCrossEntropy(pred, y_test)[0]"
   ]
  },
  {
   "cell_type": "code",
   "execution_count": 64,
   "id": "c94a71b2",
   "metadata": {},
   "outputs": [
    {
     "data": {
      "application/vnd.jupyter.widget-view+json": {
       "model_id": "5a92570f4b0c49b2aab24c9f4384712c",
       "version_major": 2,
       "version_minor": 0
      },
      "text/plain": [
       "  0%|          | 0/4069 [00:00<?, ?it/s]"
      ]
     },
     "metadata": {},
     "output_type": "display_data"
    }
   ],
   "source": [
    "results = []\n",
    "results.append({'feature':'BASELINE', 'bce':base_bce})\n",
    "\n",
    "for i in tqdm(range(len(COLS))):\n",
    "    #원본 저장해놓고 for문 하나 끝날 때 다시 복원해준다. - save_col\n",
    "    save_col = X_test[:,:,i].copy()\n",
    "    for p in range(X_test.shape[0]):\n",
    "        X_test[p,:,i] = reverse(X_test[p,:,i])\n",
    "        \n",
    "    pred = model.predict(X_test)\n",
    "    bce = BinaryCrossEntropy(pred, y_test)[0]\n",
    "    results.append({'feature':COLS[i], 'bce':bce})\n",
    "    X_test[:,:,i] = save_col"
   ]
  },
  {
   "cell_type": "code",
   "execution_count": 70,
   "id": "48dd504f",
   "metadata": {},
   "outputs": [
    {
     "data": {
      "text/html": [
       "<div>\n",
       "<style scoped>\n",
       "    .dataframe tbody tr th:only-of-type {\n",
       "        vertical-align: middle;\n",
       "    }\n",
       "\n",
       "    .dataframe tbody tr th {\n",
       "        vertical-align: top;\n",
       "    }\n",
       "\n",
       "    .dataframe thead th {\n",
       "        text-align: right;\n",
       "    }\n",
       "</style>\n",
       "<table border=\"1\" class=\"dataframe\">\n",
       "  <thead>\n",
       "    <tr style=\"text-align: right;\">\n",
       "      <th></th>\n",
       "      <th>feature</th>\n",
       "      <th>bce</th>\n",
       "    </tr>\n",
       "  </thead>\n",
       "  <tbody>\n",
       "    <tr>\n",
       "      <th>2197</th>\n",
       "      <td>409606211</td>\n",
       "      <td>10634.860764</td>\n",
       "    </tr>\n",
       "    <tr>\n",
       "      <th>3285</th>\n",
       "      <td>51479005520</td>\n",
       "      <td>9598.850359</td>\n",
       "    </tr>\n",
       "    <tr>\n",
       "      <th>1082</th>\n",
       "      <td>67434504</td>\n",
       "      <td>9274.589349</td>\n",
       "    </tr>\n",
       "    <tr>\n",
       "      <th>1277</th>\n",
       "      <td>74606211</td>\n",
       "      <td>9222.603923</td>\n",
       "    </tr>\n",
       "    <tr>\n",
       "      <th>3588</th>\n",
       "      <td>59011010325</td>\n",
       "      <td>9214.718024</td>\n",
       "    </tr>\n",
       "    <tr>\n",
       "      <th>...</th>\n",
       "      <td>...</td>\n",
       "      <td>...</td>\n",
       "    </tr>\n",
       "    <tr>\n",
       "      <th>2155</th>\n",
       "      <td>409198530</td>\n",
       "      <td>7929.591817</td>\n",
       "    </tr>\n",
       "    <tr>\n",
       "      <th>2191</th>\n",
       "      <td>409490234</td>\n",
       "      <td>7914.460668</td>\n",
       "    </tr>\n",
       "    <tr>\n",
       "      <th>306</th>\n",
       "      <td>224275</td>\n",
       "      <td>7910.113561</td>\n",
       "    </tr>\n",
       "    <tr>\n",
       "      <th>3458</th>\n",
       "      <td>55390000401</td>\n",
       "      <td>7906.018468</td>\n",
       "    </tr>\n",
       "    <tr>\n",
       "      <th>570</th>\n",
       "      <td>6473900</td>\n",
       "      <td>7830.683974</td>\n",
       "    </tr>\n",
       "  </tbody>\n",
       "</table>\n",
       "<p>4070 rows × 2 columns</p>\n",
       "</div>"
      ],
      "text/plain": [
       "          feature           bce\n",
       "2197    409606211  10634.860764\n",
       "3285  51479005520   9598.850359\n",
       "1082     67434504   9274.589349\n",
       "1277     74606211   9222.603923\n",
       "3588  59011010325   9214.718024\n",
       "...           ...           ...\n",
       "2155    409198530   7929.591817\n",
       "2191    409490234   7914.460668\n",
       "306        224275   7910.113561\n",
       "3458  55390000401   7906.018468\n",
       "570       6473900   7830.683974\n",
       "\n",
       "[4070 rows x 2 columns]"
      ]
     },
     "execution_count": 70,
     "metadata": {},
     "output_type": "execute_result"
    }
   ],
   "source": [
    "df1 = pd.DataFrame(results)\n",
    "df1 = df1.sort_values('bce', ascending=False)\n",
    "df1"
   ]
  },
  {
   "cell_type": "code",
   "execution_count": 71,
   "id": "9ff52559",
   "metadata": {},
   "outputs": [],
   "source": [
    "df1.to_csv('./reverse_FI.csv', index=False)\n",
    "a = pd.read_csv('./reverse_FI.csv')"
   ]
  },
  {
   "cell_type": "code",
   "execution_count": 72,
   "id": "969acfb3",
   "metadata": {
    "scrolled": true
   },
   "outputs": [
    {
     "data": {
      "text/html": [
       "<div>\n",
       "<style scoped>\n",
       "    .dataframe tbody tr th:only-of-type {\n",
       "        vertical-align: middle;\n",
       "    }\n",
       "\n",
       "    .dataframe tbody tr th {\n",
       "        vertical-align: top;\n",
       "    }\n",
       "\n",
       "    .dataframe thead th {\n",
       "        text-align: right;\n",
       "    }\n",
       "</style>\n",
       "<table border=\"1\" class=\"dataframe\">\n",
       "  <thead>\n",
       "    <tr style=\"text-align: right;\">\n",
       "      <th></th>\n",
       "      <th>feature</th>\n",
       "      <th>bce</th>\n",
       "    </tr>\n",
       "  </thead>\n",
       "  <tbody>\n",
       "    <tr>\n",
       "      <th>4060</th>\n",
       "      <td>338004904</td>\n",
       "      <td>7940.537330</td>\n",
       "    </tr>\n",
       "    <tr>\n",
       "      <th>4061</th>\n",
       "      <td>74131702</td>\n",
       "      <td>7940.033262</td>\n",
       "    </tr>\n",
       "    <tr>\n",
       "      <th>4062</th>\n",
       "      <td>409131230</td>\n",
       "      <td>7939.818158</td>\n",
       "    </tr>\n",
       "    <tr>\n",
       "      <th>4063</th>\n",
       "      <td>409433201</td>\n",
       "      <td>7937.969892</td>\n",
       "    </tr>\n",
       "    <tr>\n",
       "      <th>4064</th>\n",
       "      <td>574705050</td>\n",
       "      <td>7935.889340</td>\n",
       "    </tr>\n",
       "    <tr>\n",
       "      <th>4065</th>\n",
       "      <td>409198530</td>\n",
       "      <td>7929.591817</td>\n",
       "    </tr>\n",
       "    <tr>\n",
       "      <th>4066</th>\n",
       "      <td>409490234</td>\n",
       "      <td>7914.460668</td>\n",
       "    </tr>\n",
       "    <tr>\n",
       "      <th>4067</th>\n",
       "      <td>224275</td>\n",
       "      <td>7910.113561</td>\n",
       "    </tr>\n",
       "    <tr>\n",
       "      <th>4068</th>\n",
       "      <td>55390000401</td>\n",
       "      <td>7906.018468</td>\n",
       "    </tr>\n",
       "    <tr>\n",
       "      <th>4069</th>\n",
       "      <td>6473900</td>\n",
       "      <td>7830.683974</td>\n",
       "    </tr>\n",
       "  </tbody>\n",
       "</table>\n",
       "</div>"
      ],
      "text/plain": [
       "          feature          bce\n",
       "4060    338004904  7940.537330\n",
       "4061     74131702  7940.033262\n",
       "4062    409131230  7939.818158\n",
       "4063    409433201  7937.969892\n",
       "4064    574705050  7935.889340\n",
       "4065    409198530  7929.591817\n",
       "4066    409490234  7914.460668\n",
       "4067       224275  7910.113561\n",
       "4068  55390000401  7906.018468\n",
       "4069      6473900  7830.683974"
      ]
     },
     "execution_count": 72,
     "metadata": {},
     "output_type": "execute_result"
    }
   ],
   "source": [
    "a[-10:]"
   ]
  },
  {
   "cell_type": "code",
   "execution_count": null,
   "id": "3d6c01a4",
   "metadata": {},
   "outputs": [],
   "source": []
  },
  {
   "cell_type": "markdown",
   "id": "eba172a6",
   "metadata": {},
   "source": [
    "# ALL (7727) - D-1~5\n",
    "- `X_test[p,:,i]` 부분을 `X_test[p,-5:,i]`로 수정"
   ]
  },
  {
   "cell_type": "code",
   "execution_count": 85,
   "id": "1a794126",
   "metadata": {},
   "outputs": [
    {
     "data": {
      "text/plain": [
       "((6182, 10, 4069), (6182,), (1545, 10, 4069), (1545,))"
      ]
     },
     "execution_count": 85,
     "metadata": {},
     "output_type": "execute_result"
    }
   ],
   "source": [
    "import random    \n",
    "seed_num = 48\n",
    "random.seed(seed_num)\n",
    "\n",
    "X = np.load('/project/LSH/x_(7727,10,4069).npy')\n",
    "y = np.load('/project/LSH/y_(7727,1).npy')\n",
    "\n",
    "idx = list(range(len(X)))\n",
    "random.shuffle(idx)\n",
    "\n",
    "\n",
    "i = round(X.shape[0]*0.8)\n",
    "X_train, y_train = X[:i,:,:], y[:i]\n",
    "X_test, y_test = X[i:,:,:], y[i:]\n",
    "\n",
    "X_train.shape, y_train.shape, X_test.shape, y_test.shape"
   ]
  },
  {
   "cell_type": "code",
   "execution_count": 86,
   "id": "6835ffd7",
   "metadata": {
    "scrolled": true
   },
   "outputs": [
    {
     "name": "stdout",
     "output_type": "stream",
     "text": [
      "Epoch 1/500\n",
      "37/37 [==============================] - 5s 63ms/step - loss: 0.6255 - acc: 0.6872 - val_loss: 0.7495 - val_acc: 0.4955\n",
      "Epoch 2/500\n",
      "37/37 [==============================] - 2s 53ms/step - loss: 0.6240 - acc: 0.6887 - val_loss: 0.7583 - val_acc: 0.4955\n",
      "Epoch 3/500\n",
      "37/37 [==============================] - 2s 53ms/step - loss: 0.6265 - acc: 0.6885 - val_loss: 0.7581 - val_acc: 0.4955\n",
      "Epoch 4/500\n",
      "37/37 [==============================] - 2s 53ms/step - loss: 0.5813 - acc: 0.6943 - val_loss: 0.6175 - val_acc: 0.6953\n",
      "Epoch 5/500\n",
      "37/37 [==============================] - 2s 53ms/step - loss: 0.4594 - acc: 0.7871 - val_loss: 0.5644 - val_acc: 0.7277\n",
      "Epoch 6/500\n",
      "37/37 [==============================] - 2s 53ms/step - loss: 0.3944 - acc: 0.8281 - val_loss: 0.5836 - val_acc: 0.7212\n",
      "Epoch 7/500\n",
      "37/37 [==============================] - 2s 53ms/step - loss: 0.3458 - acc: 0.8598 - val_loss: 0.6110 - val_acc: 0.7342\n",
      "Epoch 8/500\n",
      "37/37 [==============================] - 2s 54ms/step - loss: 0.3175 - acc: 0.8794 - val_loss: 0.6430 - val_acc: 0.7342\n",
      "Epoch 9/500\n",
      "37/37 [==============================] - 2s 53ms/step - loss: 0.2873 - acc: 0.8967 - val_loss: 0.6973 - val_acc: 0.7348\n",
      "Epoch 10/500\n",
      "37/37 [==============================] - 2s 53ms/step - loss: 0.2660 - acc: 0.9072 - val_loss: 0.7159 - val_acc: 0.7309\n",
      "Epoch 11/500\n",
      "37/37 [==============================] - 2s 53ms/step - loss: 0.2597 - acc: 0.9070 - val_loss: 0.7542 - val_acc: 0.6986\n",
      "Epoch 12/500\n",
      "37/37 [==============================] - 2s 53ms/step - loss: 0.2631 - acc: 0.9062 - val_loss: 0.7121 - val_acc: 0.7173\n",
      "Epoch 13/500\n",
      "37/37 [==============================] - 2s 53ms/step - loss: 0.3039 - acc: 0.8779 - val_loss: 0.7242 - val_acc: 0.6863\n",
      "Epoch 14/500\n",
      "37/37 [==============================] - 2s 54ms/step - loss: 0.3291 - acc: 0.8691 - val_loss: 0.6295 - val_acc: 0.7367\n",
      "Epoch 15/500\n",
      "37/37 [==============================] - 2s 54ms/step - loss: 0.2420 - acc: 0.9163 - val_loss: 0.7374 - val_acc: 0.7329\n",
      "Epoch 16/500\n",
      "37/37 [==============================] - 2s 54ms/step - loss: 0.2225 - acc: 0.9217 - val_loss: 0.7786 - val_acc: 0.7232\n",
      "Epoch 17/500\n",
      "37/37 [==============================] - 2s 54ms/step - loss: 0.2039 - acc: 0.9353 - val_loss: 0.8790 - val_acc: 0.7025\n",
      "Epoch 18/500\n",
      "37/37 [==============================] - 2s 54ms/step - loss: 0.1981 - acc: 0.9372 - val_loss: 0.9061 - val_acc: 0.7012\n",
      "Epoch 19/500\n",
      "37/37 [==============================] - 2s 53ms/step - loss: 0.1748 - acc: 0.9476 - val_loss: 0.8652 - val_acc: 0.7115\n",
      "Epoch 20/500\n",
      "37/37 [==============================] - 2s 54ms/step - loss: 0.1795 - acc: 0.9433 - val_loss: 0.8979 - val_acc: 0.7038\n",
      "Epoch 21/500\n",
      "37/37 [==============================] - 2s 54ms/step - loss: 0.2255 - acc: 0.9174 - val_loss: 0.8078 - val_acc: 0.7160\n",
      "Epoch 22/500\n",
      "37/37 [==============================] - 2s 54ms/step - loss: 0.2061 - acc: 0.9308 - val_loss: 0.8216 - val_acc: 0.7180\n",
      "Epoch 23/500\n",
      "37/37 [==============================] - 2s 54ms/step - loss: 0.1612 - acc: 0.9530 - val_loss: 0.8775 - val_acc: 0.7096\n",
      "Epoch 24/500\n",
      "37/37 [==============================] - 2s 54ms/step - loss: 0.1525 - acc: 0.9584 - val_loss: 0.9039 - val_acc: 0.7096\n",
      "Epoch 25/500\n",
      "37/37 [==============================] - 2s 54ms/step - loss: 0.1468 - acc: 0.9577 - val_loss: 0.9177 - val_acc: 0.7141\n",
      "Epoch 26/500\n",
      "37/37 [==============================] - 2s 54ms/step - loss: 0.1400 - acc: 0.9620 - val_loss: 0.9440 - val_acc: 0.7135\n",
      "Epoch 27/500\n",
      "37/37 [==============================] - 2s 54ms/step - loss: 0.1336 - acc: 0.9646 - val_loss: 0.9614 - val_acc: 0.7160\n",
      "Epoch 28/500\n",
      "37/37 [==============================] - 2s 53ms/step - loss: 0.1302 - acc: 0.9651 - val_loss: 0.9761 - val_acc: 0.7102\n",
      "Epoch 29/500\n",
      "37/37 [==============================] - 2s 54ms/step - loss: 0.1252 - acc: 0.9674 - val_loss: 1.0000 - val_acc: 0.7115\n",
      "Epoch 30/500\n",
      "37/37 [==============================] - 2s 54ms/step - loss: 0.1201 - acc: 0.9700 - val_loss: 1.0302 - val_acc: 0.7083\n",
      "Epoch 31/500\n",
      "37/37 [==============================] - 2s 54ms/step - loss: 0.1161 - acc: 0.9717 - val_loss: 1.0383 - val_acc: 0.7063\n",
      "Epoch 32/500\n",
      "37/37 [==============================] - 2s 53ms/step - loss: 0.1155 - acc: 0.9713 - val_loss: 1.0613 - val_acc: 0.7050\n",
      "Epoch 33/500\n",
      "37/37 [==============================] - 2s 54ms/step - loss: 0.1130 - acc: 0.9722 - val_loss: 1.0565 - val_acc: 0.7005\n",
      "Epoch 34/500\n",
      "37/37 [==============================] - 2s 54ms/step - loss: 0.1068 - acc: 0.9728 - val_loss: 1.0886 - val_acc: 0.7018\n",
      "Epoch 35/500\n",
      "37/37 [==============================] - 2s 53ms/step - loss: 0.1054 - acc: 0.9739 - val_loss: 1.1157 - val_acc: 0.6992\n",
      "Epoch 36/500\n",
      "37/37 [==============================] - 2s 53ms/step - loss: 0.1018 - acc: 0.9750 - val_loss: 1.1301 - val_acc: 0.6973\n",
      "Epoch 37/500\n",
      "37/37 [==============================] - 2s 53ms/step - loss: 0.0992 - acc: 0.9750 - val_loss: 1.1396 - val_acc: 0.6979\n",
      "Epoch 38/500\n",
      "37/37 [==============================] - 2s 53ms/step - loss: 0.0990 - acc: 0.9748 - val_loss: 1.1317 - val_acc: 0.6953\n",
      "Epoch 39/500\n",
      "37/37 [==============================] - 2s 54ms/step - loss: 0.0988 - acc: 0.9733 - val_loss: 1.1476 - val_acc: 0.6999\n",
      "Epoch 40/500\n",
      "37/37 [==============================] - 2s 53ms/step - loss: 0.0969 - acc: 0.9743 - val_loss: 1.2036 - val_acc: 0.6869\n",
      "Epoch 41/500\n",
      "37/37 [==============================] - 2s 54ms/step - loss: 0.0955 - acc: 0.9739 - val_loss: 1.2294 - val_acc: 0.6882\n",
      "Epoch 42/500\n",
      "37/37 [==============================] - 2s 53ms/step - loss: 0.1061 - acc: 0.9692 - val_loss: 1.2143 - val_acc: 0.6837\n",
      "Epoch 43/500\n",
      "37/37 [==============================] - 2s 54ms/step - loss: 0.1125 - acc: 0.9679 - val_loss: 1.1404 - val_acc: 0.6973\n",
      "Epoch 44/500\n",
      "37/37 [==============================] - 2s 54ms/step - loss: 0.1266 - acc: 0.9612 - val_loss: 1.0978 - val_acc: 0.7031\n",
      "Restoring model weights from the end of the best epoch.\n",
      "Epoch 00044: early stopping\n"
     ]
    },
    {
     "data": {
      "text/plain": [
       "<tensorflow.python.keras.callbacks.History at 0x7fac4bc58730>"
      ]
     },
     "execution_count": 86,
     "metadata": {},
     "output_type": "execute_result"
    }
   ],
   "source": [
    "#위에서 ALL(7727) 실행했다면, 그 모델 그대로 사용! (즉, 이 cell 생략 가능 어차피 같은 데이터, 같은 모델이기 때문에)\n",
    "model = get_model()\n",
    "early_stop = EarlyStopping(monitor='val_acc', patience=30, verbose=1, restore_best_weights=True)\n",
    "model.fit(X_train, y_train, validation_split=0.25, batch_size=128, epochs=500,  callbacks=[early_stop], shuffle=False)"
   ]
  },
  {
   "cell_type": "code",
   "execution_count": 87,
   "id": "b0c63103",
   "metadata": {},
   "outputs": [],
   "source": [
    "pred = model.predict(X_test)\n",
    "# bce = tf.keras.losses.BinaryCrossentropy(from_logits=True)\n",
    "base_bce = BinaryCrossEntropy(pred, y_test)[0]"
   ]
  },
  {
   "cell_type": "code",
   "execution_count": 96,
   "id": "45e4db76",
   "metadata": {},
   "outputs": [
    {
     "data": {
      "application/vnd.jupyter.widget-view+json": {
       "model_id": "adab41d69a804fe99abfd76af7539ac3",
       "version_major": 2,
       "version_minor": 0
      },
      "text/plain": [
       "  0%|          | 0/4069 [00:00<?, ?it/s]"
      ]
     },
     "metadata": {},
     "output_type": "display_data"
    }
   ],
   "source": [
    "results = []\n",
    "results.append({'feature':'BASELINE', 'bce':base_bce})\n",
    "\n",
    "for i in tqdm(range(len(COLS))):\n",
    "    save_col = X_test[:,:,i].copy()\n",
    "    for p in range(X_test.shape[0]):\n",
    "        X_test[p,-5:,i] = reverse(X_test[p,-5:,i])\n",
    "    pred = model.predict(X_test)\n",
    "    bce = BinaryCrossEntropy(pred, y_test)[0]\n",
    "    results.append({'feature':COLS[i], 'bce':bce})\n",
    "    X_test[:,:,i] = save_col\n",
    "    "
   ]
  },
  {
   "cell_type": "code",
   "execution_count": null,
   "id": "9e621fe0",
   "metadata": {},
   "outputs": [],
   "source": [
    "df2 = pd.DataFrame(results)\n",
    "df2 = df2.sort_values('bce', ascending=False)\n",
    "df2"
   ]
  },
  {
   "cell_type": "code",
   "execution_count": null,
   "id": "41afab49",
   "metadata": {},
   "outputs": [],
   "source": [
    "df2.to_csv('./reverse_FI_d1d5.csv', index=False)"
   ]
  },
  {
   "cell_type": "code",
   "execution_count": 4,
   "id": "51f25479",
   "metadata": {},
   "outputs": [
    {
     "data": {
      "text/html": [
       "<div>\n",
       "<style scoped>\n",
       "    .dataframe tbody tr th:only-of-type {\n",
       "        vertical-align: middle;\n",
       "    }\n",
       "\n",
       "    .dataframe tbody tr th {\n",
       "        vertical-align: top;\n",
       "    }\n",
       "\n",
       "    .dataframe thead th {\n",
       "        text-align: right;\n",
       "    }\n",
       "</style>\n",
       "<table border=\"1\" class=\"dataframe\">\n",
       "  <thead>\n",
       "    <tr style=\"text-align: right;\">\n",
       "      <th></th>\n",
       "      <th>feature</th>\n",
       "      <th>bce</th>\n",
       "    </tr>\n",
       "  </thead>\n",
       "  <tbody>\n",
       "    <tr>\n",
       "      <th>0</th>\n",
       "      <td>409606211</td>\n",
       "      <td>10338.055660</td>\n",
       "    </tr>\n",
       "    <tr>\n",
       "      <th>1</th>\n",
       "      <td>51479005520</td>\n",
       "      <td>9306.662853</td>\n",
       "    </tr>\n",
       "    <tr>\n",
       "      <th>2</th>\n",
       "      <td>74606211</td>\n",
       "      <td>9226.959121</td>\n",
       "    </tr>\n",
       "    <tr>\n",
       "      <th>3</th>\n",
       "      <td>67434504</td>\n",
       "      <td>9206.570207</td>\n",
       "    </tr>\n",
       "    <tr>\n",
       "      <th>4</th>\n",
       "      <td>59011010325</td>\n",
       "      <td>9053.431215</td>\n",
       "    </tr>\n",
       "    <tr>\n",
       "      <th>...</th>\n",
       "      <td>...</td>\n",
       "      <td>...</td>\n",
       "    </tr>\n",
       "    <tr>\n",
       "      <th>4065</th>\n",
       "      <td>641607325</td>\n",
       "      <td>7964.610127</td>\n",
       "    </tr>\n",
       "    <tr>\n",
       "      <th>4066</th>\n",
       "      <td>555077002</td>\n",
       "      <td>7963.532106</td>\n",
       "    </tr>\n",
       "    <tr>\n",
       "      <th>4067</th>\n",
       "      <td>55390000401</td>\n",
       "      <td>7962.112998</td>\n",
       "    </tr>\n",
       "    <tr>\n",
       "      <th>4068</th>\n",
       "      <td>10019003867</td>\n",
       "      <td>7949.474121</td>\n",
       "    </tr>\n",
       "    <tr>\n",
       "      <th>4069</th>\n",
       "      <td>6473900</td>\n",
       "      <td>7879.723246</td>\n",
       "    </tr>\n",
       "  </tbody>\n",
       "</table>\n",
       "<p>4070 rows × 2 columns</p>\n",
       "</div>"
      ],
      "text/plain": [
       "          feature           bce\n",
       "0       409606211  10338.055660\n",
       "1     51479005520   9306.662853\n",
       "2        74606211   9226.959121\n",
       "3        67434504   9206.570207\n",
       "4     59011010325   9053.431215\n",
       "...           ...           ...\n",
       "4065    641607325   7964.610127\n",
       "4066    555077002   7963.532106\n",
       "4067  55390000401   7962.112998\n",
       "4068  10019003867   7949.474121\n",
       "4069      6473900   7879.723246\n",
       "\n",
       "[4070 rows x 2 columns]"
      ]
     },
     "execution_count": 4,
     "metadata": {},
     "output_type": "execute_result"
    }
   ],
   "source": [
    "a = pd.read_csv('./reverse_FI_d1d5.csv')\n",
    "a"
   ]
  },
  {
   "cell_type": "markdown",
   "id": "1ff9729c",
   "metadata": {},
   "source": [
    "# ALL (7727) - D-6~10\n",
    "- `X_test[p,:,i]` 부분을 `X_test[p,:5,i]`로 수정"
   ]
  },
  {
   "cell_type": "code",
   "execution_count": 8,
   "id": "0fb0062d",
   "metadata": {},
   "outputs": [
    {
     "data": {
      "text/plain": [
       "((6182, 10, 4069), (6182,), (1545, 10, 4069), (1545,))"
      ]
     },
     "execution_count": 8,
     "metadata": {},
     "output_type": "execute_result"
    }
   ],
   "source": [
    "import random    \n",
    "seed_num = 48\n",
    "random.seed(seed_num)\n",
    "\n",
    "X = np.load('/project/LSH/x_(7727,10,4069).npy')\n",
    "y = np.load('/project/LSH/y_(7727,1).npy')\n",
    "\n",
    "idx = list(range(len(X)))\n",
    "random.shuffle(idx)\n",
    "\n",
    "\n",
    "i = round(X.shape[0]*0.8)\n",
    "X_train, y_train = X[:i,:,:], y[:i]\n",
    "X_test, y_test = X[i:,:,:], y[i:]\n",
    "\n",
    "X_train.shape, y_train.shape, X_test.shape, y_test.shape"
   ]
  },
  {
   "cell_type": "code",
   "execution_count": 9,
   "id": "db2fe4d3",
   "metadata": {
    "scrolled": true
   },
   "outputs": [
    {
     "name": "stdout",
     "output_type": "stream",
     "text": [
      "Epoch 1/500\n",
      "37/37 [==============================] - 5s 68ms/step - loss: 0.6255 - acc: 0.6872 - val_loss: 0.7495 - val_acc: 0.4955\n",
      "Epoch 2/500\n",
      "37/37 [==============================] - 2s 54ms/step - loss: 0.6240 - acc: 0.6887 - val_loss: 0.7583 - val_acc: 0.4955\n",
      "Epoch 3/500\n",
      "37/37 [==============================] - 2s 54ms/step - loss: 0.6265 - acc: 0.6885 - val_loss: 0.7581 - val_acc: 0.4955\n",
      "Epoch 4/500\n",
      "37/37 [==============================] - 2s 54ms/step - loss: 0.5813 - acc: 0.6943 - val_loss: 0.6175 - val_acc: 0.6953\n",
      "Epoch 5/500\n",
      "37/37 [==============================] - 2s 53ms/step - loss: 0.4594 - acc: 0.7871 - val_loss: 0.5644 - val_acc: 0.7277\n",
      "Epoch 6/500\n",
      "37/37 [==============================] - 2s 54ms/step - loss: 0.3944 - acc: 0.8281 - val_loss: 0.5836 - val_acc: 0.7212\n",
      "Epoch 7/500\n",
      "37/37 [==============================] - 2s 54ms/step - loss: 0.3458 - acc: 0.8598 - val_loss: 0.6110 - val_acc: 0.7342\n",
      "Epoch 8/500\n",
      "37/37 [==============================] - 2s 54ms/step - loss: 0.3175 - acc: 0.8794 - val_loss: 0.6430 - val_acc: 0.7342\n",
      "Epoch 9/500\n",
      "37/37 [==============================] - 2s 54ms/step - loss: 0.2873 - acc: 0.8967 - val_loss: 0.6973 - val_acc: 0.7348\n",
      "Epoch 10/500\n",
      "37/37 [==============================] - 2s 54ms/step - loss: 0.2660 - acc: 0.9072 - val_loss: 0.7159 - val_acc: 0.7309\n",
      "Epoch 11/500\n",
      "37/37 [==============================] - 2s 53ms/step - loss: 0.2597 - acc: 0.9070 - val_loss: 0.7542 - val_acc: 0.6986\n",
      "Epoch 12/500\n",
      "37/37 [==============================] - 2s 54ms/step - loss: 0.2631 - acc: 0.9062 - val_loss: 0.7121 - val_acc: 0.7173\n",
      "Epoch 13/500\n",
      "37/37 [==============================] - 2s 53ms/step - loss: 0.3039 - acc: 0.8779 - val_loss: 0.7242 - val_acc: 0.6863\n",
      "Epoch 14/500\n",
      "37/37 [==============================] - 2s 54ms/step - loss: 0.3291 - acc: 0.8691 - val_loss: 0.6295 - val_acc: 0.7367\n",
      "Epoch 15/500\n",
      "37/37 [==============================] - 2s 53ms/step - loss: 0.2420 - acc: 0.9163 - val_loss: 0.7374 - val_acc: 0.7329\n",
      "Epoch 16/500\n",
      "37/37 [==============================] - 2s 54ms/step - loss: 0.2225 - acc: 0.9217 - val_loss: 0.7786 - val_acc: 0.7232\n",
      "Epoch 17/500\n",
      "37/37 [==============================] - 2s 53ms/step - loss: 0.2039 - acc: 0.9353 - val_loss: 0.8790 - val_acc: 0.7025\n",
      "Epoch 18/500\n",
      "37/37 [==============================] - 2s 53ms/step - loss: 0.1981 - acc: 0.9372 - val_loss: 0.9061 - val_acc: 0.7012\n",
      "Epoch 19/500\n",
      "37/37 [==============================] - 2s 53ms/step - loss: 0.1748 - acc: 0.9476 - val_loss: 0.8652 - val_acc: 0.7115\n",
      "Epoch 20/500\n",
      "37/37 [==============================] - 2s 53ms/step - loss: 0.1795 - acc: 0.9433 - val_loss: 0.8979 - val_acc: 0.7038\n",
      "Epoch 21/500\n",
      "37/37 [==============================] - 2s 53ms/step - loss: 0.2255 - acc: 0.9174 - val_loss: 0.8078 - val_acc: 0.7160\n",
      "Epoch 22/500\n",
      "37/37 [==============================] - 2s 53ms/step - loss: 0.2061 - acc: 0.9308 - val_loss: 0.8216 - val_acc: 0.7180\n",
      "Epoch 23/500\n",
      "37/37 [==============================] - 2s 53ms/step - loss: 0.1612 - acc: 0.9530 - val_loss: 0.8775 - val_acc: 0.7096\n",
      "Epoch 24/500\n",
      "37/37 [==============================] - 2s 53ms/step - loss: 0.1525 - acc: 0.9584 - val_loss: 0.9039 - val_acc: 0.7096\n",
      "Epoch 25/500\n",
      "37/37 [==============================] - 2s 54ms/step - loss: 0.1468 - acc: 0.9577 - val_loss: 0.9177 - val_acc: 0.7141\n",
      "Epoch 26/500\n",
      "37/37 [==============================] - 2s 53ms/step - loss: 0.1400 - acc: 0.9620 - val_loss: 0.9440 - val_acc: 0.7135\n",
      "Epoch 27/500\n",
      "37/37 [==============================] - 2s 53ms/step - loss: 0.1336 - acc: 0.9646 - val_loss: 0.9614 - val_acc: 0.7160\n",
      "Epoch 28/500\n",
      "37/37 [==============================] - 2s 54ms/step - loss: 0.1302 - acc: 0.9651 - val_loss: 0.9761 - val_acc: 0.7102\n",
      "Epoch 29/500\n",
      "37/37 [==============================] - 2s 53ms/step - loss: 0.1252 - acc: 0.9674 - val_loss: 1.0000 - val_acc: 0.7115\n",
      "Epoch 30/500\n",
      "37/37 [==============================] - 2s 53ms/step - loss: 0.1201 - acc: 0.9700 - val_loss: 1.0302 - val_acc: 0.7083\n",
      "Epoch 31/500\n",
      "37/37 [==============================] - 2s 54ms/step - loss: 0.1161 - acc: 0.9717 - val_loss: 1.0383 - val_acc: 0.7063\n",
      "Epoch 32/500\n",
      "37/37 [==============================] - 2s 54ms/step - loss: 0.1155 - acc: 0.9713 - val_loss: 1.0613 - val_acc: 0.7050\n",
      "Epoch 33/500\n",
      "37/37 [==============================] - 2s 54ms/step - loss: 0.1130 - acc: 0.9722 - val_loss: 1.0565 - val_acc: 0.7005\n",
      "Epoch 34/500\n",
      "37/37 [==============================] - 2s 54ms/step - loss: 0.1068 - acc: 0.9728 - val_loss: 1.0886 - val_acc: 0.7018\n",
      "Epoch 35/500\n",
      "37/37 [==============================] - 2s 53ms/step - loss: 0.1054 - acc: 0.9739 - val_loss: 1.1157 - val_acc: 0.6992\n",
      "Epoch 36/500\n",
      "37/37 [==============================] - 2s 54ms/step - loss: 0.1018 - acc: 0.9750 - val_loss: 1.1301 - val_acc: 0.6973\n",
      "Epoch 37/500\n",
      "37/37 [==============================] - 2s 53ms/step - loss: 0.0992 - acc: 0.9750 - val_loss: 1.1396 - val_acc: 0.6979\n",
      "Epoch 38/500\n",
      "37/37 [==============================] - 2s 54ms/step - loss: 0.0990 - acc: 0.9748 - val_loss: 1.1317 - val_acc: 0.6953\n",
      "Epoch 39/500\n",
      "37/37 [==============================] - 2s 53ms/step - loss: 0.0988 - acc: 0.9733 - val_loss: 1.1476 - val_acc: 0.6999\n",
      "Epoch 40/500\n",
      "37/37 [==============================] - 2s 53ms/step - loss: 0.0969 - acc: 0.9743 - val_loss: 1.2036 - val_acc: 0.6869\n",
      "Epoch 41/500\n",
      "37/37 [==============================] - 2s 53ms/step - loss: 0.0955 - acc: 0.9739 - val_loss: 1.2294 - val_acc: 0.6882\n",
      "Epoch 42/500\n",
      "37/37 [==============================] - 2s 53ms/step - loss: 0.1061 - acc: 0.9692 - val_loss: 1.2143 - val_acc: 0.6837\n",
      "Epoch 43/500\n",
      "37/37 [==============================] - 2s 53ms/step - loss: 0.1125 - acc: 0.9679 - val_loss: 1.1404 - val_acc: 0.6973\n",
      "Epoch 44/500\n",
      "37/37 [==============================] - 2s 53ms/step - loss: 0.1266 - acc: 0.9612 - val_loss: 1.0978 - val_acc: 0.7031\n",
      "Restoring model weights from the end of the best epoch.\n",
      "Epoch 00044: early stopping\n"
     ]
    },
    {
     "data": {
      "text/plain": [
       "<tensorflow.python.keras.callbacks.History at 0x7fc190064220>"
      ]
     },
     "execution_count": 9,
     "metadata": {},
     "output_type": "execute_result"
    }
   ],
   "source": [
    "#위에서 ALL(7727) 실행했다면, 그 모델 그대로 사용! (즉, 이 cell 생략 가능 어차피 같은 데이터, 같은 모델이기 때문에)\n",
    "model = get_model()\n",
    "early_stop = EarlyStopping(monitor='val_acc', patience=30, verbose=1, restore_best_weights=True)\n",
    "model.fit(X_train, y_train, validation_split=0.25, batch_size=128, epochs=500,  callbacks=[early_stop], shuffle=False)"
   ]
  },
  {
   "cell_type": "code",
   "execution_count": 10,
   "id": "754c94f4",
   "metadata": {},
   "outputs": [],
   "source": [
    "pred = model.predict(X_test)\n",
    "# bce = tf.keras.losses.BinaryCrossentropy(from_logits=True)\n",
    "base_bce = BinaryCrossEntropy(pred, y_test)[0]"
   ]
  },
  {
   "cell_type": "code",
   "execution_count": 15,
   "id": "3cc27922",
   "metadata": {},
   "outputs": [
    {
     "data": {
      "application/vnd.jupyter.widget-view+json": {
       "model_id": "036c1d77af5d4b0b843c4a741e4fe2dd",
       "version_major": 2,
       "version_minor": 0
      },
      "text/plain": [
       "  0%|          | 0/4069 [00:00<?, ?it/s]"
      ]
     },
     "metadata": {},
     "output_type": "display_data"
    }
   ],
   "source": [
    "results = []\n",
    "results.append({'feature':'BASELINE', 'bce':base_bce})\n",
    "\n",
    "for i in tqdm(range(len(COLS))):\n",
    "    save_col = X_test[:,:,i].copy()\n",
    "    for p in range(X_test.shape[0]):\n",
    "        X_test[p,:5,i] = reverse(X_test[p,:5,i])\n",
    "    pred = model.predict(X_test)\n",
    "    bce = BinaryCrossEntropy(pred, y_test)[0]\n",
    "    results.append({'feature':COLS[i], 'bce':bce})\n",
    "    X_test[:,:,i] = save_col"
   ]
  },
  {
   "cell_type": "code",
   "execution_count": 16,
   "id": "8fae93b7",
   "metadata": {},
   "outputs": [
    {
     "data": {
      "text/html": [
       "<div>\n",
       "<style scoped>\n",
       "    .dataframe tbody tr th:only-of-type {\n",
       "        vertical-align: middle;\n",
       "    }\n",
       "\n",
       "    .dataframe tbody tr th {\n",
       "        vertical-align: top;\n",
       "    }\n",
       "\n",
       "    .dataframe thead th {\n",
       "        text-align: right;\n",
       "    }\n",
       "</style>\n",
       "<table border=\"1\" class=\"dataframe\">\n",
       "  <thead>\n",
       "    <tr style=\"text-align: right;\">\n",
       "      <th></th>\n",
       "      <th>feature</th>\n",
       "      <th>bce</th>\n",
       "    </tr>\n",
       "  </thead>\n",
       "  <tbody>\n",
       "    <tr>\n",
       "      <th>2197</th>\n",
       "      <td>409606211</td>\n",
       "      <td>8160.815718</td>\n",
       "    </tr>\n",
       "    <tr>\n",
       "      <th>3285</th>\n",
       "      <td>51479005520</td>\n",
       "      <td>8157.391308</td>\n",
       "    </tr>\n",
       "    <tr>\n",
       "      <th>2740</th>\n",
       "      <td>10019021302</td>\n",
       "      <td>8127.108366</td>\n",
       "    </tr>\n",
       "    <tr>\n",
       "      <th>158</th>\n",
       "      <td>51148</td>\n",
       "      <td>8119.904766</td>\n",
       "    </tr>\n",
       "    <tr>\n",
       "      <th>1427</th>\n",
       "      <td>83000730</td>\n",
       "      <td>8116.012745</td>\n",
       "    </tr>\n",
       "    <tr>\n",
       "      <th>...</th>\n",
       "      <td>...</td>\n",
       "      <td>...</td>\n",
       "    </tr>\n",
       "    <tr>\n",
       "      <th>39</th>\n",
       "      <td>50890</td>\n",
       "      <td>7947.933948</td>\n",
       "    </tr>\n",
       "    <tr>\n",
       "      <th>307</th>\n",
       "      <td>224276</td>\n",
       "      <td>7947.564285</td>\n",
       "    </tr>\n",
       "    <tr>\n",
       "      <th>3854</th>\n",
       "      <td>63323038810</td>\n",
       "      <td>7943.017285</td>\n",
       "    </tr>\n",
       "    <tr>\n",
       "      <th>18</th>\n",
       "      <td>50856</td>\n",
       "      <td>7942.537136</td>\n",
       "    </tr>\n",
       "    <tr>\n",
       "      <th>2575</th>\n",
       "      <td>781345295</td>\n",
       "      <td>7937.029317</td>\n",
       "    </tr>\n",
       "  </tbody>\n",
       "</table>\n",
       "<p>4070 rows × 2 columns</p>\n",
       "</div>"
      ],
      "text/plain": [
       "          feature          bce\n",
       "2197    409606211  8160.815718\n",
       "3285  51479005520  8157.391308\n",
       "2740  10019021302  8127.108366\n",
       "158         51148  8119.904766\n",
       "1427     83000730  8116.012745\n",
       "...           ...          ...\n",
       "39          50890  7947.933948\n",
       "307        224276  7947.564285\n",
       "3854  63323038810  7943.017285\n",
       "18          50856  7942.537136\n",
       "2575    781345295  7937.029317\n",
       "\n",
       "[4070 rows x 2 columns]"
      ]
     },
     "execution_count": 16,
     "metadata": {},
     "output_type": "execute_result"
    }
   ],
   "source": [
    "df3 = pd.DataFrame(results)\n",
    "df3 = df3.sort_values('bce', ascending=False)\n",
    "df3"
   ]
  },
  {
   "cell_type": "code",
   "execution_count": 17,
   "id": "3b6a80f3",
   "metadata": {},
   "outputs": [],
   "source": [
    "df3.to_csv('./reverse_FI_d6d10.csv', index=False)"
   ]
  },
  {
   "cell_type": "code",
   "execution_count": 18,
   "id": "147d7027",
   "metadata": {},
   "outputs": [
    {
     "data": {
      "text/html": [
       "<div>\n",
       "<style scoped>\n",
       "    .dataframe tbody tr th:only-of-type {\n",
       "        vertical-align: middle;\n",
       "    }\n",
       "\n",
       "    .dataframe tbody tr th {\n",
       "        vertical-align: top;\n",
       "    }\n",
       "\n",
       "    .dataframe thead th {\n",
       "        text-align: right;\n",
       "    }\n",
       "</style>\n",
       "<table border=\"1\" class=\"dataframe\">\n",
       "  <thead>\n",
       "    <tr style=\"text-align: right;\">\n",
       "      <th></th>\n",
       "      <th>feature</th>\n",
       "      <th>bce</th>\n",
       "    </tr>\n",
       "  </thead>\n",
       "  <tbody>\n",
       "    <tr>\n",
       "      <th>0</th>\n",
       "      <td>409606211</td>\n",
       "      <td>8160.815718</td>\n",
       "    </tr>\n",
       "    <tr>\n",
       "      <th>1</th>\n",
       "      <td>51479005520</td>\n",
       "      <td>8157.391308</td>\n",
       "    </tr>\n",
       "    <tr>\n",
       "      <th>2</th>\n",
       "      <td>10019021302</td>\n",
       "      <td>8127.108366</td>\n",
       "    </tr>\n",
       "    <tr>\n",
       "      <th>3</th>\n",
       "      <td>51148</td>\n",
       "      <td>8119.904766</td>\n",
       "    </tr>\n",
       "    <tr>\n",
       "      <th>4</th>\n",
       "      <td>83000730</td>\n",
       "      <td>8116.012745</td>\n",
       "    </tr>\n",
       "    <tr>\n",
       "      <th>...</th>\n",
       "      <td>...</td>\n",
       "      <td>...</td>\n",
       "    </tr>\n",
       "    <tr>\n",
       "      <th>4065</th>\n",
       "      <td>50890</td>\n",
       "      <td>7947.933948</td>\n",
       "    </tr>\n",
       "    <tr>\n",
       "      <th>4066</th>\n",
       "      <td>224276</td>\n",
       "      <td>7947.564285</td>\n",
       "    </tr>\n",
       "    <tr>\n",
       "      <th>4067</th>\n",
       "      <td>63323038810</td>\n",
       "      <td>7943.017285</td>\n",
       "    </tr>\n",
       "    <tr>\n",
       "      <th>4068</th>\n",
       "      <td>50856</td>\n",
       "      <td>7942.537136</td>\n",
       "    </tr>\n",
       "    <tr>\n",
       "      <th>4069</th>\n",
       "      <td>781345295</td>\n",
       "      <td>7937.029317</td>\n",
       "    </tr>\n",
       "  </tbody>\n",
       "</table>\n",
       "<p>4070 rows × 2 columns</p>\n",
       "</div>"
      ],
      "text/plain": [
       "          feature          bce\n",
       "0       409606211  8160.815718\n",
       "1     51479005520  8157.391308\n",
       "2     10019021302  8127.108366\n",
       "3           51148  8119.904766\n",
       "4        83000730  8116.012745\n",
       "...           ...          ...\n",
       "4065        50890  7947.933948\n",
       "4066       224276  7947.564285\n",
       "4067  63323038810  7943.017285\n",
       "4068        50856  7942.537136\n",
       "4069    781345295  7937.029317\n",
       "\n",
       "[4070 rows x 2 columns]"
      ]
     },
     "execution_count": 18,
     "metadata": {},
     "output_type": "execute_result"
    }
   ],
   "source": [
    "a = pd.read_csv('./reverse_FI_d6d10.csv')\n",
    "a"
   ]
  },
  {
   "cell_type": "code",
   "execution_count": null,
   "id": "5803aee0",
   "metadata": {},
   "outputs": [],
   "source": []
  },
  {
   "cell_type": "markdown",
   "id": "5e9bf47f",
   "metadata": {},
   "source": [
    "# 비교"
   ]
  },
  {
   "cell_type": "code",
   "execution_count": 4,
   "id": "027d307d",
   "metadata": {},
   "outputs": [],
   "source": [
    "fi_all = pd.read_csv('./reverse_FI.csv')\n",
    "fi_d1d5 = pd.read_csv('./reverse_FI_d1d5.csv')\n",
    "fi_d6d10 = pd.read_csv('./reverse_FI_d6d10.csv')"
   ]
  },
  {
   "cell_type": "code",
   "execution_count": 5,
   "id": "96e457ca",
   "metadata": {},
   "outputs": [
    {
     "name": "stdout",
     "output_type": "stream",
     "text": [
      "['409606211', '51479005520', '67434504', '74606211', '59011010325', '54858516', '83000730', '409115170', '50927', '51148']\n",
      "['409606211', '51479005520', '74606211', '67434504', '59011010325', '54858516', '50927', '409115170', '83000730', '2411260']\n",
      "['409606211', '51479005520', '10019021302', '51148', '83000730', '59011010325', '121048910', '49669521303', '173024256', '2411260']\n"
     ]
    }
   ],
   "source": [
    "print(fi_all.feature[:10].to_list())\n",
    "print(fi_d1d5.feature[:10].to_list())\n",
    "print(fi_d6d10.feature[:10].to_list())"
   ]
  },
  {
   "cell_type": "code",
   "execution_count": 18,
   "id": "d93921d6",
   "metadata": {},
   "outputs": [],
   "source": [
    "base_binary_crossentropy = fi_all[fi_all['feature']=='BASELINE']['bce'].iloc[0]"
   ]
  },
  {
   "cell_type": "code",
   "execution_count": 21,
   "id": "64a9818f",
   "metadata": {},
   "outputs": [
    {
     "data": {
      "text/html": [
       "<div>\n",
       "<style scoped>\n",
       "    .dataframe tbody tr th:only-of-type {\n",
       "        vertical-align: middle;\n",
       "    }\n",
       "\n",
       "    .dataframe tbody tr th {\n",
       "        vertical-align: top;\n",
       "    }\n",
       "\n",
       "    .dataframe thead th {\n",
       "        text-align: right;\n",
       "    }\n",
       "</style>\n",
       "<table border=\"1\" class=\"dataframe\">\n",
       "  <thead>\n",
       "    <tr style=\"text-align: right;\">\n",
       "      <th></th>\n",
       "      <th>feature</th>\n",
       "      <th>bce</th>\n",
       "    </tr>\n",
       "  </thead>\n",
       "  <tbody>\n",
       "    <tr>\n",
       "      <th>2410</th>\n",
       "      <td>BASELINE</td>\n",
       "      <td>8008.864772</td>\n",
       "    </tr>\n",
       "  </tbody>\n",
       "</table>\n",
       "</div>"
      ],
      "text/plain": [
       "       feature          bce\n",
       "2410  BASELINE  8008.864772"
      ]
     },
     "execution_count": 21,
     "metadata": {},
     "output_type": "execute_result"
    }
   ],
   "source": [
    "fi_all[fi_all['feature']=='BASELINE']"
   ]
  },
  {
   "cell_type": "code",
   "execution_count": 52,
   "id": "cda5aa5d",
   "metadata": {},
   "outputs": [],
   "source": [
    "#df : FI 데이터프레임, n : 상위 몇 개를 볼 것인지\n",
    "#df, n을 받아서 df의 상위 n개 barh그래프 그려주는 함수\n",
    "def plot_fi(df, n):\n",
    "    plot_df = df[:n]\n",
    "    plt.figure(figsize=(10,20))\n",
    "    plt.barh(np.arange(n-1, -1, -1), plot_df.bce)\n",
    "    plt.yticks(np.arange(n-1, -1, -1), plot_df.feature.values)\n",
    "    plt.title('LSTM Feature Importance',size=16)\n",
    "    plt.ylim((-1, n))\n",
    "    plt.plot([base_binary_crossentropy,base_binary_crossentropy],[-1,n], '--', color='orange',\n",
    "             label=f'Baseline OOF\\nMAE={base_binary_crossentropy:.5f}')\n",
    "    # plt.xlabel(f'Fold {fold+1} OOF MAE with feature permuted',size=14)\n",
    "    plt.ylabel('Feature',size=14)\n",
    "    plt.legend()"
   ]
  },
  {
   "cell_type": "code",
   "execution_count": 82,
   "id": "849868c9",
   "metadata": {
    "scrolled": false
   },
   "outputs": [
    {
     "data": {
      "image/png": "[encoded data removed]",
      "text/plain": [
       "<Figure size 1080x360 with 3 Axes>"
      ]
     },
     "metadata": {
      "needs_background": "light"
     },
     "output_type": "display_data"
    }
   ],
   "source": [
    "top_n = 15\n",
    "\n",
    "fig = plt.figure(figsize=(15, 5))\n",
    "plt.subplot(1,3,1)\n",
    "plt.barh(np.arange(top_n-1, -1, -1), fi_all[:top_n].bce)\n",
    "_=plt.yticks(np.arange(top_n-1, -1, -1), fi_all[:top_n].feature.values)\n",
    "plt.plot([base_binary_crossentropy,base_binary_crossentropy],[-1,top_n], '--', color='orange',\n",
    "             label=f'Baseline OOF\\nMAE={base_binary_crossentropy:.5f}')\n",
    "plt.title('All FI',size=16)\n",
    "\n",
    "plt.subplot(1,3,2)\n",
    "plt.barh(np.arange(top_n-1, -1, -1), fi_d1d5[:top_n].bce)\n",
    "_=plt.yticks(np.arange(top_n-1, -1, -1), fi_d1d5[:top_n].feature.values)\n",
    "plt.plot([base_binary_crossentropy,base_binary_crossentropy],[-1,top_n], '--', color='orange',\n",
    "             label=f'Baseline OOF\\nMAE={base_binary_crossentropy:.5f}')\n",
    "plt.title('D-1~5 FI',size=16)\n",
    "\n",
    "plt.subplot(1,3,3)\n",
    "plt.barh(np.arange(top_n-1, -1, -1), fi_d6d10[:top_n].bce)\n",
    "_=plt.yticks(np.arange(top_n-1, -1, -1), fi_d6d10[:top_n].feature.values)\n",
    "plt.plot([base_binary_crossentropy,base_binary_crossentropy],[-1,top_n], '--', color='orange',\n",
    "             label=f'Baseline OOF\\nMAE={base_binary_crossentropy:.5f}')\n",
    "plt.title('D-6~10 FI',size=16)\n",
    "\n",
    "fig.tight_layout()"
   ]
  },
  {
   "cell_type": "code",
   "execution_count": null,
   "id": "2be90eeb",
   "metadata": {},
   "outputs": [],
   "source": []
  },
  {
   "cell_type": "code",
   "execution_count": null,
   "id": "0edc24df",
   "metadata": {},
   "outputs": [],
   "source": []
  },
  {
   "cell_type": "code",
   "execution_count": null,
   "id": "10741f62",
   "metadata": {},
   "outputs": [],
   "source": []
  },
  {
   "cell_type": "code",
   "execution_count": null,
   "id": "6ff45129",
   "metadata": {},
   "outputs": [],
   "source": []
  },
  {
   "cell_type": "code",
   "execution_count": null,
   "id": "03c36708",
   "metadata": {},
   "outputs": [],
   "source": []
  }
 ],
 "metadata": {
  "kernelspec": {
   "display_name": "Python 3",
   "language": "python",
   "name": "python3"
  },
  "language_info": {
   "codemirror_mode": {
    "name": "ipython",
    "version": 3
   },
   "file_extension": ".py",
   "mimetype": "text/x-python",
   "name": "python",
   "nbconvert_exporter": "python",
   "pygments_lexer": "ipython3",
   "version": "3.8.5"
  },
  "toc": {
   "base_numbering": 1,
   "nav_menu": {},
   "number_sections": true,
   "sideBar": true,
   "skip_h1_title": false,
   "title_cell": "Table of Contents",
   "title_sidebar": "Contents",
   "toc_cell": false,
   "toc_position": {
    "height": "calc(100% - 180px)",
    "left": "10px",
    "top": "150px",
    "width": "164.985px"
   },
   "toc_section_display": true,
   "toc_window_display": true
  }
 },
 "nbformat": 4,
 "nbformat_minor": 5
}
