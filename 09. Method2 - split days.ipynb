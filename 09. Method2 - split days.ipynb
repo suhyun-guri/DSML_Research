{
 "cells": [
  {
   "cell_type": "code",
   "execution_count": 26,
   "id": "baeab405",
   "metadata": {},
   "outputs": [],
   "source": [
    "import numpy as np, os\n",
    "import pandas as pd\n",
    "\n",
    "import matplotlib.pyplot as plt\n",
    "from tqdm.notebook import tqdm\n",
    "import seaborn as sns\n",
    "\n",
    "import tensorflow as tf\n",
    "from tensorflow import keras\n",
    "\n",
    "import warnings\n",
    "warnings.filterwarnings(action='ignore')\n",
    "\n",
    "#한글설정\n",
    "import matplotlib.font_manager as fm\n",
    "\n",
    "font_dirs = ['/usr/share/fonts/truetype/nanum', ]\n",
    "font_files = fm.findSystemFonts(fontpaths=font_dirs)\n",
    "\n",
    "for font_file in font_files:\n",
    "    fm.fontManager.addfont(font_file)\n",
    "    \n",
    "# 한글 출력을 위해서 폰트 옵션을 설정합니다.\n",
    "# \"axes.unicode_minus\" : 마이너스가 깨질 것을 방지\n",
    "\n",
    "sns.set(font=\"NanumBarunGothic\", \n",
    "        rc={\"axes.unicode_minus\":False},\n",
    "        style='darkgrid')"
   ]
  },
  {
   "cell_type": "code",
   "execution_count": 27,
   "id": "6c30512b",
   "metadata": {},
   "outputs": [],
   "source": [
    "fi = pd.read_csv('./data/df_all_best_type.csv')\n",
    "COLS = list(pd.read_csv('/project/LSH/total_data_7727.csv')['ITEMID'].sort_values().unique())\n",
    "model = tf.keras.models.load_model('/project/LSH/model/(LSTM_best_4068)seed42-05-0.5029.hdf5')"
   ]
  },
  {
   "cell_type": "markdown",
   "id": "11c32cd6",
   "metadata": {},
   "source": [
    "# FI에 ReLU 적용"
   ]
  },
  {
   "cell_type": "code",
   "execution_count": 28,
   "id": "5a6c11cc",
   "metadata": {},
   "outputs": [],
   "source": [
    "#relu 함수 정의\n",
    "def relu(x):\n",
    "    return np.maximum(0, x)"
   ]
  },
  {
   "cell_type": "code",
   "execution_count": 29,
   "id": "1f33e93f",
   "metadata": {},
   "outputs": [],
   "source": [
    "tmp = fi.copy()\n",
    "tmp['diff'] = tmp['diff'].apply(lambda x:relu(x))\n",
    "relu_fi = tmp[['feature', 'diff']].sort_values('diff', ascending=False)"
   ]
  },
  {
   "cell_type": "code",
   "execution_count": 30,
   "id": "c06888cb",
   "metadata": {},
   "outputs": [
    {
     "data": {
      "text/html": [
       "<div>\n",
       "<style scoped>\n",
       "    .dataframe tbody tr th:only-of-type {\n",
       "        vertical-align: middle;\n",
       "    }\n",
       "\n",
       "    .dataframe tbody tr th {\n",
       "        vertical-align: top;\n",
       "    }\n",
       "\n",
       "    .dataframe thead th {\n",
       "        text-align: right;\n",
       "    }\n",
       "</style>\n",
       "<table border=\"1\" class=\"dataframe\">\n",
       "  <thead>\n",
       "    <tr style=\"text-align: right;\">\n",
       "      <th></th>\n",
       "      <th>feature</th>\n",
       "      <th>diff</th>\n",
       "    </tr>\n",
       "  </thead>\n",
       "  <tbody>\n",
       "    <tr>\n",
       "      <th>0</th>\n",
       "      <td>409606211</td>\n",
       "      <td>0.059180</td>\n",
       "    </tr>\n",
       "    <tr>\n",
       "      <th>1</th>\n",
       "      <td>74606211</td>\n",
       "      <td>0.036668</td>\n",
       "    </tr>\n",
       "    <tr>\n",
       "      <th>2</th>\n",
       "      <td>67434504</td>\n",
       "      <td>0.032467</td>\n",
       "    </tr>\n",
       "    <tr>\n",
       "      <th>3</th>\n",
       "      <td>54817525</td>\n",
       "      <td>0.029130</td>\n",
       "    </tr>\n",
       "    <tr>\n",
       "      <th>4</th>\n",
       "      <td>10019055302</td>\n",
       "      <td>0.027498</td>\n",
       "    </tr>\n",
       "    <tr>\n",
       "      <th>...</th>\n",
       "      <td>...</td>\n",
       "      <td>...</td>\n",
       "    </tr>\n",
       "    <tr>\n",
       "      <th>3469</th>\n",
       "      <td>78005303</td>\n",
       "      <td>0.000000</td>\n",
       "    </tr>\n",
       "    <tr>\n",
       "      <th>3470</th>\n",
       "      <td>17317001801</td>\n",
       "      <td>0.000000</td>\n",
       "    </tr>\n",
       "    <tr>\n",
       "      <th>3471</th>\n",
       "      <td>597003212</td>\n",
       "      <td>0.000000</td>\n",
       "    </tr>\n",
       "    <tr>\n",
       "      <th>3472</th>\n",
       "      <td>51435</td>\n",
       "      <td>0.000000</td>\n",
       "    </tr>\n",
       "    <tr>\n",
       "      <th>4067</th>\n",
       "      <td>51006</td>\n",
       "      <td>0.000000</td>\n",
       "    </tr>\n",
       "  </tbody>\n",
       "</table>\n",
       "<p>4068 rows × 2 columns</p>\n",
       "</div>"
      ],
      "text/plain": [
       "          feature      diff\n",
       "0       409606211  0.059180\n",
       "1        74606211  0.036668\n",
       "2        67434504  0.032467\n",
       "3        54817525  0.029130\n",
       "4     10019055302  0.027498\n",
       "...           ...       ...\n",
       "3469     78005303  0.000000\n",
       "3470  17317001801  0.000000\n",
       "3471    597003212  0.000000\n",
       "3472        51435  0.000000\n",
       "4067        51006  0.000000\n",
       "\n",
       "[4068 rows x 2 columns]"
      ]
     },
     "execution_count": 30,
     "metadata": {},
     "output_type": "execute_result"
    }
   ],
   "source": [
    "relu_fi"
   ]
  },
  {
   "cell_type": "markdown",
   "id": "e1cdc008",
   "metadata": {},
   "source": [
    "# Prepare Data"
   ]
  },
  {
   "cell_type": "code",
   "execution_count": 31,
   "id": "71486b01",
   "metadata": {},
   "outputs": [
    {
     "data": {
      "text/plain": [
       "((6182, 10, 4068), (6182,), (1545, 10, 4068), (1545,))"
      ]
     },
     "execution_count": 31,
     "metadata": {},
     "output_type": "execute_result"
    }
   ],
   "source": [
    "import random    \n",
    "seed_num = 42\n",
    "random.seed(seed_num)\n",
    "path = '/project/LSH/'\n",
    "X = np.load(path + 'x_(7727,10,4068).npy')\n",
    "y = np.load(path + 'y_(7727,1).npy')\n",
    "\n",
    "idx = list(range(len(X)))\n",
    "random.shuffle(idx)\n",
    "\n",
    "\n",
    "i = round(X.shape[0]*0.8)\n",
    "X_train, y_train = X[idx[:i],:,:], y[idx[:i]]\n",
    "X_test, y_test = X[idx[i:],:,:], y[idx[i:]]\n",
    "\n",
    "X_train.shape, y_train.shape, X_test.shape, y_test.shape"
   ]
  },
  {
   "cell_type": "code",
   "execution_count": 32,
   "id": "e82acdcf",
   "metadata": {},
   "outputs": [
    {
     "data": {
      "text/plain": [
       "0.63693285"
      ]
     },
     "execution_count": 32,
     "metadata": {},
     "output_type": "execute_result"
    }
   ],
   "source": [
    "base_pred = np.mean(model.predict(X_test))\n",
    "base_pred"
   ]
  },
  {
   "cell_type": "markdown",
   "id": "4c3c7372",
   "metadata": {},
   "source": [
    "# 0 to 1 - D-1~5"
   ]
  },
  {
   "cell_type": "code",
   "execution_count": null,
   "id": "07ac7752",
   "metadata": {},
   "outputs": [
    {
     "data": {
      "application/vnd.jupyter.widget-view+json": {
       "model_id": "038bbebdb75b486ba4fd2463154e76f8",
       "version_major": 2,
       "version_minor": 0
      },
      "text/plain": [
       "  0%|          | 0/4068 [00:00<?, ?it/s]"
      ]
     },
     "metadata": {},
     "output_type": "display_data"
    }
   ],
   "source": [
    "result = []\n",
    "for i in tqdm(range(X_test.shape[2])):\n",
    "    save_cols = X_test[:,:,i].copy()\n",
    "    X_test[:,-5:,i] = 1\n",
    "    pred = model.predict(X_test)\n",
    "    value = np.mean(pred) - base_pred\n",
    "    result.append({'feature' : str(COLS[i]), 'diff' : value})\n",
    "    #값 복원\n",
    "    X_test[:,:,i] = save_cols"
   ]
  },
  {
   "cell_type": "code",
   "execution_count": null,
   "id": "87195f47",
   "metadata": {},
   "outputs": [],
   "source": [
    "near_df = pd.DataFrame(result)\n",
    "near_df_ori = near_df.copy()\n",
    "near_df.sort_values('diff', ascending=False)"
   ]
  },
  {
   "cell_type": "markdown",
   "id": "8c64f0d8",
   "metadata": {},
   "source": [
    "## Sign(부호) 추출"
   ]
  },
  {
   "cell_type": "code",
   "execution_count": null,
   "id": "c087b3db",
   "metadata": {},
   "outputs": [],
   "source": [
    "#부호 판별하여 1, -1로 변경하는 함수\n",
    "def only_sign(x):\n",
    "    if x >= 0:\n",
    "        return 1\n",
    "    else:\n",
    "        return -1"
   ]
  },
  {
   "cell_type": "code",
   "execution_count": null,
   "id": "ae4a7199",
   "metadata": {},
   "outputs": [],
   "source": [
    "near_df['sign'] = near_df['diff'].apply(lambda x:only_sign(x))\n",
    "near_df = near_df.sort_values('feature')\n",
    "\n",
    "near_df['sign'].value_counts()"
   ]
  },
  {
   "cell_type": "markdown",
   "id": "f1bfa43a",
   "metadata": {},
   "source": [
    "## 최종 Score"
   ]
  },
  {
   "cell_type": "code",
   "execution_count": null,
   "id": "1e856af0",
   "metadata": {},
   "outputs": [],
   "source": [
    "near_result = near_df.feature.to_frame()\n",
    "relu_fi_near = relu_fi.sort_values('feature').reset_index(drop=True)\n",
    "\n",
    "near_result['score'] = relu_fi_near['diff'] * near_df['sign']\n",
    "near_result = near_result.sort_values('score', ascending=False).reset_index(drop=True)\n",
    "\n",
    "#save\n",
    "near_result.to_csv('./data/method2_nearscore.csv', index=False)\n",
    "\n",
    "near_result"
   ]
  },
  {
   "cell_type": "code",
   "execution_count": null,
   "id": "d4d869d1",
   "metadata": {},
   "outputs": [],
   "source": []
  },
  {
   "cell_type": "code",
   "execution_count": null,
   "id": "3a51110d",
   "metadata": {},
   "outputs": [],
   "source": []
  },
  {
   "cell_type": "markdown",
   "id": "df320811",
   "metadata": {},
   "source": [
    "# 0 to 1 - D-6~10"
   ]
  },
  {
   "cell_type": "code",
   "execution_count": null,
   "id": "798c8fa5",
   "metadata": {},
   "outputs": [],
   "source": [
    "result = []\n",
    "for i in tqdm(range(X_test.shape[2])):\n",
    "    save_cols = X_test[:,:,i].copy()\n",
    "    X_test[:,:5,i] = 1\n",
    "    pred = model.predict(X_test)\n",
    "    value = np.mean(pred) - base_pred\n",
    "    result.append({'feature' : str(COLS[i]), 'diff' : value})\n",
    "    #값 복원\n",
    "    X_test[:,:,i] = save_cols"
   ]
  },
  {
   "cell_type": "code",
   "execution_count": null,
   "id": "60f77a23",
   "metadata": {},
   "outputs": [],
   "source": [
    "away_df = pd.DataFrame(result)\n",
    "away_df_ori = away_df.copy()\n",
    "away_df.sort_values('diff', ascending=False)"
   ]
  },
  {
   "cell_type": "markdown",
   "id": "187ef792",
   "metadata": {},
   "source": [
    "## sign(부호) 추출"
   ]
  },
  {
   "cell_type": "code",
   "execution_count": null,
   "id": "10b770fd",
   "metadata": {},
   "outputs": [],
   "source": [
    "away_df['sign'] = away_df['diff'].apply(lambda x:only_sign(x))\n",
    "away_df = away_df.sort_values('feature')\n",
    "\n",
    "away_df['sign'].value_counts()"
   ]
  },
  {
   "cell_type": "markdown",
   "id": "01261797",
   "metadata": {},
   "source": [
    "## 최종 Score"
   ]
  },
  {
   "cell_type": "code",
   "execution_count": null,
   "id": "980f3a07",
   "metadata": {},
   "outputs": [],
   "source": [
    "away_result = away_df.feature.to_frame()\n",
    "relu_fi_away = relu_fi.sort_values('feature').reset_index(drop=True)\n",
    "\n",
    "away_result['score'] = relu_fi_away['diff'] * away_df['sign']\n",
    "away_result = away_result.sort_values('score', ascending=False).reset_index(drop=True)\n",
    "\n",
    "#save\n",
    "away_result.to_csv('./data/method2_awayscore.csv', index=False)\n",
    "\n",
    "away_result"
   ]
  },
  {
   "cell_type": "code",
   "execution_count": null,
   "id": "9b5e3f80",
   "metadata": {},
   "outputs": [],
   "source": []
  },
  {
   "cell_type": "code",
   "execution_count": null,
   "id": "42611ae9",
   "metadata": {},
   "outputs": [],
   "source": []
  },
  {
   "cell_type": "markdown",
   "id": "29dcf7ab",
   "metadata": {},
   "source": [
    "# 역전되는 Feature 탐색\n",
    "원거리(away_result['score']) - 근거리(near_result['score']) "
   ]
  },
  {
   "cell_type": "code",
   "execution_count": null,
   "id": "bf65dae9",
   "metadata": {},
   "outputs": [],
   "source": [
    "near_result = near_result.sort_values('feature')\n",
    "away_result = away_result.sort_values('feature')"
   ]
  },
  {
   "cell_type": "code",
   "execution_count": null,
   "id": "268f6f66",
   "metadata": {},
   "outputs": [],
   "source": [
    "final_result = near_result.feature.to_frame()\n",
    "final_result['diff_score'] = away_result['score'] - near_result['score']\n",
    "final_result = final_result.sort_values('diff_score', ascending=False)"
   ]
  },
  {
   "cell_type": "code",
   "execution_count": null,
   "id": "ac725243",
   "metadata": {},
   "outputs": [],
   "source": [
    "final_result"
   ]
  },
  {
   "cell_type": "code",
   "execution_count": null,
   "id": "e6461d2e",
   "metadata": {},
   "outputs": [],
   "source": []
  },
  {
   "cell_type": "code",
   "execution_count": null,
   "id": "0810e6c1",
   "metadata": {},
   "outputs": [],
   "source": []
  },
  {
   "cell_type": "code",
   "execution_count": null,
   "id": "5b5f1de6",
   "metadata": {},
   "outputs": [],
   "source": []
  }
 ],
 "metadata": {
  "kernelspec": {
   "display_name": "Python 3",
   "language": "python",
   "name": "python3"
  },
  "language_info": {
   "codemirror_mode": {
    "name": "ipython",
    "version": 3
   },
   "file_extension": ".py",
   "mimetype": "text/x-python",
   "name": "python",
   "nbconvert_exporter": "python",
   "pygments_lexer": "ipython3",
   "version": "3.8.10"
  },
  "toc": {
   "base_numbering": 1,
   "nav_menu": {},
   "number_sections": true,
   "sideBar": true,
   "skip_h1_title": false,
   "title_cell": "Table of Contents",
   "title_sidebar": "Contents",
   "toc_cell": false,
   "toc_position": {},
   "toc_section_display": true,
   "toc_window_display": false
  }
 },
 "nbformat": 4,
 "nbformat_minor": 5
}
