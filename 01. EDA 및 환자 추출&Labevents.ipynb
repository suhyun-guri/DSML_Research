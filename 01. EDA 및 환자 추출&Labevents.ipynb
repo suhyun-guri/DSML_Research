{
 "cells": [
  {
   "cell_type": "code",
   "execution_count": 1,
   "id": "21bd35fb",
   "metadata": {
    "ExecuteTime": {
     "end_time": "2021-06-30T03:17:00.141018Z",
     "start_time": "2021-06-30T03:17:00.002552Z"
    }
   },
   "outputs": [],
   "source": [
    "import pandas as pd\n",
    "import numpy as np\n",
    "\n",
    "import warnings\n",
    "warnings.filterwarnings(action='ignore')"
   ]
  },
  {
   "cell_type": "markdown",
   "id": "21fe59f1",
   "metadata": {},
   "source": [
    "# 데이터 로드"
   ]
  },
  {
   "cell_type": "code",
   "execution_count": 2,
   "id": "44a8802e",
   "metadata": {
    "ExecuteTime": {
     "end_time": "2021-06-30T03:30:28.366055Z",
     "start_time": "2021-06-30T03:30:18.893902Z"
    }
   },
   "outputs": [],
   "source": [
    "patient = pd.read_csv('/project/data/PATIENTS.csv')\n",
    "lab = pd.read_csv('/project/data/LABEVENTS.csv', usecols = ['ROW_ID','SUBJECT_ID','HADM_ID','ITEMID','CHARTTIME','FLAG'])\n",
    "\n",
    "#D_ICD_DIAGNOSES\n",
    "diagnoses = pd.read_csv('/project/data/D_ICD_DIAGNOSES.csv')\n",
    "#DIAGNOSES_ICD\n",
    "diagnoses_icd = pd.read_csv('/project/data/DIAGNOSES_ICD.csv')"
   ]
  },
  {
   "cell_type": "code",
   "execution_count": 3,
   "id": "78014b3a",
   "metadata": {},
   "outputs": [
    {
     "data": {
      "text/html": [
       "<div>\n",
       "<style scoped>\n",
       "    .dataframe tbody tr th:only-of-type {\n",
       "        vertical-align: middle;\n",
       "    }\n",
       "\n",
       "    .dataframe tbody tr th {\n",
       "        vertical-align: top;\n",
       "    }\n",
       "\n",
       "    .dataframe thead th {\n",
       "        text-align: right;\n",
       "    }\n",
       "</style>\n",
       "<table border=\"1\" class=\"dataframe\">\n",
       "  <thead>\n",
       "    <tr style=\"text-align: right;\">\n",
       "      <th></th>\n",
       "      <th>ROW_ID</th>\n",
       "      <th>SUBJECT_ID</th>\n",
       "      <th>HADM_ID</th>\n",
       "      <th>ITEMID</th>\n",
       "      <th>CHARTTIME</th>\n",
       "      <th>FLAG</th>\n",
       "    </tr>\n",
       "  </thead>\n",
       "  <tbody>\n",
       "    <tr>\n",
       "      <th>0</th>\n",
       "      <td>281</td>\n",
       "      <td>3</td>\n",
       "      <td>NaN</td>\n",
       "      <td>50820</td>\n",
       "      <td>2101-10-12 16:07:00</td>\n",
       "      <td>NaN</td>\n",
       "    </tr>\n",
       "    <tr>\n",
       "      <th>1</th>\n",
       "      <td>282</td>\n",
       "      <td>3</td>\n",
       "      <td>NaN</td>\n",
       "      <td>50800</td>\n",
       "      <td>2101-10-12 18:17:00</td>\n",
       "      <td>NaN</td>\n",
       "    </tr>\n",
       "    <tr>\n",
       "      <th>2</th>\n",
       "      <td>283</td>\n",
       "      <td>3</td>\n",
       "      <td>NaN</td>\n",
       "      <td>50802</td>\n",
       "      <td>2101-10-12 18:17:00</td>\n",
       "      <td>NaN</td>\n",
       "    </tr>\n",
       "    <tr>\n",
       "      <th>3</th>\n",
       "      <td>284</td>\n",
       "      <td>3</td>\n",
       "      <td>NaN</td>\n",
       "      <td>50804</td>\n",
       "      <td>2101-10-12 18:17:00</td>\n",
       "      <td>NaN</td>\n",
       "    </tr>\n",
       "    <tr>\n",
       "      <th>4</th>\n",
       "      <td>285</td>\n",
       "      <td>3</td>\n",
       "      <td>NaN</td>\n",
       "      <td>50808</td>\n",
       "      <td>2101-10-12 18:17:00</td>\n",
       "      <td>abnormal</td>\n",
       "    </tr>\n",
       "    <tr>\n",
       "      <th>...</th>\n",
       "      <td>...</td>\n",
       "      <td>...</td>\n",
       "      <td>...</td>\n",
       "      <td>...</td>\n",
       "      <td>...</td>\n",
       "      <td>...</td>\n",
       "    </tr>\n",
       "    <tr>\n",
       "      <th>27854050</th>\n",
       "      <td>27428435</td>\n",
       "      <td>96443</td>\n",
       "      <td>103219.0</td>\n",
       "      <td>50882</td>\n",
       "      <td>2109-12-30 01:40:00</td>\n",
       "      <td>NaN</td>\n",
       "    </tr>\n",
       "    <tr>\n",
       "      <th>27854051</th>\n",
       "      <td>27428436</td>\n",
       "      <td>96443</td>\n",
       "      <td>103219.0</td>\n",
       "      <td>50885</td>\n",
       "      <td>2109-12-30 01:40:00</td>\n",
       "      <td>abnormal</td>\n",
       "    </tr>\n",
       "    <tr>\n",
       "      <th>27854052</th>\n",
       "      <td>27428437</td>\n",
       "      <td>96443</td>\n",
       "      <td>103219.0</td>\n",
       "      <td>50902</td>\n",
       "      <td>2109-12-30 01:40:00</td>\n",
       "      <td>NaN</td>\n",
       "    </tr>\n",
       "    <tr>\n",
       "      <th>27854053</th>\n",
       "      <td>27428438</td>\n",
       "      <td>96443</td>\n",
       "      <td>103219.0</td>\n",
       "      <td>50911</td>\n",
       "      <td>2109-12-30 01:40:00</td>\n",
       "      <td>NaN</td>\n",
       "    </tr>\n",
       "    <tr>\n",
       "      <th>27854054</th>\n",
       "      <td>27428439</td>\n",
       "      <td>96443</td>\n",
       "      <td>103219.0</td>\n",
       "      <td>50912</td>\n",
       "      <td>2109-12-30 01:40:00</td>\n",
       "      <td>abnormal</td>\n",
       "    </tr>\n",
       "  </tbody>\n",
       "</table>\n",
       "<p>27854055 rows × 6 columns</p>\n",
       "</div>"
      ],
      "text/plain": [
       "            ROW_ID  SUBJECT_ID   HADM_ID  ITEMID            CHARTTIME  \\\n",
       "0              281           3       NaN   50820  2101-10-12 16:07:00   \n",
       "1              282           3       NaN   50800  2101-10-12 18:17:00   \n",
       "2              283           3       NaN   50802  2101-10-12 18:17:00   \n",
       "3              284           3       NaN   50804  2101-10-12 18:17:00   \n",
       "4              285           3       NaN   50808  2101-10-12 18:17:00   \n",
       "...            ...         ...       ...     ...                  ...   \n",
       "27854050  27428435       96443  103219.0   50882  2109-12-30 01:40:00   \n",
       "27854051  27428436       96443  103219.0   50885  2109-12-30 01:40:00   \n",
       "27854052  27428437       96443  103219.0   50902  2109-12-30 01:40:00   \n",
       "27854053  27428438       96443  103219.0   50911  2109-12-30 01:40:00   \n",
       "27854054  27428439       96443  103219.0   50912  2109-12-30 01:40:00   \n",
       "\n",
       "              FLAG  \n",
       "0              NaN  \n",
       "1              NaN  \n",
       "2              NaN  \n",
       "3              NaN  \n",
       "4         abnormal  \n",
       "...            ...  \n",
       "27854050       NaN  \n",
       "27854051  abnormal  \n",
       "27854052       NaN  \n",
       "27854053       NaN  \n",
       "27854054  abnormal  \n",
       "\n",
       "[27854055 rows x 6 columns]"
      ]
     },
     "execution_count": 3,
     "metadata": {},
     "output_type": "execute_result"
    }
   ],
   "source": [
    "lab"
   ]
  },
  {
   "cell_type": "code",
   "execution_count": 5,
   "id": "b12b2c89",
   "metadata": {},
   "outputs": [
    {
     "data": {
      "text/html": [
       "<div>\n",
       "<style scoped>\n",
       "    .dataframe tbody tr th:only-of-type {\n",
       "        vertical-align: middle;\n",
       "    }\n",
       "\n",
       "    .dataframe tbody tr th {\n",
       "        vertical-align: top;\n",
       "    }\n",
       "\n",
       "    .dataframe thead th {\n",
       "        text-align: right;\n",
       "    }\n",
       "</style>\n",
       "<table border=\"1\" class=\"dataframe\">\n",
       "  <thead>\n",
       "    <tr style=\"text-align: right;\">\n",
       "      <th></th>\n",
       "      <th>ROW_ID</th>\n",
       "      <th>SUBJECT_ID</th>\n",
       "      <th>HADM_ID</th>\n",
       "      <th>SEQ_NUM</th>\n",
       "      <th>ICD9_CODE</th>\n",
       "    </tr>\n",
       "  </thead>\n",
       "  <tbody>\n",
       "    <tr>\n",
       "      <th>0</th>\n",
       "      <td>1297</td>\n",
       "      <td>109</td>\n",
       "      <td>172335</td>\n",
       "      <td>1.0</td>\n",
       "      <td>40301</td>\n",
       "    </tr>\n",
       "    <tr>\n",
       "      <th>1</th>\n",
       "      <td>1298</td>\n",
       "      <td>109</td>\n",
       "      <td>172335</td>\n",
       "      <td>2.0</td>\n",
       "      <td>486</td>\n",
       "    </tr>\n",
       "    <tr>\n",
       "      <th>2</th>\n",
       "      <td>1299</td>\n",
       "      <td>109</td>\n",
       "      <td>172335</td>\n",
       "      <td>3.0</td>\n",
       "      <td>58281</td>\n",
       "    </tr>\n",
       "    <tr>\n",
       "      <th>3</th>\n",
       "      <td>1300</td>\n",
       "      <td>109</td>\n",
       "      <td>172335</td>\n",
       "      <td>4.0</td>\n",
       "      <td>5855</td>\n",
       "    </tr>\n",
       "    <tr>\n",
       "      <th>4</th>\n",
       "      <td>1301</td>\n",
       "      <td>109</td>\n",
       "      <td>172335</td>\n",
       "      <td>5.0</td>\n",
       "      <td>4254</td>\n",
       "    </tr>\n",
       "    <tr>\n",
       "      <th>...</th>\n",
       "      <td>...</td>\n",
       "      <td>...</td>\n",
       "      <td>...</td>\n",
       "      <td>...</td>\n",
       "      <td>...</td>\n",
       "    </tr>\n",
       "    <tr>\n",
       "      <th>651042</th>\n",
       "      <td>639798</td>\n",
       "      <td>97503</td>\n",
       "      <td>188195</td>\n",
       "      <td>2.0</td>\n",
       "      <td>20280</td>\n",
       "    </tr>\n",
       "    <tr>\n",
       "      <th>651043</th>\n",
       "      <td>639799</td>\n",
       "      <td>97503</td>\n",
       "      <td>188195</td>\n",
       "      <td>3.0</td>\n",
       "      <td>V5869</td>\n",
       "    </tr>\n",
       "    <tr>\n",
       "      <th>651044</th>\n",
       "      <td>639800</td>\n",
       "      <td>97503</td>\n",
       "      <td>188195</td>\n",
       "      <td>4.0</td>\n",
       "      <td>V1279</td>\n",
       "    </tr>\n",
       "    <tr>\n",
       "      <th>651045</th>\n",
       "      <td>639801</td>\n",
       "      <td>97503</td>\n",
       "      <td>188195</td>\n",
       "      <td>5.0</td>\n",
       "      <td>5275</td>\n",
       "    </tr>\n",
       "    <tr>\n",
       "      <th>651046</th>\n",
       "      <td>639802</td>\n",
       "      <td>97503</td>\n",
       "      <td>188195</td>\n",
       "      <td>6.0</td>\n",
       "      <td>5569</td>\n",
       "    </tr>\n",
       "  </tbody>\n",
       "</table>\n",
       "<p>651047 rows × 5 columns</p>\n",
       "</div>"
      ],
      "text/plain": [
       "        ROW_ID  SUBJECT_ID  HADM_ID  SEQ_NUM ICD9_CODE\n",
       "0         1297         109   172335      1.0     40301\n",
       "1         1298         109   172335      2.0       486\n",
       "2         1299         109   172335      3.0     58281\n",
       "3         1300         109   172335      4.0      5855\n",
       "4         1301         109   172335      5.0      4254\n",
       "...        ...         ...      ...      ...       ...\n",
       "651042  639798       97503   188195      2.0     20280\n",
       "651043  639799       97503   188195      3.0     V5869\n",
       "651044  639800       97503   188195      4.0     V1279\n",
       "651045  639801       97503   188195      5.0      5275\n",
       "651046  639802       97503   188195      6.0      5569\n",
       "\n",
       "[651047 rows x 5 columns]"
      ]
     },
     "execution_count": 5,
     "metadata": {},
     "output_type": "execute_result"
    }
   ],
   "source": [
    "diagnoses_icd"
   ]
  },
  {
   "cell_type": "code",
   "execution_count": 12,
   "id": "072bc9db",
   "metadata": {
    "ExecuteTime": {
     "end_time": "2021-06-30T03:17:57.032460Z",
     "start_time": "2021-06-30T03:17:57.017832Z"
    }
   },
   "outputs": [
    {
     "data": {
      "text/plain": [
       "(95, 4)"
      ]
     },
     "execution_count": 12,
     "metadata": {},
     "output_type": "execute_result"
    }
   ],
   "source": [
    "#폐와 관련된 질병 추출\n",
    "diag_pneum = diagnoses[(diagnoses['SHORT_TITLE'].str.contains('pneum')|(diagnoses['SHORT_TITLE'].str.contains('Pneum')))]\n",
    "diag_pneum.shape"
   ]
  },
  {
   "cell_type": "code",
   "execution_count": 13,
   "id": "924c04a1",
   "metadata": {},
   "outputs": [
    {
     "data": {
      "text/html": [
       "<div>\n",
       "<style scoped>\n",
       "    .dataframe tbody tr th:only-of-type {\n",
       "        vertical-align: middle;\n",
       "    }\n",
       "\n",
       "    .dataframe tbody tr th {\n",
       "        vertical-align: top;\n",
       "    }\n",
       "\n",
       "    .dataframe thead th {\n",
       "        text-align: right;\n",
       "    }\n",
       "</style>\n",
       "<table border=\"1\" class=\"dataframe\">\n",
       "  <thead>\n",
       "    <tr style=\"text-align: right;\">\n",
       "      <th></th>\n",
       "      <th>ROW_ID</th>\n",
       "      <th>ICD9_CODE</th>\n",
       "      <th>SHORT_TITLE</th>\n",
       "      <th>LONG_TITLE</th>\n",
       "    </tr>\n",
       "  </thead>\n",
       "  <tbody>\n",
       "    <tr>\n",
       "      <th>0</th>\n",
       "      <td>174</td>\n",
       "      <td>01166</td>\n",
       "      <td>TB pneumonia-oth test</td>\n",
       "      <td>Tuberculous pneumonia [any form], tubercle bac...</td>\n",
       "    </tr>\n",
       "    <tr>\n",
       "      <th>1</th>\n",
       "      <td>175</td>\n",
       "      <td>01170</td>\n",
       "      <td>TB pneumothorax-unspec</td>\n",
       "      <td>Tuberculous pneumothorax, unspecified</td>\n",
       "    </tr>\n",
       "    <tr>\n",
       "      <th>2</th>\n",
       "      <td>176</td>\n",
       "      <td>01171</td>\n",
       "      <td>TB pneumothorax-no exam</td>\n",
       "      <td>Tuberculous pneumothorax, bacteriological or h...</td>\n",
       "    </tr>\n",
       "    <tr>\n",
       "      <th>3</th>\n",
       "      <td>177</td>\n",
       "      <td>01172</td>\n",
       "      <td>TB pneumothorx-exam unkn</td>\n",
       "      <td>Tuberculous pneumothorax, bacteriological or h...</td>\n",
       "    </tr>\n",
       "    <tr>\n",
       "      <th>4</th>\n",
       "      <td>178</td>\n",
       "      <td>01173</td>\n",
       "      <td>TB pneumothorax-micro dx</td>\n",
       "      <td>Tuberculous pneumothorax, tubercle bacilli fou...</td>\n",
       "    </tr>\n",
       "    <tr>\n",
       "      <th>...</th>\n",
       "      <td>...</td>\n",
       "      <td>...</td>\n",
       "      <td>...</td>\n",
       "      <td>...</td>\n",
       "    </tr>\n",
       "    <tr>\n",
       "      <th>14562</th>\n",
       "      <td>14432</td>\n",
       "      <td>V7399</td>\n",
       "      <td>Scrn unspcf viral dis</td>\n",
       "      <td>Special screening examination for unspecified ...</td>\n",
       "    </tr>\n",
       "    <tr>\n",
       "      <th>14563</th>\n",
       "      <td>14433</td>\n",
       "      <td>V740</td>\n",
       "      <td>Screening for cholera</td>\n",
       "      <td>Screening examination for cholera</td>\n",
       "    </tr>\n",
       "    <tr>\n",
       "      <th>14564</th>\n",
       "      <td>14434</td>\n",
       "      <td>V741</td>\n",
       "      <td>Screening-pulmonary TB</td>\n",
       "      <td>Screening examination for pulmonary tuberculosis</td>\n",
       "    </tr>\n",
       "    <tr>\n",
       "      <th>14565</th>\n",
       "      <td>14435</td>\n",
       "      <td>V742</td>\n",
       "      <td>Screening for leprosy</td>\n",
       "      <td>Screening examination for leprosy (Hansen's di...</td>\n",
       "    </tr>\n",
       "    <tr>\n",
       "      <th>14566</th>\n",
       "      <td>14436</td>\n",
       "      <td>V743</td>\n",
       "      <td>Screening for diphtheria</td>\n",
       "      <td>Screening examination for diphtheria</td>\n",
       "    </tr>\n",
       "  </tbody>\n",
       "</table>\n",
       "<p>14567 rows × 4 columns</p>\n",
       "</div>"
      ],
      "text/plain": [
       "       ROW_ID ICD9_CODE               SHORT_TITLE  \\\n",
       "0         174     01166     TB pneumonia-oth test   \n",
       "1         175     01170    TB pneumothorax-unspec   \n",
       "2         176     01171   TB pneumothorax-no exam   \n",
       "3         177     01172  TB pneumothorx-exam unkn   \n",
       "4         178     01173  TB pneumothorax-micro dx   \n",
       "...       ...       ...                       ...   \n",
       "14562   14432     V7399     Scrn unspcf viral dis   \n",
       "14563   14433      V740     Screening for cholera   \n",
       "14564   14434      V741    Screening-pulmonary TB   \n",
       "14565   14435      V742     Screening for leprosy   \n",
       "14566   14436      V743  Screening for diphtheria   \n",
       "\n",
       "                                              LONG_TITLE  \n",
       "0      Tuberculous pneumonia [any form], tubercle bac...  \n",
       "1                  Tuberculous pneumothorax, unspecified  \n",
       "2      Tuberculous pneumothorax, bacteriological or h...  \n",
       "3      Tuberculous pneumothorax, bacteriological or h...  \n",
       "4      Tuberculous pneumothorax, tubercle bacilli fou...  \n",
       "...                                                  ...  \n",
       "14562  Special screening examination for unspecified ...  \n",
       "14563                  Screening examination for cholera  \n",
       "14564   Screening examination for pulmonary tuberculosis  \n",
       "14565  Screening examination for leprosy (Hansen's di...  \n",
       "14566               Screening examination for diphtheria  \n",
       "\n",
       "[14567 rows x 4 columns]"
      ]
     },
     "execution_count": 13,
     "metadata": {},
     "output_type": "execute_result"
    }
   ],
   "source": [
    "diagnoses"
   ]
  },
  {
   "cell_type": "code",
   "execution_count": 14,
   "id": "1cae2c8c",
   "metadata": {},
   "outputs": [
    {
     "data": {
      "text/html": [
       "<div>\n",
       "<style scoped>\n",
       "    .dataframe tbody tr th:only-of-type {\n",
       "        vertical-align: middle;\n",
       "    }\n",
       "\n",
       "    .dataframe tbody tr th {\n",
       "        vertical-align: top;\n",
       "    }\n",
       "\n",
       "    .dataframe thead th {\n",
       "        text-align: right;\n",
       "    }\n",
       "</style>\n",
       "<table border=\"1\" class=\"dataframe\">\n",
       "  <thead>\n",
       "    <tr style=\"text-align: right;\">\n",
       "      <th></th>\n",
       "      <th>ROW_ID</th>\n",
       "      <th>ICD9_CODE</th>\n",
       "      <th>SHORT_TITLE</th>\n",
       "      <th>LONG_TITLE</th>\n",
       "    </tr>\n",
       "  </thead>\n",
       "  <tbody>\n",
       "    <tr>\n",
       "      <th>5129</th>\n",
       "      <td>5509</td>\n",
       "      <td>48241</td>\n",
       "      <td>Meth sus pneum d/t Staph</td>\n",
       "      <td>Methicillin susceptible pneumonia due to Staph...</td>\n",
       "    </tr>\n",
       "    <tr>\n",
       "      <th>5147</th>\n",
       "      <td>5528</td>\n",
       "      <td>486</td>\n",
       "      <td>Pneumonia, organism NOS</td>\n",
       "      <td>Pneumonia, organism unspecified</td>\n",
       "    </tr>\n",
       "    <tr>\n",
       "      <th>5407</th>\n",
       "      <td>5136</td>\n",
       "      <td>5070</td>\n",
       "      <td>Food/vomit pneumonitis</td>\n",
       "      <td>Pneumonitis due to inhalation of food or vomitus</td>\n",
       "    </tr>\n",
       "  </tbody>\n",
       "</table>\n",
       "</div>"
      ],
      "text/plain": [
       "      ROW_ID ICD9_CODE               SHORT_TITLE  \\\n",
       "5129    5509     48241  Meth sus pneum d/t Staph   \n",
       "5147    5528       486   Pneumonia, organism NOS   \n",
       "5407    5136      5070    Food/vomit pneumonitis   \n",
       "\n",
       "                                             LONG_TITLE  \n",
       "5129  Methicillin susceptible pneumonia due to Staph...  \n",
       "5147                    Pneumonia, organism unspecified  \n",
       "5407   Pneumonitis due to inhalation of food or vomitus  "
      ]
     },
     "execution_count": 14,
     "metadata": {},
     "output_type": "execute_result"
    }
   ],
   "source": [
    "#확인\n",
    "diagnoses[(diagnoses['ICD9_CODE'] == '486')|(diagnoses['ICD9_CODE'] == '5070')|(diagnoses['ICD9_CODE'] == '48241')]"
   ]
  },
  {
   "cell_type": "code",
   "execution_count": 15,
   "id": "0e20e63c",
   "metadata": {
    "ExecuteTime": {
     "end_time": "2021-06-30T03:18:06.959223Z",
     "start_time": "2021-06-30T03:18:06.916204Z"
    }
   },
   "outputs": [
    {
     "data": {
      "text/plain": [
       "486      4839\n",
       "5070     3680\n",
       "48241     789\n",
       "5121      786\n",
       "99731     564\n",
       "         ... \n",
       "3523        1\n",
       "4843        1\n",
       "5671        1\n",
       "4957        1\n",
       "11505       1\n",
       "Name: ICD9_CODE, Length: 63, dtype: int64"
      ]
     },
     "execution_count": 15,
     "metadata": {},
     "output_type": "execute_result"
    }
   ],
   "source": [
    "# 폐와 관련된 질병의 value_counts - 가장 많은 코드 486, 5070, 48241만 사용하기로 함\n",
    "pneum_id = diagnoses_icd[diagnoses_icd['ICD9_CODE'].isin(diag_pneum['ICD9_CODE'])].reset_index()\n",
    "pneum_id['ICD9_CODE'].value_counts()"
   ]
  },
  {
   "cell_type": "code",
   "execution_count": 16,
   "id": "4f29f6e4",
   "metadata": {},
   "outputs": [
    {
     "data": {
      "text/html": [
       "<div>\n",
       "<style scoped>\n",
       "    .dataframe tbody tr th:only-of-type {\n",
       "        vertical-align: middle;\n",
       "    }\n",
       "\n",
       "    .dataframe tbody tr th {\n",
       "        vertical-align: top;\n",
       "    }\n",
       "\n",
       "    .dataframe thead th {\n",
       "        text-align: right;\n",
       "    }\n",
       "</style>\n",
       "<table border=\"1\" class=\"dataframe\">\n",
       "  <thead>\n",
       "    <tr style=\"text-align: right;\">\n",
       "      <th></th>\n",
       "      <th>ROW_ID</th>\n",
       "      <th>ICD9_CODE</th>\n",
       "      <th>SHORT_TITLE</th>\n",
       "      <th>LONG_TITLE</th>\n",
       "    </tr>\n",
       "  </thead>\n",
       "  <tbody>\n",
       "    <tr>\n",
       "      <th>0</th>\n",
       "      <td>174</td>\n",
       "      <td>01166</td>\n",
       "      <td>TB pneumonia-oth test</td>\n",
       "      <td>Tuberculous pneumonia [any form], tubercle bac...</td>\n",
       "    </tr>\n",
       "    <tr>\n",
       "      <th>1</th>\n",
       "      <td>175</td>\n",
       "      <td>01170</td>\n",
       "      <td>TB pneumothorax-unspec</td>\n",
       "      <td>Tuberculous pneumothorax, unspecified</td>\n",
       "    </tr>\n",
       "    <tr>\n",
       "      <th>2</th>\n",
       "      <td>176</td>\n",
       "      <td>01171</td>\n",
       "      <td>TB pneumothorax-no exam</td>\n",
       "      <td>Tuberculous pneumothorax, bacteriological or h...</td>\n",
       "    </tr>\n",
       "    <tr>\n",
       "      <th>3</th>\n",
       "      <td>177</td>\n",
       "      <td>01172</td>\n",
       "      <td>TB pneumothorx-exam unkn</td>\n",
       "      <td>Tuberculous pneumothorax, bacteriological or h...</td>\n",
       "    </tr>\n",
       "    <tr>\n",
       "      <th>4</th>\n",
       "      <td>178</td>\n",
       "      <td>01173</td>\n",
       "      <td>TB pneumothorax-micro dx</td>\n",
       "      <td>Tuberculous pneumothorax, tubercle bacilli fou...</td>\n",
       "    </tr>\n",
       "    <tr>\n",
       "      <th>...</th>\n",
       "      <td>...</td>\n",
       "      <td>...</td>\n",
       "      <td>...</td>\n",
       "      <td>...</td>\n",
       "    </tr>\n",
       "    <tr>\n",
       "      <th>8795</th>\n",
       "      <td>8584</td>\n",
       "      <td>8604</td>\n",
       "      <td>Traum pneumohemothor-cl</td>\n",
       "      <td>Traumatic pneumohemothorax without mention of ...</td>\n",
       "    </tr>\n",
       "    <tr>\n",
       "      <th>8796</th>\n",
       "      <td>8585</td>\n",
       "      <td>8605</td>\n",
       "      <td>Traum pneumohemothor-opn</td>\n",
       "      <td>Traumatic pneumohemothorax with open wound int...</td>\n",
       "    </tr>\n",
       "    <tr>\n",
       "      <th>11751</th>\n",
       "      <td>12367</td>\n",
       "      <td>99731</td>\n",
       "      <td>Ventltr assoc pneumonia</td>\n",
       "      <td>Ventilator associated pneumonia</td>\n",
       "    </tr>\n",
       "    <tr>\n",
       "      <th>13212</th>\n",
       "      <td>12185</td>\n",
       "      <td>V0382</td>\n",
       "      <td>Nd vac strptcs pneumni b</td>\n",
       "      <td>Other specified vaccinations against streptoco...</td>\n",
       "    </tr>\n",
       "    <tr>\n",
       "      <th>13379</th>\n",
       "      <td>13952</td>\n",
       "      <td>V1261</td>\n",
       "      <td>Prsnl hx recur pneumonia</td>\n",
       "      <td>Personal history of pneumonia (recurrent)</td>\n",
       "    </tr>\n",
       "  </tbody>\n",
       "</table>\n",
       "<p>95 rows × 4 columns</p>\n",
       "</div>"
      ],
      "text/plain": [
       "       ROW_ID ICD9_CODE               SHORT_TITLE  \\\n",
       "0         174     01166     TB pneumonia-oth test   \n",
       "1         175     01170    TB pneumothorax-unspec   \n",
       "2         176     01171   TB pneumothorax-no exam   \n",
       "3         177     01172  TB pneumothorx-exam unkn   \n",
       "4         178     01173  TB pneumothorax-micro dx   \n",
       "...       ...       ...                       ...   \n",
       "8795     8584      8604   Traum pneumohemothor-cl   \n",
       "8796     8585      8605  Traum pneumohemothor-opn   \n",
       "11751   12367     99731   Ventltr assoc pneumonia   \n",
       "13212   12185     V0382  Nd vac strptcs pneumni b   \n",
       "13379   13952     V1261  Prsnl hx recur pneumonia   \n",
       "\n",
       "                                              LONG_TITLE  \n",
       "0      Tuberculous pneumonia [any form], tubercle bac...  \n",
       "1                  Tuberculous pneumothorax, unspecified  \n",
       "2      Tuberculous pneumothorax, bacteriological or h...  \n",
       "3      Tuberculous pneumothorax, bacteriological or h...  \n",
       "4      Tuberculous pneumothorax, tubercle bacilli fou...  \n",
       "...                                                  ...  \n",
       "8795   Traumatic pneumohemothorax without mention of ...  \n",
       "8796   Traumatic pneumohemothorax with open wound int...  \n",
       "11751                    Ventilator associated pneumonia  \n",
       "13212  Other specified vaccinations against streptoco...  \n",
       "13379          Personal history of pneumonia (recurrent)  \n",
       "\n",
       "[95 rows x 4 columns]"
      ]
     },
     "execution_count": 16,
     "metadata": {},
     "output_type": "execute_result"
    }
   ],
   "source": [
    "diag_pneum"
   ]
  },
  {
   "cell_type": "code",
   "execution_count": null,
   "id": "2cf89569",
   "metadata": {},
   "outputs": [],
   "source": []
  },
  {
   "cell_type": "code",
   "execution_count": 17,
   "id": "7dfb05b4",
   "metadata": {},
   "outputs": [
    {
     "name": "stdout",
     "output_type": "stream",
     "text": [
      "(46520, 8)\n"
     ]
    },
    {
     "data": {
      "text/html": [
       "<div>\n",
       "<style scoped>\n",
       "    .dataframe tbody tr th:only-of-type {\n",
       "        vertical-align: middle;\n",
       "    }\n",
       "\n",
       "    .dataframe tbody tr th {\n",
       "        vertical-align: top;\n",
       "    }\n",
       "\n",
       "    .dataframe thead th {\n",
       "        text-align: right;\n",
       "    }\n",
       "</style>\n",
       "<table border=\"1\" class=\"dataframe\">\n",
       "  <thead>\n",
       "    <tr style=\"text-align: right;\">\n",
       "      <th></th>\n",
       "      <th>ROW_ID</th>\n",
       "      <th>SUBJECT_ID</th>\n",
       "      <th>GENDER</th>\n",
       "      <th>DOB</th>\n",
       "      <th>DOD</th>\n",
       "      <th>DOD_HOSP</th>\n",
       "      <th>DOD_SSN</th>\n",
       "      <th>EXPIRE_FLAG</th>\n",
       "    </tr>\n",
       "  </thead>\n",
       "  <tbody>\n",
       "    <tr>\n",
       "      <th>1</th>\n",
       "      <td>235</td>\n",
       "      <td>250</td>\n",
       "      <td>F</td>\n",
       "      <td>2164-12-27 00:00:00</td>\n",
       "      <td>2188-11-22 00:00:00</td>\n",
       "      <td>2188-11-22 00:00:00</td>\n",
       "      <td>NaN</td>\n",
       "      <td>1</td>\n",
       "    </tr>\n",
       "    <tr>\n",
       "      <th>3</th>\n",
       "      <td>237</td>\n",
       "      <td>252</td>\n",
       "      <td>M</td>\n",
       "      <td>2078-03-06 00:00:00</td>\n",
       "      <td>NaN</td>\n",
       "      <td>NaN</td>\n",
       "      <td>NaN</td>\n",
       "      <td>0</td>\n",
       "    </tr>\n",
       "    <tr>\n",
       "      <th>4</th>\n",
       "      <td>238</td>\n",
       "      <td>253</td>\n",
       "      <td>F</td>\n",
       "      <td>2089-11-26 00:00:00</td>\n",
       "      <td>NaN</td>\n",
       "      <td>NaN</td>\n",
       "      <td>NaN</td>\n",
       "      <td>0</td>\n",
       "    </tr>\n",
       "    <tr>\n",
       "      <th>17</th>\n",
       "      <td>251</td>\n",
       "      <td>268</td>\n",
       "      <td>F</td>\n",
       "      <td>2132-02-21 00:00:00</td>\n",
       "      <td>2198-02-18 00:00:00</td>\n",
       "      <td>2198-02-18 00:00:00</td>\n",
       "      <td>NaN</td>\n",
       "      <td>1</td>\n",
       "    </tr>\n",
       "    <tr>\n",
       "      <th>18</th>\n",
       "      <td>252</td>\n",
       "      <td>269</td>\n",
       "      <td>M</td>\n",
       "      <td>2130-09-30 00:00:00</td>\n",
       "      <td>NaN</td>\n",
       "      <td>NaN</td>\n",
       "      <td>NaN</td>\n",
       "      <td>0</td>\n",
       "    </tr>\n",
       "    <tr>\n",
       "      <th>...</th>\n",
       "      <td>...</td>\n",
       "      <td>...</td>\n",
       "      <td>...</td>\n",
       "      <td>...</td>\n",
       "      <td>...</td>\n",
       "      <td>...</td>\n",
       "      <td>...</td>\n",
       "      <td>...</td>\n",
       "    </tr>\n",
       "    <tr>\n",
       "      <th>46488</th>\n",
       "      <td>31813</td>\n",
       "      <td>43982</td>\n",
       "      <td>F</td>\n",
       "      <td>2065-04-17 00:00:00</td>\n",
       "      <td>NaN</td>\n",
       "      <td>NaN</td>\n",
       "      <td>NaN</td>\n",
       "      <td>0</td>\n",
       "    </tr>\n",
       "    <tr>\n",
       "      <th>46494</th>\n",
       "      <td>31819</td>\n",
       "      <td>44002</td>\n",
       "      <td>F</td>\n",
       "      <td>2072-08-10 00:00:00</td>\n",
       "      <td>NaN</td>\n",
       "      <td>NaN</td>\n",
       "      <td>NaN</td>\n",
       "      <td>0</td>\n",
       "    </tr>\n",
       "    <tr>\n",
       "      <th>46507</th>\n",
       "      <td>31832</td>\n",
       "      <td>44064</td>\n",
       "      <td>M</td>\n",
       "      <td>2115-11-18 00:00:00</td>\n",
       "      <td>NaN</td>\n",
       "      <td>NaN</td>\n",
       "      <td>NaN</td>\n",
       "      <td>0</td>\n",
       "    </tr>\n",
       "    <tr>\n",
       "      <th>46511</th>\n",
       "      <td>31836</td>\n",
       "      <td>44073</td>\n",
       "      <td>F</td>\n",
       "      <td>2086-03-29 00:00:00</td>\n",
       "      <td>NaN</td>\n",
       "      <td>NaN</td>\n",
       "      <td>NaN</td>\n",
       "      <td>0</td>\n",
       "    </tr>\n",
       "    <tr>\n",
       "      <th>46519</th>\n",
       "      <td>31844</td>\n",
       "      <td>44128</td>\n",
       "      <td>M</td>\n",
       "      <td>2098-07-25 00:00:00</td>\n",
       "      <td>NaN</td>\n",
       "      <td>NaN</td>\n",
       "      <td>NaN</td>\n",
       "      <td>0</td>\n",
       "    </tr>\n",
       "  </tbody>\n",
       "</table>\n",
       "<p>10559 rows × 8 columns</p>\n",
       "</div>"
      ],
      "text/plain": [
       "       ROW_ID  SUBJECT_ID GENDER                  DOB                  DOD  \\\n",
       "1         235         250      F  2164-12-27 00:00:00  2188-11-22 00:00:00   \n",
       "3         237         252      M  2078-03-06 00:00:00                  NaN   \n",
       "4         238         253      F  2089-11-26 00:00:00                  NaN   \n",
       "17        251         268      F  2132-02-21 00:00:00  2198-02-18 00:00:00   \n",
       "18        252         269      M  2130-09-30 00:00:00                  NaN   \n",
       "...       ...         ...    ...                  ...                  ...   \n",
       "46488   31813       43982      F  2065-04-17 00:00:00                  NaN   \n",
       "46494   31819       44002      F  2072-08-10 00:00:00                  NaN   \n",
       "46507   31832       44064      M  2115-11-18 00:00:00                  NaN   \n",
       "46511   31836       44073      F  2086-03-29 00:00:00                  NaN   \n",
       "46519   31844       44128      M  2098-07-25 00:00:00                  NaN   \n",
       "\n",
       "                  DOD_HOSP DOD_SSN  EXPIRE_FLAG  \n",
       "1      2188-11-22 00:00:00     NaN            1  \n",
       "3                      NaN     NaN            0  \n",
       "4                      NaN     NaN            0  \n",
       "17     2198-02-18 00:00:00     NaN            1  \n",
       "18                     NaN     NaN            0  \n",
       "...                    ...     ...          ...  \n",
       "46488                  NaN     NaN            0  \n",
       "46494                  NaN     NaN            0  \n",
       "46507                  NaN     NaN            0  \n",
       "46511                  NaN     NaN            0  \n",
       "46519                  NaN     NaN            0  \n",
       "\n",
       "[10559 rows x 8 columns]"
      ]
     },
     "execution_count": 17,
     "metadata": {},
     "output_type": "execute_result"
    }
   ],
   "source": [
    "#환자 테이블에서 폐렴환자 추출하기\n",
    "pneum_sub = pneum_id['SUBJECT_ID']\n",
    "print(patient.shape)\n",
    "patient[patient['SUBJECT_ID'].isin(pneum_sub)]"
   ]
  },
  {
   "cell_type": "code",
   "execution_count": null,
   "id": "d064600c",
   "metadata": {},
   "outputs": [],
   "source": []
  },
  {
   "cell_type": "code",
   "execution_count": 44,
   "id": "12097177",
   "metadata": {},
   "outputs": [
    {
     "data": {
      "text/plain": [
       "46520"
      ]
     },
     "execution_count": 44,
     "metadata": {},
     "output_type": "execute_result"
    }
   ],
   "source": [
    "patient['SUBJECT_ID'].nunique()"
   ]
  },
  {
   "cell_type": "code",
   "execution_count": 3,
   "id": "4b3372d6",
   "metadata": {},
   "outputs": [
    {
     "data": {
      "text/plain": [
       "['Arial']"
      ]
     },
     "execution_count": 3,
     "metadata": {},
     "output_type": "execute_result"
    }
   ],
   "source": [
    "plt.rcParams['font.family']"
   ]
  },
  {
   "cell_type": "code",
   "execution_count": 8,
   "id": "e0f33ff0",
   "metadata": {},
   "outputs": [
    {
     "data": {
      "text/plain": [
       "38721"
      ]
     },
     "execution_count": 8,
     "metadata": {},
     "output_type": "execute_result"
    }
   ],
   "source": [
    "46520-7799"
   ]
  },
  {
   "cell_type": "code",
   "execution_count": 7,
   "id": "48c0d666",
   "metadata": {},
   "outputs": [
    {
     "data": {
      "image/png": "[encoded data removed]",
      "text/plain": [
       "<Figure size 900x600 with 1 Axes>"
      ]
     },
     "metadata": {},
     "output_type": "display_data"
    },
    {
     "data": {
      "text/plain": [
       "<Figure size 432x288 with 0 Axes>"
      ]
     },
     "metadata": {},
     "output_type": "display_data"
    }
   ],
   "source": [
    "import matplotlib.pyplot as plt\n",
    "import seaborn as sns\n",
    "plt.rcParams['font.family'] = 'Noto Sans CJK JP'\n",
    "# plt.rcParams['font.family'] = 'Wide' \n",
    "# information of groups\n",
    "\n",
    "group_names = ['그 외', '폐렴환자']\n",
    "\n",
    "group_sizes = [46520-7799, 7799]\n",
    "\n",
    "group_colors = ['#ffdd6e','#93b89a']\n",
    "\n",
    "group_explodes = (0.1, 0) # explode 1st slice\n",
    "\n",
    "\n",
    "\n",
    "\n",
    "# Pie chart\n",
    "plt.figure(dpi=150)\n",
    "plt.pie(group_sizes, \n",
    "\n",
    "        explode=group_explodes, \n",
    "\n",
    "        labels=group_names, \n",
    "\n",
    "        colors=group_colors, \n",
    "\n",
    "        autopct='%1.2f%%', # second decimal place\n",
    "\n",
    "#         shadow=True, \n",
    "\n",
    "        startangle=10,\n",
    "\n",
    "        textprops={'fontsize': 14}) # text font size\n",
    "\n",
    "plt.axis('equal') #  equal length of X and Y axis\n",
    "\n",
    "plt.title('전체환자 중 폐렴환자 비율', fontsize=17, color='#0f45a8',fontweight='bold')\n",
    "\n",
    "plt.show()\n",
    "plt.savefig('폐렴환자비율.png', bbox_inches='tight', dpi=200)"
   ]
  },
  {
   "cell_type": "code",
   "execution_count": 103,
   "id": "2c7ceda9",
   "metadata": {},
   "outputs": [
    {
     "data": {
      "image/png": "[encoded data removed]",
      "text/plain": [
       "<Figure size 900x600 with 1 Axes>"
      ]
     },
     "metadata": {},
     "output_type": "display_data"
    },
    {
     "data": {
      "text/plain": [
       "<Figure size 432x288 with 0 Axes>"
      ]
     },
     "metadata": {},
     "output_type": "display_data"
    }
   ],
   "source": [
    "group_names = ['사망', '퇴원']\n",
    "\n",
    "group_sizes = [0.612, 0.388]\n",
    "\n",
    "group_colors = ['lightcoral', 'peachpuff']\n",
    "\n",
    "group_explodes = (0.1, 0) # explode 1st slice\n",
    "\n",
    "\n",
    "\n",
    "\n",
    "# Pie chart\n",
    "plt.figure(dpi=150)\n",
    "plt.pie(group_sizes, \n",
    "\n",
    "        explode=group_explodes, \n",
    "\n",
    "        labels=group_names, \n",
    "\n",
    "        colors=group_colors, \n",
    "\n",
    "        autopct='%1.2f%%', # second decimal place\n",
    "\n",
    "        shadow=True, \n",
    "\n",
    "        startangle=50,\n",
    "\n",
    "        textprops={'fontsize': 14}, ) # text font size\n",
    "\n",
    "plt.axis('equal') #  equal length of X and Y axis\n",
    "\n",
    "plt.title('폐렴환자 중 생존 비율', fontsize=20)\n",
    "\n",
    "plt.show()\n",
    "plt.savefig('폐렴환자_생존비율.png', dpi=200)"
   ]
  },
  {
   "cell_type": "code",
   "execution_count": 22,
   "id": "1cf110f3",
   "metadata": {},
   "outputs": [
    {
     "data": {
      "text/html": [
       "<div>\n",
       "<style scoped>\n",
       "    .dataframe tbody tr th:only-of-type {\n",
       "        vertical-align: middle;\n",
       "    }\n",
       "\n",
       "    .dataframe tbody tr th {\n",
       "        vertical-align: top;\n",
       "    }\n",
       "\n",
       "    .dataframe thead th {\n",
       "        text-align: right;\n",
       "    }\n",
       "</style>\n",
       "<table border=\"1\" class=\"dataframe\">\n",
       "  <thead>\n",
       "    <tr style=\"text-align: right;\">\n",
       "      <th></th>\n",
       "      <th>index</th>\n",
       "      <th>ROW_ID</th>\n",
       "      <th>SUBJECT_ID</th>\n",
       "      <th>HADM_ID</th>\n",
       "      <th>SEQ_NUM</th>\n",
       "      <th>ICD9_CODE</th>\n",
       "    </tr>\n",
       "  </thead>\n",
       "  <tbody>\n",
       "    <tr>\n",
       "      <th>0</th>\n",
       "      <td>1</td>\n",
       "      <td>1298</td>\n",
       "      <td>109</td>\n",
       "      <td>172335</td>\n",
       "      <td>2.0</td>\n",
       "      <td>486</td>\n",
       "    </tr>\n",
       "    <tr>\n",
       "      <th>1</th>\n",
       "      <td>38</td>\n",
       "      <td>1498</td>\n",
       "      <td>114</td>\n",
       "      <td>178393</td>\n",
       "      <td>3.0</td>\n",
       "      <td>48283</td>\n",
       "    </tr>\n",
       "    <tr>\n",
       "      <th>2</th>\n",
       "      <td>57</td>\n",
       "      <td>1517</td>\n",
       "      <td>115</td>\n",
       "      <td>114585</td>\n",
       "      <td>16.0</td>\n",
       "      <td>0413</td>\n",
       "    </tr>\n",
       "    <tr>\n",
       "      <th>3</th>\n",
       "      <td>82</td>\n",
       "      <td>1542</td>\n",
       "      <td>117</td>\n",
       "      <td>164853</td>\n",
       "      <td>11.0</td>\n",
       "      <td>486</td>\n",
       "    </tr>\n",
       "    <tr>\n",
       "      <th>4</th>\n",
       "      <td>116</td>\n",
       "      <td>1576</td>\n",
       "      <td>124</td>\n",
       "      <td>112906</td>\n",
       "      <td>2.0</td>\n",
       "      <td>486</td>\n",
       "    </tr>\n",
       "    <tr>\n",
       "      <th>...</th>\n",
       "      <td>...</td>\n",
       "      <td>...</td>\n",
       "      <td>...</td>\n",
       "      <td>...</td>\n",
       "      <td>...</td>\n",
       "      <td>...</td>\n",
       "    </tr>\n",
       "    <tr>\n",
       "      <th>14154</th>\n",
       "      <td>650638</td>\n",
       "      <td>631748</td>\n",
       "      <td>95816</td>\n",
       "      <td>122432</td>\n",
       "      <td>3.0</td>\n",
       "      <td>486</td>\n",
       "    </tr>\n",
       "    <tr>\n",
       "      <th>14155</th>\n",
       "      <td>650672</td>\n",
       "      <td>632562</td>\n",
       "      <td>96004</td>\n",
       "      <td>141589</td>\n",
       "      <td>1.0</td>\n",
       "      <td>486</td>\n",
       "    </tr>\n",
       "    <tr>\n",
       "      <th>14156</th>\n",
       "      <td>650740</td>\n",
       "      <td>632630</td>\n",
       "      <td>96015</td>\n",
       "      <td>166722</td>\n",
       "      <td>2.0</td>\n",
       "      <td>4821</td>\n",
       "    </tr>\n",
       "    <tr>\n",
       "      <th>14157</th>\n",
       "      <td>650873</td>\n",
       "      <td>638381</td>\n",
       "      <td>97144</td>\n",
       "      <td>109999</td>\n",
       "      <td>9.0</td>\n",
       "      <td>4821</td>\n",
       "    </tr>\n",
       "    <tr>\n",
       "      <th>14158</th>\n",
       "      <td>651005</td>\n",
       "      <td>639761</td>\n",
       "      <td>97488</td>\n",
       "      <td>161999</td>\n",
       "      <td>6.0</td>\n",
       "      <td>99731</td>\n",
       "    </tr>\n",
       "  </tbody>\n",
       "</table>\n",
       "<p>14159 rows × 6 columns</p>\n",
       "</div>"
      ],
      "text/plain": [
       "        index  ROW_ID  SUBJECT_ID  HADM_ID  SEQ_NUM ICD9_CODE\n",
       "0           1    1298         109   172335      2.0       486\n",
       "1          38    1498         114   178393      3.0     48283\n",
       "2          57    1517         115   114585     16.0      0413\n",
       "3          82    1542         117   164853     11.0       486\n",
       "4         116    1576         124   112906      2.0       486\n",
       "...       ...     ...         ...      ...      ...       ...\n",
       "14154  650638  631748       95816   122432      3.0       486\n",
       "14155  650672  632562       96004   141589      1.0       486\n",
       "14156  650740  632630       96015   166722      2.0      4821\n",
       "14157  650873  638381       97144   109999      9.0      4821\n",
       "14158  651005  639761       97488   161999      6.0     99731\n",
       "\n",
       "[14159 rows x 6 columns]"
      ]
     },
     "execution_count": 22,
     "metadata": {},
     "output_type": "execute_result"
    }
   ],
   "source": [
    "pneum_id"
   ]
  },
  {
   "cell_type": "code",
   "execution_count": null,
   "id": "1d23ace5",
   "metadata": {},
   "outputs": [],
   "source": []
  },
  {
   "cell_type": "code",
   "execution_count": null,
   "id": "03578291",
   "metadata": {},
   "outputs": [],
   "source": []
  },
  {
   "cell_type": "code",
   "execution_count": 7,
   "id": "d3fb4183",
   "metadata": {
    "ExecuteTime": {
     "end_time": "2021-06-30T03:18:12.568217Z",
     "start_time": "2021-06-30T03:18:12.556464Z"
    }
   },
   "outputs": [
    {
     "data": {
      "text/html": [
       "<div>\n",
       "<style scoped>\n",
       "    .dataframe tbody tr th:only-of-type {\n",
       "        vertical-align: middle;\n",
       "    }\n",
       "\n",
       "    .dataframe tbody tr th {\n",
       "        vertical-align: top;\n",
       "    }\n",
       "\n",
       "    .dataframe thead th {\n",
       "        text-align: right;\n",
       "    }\n",
       "</style>\n",
       "<table border=\"1\" class=\"dataframe\">\n",
       "  <thead>\n",
       "    <tr style=\"text-align: right;\">\n",
       "      <th></th>\n",
       "      <th>ROW_ID</th>\n",
       "      <th>ICD9_CODE</th>\n",
       "      <th>SHORT_TITLE</th>\n",
       "      <th>LONG_TITLE</th>\n",
       "    </tr>\n",
       "  </thead>\n",
       "  <tbody>\n",
       "    <tr>\n",
       "      <th>5129</th>\n",
       "      <td>5509</td>\n",
       "      <td>48241</td>\n",
       "      <td>Meth sus pneum d/t Staph</td>\n",
       "      <td>Methicillin susceptible pneumonia due to Staph...</td>\n",
       "    </tr>\n",
       "    <tr>\n",
       "      <th>5147</th>\n",
       "      <td>5528</td>\n",
       "      <td>486</td>\n",
       "      <td>Pneumonia, organism NOS</td>\n",
       "      <td>Pneumonia, organism unspecified</td>\n",
       "    </tr>\n",
       "    <tr>\n",
       "      <th>5407</th>\n",
       "      <td>5136</td>\n",
       "      <td>5070</td>\n",
       "      <td>Food/vomit pneumonitis</td>\n",
       "      <td>Pneumonitis due to inhalation of food or vomitus</td>\n",
       "    </tr>\n",
       "  </tbody>\n",
       "</table>\n",
       "</div>"
      ],
      "text/plain": [
       "      ROW_ID ICD9_CODE               SHORT_TITLE  \\\n",
       "5129    5509     48241  Meth sus pneum d/t Staph   \n",
       "5147    5528       486   Pneumonia, organism NOS   \n",
       "5407    5136      5070    Food/vomit pneumonitis   \n",
       "\n",
       "                                             LONG_TITLE  \n",
       "5129  Methicillin susceptible pneumonia due to Staph...  \n",
       "5147                    Pneumonia, organism unspecified  \n",
       "5407   Pneumonitis due to inhalation of food or vomitus  "
      ]
     },
     "execution_count": 7,
     "metadata": {},
     "output_type": "execute_result"
    }
   ],
   "source": [
    "#[:3] 정확한 병명 확인\n",
    "diagnoses[diagnoses['ICD9_CODE'].isin(pneum_id['ICD9_CODE'].value_counts()[:3].index)]"
   ]
  },
  {
   "cell_type": "code",
   "execution_count": 18,
   "id": "52b9ab27",
   "metadata": {
    "ExecuteTime": {
     "end_time": "2021-06-30T03:18:21.202071Z",
     "start_time": "2021-06-30T03:18:21.189610Z"
    }
   },
   "outputs": [
    {
     "data": {
      "text/html": [
       "<div>\n",
       "<style scoped>\n",
       "    .dataframe tbody tr th:only-of-type {\n",
       "        vertical-align: middle;\n",
       "    }\n",
       "\n",
       "    .dataframe tbody tr th {\n",
       "        vertical-align: top;\n",
       "    }\n",
       "\n",
       "    .dataframe thead th {\n",
       "        text-align: right;\n",
       "    }\n",
       "</style>\n",
       "<table border=\"1\" class=\"dataframe\">\n",
       "  <thead>\n",
       "    <tr style=\"text-align: right;\">\n",
       "      <th></th>\n",
       "      <th>SUBJECT_ID</th>\n",
       "      <th>HADM_ID</th>\n",
       "      <th>ICD9_CODE</th>\n",
       "    </tr>\n",
       "  </thead>\n",
       "  <tbody>\n",
       "    <tr>\n",
       "      <th>0</th>\n",
       "      <td>109</td>\n",
       "      <td>172335</td>\n",
       "      <td>486</td>\n",
       "    </tr>\n",
       "    <tr>\n",
       "      <th>1</th>\n",
       "      <td>117</td>\n",
       "      <td>164853</td>\n",
       "      <td>486</td>\n",
       "    </tr>\n",
       "    <tr>\n",
       "      <th>2</th>\n",
       "      <td>124</td>\n",
       "      <td>112906</td>\n",
       "      <td>486</td>\n",
       "    </tr>\n",
       "    <tr>\n",
       "      <th>3</th>\n",
       "      <td>124</td>\n",
       "      <td>138376</td>\n",
       "      <td>486</td>\n",
       "    </tr>\n",
       "    <tr>\n",
       "      <th>4</th>\n",
       "      <td>136</td>\n",
       "      <td>184644</td>\n",
       "      <td>486</td>\n",
       "    </tr>\n",
       "    <tr>\n",
       "      <th>...</th>\n",
       "      <td>...</td>\n",
       "      <td>...</td>\n",
       "      <td>...</td>\n",
       "    </tr>\n",
       "    <tr>\n",
       "      <th>9303</th>\n",
       "      <td>95555</td>\n",
       "      <td>103704</td>\n",
       "      <td>486</td>\n",
       "    </tr>\n",
       "    <tr>\n",
       "      <th>9304</th>\n",
       "      <td>95561</td>\n",
       "      <td>121289</td>\n",
       "      <td>486</td>\n",
       "    </tr>\n",
       "    <tr>\n",
       "      <th>9305</th>\n",
       "      <td>95816</td>\n",
       "      <td>122432</td>\n",
       "      <td>5070</td>\n",
       "    </tr>\n",
       "    <tr>\n",
       "      <th>9306</th>\n",
       "      <td>95816</td>\n",
       "      <td>122432</td>\n",
       "      <td>486</td>\n",
       "    </tr>\n",
       "    <tr>\n",
       "      <th>9307</th>\n",
       "      <td>96004</td>\n",
       "      <td>141589</td>\n",
       "      <td>486</td>\n",
       "    </tr>\n",
       "  </tbody>\n",
       "</table>\n",
       "<p>9308 rows × 3 columns</p>\n",
       "</div>"
      ],
      "text/plain": [
       "      SUBJECT_ID  HADM_ID ICD9_CODE\n",
       "0            109   172335       486\n",
       "1            117   164853       486\n",
       "2            124   112906       486\n",
       "3            124   138376       486\n",
       "4            136   184644       486\n",
       "...          ...      ...       ...\n",
       "9303       95555   103704       486\n",
       "9304       95561   121289       486\n",
       "9305       95816   122432      5070\n",
       "9306       95816   122432       486\n",
       "9307       96004   141589       486\n",
       "\n",
       "[9308 rows x 3 columns]"
      ]
     },
     "execution_count": 18,
     "metadata": {},
     "output_type": "execute_result"
    }
   ],
   "source": [
    "#[:3]의 Diagnoses_icd 데이터 추출\n",
    "pneum = pneum_id[(pneum_id['ICD9_CODE'].isin(pneum_id['ICD9_CODE'].value_counts()[:3].index))].drop(['index','ROW_ID','SEQ_NUM'],axis=1).reset_index(drop=True)\n",
    "pneum"
   ]
  },
  {
   "cell_type": "code",
   "execution_count": 19,
   "id": "13b52013",
   "metadata": {
    "ExecuteTime": {
     "end_time": "2021-06-30T03:18:29.534472Z",
     "start_time": "2021-06-30T03:18:29.530506Z"
    }
   },
   "outputs": [
    {
     "data": {
      "text/plain": [
       "7807"
      ]
     },
     "execution_count": 19,
     "metadata": {},
     "output_type": "execute_result"
    }
   ],
   "source": [
    "# 환자의 id만 추출하여 환자id에 저장, 총 예측에 사용할 환자 수 확인\n",
    "환자id = pneum['SUBJECT_ID'].unique()\n",
    "len(환자id)"
   ]
  },
  {
   "cell_type": "code",
   "execution_count": 20,
   "id": "e5bdfda3",
   "metadata": {
    "ExecuteTime": {
     "end_time": "2021-06-30T03:18:38.119210Z",
     "start_time": "2021-06-30T03:18:38.111048Z"
    }
   },
   "outputs": [
    {
     "data": {
      "text/plain": [
       "1    4777\n",
       "0    3030\n",
       "Name: EXPIRE_FLAG, dtype: int64"
      ]
     },
     "execution_count": 20,
     "metadata": {},
     "output_type": "execute_result"
    }
   ],
   "source": [
    "# 추출한 환자id로 환자의 사망,생존 분포 확인\n",
    "patient[patient['SUBJECT_ID'].isin(환자id)]['EXPIRE_FLAG'].value_counts()"
   ]
  },
  {
   "cell_type": "code",
   "execution_count": 21,
   "id": "4eb8e0d6",
   "metadata": {
    "ExecuteTime": {
     "end_time": "2021-06-30T03:18:43.350426Z",
     "start_time": "2021-06-30T03:18:43.337351Z"
    }
   },
   "outputs": [
    {
     "data": {
      "text/html": [
       "<div>\n",
       "<style scoped>\n",
       "    .dataframe tbody tr th:only-of-type {\n",
       "        vertical-align: middle;\n",
       "    }\n",
       "\n",
       "    .dataframe tbody tr th {\n",
       "        vertical-align: top;\n",
       "    }\n",
       "\n",
       "    .dataframe thead th {\n",
       "        text-align: right;\n",
       "    }\n",
       "</style>\n",
       "<table border=\"1\" class=\"dataframe\">\n",
       "  <thead>\n",
       "    <tr style=\"text-align: right;\">\n",
       "      <th></th>\n",
       "      <th>ROW_ID</th>\n",
       "      <th>SUBJECT_ID</th>\n",
       "      <th>GENDER</th>\n",
       "      <th>DOB</th>\n",
       "      <th>DOD</th>\n",
       "      <th>DOD_HOSP</th>\n",
       "      <th>DOD_SSN</th>\n",
       "      <th>EXPIRE_FLAG</th>\n",
       "    </tr>\n",
       "  </thead>\n",
       "  <tbody>\n",
       "    <tr>\n",
       "      <th>3</th>\n",
       "      <td>237</td>\n",
       "      <td>252</td>\n",
       "      <td>M</td>\n",
       "      <td>2078-03-06 00:00:00</td>\n",
       "      <td>NaN</td>\n",
       "      <td>NaN</td>\n",
       "      <td>NaN</td>\n",
       "      <td>0</td>\n",
       "    </tr>\n",
       "    <tr>\n",
       "      <th>4</th>\n",
       "      <td>238</td>\n",
       "      <td>253</td>\n",
       "      <td>F</td>\n",
       "      <td>2089-11-26 00:00:00</td>\n",
       "      <td>NaN</td>\n",
       "      <td>NaN</td>\n",
       "      <td>NaN</td>\n",
       "      <td>0</td>\n",
       "    </tr>\n",
       "    <tr>\n",
       "      <th>17</th>\n",
       "      <td>251</td>\n",
       "      <td>268</td>\n",
       "      <td>F</td>\n",
       "      <td>2132-02-21 00:00:00</td>\n",
       "      <td>2198-02-18 00:00:00</td>\n",
       "      <td>2198-02-18 00:00:00</td>\n",
       "      <td>NaN</td>\n",
       "      <td>1</td>\n",
       "    </tr>\n",
       "    <tr>\n",
       "      <th>18</th>\n",
       "      <td>252</td>\n",
       "      <td>269</td>\n",
       "      <td>M</td>\n",
       "      <td>2130-09-30 00:00:00</td>\n",
       "      <td>NaN</td>\n",
       "      <td>NaN</td>\n",
       "      <td>NaN</td>\n",
       "      <td>0</td>\n",
       "    </tr>\n",
       "    <tr>\n",
       "      <th>22</th>\n",
       "      <td>628</td>\n",
       "      <td>665</td>\n",
       "      <td>M</td>\n",
       "      <td>2052-05-20 00:00:00</td>\n",
       "      <td>2120-02-04 00:00:00</td>\n",
       "      <td>2120-02-04 00:00:00</td>\n",
       "      <td>NaN</td>\n",
       "      <td>1</td>\n",
       "    </tr>\n",
       "    <tr>\n",
       "      <th>...</th>\n",
       "      <td>...</td>\n",
       "      <td>...</td>\n",
       "      <td>...</td>\n",
       "      <td>...</td>\n",
       "      <td>...</td>\n",
       "      <td>...</td>\n",
       "      <td>...</td>\n",
       "      <td>...</td>\n",
       "    </tr>\n",
       "    <tr>\n",
       "      <th>46476</th>\n",
       "      <td>31801</td>\n",
       "      <td>43932</td>\n",
       "      <td>M</td>\n",
       "      <td>2080-06-26 00:00:00</td>\n",
       "      <td>2153-03-01 00:00:00</td>\n",
       "      <td>NaN</td>\n",
       "      <td>2153-03-01 00:00:00</td>\n",
       "      <td>1</td>\n",
       "    </tr>\n",
       "    <tr>\n",
       "      <th>46477</th>\n",
       "      <td>31802</td>\n",
       "      <td>43937</td>\n",
       "      <td>M</td>\n",
       "      <td>2113-03-30 00:00:00</td>\n",
       "      <td>2200-08-05 00:00:00</td>\n",
       "      <td>2200-08-05 00:00:00</td>\n",
       "      <td>2200-08-05 00:00:00</td>\n",
       "      <td>1</td>\n",
       "    </tr>\n",
       "    <tr>\n",
       "      <th>46482</th>\n",
       "      <td>31807</td>\n",
       "      <td>43959</td>\n",
       "      <td>F</td>\n",
       "      <td>2028-05-13 00:00:00</td>\n",
       "      <td>NaN</td>\n",
       "      <td>NaN</td>\n",
       "      <td>NaN</td>\n",
       "      <td>0</td>\n",
       "    </tr>\n",
       "    <tr>\n",
       "      <th>46488</th>\n",
       "      <td>31813</td>\n",
       "      <td>43982</td>\n",
       "      <td>F</td>\n",
       "      <td>2065-04-17 00:00:00</td>\n",
       "      <td>NaN</td>\n",
       "      <td>NaN</td>\n",
       "      <td>NaN</td>\n",
       "      <td>0</td>\n",
       "    </tr>\n",
       "    <tr>\n",
       "      <th>46507</th>\n",
       "      <td>31832</td>\n",
       "      <td>44064</td>\n",
       "      <td>M</td>\n",
       "      <td>2115-11-18 00:00:00</td>\n",
       "      <td>NaN</td>\n",
       "      <td>NaN</td>\n",
       "      <td>NaN</td>\n",
       "      <td>0</td>\n",
       "    </tr>\n",
       "  </tbody>\n",
       "</table>\n",
       "<p>7807 rows × 8 columns</p>\n",
       "</div>"
      ],
      "text/plain": [
       "       ROW_ID  SUBJECT_ID GENDER                  DOB                  DOD  \\\n",
       "3         237         252      M  2078-03-06 00:00:00                  NaN   \n",
       "4         238         253      F  2089-11-26 00:00:00                  NaN   \n",
       "17        251         268      F  2132-02-21 00:00:00  2198-02-18 00:00:00   \n",
       "18        252         269      M  2130-09-30 00:00:00                  NaN   \n",
       "22        628         665      M  2052-05-20 00:00:00  2120-02-04 00:00:00   \n",
       "...       ...         ...    ...                  ...                  ...   \n",
       "46476   31801       43932      M  2080-06-26 00:00:00  2153-03-01 00:00:00   \n",
       "46477   31802       43937      M  2113-03-30 00:00:00  2200-08-05 00:00:00   \n",
       "46482   31807       43959      F  2028-05-13 00:00:00                  NaN   \n",
       "46488   31813       43982      F  2065-04-17 00:00:00                  NaN   \n",
       "46507   31832       44064      M  2115-11-18 00:00:00                  NaN   \n",
       "\n",
       "                  DOD_HOSP              DOD_SSN  EXPIRE_FLAG  \n",
       "3                      NaN                  NaN            0  \n",
       "4                      NaN                  NaN            0  \n",
       "17     2198-02-18 00:00:00                  NaN            1  \n",
       "18                     NaN                  NaN            0  \n",
       "22     2120-02-04 00:00:00                  NaN            1  \n",
       "...                    ...                  ...          ...  \n",
       "46476                  NaN  2153-03-01 00:00:00            1  \n",
       "46477  2200-08-05 00:00:00  2200-08-05 00:00:00            1  \n",
       "46482                  NaN                  NaN            0  \n",
       "46488                  NaN                  NaN            0  \n",
       "46507                  NaN                  NaN            0  \n",
       "\n",
       "[7807 rows x 8 columns]"
      ]
     },
     "execution_count": 21,
     "metadata": {},
     "output_type": "execute_result"
    }
   ],
   "source": [
    "#추출한 환자id로 patient에서 정보 추출\n",
    "환자 = patient[patient['SUBJECT_ID'].isin(환자id)]\n",
    "환자"
   ]
  },
  {
   "cell_type": "code",
   "execution_count": 16,
   "id": "534cfd5c",
   "metadata": {
    "ExecuteTime": {
     "end_time": "2021-06-30T03:19:09.968881Z",
     "start_time": "2021-06-30T03:19:09.950140Z"
    }
   },
   "outputs": [],
   "source": [
    "# 환자.to_csv('폐렴환자.csv', index=False)"
   ]
  },
  {
   "cell_type": "markdown",
   "id": "67f1926b",
   "metadata": {},
   "source": [
    "# labevents에서 폐렴환자 추출 및 간단 EDA"
   ]
  },
  {
   "cell_type": "code",
   "execution_count": 23,
   "id": "cce50b0d",
   "metadata": {
    "ExecuteTime": {
     "end_time": "2021-06-30T03:19:27.835697Z",
     "start_time": "2021-06-30T03:19:27.239821Z"
    }
   },
   "outputs": [
    {
     "data": {
      "text/html": [
       "<div>\n",
       "<style scoped>\n",
       "    .dataframe tbody tr th:only-of-type {\n",
       "        vertical-align: middle;\n",
       "    }\n",
       "\n",
       "    .dataframe tbody tr th {\n",
       "        vertical-align: top;\n",
       "    }\n",
       "\n",
       "    .dataframe thead th {\n",
       "        text-align: right;\n",
       "    }\n",
       "</style>\n",
       "<table border=\"1\" class=\"dataframe\">\n",
       "  <thead>\n",
       "    <tr style=\"text-align: right;\">\n",
       "      <th></th>\n",
       "      <th>ROW_ID</th>\n",
       "      <th>SUBJECT_ID</th>\n",
       "      <th>HADM_ID</th>\n",
       "      <th>ITEMID</th>\n",
       "      <th>CHARTTIME</th>\n",
       "      <th>FLAG</th>\n",
       "    </tr>\n",
       "  </thead>\n",
       "  <tbody>\n",
       "    <tr>\n",
       "      <th>0</th>\n",
       "      <td>5144</td>\n",
       "      <td>9</td>\n",
       "      <td>150750.0</td>\n",
       "      <td>50819</td>\n",
       "      <td>2149-11-14 06:07:00</td>\n",
       "      <td>NaN</td>\n",
       "    </tr>\n",
       "    <tr>\n",
       "      <th>1</th>\n",
       "      <td>5145</td>\n",
       "      <td>9</td>\n",
       "      <td>150750.0</td>\n",
       "      <td>50820</td>\n",
       "      <td>2149-11-14 06:07:00</td>\n",
       "      <td>NaN</td>\n",
       "    </tr>\n",
       "    <tr>\n",
       "      <th>2</th>\n",
       "      <td>5146</td>\n",
       "      <td>9</td>\n",
       "      <td>150750.0</td>\n",
       "      <td>50821</td>\n",
       "      <td>2149-11-14 06:07:00</td>\n",
       "      <td>abnormal</td>\n",
       "    </tr>\n",
       "    <tr>\n",
       "      <th>3</th>\n",
       "      <td>5147</td>\n",
       "      <td>9</td>\n",
       "      <td>150750.0</td>\n",
       "      <td>50826</td>\n",
       "      <td>2149-11-14 06:07:00</td>\n",
       "      <td>NaN</td>\n",
       "    </tr>\n",
       "    <tr>\n",
       "      <th>4</th>\n",
       "      <td>5148</td>\n",
       "      <td>9</td>\n",
       "      <td>150750.0</td>\n",
       "      <td>50827</td>\n",
       "      <td>2149-11-14 06:07:00</td>\n",
       "      <td>NaN</td>\n",
       "    </tr>\n",
       "    <tr>\n",
       "      <th>...</th>\n",
       "      <td>...</td>\n",
       "      <td>...</td>\n",
       "      <td>...</td>\n",
       "      <td>...</td>\n",
       "      <td>...</td>\n",
       "      <td>...</td>\n",
       "    </tr>\n",
       "    <tr>\n",
       "      <th>9356344</th>\n",
       "      <td>27427231</td>\n",
       "      <td>96442</td>\n",
       "      <td>120151.0</td>\n",
       "      <td>51248</td>\n",
       "      <td>2115-06-29 04:45:00</td>\n",
       "      <td>NaN</td>\n",
       "    </tr>\n",
       "    <tr>\n",
       "      <th>9356345</th>\n",
       "      <td>27427232</td>\n",
       "      <td>96442</td>\n",
       "      <td>120151.0</td>\n",
       "      <td>51249</td>\n",
       "      <td>2115-06-29 04:45:00</td>\n",
       "      <td>NaN</td>\n",
       "    </tr>\n",
       "    <tr>\n",
       "      <th>9356346</th>\n",
       "      <td>27427233</td>\n",
       "      <td>96442</td>\n",
       "      <td>120151.0</td>\n",
       "      <td>51250</td>\n",
       "      <td>2115-06-29 04:45:00</td>\n",
       "      <td>NaN</td>\n",
       "    </tr>\n",
       "    <tr>\n",
       "      <th>9356347</th>\n",
       "      <td>27427234</td>\n",
       "      <td>96442</td>\n",
       "      <td>120151.0</td>\n",
       "      <td>51254</td>\n",
       "      <td>2115-06-29 04:45:00</td>\n",
       "      <td>abnormal</td>\n",
       "    </tr>\n",
       "    <tr>\n",
       "      <th>9356348</th>\n",
       "      <td>27427235</td>\n",
       "      <td>96442</td>\n",
       "      <td>120151.0</td>\n",
       "      <td>51256</td>\n",
       "      <td>2115-06-29 04:45:00</td>\n",
       "      <td>abnormal</td>\n",
       "    </tr>\n",
       "  </tbody>\n",
       "</table>\n",
       "<p>9356349 rows × 6 columns</p>\n",
       "</div>"
      ],
      "text/plain": [
       "           ROW_ID  SUBJECT_ID   HADM_ID  ITEMID            CHARTTIME      FLAG\n",
       "0            5144           9  150750.0   50819  2149-11-14 06:07:00       NaN\n",
       "1            5145           9  150750.0   50820  2149-11-14 06:07:00       NaN\n",
       "2            5146           9  150750.0   50821  2149-11-14 06:07:00  abnormal\n",
       "3            5147           9  150750.0   50826  2149-11-14 06:07:00       NaN\n",
       "4            5148           9  150750.0   50827  2149-11-14 06:07:00       NaN\n",
       "...           ...         ...       ...     ...                  ...       ...\n",
       "9356344  27427231       96442  120151.0   51248  2115-06-29 04:45:00       NaN\n",
       "9356345  27427232       96442  120151.0   51249  2115-06-29 04:45:00       NaN\n",
       "9356346  27427233       96442  120151.0   51250  2115-06-29 04:45:00       NaN\n",
       "9356347  27427234       96442  120151.0   51254  2115-06-29 04:45:00  abnormal\n",
       "9356348  27427235       96442  120151.0   51256  2115-06-29 04:45:00  abnormal\n",
       "\n",
       "[9356349 rows x 6 columns]"
      ]
     },
     "execution_count": 23,
     "metadata": {},
     "output_type": "execute_result"
    }
   ],
   "source": [
    "# labevents에서 폐렴환자 id만을 추출하여 환자lab에 저장\n",
    "환자lab = lab[lab['SUBJECT_ID'].isin(환자id)].reset_index(drop=True)\n",
    "환자lab"
   ]
  },
  {
   "cell_type": "code",
   "execution_count": 24,
   "id": "f9e944b2",
   "metadata": {
    "ExecuteTime": {
     "end_time": "2021-06-30T03:19:59.327113Z",
     "start_time": "2021-06-30T03:19:58.947983Z"
    }
   },
   "outputs": [],
   "source": [
    "# value_counts()를 위해 결측치를 문자열 'nan' 으로 설정\n",
    "환자lab['FLAG'] = 환자lab['FLAG'].fillna('nan')"
   ]
  },
  {
   "cell_type": "code",
   "execution_count": 25,
   "id": "5311aba8",
   "metadata": {
    "ExecuteTime": {
     "end_time": "2021-06-30T03:19:59.831606Z",
     "start_time": "2021-06-30T03:19:59.328333Z"
    }
   },
   "outputs": [
    {
     "data": {
      "text/plain": [
       "nan         5931403\n",
       "abnormal    3406609\n",
       "delta         18337\n",
       "Name: FLAG, dtype: int64"
      ]
     },
     "execution_count": 25,
     "metadata": {},
     "output_type": "execute_result"
    }
   ],
   "source": [
    "환자lab['FLAG'].value_counts()"
   ]
  },
  {
   "cell_type": "code",
   "execution_count": 26,
   "id": "4a41461b",
   "metadata": {
    "ExecuteTime": {
     "end_time": "2021-06-30T03:20:14.255186Z",
     "start_time": "2021-06-30T03:19:59.832772Z"
    }
   },
   "outputs": [],
   "source": [
    "# 환자lab.to_csv('폐렴환자lab.csv', index=False)"
   ]
  },
  {
   "cell_type": "code",
   "execution_count": 33,
   "id": "8a8bfccf",
   "metadata": {
    "ExecuteTime": {
     "end_time": "2021-06-30T03:20:23.614143Z",
     "start_time": "2021-06-30T03:20:20.076272Z"
    }
   },
   "outputs": [
    {
     "data": {
      "text/plain": [
       "Text(0.5, 1.0, 'Pneumonia Labevent FLAG')"
      ]
     },
     "execution_count": 33,
     "metadata": {},
     "output_type": "execute_result"
    },
    {
     "data": {
      "image/png": "[encoded data removed]",
      "text/plain": [
       "<Figure size 432x288 with 1 Axes>"
      ]
     },
     "metadata": {
      "needs_background": "light"
     },
     "output_type": "display_data"
    }
   ],
   "source": [
    "import seaborn as sns\n",
    "import matplotlib.pyplot as plt\n",
    "sns.countplot(환자lab['FLAG'])\n",
    "plt.title('Pneumonia Labevent FLAG')"
   ]
  },
  {
   "cell_type": "code",
   "execution_count": 17,
   "id": "f74d8647",
   "metadata": {
    "ExecuteTime": {
     "end_time": "2021-06-30T03:20:23.669355Z",
     "start_time": "2021-06-30T03:20:23.615272Z"
    }
   },
   "outputs": [
    {
     "data": {
      "text/plain": [
       "690"
      ]
     },
     "execution_count": 17,
     "metadata": {},
     "output_type": "execute_result"
    }
   ],
   "source": [
    "# 전체 ITEMID의 개수 확인\n",
    "환자lab['ITEMID'].nunique()"
   ]
  },
  {
   "cell_type": "code",
   "execution_count": 92,
   "id": "9faa9c64",
   "metadata": {
    "ExecuteTime": {
     "end_time": "2021-06-30T03:20:26.127410Z",
     "start_time": "2021-06-30T03:20:23.670537Z"
    }
   },
   "outputs": [
    {
     "data": {
      "text/plain": [
       "SUBJECT_ID\n",
       "9        113\n",
       "21       646\n",
       "31       149\n",
       "36       665\n",
       "37        91\n",
       "        ... \n",
       "99863    320\n",
       "99934     47\n",
       "99937     46\n",
       "99944     90\n",
       "99985    305\n",
       "Name: ITEMID, Length: 7799, dtype: int64"
      ]
     },
     "execution_count": 92,
     "metadata": {},
     "output_type": "execute_result"
    }
   ],
   "source": [
    "# abnormal인 환자별로 ITEMID 개수 확인\n",
    "환자lab[환자lab['FLAG'].str.contains('abnormal')].groupby(['SUBJECT_ID'])['ITEMID'].count()"
   ]
  },
  {
   "cell_type": "code",
   "execution_count": 19,
   "id": "e03ae3e2",
   "metadata": {
    "ExecuteTime": {
     "end_time": "2021-06-30T03:20:29.414905Z",
     "start_time": "2021-06-30T03:20:29.376184Z"
    }
   },
   "outputs": [
    {
     "data": {
      "text/plain": [
       "[60961, 48968, 17674, 9388, 19097, 93114, 58012, 95230]"
      ]
     },
     "execution_count": 19,
     "metadata": {},
     "output_type": "execute_result"
    }
   ],
   "source": [
    "#외래환자\n",
    "list(set(환자id) - set(환자lab['SUBJECT_ID'].unique()))"
   ]
  },
  {
   "cell_type": "code",
   "execution_count": null,
   "id": "a91ab244",
   "metadata": {},
   "outputs": [],
   "source": []
  },
  {
   "cell_type": "code",
   "execution_count": 102,
   "id": "2d811bf6",
   "metadata": {},
   "outputs": [
    {
     "data": {
      "text/html": [
       "<div>\n",
       "<style scoped>\n",
       "    .dataframe tbody tr th:only-of-type {\n",
       "        vertical-align: middle;\n",
       "    }\n",
       "\n",
       "    .dataframe tbody tr th {\n",
       "        vertical-align: top;\n",
       "    }\n",
       "\n",
       "    .dataframe thead th {\n",
       "        text-align: right;\n",
       "    }\n",
       "</style>\n",
       "<table border=\"1\" class=\"dataframe\">\n",
       "  <thead>\n",
       "    <tr style=\"text-align: right;\">\n",
       "      <th></th>\n",
       "      <th>SUBJECT_ID</th>\n",
       "      <th>ITEMID</th>\n",
       "    </tr>\n",
       "  </thead>\n",
       "  <tbody>\n",
       "    <tr>\n",
       "      <th>6329</th>\n",
       "      <td>66876</td>\n",
       "      <td>830</td>\n",
       "    </tr>\n",
       "  </tbody>\n",
       "</table>\n",
       "</div>"
      ],
      "text/plain": [
       "      SUBJECT_ID  ITEMID\n",
       "6329       66876     830"
      ]
     },
     "execution_count": 102,
     "metadata": {},
     "output_type": "execute_result"
    }
   ],
   "source": [
    "aa = pd.DataFrame(환자lab[환자lab['FLAG'].str.contains('abnormal')].groupby(['SUBJECT_ID'])['ITEMID'].count()).reset_index().sort_values(\"SUBJECT_ID\")\n",
    "aa[aa['SUBJECT_ID']==66876]"
   ]
  },
  {
   "cell_type": "code",
   "execution_count": null,
   "id": "8d92d53b",
   "metadata": {},
   "outputs": [],
   "source": [
    "6329"
   ]
  },
  {
   "cell_type": "code",
   "execution_count": 98,
   "id": "8611c936",
   "metadata": {},
   "outputs": [
    {
     "data": {
      "text/plain": [
       "66876"
      ]
     },
     "execution_count": 98,
     "metadata": {},
     "output_type": "execute_result"
    }
   ],
   "source": [
    "aa['SUBJECT_ID'][6329]"
   ]
  },
  {
   "cell_type": "code",
   "execution_count": 99,
   "id": "79fd6a04",
   "metadata": {},
   "outputs": [
    {
     "data": {
      "text/html": [
       "<div>\n",
       "<style scoped>\n",
       "    .dataframe tbody tr th:only-of-type {\n",
       "        vertical-align: middle;\n",
       "    }\n",
       "\n",
       "    .dataframe tbody tr th {\n",
       "        vertical-align: top;\n",
       "    }\n",
       "\n",
       "    .dataframe thead th {\n",
       "        text-align: right;\n",
       "    }\n",
       "</style>\n",
       "<table border=\"1\" class=\"dataframe\">\n",
       "  <thead>\n",
       "    <tr style=\"text-align: right;\">\n",
       "      <th></th>\n",
       "      <th>SUBJECT_ID</th>\n",
       "      <th>ITEMID</th>\n",
       "    </tr>\n",
       "  </thead>\n",
       "  <tbody>\n",
       "    <tr>\n",
       "      <th>0</th>\n",
       "      <td>9</td>\n",
       "      <td>113</td>\n",
       "    </tr>\n",
       "    <tr>\n",
       "      <th>1</th>\n",
       "      <td>21</td>\n",
       "      <td>646</td>\n",
       "    </tr>\n",
       "    <tr>\n",
       "      <th>2</th>\n",
       "      <td>31</td>\n",
       "      <td>149</td>\n",
       "    </tr>\n",
       "    <tr>\n",
       "      <th>3</th>\n",
       "      <td>36</td>\n",
       "      <td>665</td>\n",
       "    </tr>\n",
       "    <tr>\n",
       "      <th>4</th>\n",
       "      <td>37</td>\n",
       "      <td>91</td>\n",
       "    </tr>\n",
       "    <tr>\n",
       "      <th>...</th>\n",
       "      <td>...</td>\n",
       "      <td>...</td>\n",
       "    </tr>\n",
       "    <tr>\n",
       "      <th>7794</th>\n",
       "      <td>99863</td>\n",
       "      <td>320</td>\n",
       "    </tr>\n",
       "    <tr>\n",
       "      <th>7795</th>\n",
       "      <td>99934</td>\n",
       "      <td>47</td>\n",
       "    </tr>\n",
       "    <tr>\n",
       "      <th>7796</th>\n",
       "      <td>99937</td>\n",
       "      <td>46</td>\n",
       "    </tr>\n",
       "    <tr>\n",
       "      <th>7797</th>\n",
       "      <td>99944</td>\n",
       "      <td>90</td>\n",
       "    </tr>\n",
       "    <tr>\n",
       "      <th>7798</th>\n",
       "      <td>99985</td>\n",
       "      <td>305</td>\n",
       "    </tr>\n",
       "  </tbody>\n",
       "</table>\n",
       "<p>7799 rows × 2 columns</p>\n",
       "</div>"
      ],
      "text/plain": [
       "      SUBJECT_ID  ITEMID\n",
       "0              9     113\n",
       "1             21     646\n",
       "2             31     149\n",
       "3             36     665\n",
       "4             37      91\n",
       "...          ...     ...\n",
       "7794       99863     320\n",
       "7795       99934      47\n",
       "7796       99937      46\n",
       "7797       99944      90\n",
       "7798       99985     305\n",
       "\n",
       "[7799 rows x 2 columns]"
      ]
     },
     "execution_count": 99,
     "metadata": {},
     "output_type": "execute_result"
    }
   ],
   "source": [
    "aa"
   ]
  },
  {
   "cell_type": "code",
   "execution_count": null,
   "id": "388bdca8",
   "metadata": {},
   "outputs": [],
   "source": []
  },
  {
   "cell_type": "code",
   "execution_count": null,
   "id": "d2e3173e",
   "metadata": {},
   "outputs": [],
   "source": []
  },
  {
   "cell_type": "code",
   "execution_count": null,
   "id": "feac463c",
   "metadata": {},
   "outputs": [],
   "source": []
  },
  {
   "cell_type": "code",
   "execution_count": null,
   "id": "40e5a191",
   "metadata": {},
   "outputs": [],
   "source": []
  },
  {
   "cell_type": "code",
   "execution_count": null,
   "id": "be56144c",
   "metadata": {},
   "outputs": [],
   "source": []
  },
  {
   "cell_type": "code",
   "execution_count": null,
   "id": "1518044a",
   "metadata": {},
   "outputs": [],
   "source": []
  },
  {
   "cell_type": "code",
   "execution_count": null,
   "id": "8ebd67e6",
   "metadata": {},
   "outputs": [],
   "source": []
  }
 ],
 "metadata": {
  "kernelspec": {
   "display_name": "Python 3",
   "language": "python",
   "name": "python3"
  },
  "language_info": {
   "codemirror_mode": {
    "name": "ipython",
    "version": 3
   },
   "file_extension": ".py",
   "mimetype": "text/x-python",
   "name": "python",
   "nbconvert_exporter": "python",
   "pygments_lexer": "ipython3",
   "version": "3.8.5"
  },
  "toc": {
   "base_numbering": 1,
   "nav_menu": {},
   "number_sections": true,
   "sideBar": true,
   "skip_h1_title": false,
   "title_cell": "Table of Contents",
   "title_sidebar": "Contents",
   "toc_cell": false,
   "toc_position": {
    "height": "calc(100% - 180px)",
    "left": "10px",
    "top": "150px",
    "width": "165px"
   },
   "toc_section_display": true,
   "toc_window_display": true
  }
 },
 "nbformat": 4,
 "nbformat_minor": 5
}
