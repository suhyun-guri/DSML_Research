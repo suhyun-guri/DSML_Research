{
 "cells": [
  {
   "cell_type": "code",
   "execution_count": 8,
   "id": "984fce50",
   "metadata": {
    "ExecuteTime": {
     "end_time": "2021-06-30T03:17:40.757079Z",
     "start_time": "2021-06-30T03:17:40.753732Z"
    }
   },
   "outputs": [
    {
     "data": {
      "text/html": [
       "<style>.container { width: 85% !important; }</style>"
      ],
      "text/plain": [
       "<IPython.core.display.HTML object>"
      ]
     },
     "metadata": {},
     "output_type": "display_data"
    }
   ],
   "source": [
    "from IPython.core.display import display, HTML\n",
    "\n",
    " \n",
    "\n",
    "display(HTML(\"<style>.container { width: 85% !important; }</style>\"))"
   ]
  },
  {
   "cell_type": "code",
   "execution_count": 1,
   "id": "21bd35fb",
   "metadata": {
    "ExecuteTime": {
     "end_time": "2021-06-30T03:17:00.141018Z",
     "start_time": "2021-06-30T03:17:00.002552Z"
    }
   },
   "outputs": [],
   "source": [
    "import pandas as pd\n",
    "import numpy as np\n",
    "\n",
    "import warnings\n",
    "warnings.filterwarnings(action='ignore')"
   ]
  },
  {
   "cell_type": "markdown",
   "id": "21fe59f1",
   "metadata": {},
   "source": [
    "# 데이터 로드"
   ]
  },
  {
   "cell_type": "code",
   "execution_count": 25,
   "id": "44a8802e",
   "metadata": {
    "ExecuteTime": {
     "end_time": "2021-06-30T03:30:28.366055Z",
     "start_time": "2021-06-30T03:30:18.893902Z"
    }
   },
   "outputs": [],
   "source": [
    "patient = pd.read_csv('/project/data/PATIENTS.csv')\n",
    "lab = pd.read_csv('/project/data/LABEVENTS.csv', usecols = ['ROW_ID','SUBJECT_ID','HADM_ID','ITEMID','CHARTTIME','FLAG'])\n",
    "\n",
    "#D_ICD_DIAGNOSES\n",
    "diagnoses = pd.read_csv('/project/data/D_ICD_DIAGNOSES.csv')\n",
    "#DIAGNOSES_ICD\n",
    "diagnoses_icd = pd.read_csv('/project/data/DIAGNOSES_ICD.csv')"
   ]
  },
  {
   "cell_type": "code",
   "execution_count": 9,
   "id": "072bc9db",
   "metadata": {
    "ExecuteTime": {
     "end_time": "2021-06-30T03:17:57.032460Z",
     "start_time": "2021-06-30T03:17:57.017832Z"
    }
   },
   "outputs": [
    {
     "data": {
      "text/plain": [
       "(95, 4)"
      ]
     },
     "execution_count": 9,
     "metadata": {},
     "output_type": "execute_result"
    }
   ],
   "source": [
    "#폐와 관련된 질병 추출\n",
    "diag_pneum = diagnoses[(diagnoses['SHORT_TITLE'].str.contains('pneum')|(diagnoses['SHORT_TITLE'].str.contains('Pneum')))]\n",
    "diag_pneum.shape"
   ]
  },
  {
   "cell_type": "code",
   "execution_count": 10,
   "id": "0e20e63c",
   "metadata": {
    "ExecuteTime": {
     "end_time": "2021-06-30T03:18:06.959223Z",
     "start_time": "2021-06-30T03:18:06.916204Z"
    }
   },
   "outputs": [
    {
     "data": {
      "text/plain": [
       "486      4839\n",
       "5070     3680\n",
       "48241     789\n",
       "5121      786\n",
       "99731     564\n",
       "0413      473\n",
       "4821      430\n",
       "8600      375\n",
       "48283     264\n",
       "4829      227\n",
       "Name: ICD9_CODE, dtype: int64"
      ]
     },
     "execution_count": 10,
     "metadata": {},
     "output_type": "execute_result"
    }
   ],
   "source": [
    "# 폐와 관련된 질병의 value_counts - 가장 많은 코드 486, 5070, 48241만 사용하기로 함\n",
    "pneum_id = diagnoses_icd[diagnoses_icd['ICD9_CODE'].isin(diag_pneum['ICD9_CODE'])].reset_index()\n",
    "pneum_id['ICD9_CODE'].value_counts()[:10]"
   ]
  },
  {
   "cell_type": "code",
   "execution_count": 11,
   "id": "d3fb4183",
   "metadata": {
    "ExecuteTime": {
     "end_time": "2021-06-30T03:18:12.568217Z",
     "start_time": "2021-06-30T03:18:12.556464Z"
    }
   },
   "outputs": [
    {
     "data": {
      "text/html": [
       "<div>\n",
       "<style scoped>\n",
       "    .dataframe tbody tr th:only-of-type {\n",
       "        vertical-align: middle;\n",
       "    }\n",
       "\n",
       "    .dataframe tbody tr th {\n",
       "        vertical-align: top;\n",
       "    }\n",
       "\n",
       "    .dataframe thead th {\n",
       "        text-align: right;\n",
       "    }\n",
       "</style>\n",
       "<table border=\"1\" class=\"dataframe\">\n",
       "  <thead>\n",
       "    <tr style=\"text-align: right;\">\n",
       "      <th></th>\n",
       "      <th>ROW_ID</th>\n",
       "      <th>ICD9_CODE</th>\n",
       "      <th>SHORT_TITLE</th>\n",
       "      <th>LONG_TITLE</th>\n",
       "    </tr>\n",
       "  </thead>\n",
       "  <tbody>\n",
       "    <tr>\n",
       "      <th>5129</th>\n",
       "      <td>5509</td>\n",
       "      <td>48241</td>\n",
       "      <td>Meth sus pneum d/t Staph</td>\n",
       "      <td>Methicillin susceptible pneumonia due to Staph...</td>\n",
       "    </tr>\n",
       "    <tr>\n",
       "      <th>5147</th>\n",
       "      <td>5528</td>\n",
       "      <td>486</td>\n",
       "      <td>Pneumonia, organism NOS</td>\n",
       "      <td>Pneumonia, organism unspecified</td>\n",
       "    </tr>\n",
       "    <tr>\n",
       "      <th>5407</th>\n",
       "      <td>5136</td>\n",
       "      <td>5070</td>\n",
       "      <td>Food/vomit pneumonitis</td>\n",
       "      <td>Pneumonitis due to inhalation of food or vomitus</td>\n",
       "    </tr>\n",
       "  </tbody>\n",
       "</table>\n",
       "</div>"
      ],
      "text/plain": [
       "      ROW_ID ICD9_CODE               SHORT_TITLE  \\\n",
       "5129    5509     48241  Meth sus pneum d/t Staph   \n",
       "5147    5528       486   Pneumonia, organism NOS   \n",
       "5407    5136      5070    Food/vomit pneumonitis   \n",
       "\n",
       "                                             LONG_TITLE  \n",
       "5129  Methicillin susceptible pneumonia due to Staph...  \n",
       "5147                    Pneumonia, organism unspecified  \n",
       "5407   Pneumonitis due to inhalation of food or vomitus  "
      ]
     },
     "execution_count": 11,
     "metadata": {},
     "output_type": "execute_result"
    }
   ],
   "source": [
    "#[:3] 정확한 병명 확인\n",
    "diagnoses[diagnoses['ICD9_CODE'].isin(pneum_id['ICD9_CODE'].value_counts()[:3].index)]"
   ]
  },
  {
   "cell_type": "code",
   "execution_count": 12,
   "id": "52b9ab27",
   "metadata": {
    "ExecuteTime": {
     "end_time": "2021-06-30T03:18:21.202071Z",
     "start_time": "2021-06-30T03:18:21.189610Z"
    }
   },
   "outputs": [
    {
     "data": {
      "text/html": [
       "<div>\n",
       "<style scoped>\n",
       "    .dataframe tbody tr th:only-of-type {\n",
       "        vertical-align: middle;\n",
       "    }\n",
       "\n",
       "    .dataframe tbody tr th {\n",
       "        vertical-align: top;\n",
       "    }\n",
       "\n",
       "    .dataframe thead th {\n",
       "        text-align: right;\n",
       "    }\n",
       "</style>\n",
       "<table border=\"1\" class=\"dataframe\">\n",
       "  <thead>\n",
       "    <tr style=\"text-align: right;\">\n",
       "      <th></th>\n",
       "      <th>SUBJECT_ID</th>\n",
       "      <th>HADM_ID</th>\n",
       "      <th>ICD9_CODE</th>\n",
       "    </tr>\n",
       "  </thead>\n",
       "  <tbody>\n",
       "    <tr>\n",
       "      <th>0</th>\n",
       "      <td>109</td>\n",
       "      <td>172335</td>\n",
       "      <td>486</td>\n",
       "    </tr>\n",
       "    <tr>\n",
       "      <th>1</th>\n",
       "      <td>117</td>\n",
       "      <td>164853</td>\n",
       "      <td>486</td>\n",
       "    </tr>\n",
       "    <tr>\n",
       "      <th>2</th>\n",
       "      <td>124</td>\n",
       "      <td>112906</td>\n",
       "      <td>486</td>\n",
       "    </tr>\n",
       "    <tr>\n",
       "      <th>3</th>\n",
       "      <td>124</td>\n",
       "      <td>138376</td>\n",
       "      <td>486</td>\n",
       "    </tr>\n",
       "    <tr>\n",
       "      <th>4</th>\n",
       "      <td>136</td>\n",
       "      <td>184644</td>\n",
       "      <td>486</td>\n",
       "    </tr>\n",
       "    <tr>\n",
       "      <th>...</th>\n",
       "      <td>...</td>\n",
       "      <td>...</td>\n",
       "      <td>...</td>\n",
       "    </tr>\n",
       "    <tr>\n",
       "      <th>9303</th>\n",
       "      <td>95555</td>\n",
       "      <td>103704</td>\n",
       "      <td>486</td>\n",
       "    </tr>\n",
       "    <tr>\n",
       "      <th>9304</th>\n",
       "      <td>95561</td>\n",
       "      <td>121289</td>\n",
       "      <td>486</td>\n",
       "    </tr>\n",
       "    <tr>\n",
       "      <th>9305</th>\n",
       "      <td>95816</td>\n",
       "      <td>122432</td>\n",
       "      <td>5070</td>\n",
       "    </tr>\n",
       "    <tr>\n",
       "      <th>9306</th>\n",
       "      <td>95816</td>\n",
       "      <td>122432</td>\n",
       "      <td>486</td>\n",
       "    </tr>\n",
       "    <tr>\n",
       "      <th>9307</th>\n",
       "      <td>96004</td>\n",
       "      <td>141589</td>\n",
       "      <td>486</td>\n",
       "    </tr>\n",
       "  </tbody>\n",
       "</table>\n",
       "<p>9308 rows × 3 columns</p>\n",
       "</div>"
      ],
      "text/plain": [
       "      SUBJECT_ID  HADM_ID ICD9_CODE\n",
       "0            109   172335       486\n",
       "1            117   164853       486\n",
       "2            124   112906       486\n",
       "3            124   138376       486\n",
       "4            136   184644       486\n",
       "...          ...      ...       ...\n",
       "9303       95555   103704       486\n",
       "9304       95561   121289       486\n",
       "9305       95816   122432      5070\n",
       "9306       95816   122432       486\n",
       "9307       96004   141589       486\n",
       "\n",
       "[9308 rows x 3 columns]"
      ]
     },
     "execution_count": 12,
     "metadata": {},
     "output_type": "execute_result"
    }
   ],
   "source": [
    "#[:3]의 Diagnoses_icd 데이터 추출\n",
    "pneum = pneum_id[(pneum_id['ICD9_CODE'].isin(pneum_id['ICD9_CODE'].value_counts()[:3].index))].drop(['index','ROW_ID','SEQ_NUM'],axis=1).reset_index(drop=True)\n",
    "pneum"
   ]
  },
  {
   "cell_type": "code",
   "execution_count": 13,
   "id": "13b52013",
   "metadata": {
    "ExecuteTime": {
     "end_time": "2021-06-30T03:18:29.534472Z",
     "start_time": "2021-06-30T03:18:29.530506Z"
    }
   },
   "outputs": [
    {
     "data": {
      "text/plain": [
       "7807"
      ]
     },
     "execution_count": 13,
     "metadata": {},
     "output_type": "execute_result"
    }
   ],
   "source": [
    "# 환자의 id만 추출하여 환자id에 저장, 총 예측에 사용할 환자 수 확인\n",
    "환자id = pneum['SUBJECT_ID'].unique()\n",
    "len(환자id)"
   ]
  },
  {
   "cell_type": "code",
   "execution_count": 14,
   "id": "e5bdfda3",
   "metadata": {
    "ExecuteTime": {
     "end_time": "2021-06-30T03:18:38.119210Z",
     "start_time": "2021-06-30T03:18:38.111048Z"
    }
   },
   "outputs": [
    {
     "data": {
      "text/plain": [
       "1    4777\n",
       "0    3030\n",
       "Name: EXPIRE_FLAG, dtype: int64"
      ]
     },
     "execution_count": 14,
     "metadata": {},
     "output_type": "execute_result"
    }
   ],
   "source": [
    "# 추출한 환자id로 환자의 사망,생존 분포 확인\n",
    "patient[patient['SUBJECT_ID'].isin(환자id)]['EXPIRE_FLAG'].value_counts()"
   ]
  },
  {
   "cell_type": "code",
   "execution_count": 15,
   "id": "4eb8e0d6",
   "metadata": {
    "ExecuteTime": {
     "end_time": "2021-06-30T03:18:43.350426Z",
     "start_time": "2021-06-30T03:18:43.337351Z"
    }
   },
   "outputs": [
    {
     "data": {
      "text/html": [
       "<div>\n",
       "<style scoped>\n",
       "    .dataframe tbody tr th:only-of-type {\n",
       "        vertical-align: middle;\n",
       "    }\n",
       "\n",
       "    .dataframe tbody tr th {\n",
       "        vertical-align: top;\n",
       "    }\n",
       "\n",
       "    .dataframe thead th {\n",
       "        text-align: right;\n",
       "    }\n",
       "</style>\n",
       "<table border=\"1\" class=\"dataframe\">\n",
       "  <thead>\n",
       "    <tr style=\"text-align: right;\">\n",
       "      <th></th>\n",
       "      <th>ROW_ID</th>\n",
       "      <th>SUBJECT_ID</th>\n",
       "      <th>GENDER</th>\n",
       "      <th>DOB</th>\n",
       "      <th>DOD</th>\n",
       "      <th>DOD_HOSP</th>\n",
       "      <th>DOD_SSN</th>\n",
       "      <th>EXPIRE_FLAG</th>\n",
       "    </tr>\n",
       "  </thead>\n",
       "  <tbody>\n",
       "    <tr>\n",
       "      <th>3</th>\n",
       "      <td>237</td>\n",
       "      <td>252</td>\n",
       "      <td>M</td>\n",
       "      <td>2078-03-06 00:00:00</td>\n",
       "      <td>NaN</td>\n",
       "      <td>NaN</td>\n",
       "      <td>NaN</td>\n",
       "      <td>0</td>\n",
       "    </tr>\n",
       "    <tr>\n",
       "      <th>4</th>\n",
       "      <td>238</td>\n",
       "      <td>253</td>\n",
       "      <td>F</td>\n",
       "      <td>2089-11-26 00:00:00</td>\n",
       "      <td>NaN</td>\n",
       "      <td>NaN</td>\n",
       "      <td>NaN</td>\n",
       "      <td>0</td>\n",
       "    </tr>\n",
       "    <tr>\n",
       "      <th>17</th>\n",
       "      <td>251</td>\n",
       "      <td>268</td>\n",
       "      <td>F</td>\n",
       "      <td>2132-02-21 00:00:00</td>\n",
       "      <td>2198-02-18 00:00:00</td>\n",
       "      <td>2198-02-18 00:00:00</td>\n",
       "      <td>NaN</td>\n",
       "      <td>1</td>\n",
       "    </tr>\n",
       "    <tr>\n",
       "      <th>18</th>\n",
       "      <td>252</td>\n",
       "      <td>269</td>\n",
       "      <td>M</td>\n",
       "      <td>2130-09-30 00:00:00</td>\n",
       "      <td>NaN</td>\n",
       "      <td>NaN</td>\n",
       "      <td>NaN</td>\n",
       "      <td>0</td>\n",
       "    </tr>\n",
       "    <tr>\n",
       "      <th>22</th>\n",
       "      <td>628</td>\n",
       "      <td>665</td>\n",
       "      <td>M</td>\n",
       "      <td>2052-05-20 00:00:00</td>\n",
       "      <td>2120-02-04 00:00:00</td>\n",
       "      <td>2120-02-04 00:00:00</td>\n",
       "      <td>NaN</td>\n",
       "      <td>1</td>\n",
       "    </tr>\n",
       "    <tr>\n",
       "      <th>...</th>\n",
       "      <td>...</td>\n",
       "      <td>...</td>\n",
       "      <td>...</td>\n",
       "      <td>...</td>\n",
       "      <td>...</td>\n",
       "      <td>...</td>\n",
       "      <td>...</td>\n",
       "      <td>...</td>\n",
       "    </tr>\n",
       "    <tr>\n",
       "      <th>46476</th>\n",
       "      <td>31801</td>\n",
       "      <td>43932</td>\n",
       "      <td>M</td>\n",
       "      <td>2080-06-26 00:00:00</td>\n",
       "      <td>2153-03-01 00:00:00</td>\n",
       "      <td>NaN</td>\n",
       "      <td>2153-03-01 00:00:00</td>\n",
       "      <td>1</td>\n",
       "    </tr>\n",
       "    <tr>\n",
       "      <th>46477</th>\n",
       "      <td>31802</td>\n",
       "      <td>43937</td>\n",
       "      <td>M</td>\n",
       "      <td>2113-03-30 00:00:00</td>\n",
       "      <td>2200-08-05 00:00:00</td>\n",
       "      <td>2200-08-05 00:00:00</td>\n",
       "      <td>2200-08-05 00:00:00</td>\n",
       "      <td>1</td>\n",
       "    </tr>\n",
       "    <tr>\n",
       "      <th>46482</th>\n",
       "      <td>31807</td>\n",
       "      <td>43959</td>\n",
       "      <td>F</td>\n",
       "      <td>2028-05-13 00:00:00</td>\n",
       "      <td>NaN</td>\n",
       "      <td>NaN</td>\n",
       "      <td>NaN</td>\n",
       "      <td>0</td>\n",
       "    </tr>\n",
       "    <tr>\n",
       "      <th>46488</th>\n",
       "      <td>31813</td>\n",
       "      <td>43982</td>\n",
       "      <td>F</td>\n",
       "      <td>2065-04-17 00:00:00</td>\n",
       "      <td>NaN</td>\n",
       "      <td>NaN</td>\n",
       "      <td>NaN</td>\n",
       "      <td>0</td>\n",
       "    </tr>\n",
       "    <tr>\n",
       "      <th>46507</th>\n",
       "      <td>31832</td>\n",
       "      <td>44064</td>\n",
       "      <td>M</td>\n",
       "      <td>2115-11-18 00:00:00</td>\n",
       "      <td>NaN</td>\n",
       "      <td>NaN</td>\n",
       "      <td>NaN</td>\n",
       "      <td>0</td>\n",
       "    </tr>\n",
       "  </tbody>\n",
       "</table>\n",
       "<p>7807 rows × 8 columns</p>\n",
       "</div>"
      ],
      "text/plain": [
       "       ROW_ID  SUBJECT_ID GENDER                  DOB                  DOD  \\\n",
       "3         237         252      M  2078-03-06 00:00:00                  NaN   \n",
       "4         238         253      F  2089-11-26 00:00:00                  NaN   \n",
       "17        251         268      F  2132-02-21 00:00:00  2198-02-18 00:00:00   \n",
       "18        252         269      M  2130-09-30 00:00:00                  NaN   \n",
       "22        628         665      M  2052-05-20 00:00:00  2120-02-04 00:00:00   \n",
       "...       ...         ...    ...                  ...                  ...   \n",
       "46476   31801       43932      M  2080-06-26 00:00:00  2153-03-01 00:00:00   \n",
       "46477   31802       43937      M  2113-03-30 00:00:00  2200-08-05 00:00:00   \n",
       "46482   31807       43959      F  2028-05-13 00:00:00                  NaN   \n",
       "46488   31813       43982      F  2065-04-17 00:00:00                  NaN   \n",
       "46507   31832       44064      M  2115-11-18 00:00:00                  NaN   \n",
       "\n",
       "                  DOD_HOSP              DOD_SSN  EXPIRE_FLAG  \n",
       "3                      NaN                  NaN            0  \n",
       "4                      NaN                  NaN            0  \n",
       "17     2198-02-18 00:00:00                  NaN            1  \n",
       "18                     NaN                  NaN            0  \n",
       "22     2120-02-04 00:00:00                  NaN            1  \n",
       "...                    ...                  ...          ...  \n",
       "46476                  NaN  2153-03-01 00:00:00            1  \n",
       "46477  2200-08-05 00:00:00  2200-08-05 00:00:00            1  \n",
       "46482                  NaN                  NaN            0  \n",
       "46488                  NaN                  NaN            0  \n",
       "46507                  NaN                  NaN            0  \n",
       "\n",
       "[7807 rows x 8 columns]"
      ]
     },
     "execution_count": 15,
     "metadata": {},
     "output_type": "execute_result"
    }
   ],
   "source": [
    "#추출한 환자id로 patient에서 정보 추출\n",
    "환자 = patient[patient['SUBJECT_ID'].isin(환자id)]\n",
    "환자"
   ]
  },
  {
   "cell_type": "code",
   "execution_count": 16,
   "id": "534cfd5c",
   "metadata": {
    "ExecuteTime": {
     "end_time": "2021-06-30T03:19:09.968881Z",
     "start_time": "2021-06-30T03:19:09.950140Z"
    }
   },
   "outputs": [],
   "source": [
    "환자.to_csv('폐렴환자.csv', index=False)"
   ]
  },
  {
   "cell_type": "markdown",
   "id": "67f1926b",
   "metadata": {},
   "source": [
    "# labevents에서 폐렴환자 추출 및 간단 EDA"
   ]
  },
  {
   "cell_type": "code",
   "execution_count": 17,
   "id": "cce50b0d",
   "metadata": {
    "ExecuteTime": {
     "end_time": "2021-06-30T03:19:27.835697Z",
     "start_time": "2021-06-30T03:19:27.239821Z"
    }
   },
   "outputs": [
    {
     "data": {
      "text/html": [
       "<div>\n",
       "<style scoped>\n",
       "    .dataframe tbody tr th:only-of-type {\n",
       "        vertical-align: middle;\n",
       "    }\n",
       "\n",
       "    .dataframe tbody tr th {\n",
       "        vertical-align: top;\n",
       "    }\n",
       "\n",
       "    .dataframe thead th {\n",
       "        text-align: right;\n",
       "    }\n",
       "</style>\n",
       "<table border=\"1\" class=\"dataframe\">\n",
       "  <thead>\n",
       "    <tr style=\"text-align: right;\">\n",
       "      <th></th>\n",
       "      <th>ROW_ID</th>\n",
       "      <th>SUBJECT_ID</th>\n",
       "      <th>HADM_ID</th>\n",
       "      <th>ITEMID</th>\n",
       "      <th>CHARTTIME</th>\n",
       "      <th>FLAG</th>\n",
       "    </tr>\n",
       "  </thead>\n",
       "  <tbody>\n",
       "    <tr>\n",
       "      <th>0</th>\n",
       "      <td>5144</td>\n",
       "      <td>9</td>\n",
       "      <td>150750.0</td>\n",
       "      <td>50819</td>\n",
       "      <td>2149-11-14 06:07:00</td>\n",
       "      <td>NaN</td>\n",
       "    </tr>\n",
       "    <tr>\n",
       "      <th>1</th>\n",
       "      <td>5145</td>\n",
       "      <td>9</td>\n",
       "      <td>150750.0</td>\n",
       "      <td>50820</td>\n",
       "      <td>2149-11-14 06:07:00</td>\n",
       "      <td>NaN</td>\n",
       "    </tr>\n",
       "    <tr>\n",
       "      <th>2</th>\n",
       "      <td>5146</td>\n",
       "      <td>9</td>\n",
       "      <td>150750.0</td>\n",
       "      <td>50821</td>\n",
       "      <td>2149-11-14 06:07:00</td>\n",
       "      <td>abnormal</td>\n",
       "    </tr>\n",
       "    <tr>\n",
       "      <th>3</th>\n",
       "      <td>5147</td>\n",
       "      <td>9</td>\n",
       "      <td>150750.0</td>\n",
       "      <td>50826</td>\n",
       "      <td>2149-11-14 06:07:00</td>\n",
       "      <td>NaN</td>\n",
       "    </tr>\n",
       "    <tr>\n",
       "      <th>4</th>\n",
       "      <td>5148</td>\n",
       "      <td>9</td>\n",
       "      <td>150750.0</td>\n",
       "      <td>50827</td>\n",
       "      <td>2149-11-14 06:07:00</td>\n",
       "      <td>NaN</td>\n",
       "    </tr>\n",
       "    <tr>\n",
       "      <th>...</th>\n",
       "      <td>...</td>\n",
       "      <td>...</td>\n",
       "      <td>...</td>\n",
       "      <td>...</td>\n",
       "      <td>...</td>\n",
       "      <td>...</td>\n",
       "    </tr>\n",
       "    <tr>\n",
       "      <th>9356344</th>\n",
       "      <td>27427231</td>\n",
       "      <td>96442</td>\n",
       "      <td>120151.0</td>\n",
       "      <td>51248</td>\n",
       "      <td>2115-06-29 04:45:00</td>\n",
       "      <td>NaN</td>\n",
       "    </tr>\n",
       "    <tr>\n",
       "      <th>9356345</th>\n",
       "      <td>27427232</td>\n",
       "      <td>96442</td>\n",
       "      <td>120151.0</td>\n",
       "      <td>51249</td>\n",
       "      <td>2115-06-29 04:45:00</td>\n",
       "      <td>NaN</td>\n",
       "    </tr>\n",
       "    <tr>\n",
       "      <th>9356346</th>\n",
       "      <td>27427233</td>\n",
       "      <td>96442</td>\n",
       "      <td>120151.0</td>\n",
       "      <td>51250</td>\n",
       "      <td>2115-06-29 04:45:00</td>\n",
       "      <td>NaN</td>\n",
       "    </tr>\n",
       "    <tr>\n",
       "      <th>9356347</th>\n",
       "      <td>27427234</td>\n",
       "      <td>96442</td>\n",
       "      <td>120151.0</td>\n",
       "      <td>51254</td>\n",
       "      <td>2115-06-29 04:45:00</td>\n",
       "      <td>abnormal</td>\n",
       "    </tr>\n",
       "    <tr>\n",
       "      <th>9356348</th>\n",
       "      <td>27427235</td>\n",
       "      <td>96442</td>\n",
       "      <td>120151.0</td>\n",
       "      <td>51256</td>\n",
       "      <td>2115-06-29 04:45:00</td>\n",
       "      <td>abnormal</td>\n",
       "    </tr>\n",
       "  </tbody>\n",
       "</table>\n",
       "<p>9356349 rows × 6 columns</p>\n",
       "</div>"
      ],
      "text/plain": [
       "           ROW_ID  SUBJECT_ID   HADM_ID  ITEMID            CHARTTIME      FLAG\n",
       "0            5144           9  150750.0   50819  2149-11-14 06:07:00       NaN\n",
       "1            5145           9  150750.0   50820  2149-11-14 06:07:00       NaN\n",
       "2            5146           9  150750.0   50821  2149-11-14 06:07:00  abnormal\n",
       "3            5147           9  150750.0   50826  2149-11-14 06:07:00       NaN\n",
       "4            5148           9  150750.0   50827  2149-11-14 06:07:00       NaN\n",
       "...           ...         ...       ...     ...                  ...       ...\n",
       "9356344  27427231       96442  120151.0   51248  2115-06-29 04:45:00       NaN\n",
       "9356345  27427232       96442  120151.0   51249  2115-06-29 04:45:00       NaN\n",
       "9356346  27427233       96442  120151.0   51250  2115-06-29 04:45:00       NaN\n",
       "9356347  27427234       96442  120151.0   51254  2115-06-29 04:45:00  abnormal\n",
       "9356348  27427235       96442  120151.0   51256  2115-06-29 04:45:00  abnormal\n",
       "\n",
       "[9356349 rows x 6 columns]"
      ]
     },
     "execution_count": 17,
     "metadata": {},
     "output_type": "execute_result"
    }
   ],
   "source": [
    "# labevents에서 폐렴환자 id만을 추출하여 환자lab에 저장\n",
    "환자lab = lab[lab['SUBJECT_ID'].isin(환자id)].reset_index(drop=True)\n",
    "환자lab"
   ]
  },
  {
   "cell_type": "code",
   "execution_count": 18,
   "id": "f9e944b2",
   "metadata": {
    "ExecuteTime": {
     "end_time": "2021-06-30T03:19:59.327113Z",
     "start_time": "2021-06-30T03:19:58.947983Z"
    }
   },
   "outputs": [],
   "source": [
    "# value_counts()를 위해 결측치를 문자열 'nan' 으로 설정\n",
    "환자lab['FLAG'] = 환자lab['FLAG'].fillna('nan')"
   ]
  },
  {
   "cell_type": "code",
   "execution_count": 19,
   "id": "5311aba8",
   "metadata": {
    "ExecuteTime": {
     "end_time": "2021-06-30T03:19:59.831606Z",
     "start_time": "2021-06-30T03:19:59.328333Z"
    }
   },
   "outputs": [
    {
     "data": {
      "text/plain": [
       "nan         5931403\n",
       "abnormal    3406609\n",
       "delta         18337\n",
       "Name: FLAG, dtype: int64"
      ]
     },
     "execution_count": 19,
     "metadata": {},
     "output_type": "execute_result"
    }
   ],
   "source": [
    "환자lab['FLAG'].value_counts()"
   ]
  },
  {
   "cell_type": "code",
   "execution_count": 20,
   "id": "4a41461b",
   "metadata": {
    "ExecuteTime": {
     "end_time": "2021-06-30T03:20:14.255186Z",
     "start_time": "2021-06-30T03:19:59.832772Z"
    }
   },
   "outputs": [],
   "source": [
    "환자lab.to_csv('폐렴환자lab.csv', index=False)"
   ]
  },
  {
   "cell_type": "code",
   "execution_count": 21,
   "id": "8a8bfccf",
   "metadata": {
    "ExecuteTime": {
     "end_time": "2021-06-30T03:20:23.614143Z",
     "start_time": "2021-06-30T03:20:20.076272Z"
    }
   },
   "outputs": [
    {
     "data": {
      "text/plain": [
       "<AxesSubplot:xlabel='FLAG', ylabel='count'>"
      ]
     },
     "execution_count": 21,
     "metadata": {},
     "output_type": "execute_result"
    },
    {
     "data": {
      "image/png": "[encoded data removed]",
      "text/plain": [
       "<Figure size 432x288 with 1 Axes>"
      ]
     },
     "metadata": {
      "needs_background": "light"
     },
     "output_type": "display_data"
    }
   ],
   "source": [
    "import seaborn as sns\n",
    "sns.countplot(환자lab['FLAG'])"
   ]
  },
  {
   "cell_type": "code",
   "execution_count": 22,
   "id": "f74d8647",
   "metadata": {
    "ExecuteTime": {
     "end_time": "2021-06-30T03:20:23.669355Z",
     "start_time": "2021-06-30T03:20:23.615272Z"
    }
   },
   "outputs": [
    {
     "data": {
      "text/plain": [
       "690"
      ]
     },
     "execution_count": 22,
     "metadata": {},
     "output_type": "execute_result"
    }
   ],
   "source": [
    "# 전체 ITEMID의 개수 확인\n",
    "환자lab['ITEMID'].nunique()"
   ]
  },
  {
   "cell_type": "code",
   "execution_count": 23,
   "id": "9faa9c64",
   "metadata": {
    "ExecuteTime": {
     "end_time": "2021-06-30T03:20:26.127410Z",
     "start_time": "2021-06-30T03:20:23.670537Z"
    }
   },
   "outputs": [
    {
     "data": {
      "text/plain": [
       "SUBJECT_ID\n",
       "9        113\n",
       "21       646\n",
       "31       149\n",
       "36       665\n",
       "37        91\n",
       "        ... \n",
       "99863    320\n",
       "99934     47\n",
       "99937     46\n",
       "99944     90\n",
       "99985    305\n",
       "Name: ITEMID, Length: 7799, dtype: int64"
      ]
     },
     "execution_count": 23,
     "metadata": {},
     "output_type": "execute_result"
    }
   ],
   "source": [
    "# abnormal인 환자별로 ITEMID 개수 확인\n",
    "환자lab[환자lab['FLAG'].str.contains('abnormal')].groupby(['SUBJECT_ID'])['ITEMID'].count()"
   ]
  },
  {
   "cell_type": "code",
   "execution_count": 24,
   "id": "e03ae3e2",
   "metadata": {
    "ExecuteTime": {
     "end_time": "2021-06-30T03:20:29.414905Z",
     "start_time": "2021-06-30T03:20:29.376184Z"
    }
   },
   "outputs": [
    {
     "data": {
      "text/plain": [
       "[60961, 48968, 17674, 9388, 19097, 93114, 58012, 95230]"
      ]
     },
     "execution_count": 24,
     "metadata": {},
     "output_type": "execute_result"
    }
   ],
   "source": [
    "#외래환자\n",
    "list(set(환자id) - set(환자lab['SUBJECT_ID'].unique()))"
   ]
  },
  {
   "cell_type": "code",
   "execution_count": null,
   "id": "8ebd67e6",
   "metadata": {},
   "outputs": [],
   "source": []
  }
 ],
 "metadata": {
  "kernelspec": {
   "display_name": "Python 3",
   "language": "python",
   "name": "python3"
  },
  "language_info": {
   "codemirror_mode": {
    "name": "ipython",
    "version": 3
   },
   "file_extension": ".py",
   "mimetype": "text/x-python",
   "name": "python",
   "nbconvert_exporter": "python",
   "pygments_lexer": "ipython3",
   "version": "3.8.5"
  },
  "toc": {
   "base_numbering": 1,
   "nav_menu": {},
   "number_sections": true,
   "sideBar": true,
   "skip_h1_title": false,
   "title_cell": "Table of Contents",
   "title_sidebar": "Contents",
   "toc_cell": false,
   "toc_position": {},
   "toc_section_display": true,
   "toc_window_display": false
  }
 },
 "nbformat": 4,
 "nbformat_minor": 5
}
